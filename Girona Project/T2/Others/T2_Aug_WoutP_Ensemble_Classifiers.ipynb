{
  "nbformat": 4,
  "nbformat_minor": 0,
  "metadata": {
    "colab": {
      "provenance": [],
      "collapsed_sections": []
    },
    "kernelspec": {
      "name": "python3",
      "display_name": "Python 3"
    },
    "language_info": {
      "name": "python"
    }
  },
  "cells": [
    {
      "cell_type": "code",
      "execution_count": null,
      "metadata": {
        "id": "dgaw6XP8Omi7"
      },
      "outputs": [],
      "source": [
        "import os\n",
        "import cv2\n",
        "import copy\n",
        "import pandas as pd\n",
        "from PIL import Image\n",
        "import numpy as np\n",
        "from matplotlib import pyplot as plt\n",
        "from glob import glob\n",
        "from google.colab.patches import cv2_imshow\n",
        "from sklearn.ensemble import VotingClassifier\n",
        "from sklearn.metrics import jaccard_score\n",
        "from collections import Counter\n",
        "import random\n",
        "import torch\n",
        "from sklearn import svm\n",
        "from skimage.morphology import disk\n",
        "from sklearn.preprocessing import StandardScaler\n",
        "import torchvision\n",
        "import torch.nn as nn\n",
        "import torch.nn.functional as F\n",
        "from torch.functional import Tensor\n",
        "from scipy.ndimage.filters import median_filter\n",
        "import torch.optim as optim\n",
        "import torchvision.transforms as transforms\n",
        "import itertools\n",
        "import torchvision.datasets as datasets\n",
        "from scipy.stats import kurtosis, skew\n",
        "import torchvision.transforms.functional as TF\n",
        "from sklearn.metrics import confusion_matrix, ConfusionMatrixDisplay\n",
        "from torch.utils.data import Dataset, DataLoader\n",
        "from torch.nn.modules.activation import ReLU\n",
        "from sklearn.metrics import classification_report, balanced_accuracy_score, cohen_kappa_score\n",
        "from sklearn.linear_model import LogisticRegression\n",
        "from scipy.stats import kurtosis, skew\n",
        "from sklearn.ensemble import AdaBoostClassifier\n",
        "from sklearn.multiclass import OneVsRestClassifier\n",
        "import statistics\n",
        "from statistics import mode\n",
        "from sklearn.ensemble import RandomForestClassifier\n",
        "from xgboost import XGBClassifier\n",
        "from sklearn.tree import DecisionTreeClassifier\n",
        "from sklearn.ensemble import GradientBoostingClassifier\n",
        "from sklearn.ensemble import StackingClassifier\n",
        "from sklearn.ensemble import BaggingClassifier\n",
        "from sklearn.naive_bayes import GaussianNB\n",
        "from sklearn.neighbors import KNeighborsClassifier\n",
        "from sklearn.model_selection import StratifiedShuffleSplit\n",
        "import seaborn as sns\n",
        "import pickle\n",
        "from torch.nn.modules.batchnorm import BatchNorm2d\n",
        "import torch.optim as optim\n",
        "from collections import Counter\n",
        "from tqdm import tqdm\n",
        "from google.colab import drive\n",
        "import itertools\n",
        "from pathlib import Path\n",
        "from sklearn.utils import shuffle\n"
      ]
    },
    {
      "cell_type": "code",
      "source": [
        "drive.mount('/content/gdrive')"
      ],
      "metadata": {
        "colab": {
          "base_uri": "https://localhost:8080/"
        },
        "id": "Vok0CgMAOsD8",
        "outputId": "03ed83c1-cffe-4284-ffc3-9ccc8dd74c27"
      },
      "execution_count": null,
      "outputs": [
        {
          "output_type": "stream",
          "name": "stdout",
          "text": [
            "Mounted at /content/gdrive\n"
          ]
        }
      ]
    },
    {
      "cell_type": "code",
      "source": [
        "#Color Histograms\n",
        "rf_colorh= pickle.load(open('/content/gdrive/MyDrive/Colab Notebooks/CAD Project/Dataset/Three Class Problem/Models/WP_Aug/ColorHistRF_model.sav', 'rb'))\n",
        "gb_colorh= pickle.load(open('/content/gdrive/MyDrive/Colab Notebooks/CAD Project/Dataset/Three Class Problem/Models/WP_Aug/ColorHistGBoost_model.sav', 'rb'))\n",
        "svm_colorh= pickle.load(open('/content/gdrive/MyDrive/Colab Notebooks/CAD Project/Dataset/Three Class Problem/Models/WP_Aug/ColorHistSVM_model.sav', 'rb'))\n",
        "\n",
        "#Color statistics\n",
        "rf_colors= pickle.load(open('/content/gdrive/MyDrive/Colab Notebooks/CAD Project/Dataset/Three Class Problem/Models/WP_Aug/ColorStatRF_model.sav', 'rb'))\n",
        "svm_colors= pickle.load(open('/content/gdrive/MyDrive/Colab Notebooks/CAD Project/Dataset/Three Class Problem/Models/WP_Aug/ColorStatSVM_model.sav', 'rb'))\n",
        "gb_colors= pickle.load(open('/content/gdrive/MyDrive/Colab Notebooks/CAD Project/Dataset/Three Class Problem/Models/WP_Aug/ColorStatGBoost_model.sav', 'rb'))\n",
        "\n",
        "#GLCM texture\n",
        "rf_glcm= pickle.load(open('/content/gdrive/MyDrive/Colab Notebooks/CAD Project/Dataset/Three Class Problem/Models/WP_Aug/GLCMRF_model.sav', 'rb'))\n",
        "knn_glcm= pickle.load(open('/content/gdrive/MyDrive/Colab Notebooks/CAD Project/Dataset/Three Class Problem/Models/WP_Aug/GLCMKNN_model.sav', 'rb'))\n",
        "gb_glcm= pickle.load(open('/content/gdrive/MyDrive/Colab Notebooks/CAD Project/Dataset/Three Class Problem/Models/WP_Aug/GLCMGBoost_model.sav', 'rb'))\n",
        "\n",
        "#SIFT + BoW\n",
        "rf_sift= pickle.load(open('/content/gdrive/MyDrive/Colab Notebooks/CAD Project/Dataset/Three Class Problem/Models/WP_Aug/SiftRF_model.sav', 'rb'))\n",
        "svm_sift= pickle.load(open('/content/gdrive/MyDrive/Colab Notebooks/CAD Project/Dataset/Three Class Problem/Models/WP_Aug/SiftSVM_model.sav', 'rb'))\n",
        "gb_sift= pickle.load(open('/content/gdrive/MyDrive/Colab Notebooks/CAD Project/Dataset/Three Class Problem/Models/WP_Aug/SiftGBoost_model.sav', 'rb'))\n",
        "\n",
        "#LBP histograms\n",
        "rf_lbph= pickle.load(open('/content/gdrive/MyDrive/Colab Notebooks/CAD Project/Dataset/Three Class Problem/Models/WP_Aug/LBPHRF_model.sav', 'rb'))\n",
        "svm_lbph= pickle.load(open('/content/gdrive/MyDrive/Colab Notebooks/CAD Project/Dataset/Three Class Problem/Models/WP_Aug/LBPHSVM_model.sav', 'rb'))\n",
        "gb_lbph= pickle.load(open('/content/gdrive/MyDrive/Colab Notebooks/CAD Project/Dataset/Three Class Problem/Models/WP_Aug/LBPHGBoost_model.sav', 'rb'))"
      ],
      "metadata": {
        "id": "XO14RLKLPRL-"
      },
      "execution_count": null,
      "outputs": []
    },
    {
      "cell_type": "code",
      "source": [
        "X_train= pickle.load(open('/content/gdrive/MyDrive/Colab Notebooks/CAD Project/Dataset/ThreeClassProblem_Data/X_train.p','rb'))\n",
        "X_test= pickle.load(open('/content/gdrive/MyDrive/Colab Notebooks/CAD Project/Dataset/ThreeClassProblem_Data/X_val.p','rb'))\n",
        "y_train= pickle.load(open('/content/gdrive/MyDrive/Colab Notebooks/CAD Project/Dataset/ThreeClassProblem_Data/y_train.p','rb'))\n",
        "y_test= pickle.load(open('/content/gdrive/MyDrive/Colab Notebooks/CAD Project/Dataset/ThreeClassProblem_Data/y_val.p','rb'))\n",
        "\n",
        "#Features: color histogram\n",
        "X_train_ch= pd.read_csv('/content/gdrive/MyDrive/Colab Notebooks/CAD Project/Dataset/ThreeClassProblem_Data/Train_HistogramColorFeatures291022.csv')\n",
        "X_test_ch= pd.read_csv('/content/gdrive/MyDrive/Colab Notebooks/CAD Project/Dataset/ThreeClassProblem_Data/Test_HistogramColorFeatures291022.csv')\n",
        "scaler_ch= StandardScaler().fit(X_train_ch)\n",
        "X_train_ch_scaled= scaler_ch.transform(X_train_ch)\n",
        "X_test_ch_scaled= scaler_ch.transform(X_test_ch)\n",
        "\n",
        "#Features: color statistics\n",
        "X_train_cs= pd.read_csv('/content/gdrive/MyDrive/Colab Notebooks/CAD Project/Dataset/ThreeClassProblem_Data/Train_ColorFeatures291022.csv')\n",
        "X_test_cs= pd.read_csv('/content/gdrive/MyDrive/Colab Notebooks/CAD Project/Dataset/ThreeClassProblem_Data/Test_ColorFeatures291022.csv')\n",
        "scaler_cs= StandardScaler().fit(X_train_cs)\n",
        "X_train_cs_scaled= scaler_cs.transform(X_train_cs)\n",
        "X_test_cs_scaled= scaler_cs.transform(X_test_cs)\n",
        "\n",
        "#Features: glcm\n",
        "X_train_glcm= pd.read_csv('/content/gdrive/MyDrive/Colab Notebooks/CAD Project/Dataset/ThreeClassProblem_Data/Train_TextureFeatures291022.csv')\n",
        "X_test_glcm= pd.read_csv('/content/gdrive/MyDrive/Colab Notebooks/CAD Project/Dataset/ThreeClassProblem_Data/Test_TextureFeatures291022.csv')\n",
        "scaler_glcm= StandardScaler().fit(X_train_glcm)\n",
        "X_train_glcm_scaled= scaler_glcm.transform(X_train_glcm)\n",
        "X_test_glcm_scaled= scaler_glcm.transform(X_test_glcm)\n",
        "\n",
        "#Features: LBP histograms\n",
        "LBP_features1_train = pd.read_csv('/content/gdrive/MyDrive/Colab Notebooks/CAD Project/Dataset/ThreeClassProblem_Data/LBP_features1_train_291022.csv')\n",
        "LBP_features2_train = pd.read_csv('/content/gdrive/MyDrive/Colab Notebooks/CAD Project/Dataset/ThreeClassProblem_Data/LBP_features2_train_291022.csv')\n",
        "LBP_features3_train = pd.read_csv('/content/gdrive/MyDrive/Colab Notebooks/CAD Project/Dataset/ThreeClassProblem_Data/LBP_LBP_features3_train_291022.csv')\n",
        "LBP_histogram_features_train= pd.concat([LBP_features1_train, LBP_features2_train, LBP_features3_train], axis=1)\n",
        "X_train_lbph= LBP_histogram_features_train.copy()\n",
        "LBP_features1_test = pd.read_csv('/content/gdrive/MyDrive/Colab Notebooks/CAD Project/Dataset/ThreeClassProblem_Data/LBP_features1_test_291022.csv')\n",
        "LBP_features2_test = pd.read_csv('/content/gdrive/MyDrive/Colab Notebooks/CAD Project/Dataset/ThreeClassProblem_Data/LBP_features2_test_291022.csv')\n",
        "LBP_features3_test = pd.read_csv('/content/gdrive/MyDrive/Colab Notebooks/CAD Project/Dataset/ThreeClassProblem_Data/LBP_features3_test_291022.csv')\n",
        "LBP_histogram_features_test= pd.concat([LBP_features1_test, LBP_features2_test, LBP_features3_test], axis=1)\n",
        "X_test_lbph= LBP_histogram_features_test.copy()\n",
        "scaler_lbph= StandardScaler().fit(X_train_lbph)\n",
        "X_train_lbph_scaled= scaler_lbph.transform(X_train_lbph)\n",
        "X_test_lbph_scaled= scaler_lbph.transform(X_test_lbph)\n",
        "\n",
        "#Features: SIFT + BoW\n",
        "train_features_sift = pickle.load(open('/content/gdrive/MyDrive/Colab Notebooks/CAD Project/Dataset/Three Class Problem/Data/Pickles/train_features_wp.p','rb'))\n",
        "test_features_sift= pickle.load(open('/content/gdrive/MyDrive/Colab Notebooks/CAD Project/Dataset/Three Class Problem/Data/Pickles/val_features_wp.p','rb'))\n",
        "X_train_sift= pd.DataFrame(train_features_sift)\n",
        "X_test_sift= pd.DataFrame(test_features_sift)\n",
        "scaler_sift= StandardScaler().fit(X_train_sift)\n",
        "X_train_sift_scaled= scaler_sift.transform(X_train_sift)\n",
        "X_test_sift_scaled= scaler_sift.transform(X_test_sift)"
      ],
      "metadata": {
        "id": "ma57g9ijRnjH"
      },
      "execution_count": null,
      "outputs": []
    },
    {
      "cell_type": "code",
      "source": [
        "print(X_train_ch_scaled.shape)\n",
        "print(X_train_cs_scaled.shape)\n",
        "print(X_train_glcm_scaled.shape)\n",
        "print(X_train_lbph_scaled.shape)\n",
        "print(X_train_sift_scaled.shape)"
      ],
      "metadata": {
        "colab": {
          "base_uri": "https://localhost:8080/"
        },
        "id": "M4TMkbGjjxxe",
        "outputId": "b82345f8-3065-4e5f-b65d-11c2685d5703"
      },
      "execution_count": null,
      "outputs": [
        {
          "output_type": "stream",
          "name": "stdout",
          "text": [
            "(8058, 192)\n",
            "(8058, 30)\n",
            "(8058, 10)\n",
            "(8058, 54)\n",
            "(8058, 200)\n"
          ]
        }
      ]
    },
    {
      "cell_type": "code",
      "source": [
        "# models_list= [rf_colorh, gb_colorh, svm_colorh, rf_colors, svm_colors, gb_colors, rf_glcm, knn_glcm, gb_glcm, rf_lbph, svm_lbph, gb_lbph]\n",
        "# features_list= [X_train_ch_scaled, X_test_ch_scaled, X_train_cs_scaled, X_test_cs_scaled, X_train_glcm_scaled, X_test_glcm_scaled, X_train_lbph_scaled, X_test_lbph_scaled]\n",
        "# test_features_list=[X_test_ch_scaled, X_test_cs_scaled, X_test_glcm_scaled, X_test_lbph_scaled]"
      ],
      "metadata": {
        "id": "9esJegmXkqwF"
      },
      "execution_count": null,
      "outputs": []
    },
    {
      "cell_type": "code",
      "source": [
        "models_list= [rf_colorh, gb_colorh, svm_colorh, rf_colors, svm_colors, gb_colors, rf_glcm, knn_glcm, gb_glcm]\n",
        "features_list= [X_train_ch_scaled, X_test_ch_scaled, X_train_cs_scaled, X_test_cs_scaled, X_train_glcm_scaled, X_test_glcm_scaled]\n",
        "test_features_list=[X_test_ch_scaled, X_test_cs_scaled, X_test_glcm_scaled]"
      ],
      "metadata": {
        "id": "VB_SwMBV6Y3l"
      },
      "execution_count": null,
      "outputs": []
    },
    {
      "cell_type": "code",
      "source": [
        "#Models results for verification \n",
        "\n",
        "for i in range(len(models_list)):\n",
        "  if i in range(0,3):\n",
        "    print(\"Model number\", i, \"corresponding to\", models_list[i])\n",
        "    y_pred= models_list[i].predict(test_features_list[0])\n",
        "    print(classification_report(y_test, y_pred))\n",
        "    print(balanced_accuracy_score(y_test,y_pred))\n",
        "    print(\"Kappa Score :\")\n",
        "    print(cohen_kappa_score(y_test,y_pred))\n",
        "\n",
        "  elif i in range(3,6):\n",
        "    print(\"Model number\", i, \"corresponding to\", models_list[i])\n",
        "    y_pred= models_list[i].predict(test_features_list[1])\n",
        "    print(classification_report(y_test,y_pred))\n",
        "    print(balanced_accuracy_score(y_test,y_pred))\n",
        "    print(\"Kappa Score :\")\n",
        "    print(cohen_kappa_score(y_test,y_pred))\n",
        "  \n",
        "  elif i in range(6,9):\n",
        "    print(\"Model number\", i, \"corresponding to\", models_list[i])\n",
        "    y_pred= models_list[i].predict(test_features_list[2])\n",
        "    print(classification_report(y_test,y_pred))\n",
        "    print(balanced_accuracy_score(y_test,y_pred))\n",
        "    print(\"Kappa Score :\")\n",
        "    print(cohen_kappa_score(y_test,y_pred))"
      ],
      "metadata": {
        "colab": {
          "base_uri": "https://localhost:8080/"
        },
        "id": "xxzJp5Paj_Ga",
        "outputId": "0684446b-de71-4e5d-88e3-77dfb1182563"
      },
      "execution_count": null,
      "outputs": [
        {
          "output_type": "stream",
          "name": "stdout",
          "text": [
            "Model number 0 corresponding to RandomForestClassifier(random_state=42)\n",
            "              precision    recall  f1-score   support\n",
            "\n",
            "           0       0.90      0.85      0.87       678\n",
            "           1       0.79      0.81      0.80       498\n",
            "           2       0.45      0.57      0.50        94\n",
            "\n",
            "    accuracy                           0.81      1270\n",
            "   macro avg       0.71      0.74      0.73      1270\n",
            "weighted avg       0.82      0.81      0.82      1270\n",
            "\n",
            "0.7436152694629645\n",
            "Kappa Score :\n",
            "0.6678085190211444\n",
            "Model number 1 corresponding to GradientBoostingClassifier(random_state=42)\n",
            "              precision    recall  f1-score   support\n",
            "\n",
            "           0       0.88      0.77      0.82       678\n",
            "           1       0.73      0.70      0.71       498\n",
            "           2       0.28      0.59      0.38        94\n",
            "\n",
            "    accuracy                           0.73      1270\n",
            "   macro avg       0.63      0.69      0.64      1270\n",
            "weighted avg       0.77      0.73      0.75      1270\n",
            "\n",
            "0.6859430441278073\n",
            "Kappa Score :\n",
            "0.5420955480431235\n",
            "Model number 2 corresponding to SVC()\n",
            "              precision    recall  f1-score   support\n",
            "\n",
            "           0       0.91      0.73      0.81       678\n",
            "           1       0.71      0.71      0.71       498\n",
            "           2       0.23      0.56      0.33        94\n",
            "\n",
            "    accuracy                           0.71      1270\n",
            "   macro avg       0.62      0.67      0.62      1270\n",
            "weighted avg       0.78      0.71      0.73      1270\n",
            "\n",
            "0.6672706012652884\n",
            "Kappa Score :\n",
            "0.5180473275678159\n",
            "Model number 3 corresponding to RandomForestClassifier(random_state=42)\n",
            "              precision    recall  f1-score   support\n",
            "\n",
            "           0       0.85      0.82      0.83       678\n",
            "           1       0.76      0.75      0.76       498\n",
            "           2       0.39      0.52      0.45        94\n",
            "\n",
            "    accuracy                           0.77      1270\n",
            "   macro avg       0.67      0.70      0.68      1270\n",
            "weighted avg       0.78      0.77      0.77      1270\n",
            "\n",
            "0.6961078482006857\n",
            "Kappa Score :\n",
            "0.5924690389931265\n",
            "Model number 4 corresponding to SVC()\n",
            "              precision    recall  f1-score   support\n",
            "\n",
            "           0       0.85      0.76      0.80       678\n",
            "           1       0.71      0.68      0.69       498\n",
            "           2       0.25      0.51      0.33        94\n",
            "\n",
            "    accuracy                           0.71      1270\n",
            "   macro avg       0.60      0.65      0.61      1270\n",
            "weighted avg       0.75      0.71      0.72      1270\n",
            "\n",
            "0.6479940977743901\n",
            "Kappa Score :\n",
            "0.5029103167889295\n",
            "Model number 5 corresponding to GradientBoostingClassifier(random_state=42)\n",
            "              precision    recall  f1-score   support\n",
            "\n",
            "           0       0.83      0.76      0.79       678\n",
            "           1       0.70      0.64      0.67       498\n",
            "           2       0.23      0.48      0.31        94\n",
            "\n",
            "    accuracy                           0.69      1270\n",
            "   macro avg       0.59      0.63      0.59      1270\n",
            "weighted avg       0.74      0.69      0.71      1270\n",
            "\n",
            "0.6271379373012038\n",
            "Kappa Score :\n",
            "0.477743192630833\n",
            "Model number 6 corresponding to RandomForestClassifier(random_state=42)\n",
            "              precision    recall  f1-score   support\n",
            "\n",
            "           0       0.78      0.73      0.75       678\n",
            "           1       0.65      0.70      0.68       498\n",
            "           2       0.24      0.26      0.25        94\n",
            "\n",
            "    accuracy                           0.68      1270\n",
            "   macro avg       0.56      0.56      0.56      1270\n",
            "weighted avg       0.69      0.68      0.69      1270\n",
            "\n",
            "0.5615786437030366\n",
            "Kappa Score :\n",
            "0.435564270306276\n",
            "Model number 7 corresponding to KNeighborsClassifier()\n",
            "              precision    recall  f1-score   support\n",
            "\n",
            "           0       0.74      0.71      0.72       678\n",
            "           1       0.62      0.63      0.63       498\n",
            "           2       0.18      0.21      0.19        94\n",
            "\n",
            "    accuracy                           0.64      1270\n",
            "   macro avg       0.51      0.52      0.51      1270\n",
            "weighted avg       0.65      0.64      0.65      1270\n",
            "\n",
            "0.5182452019841116\n",
            "Kappa Score :\n",
            "0.36535506566810627\n",
            "Model number 8 corresponding to GradientBoostingClassifier(random_state=42)\n",
            "              precision    recall  f1-score   support\n",
            "\n",
            "           0       0.74      0.68      0.71       678\n",
            "           1       0.62      0.65      0.64       498\n",
            "           2       0.14      0.20      0.17        94\n",
            "\n",
            "    accuracy                           0.63      1270\n",
            "   macro avg       0.50      0.51      0.50      1270\n",
            "weighted avg       0.65      0.63      0.64      1270\n",
            "\n",
            "0.5102210133447869\n",
            "Kappa Score :\n",
            "0.3569780603416497\n"
          ]
        }
      ]
    },
    {
      "cell_type": "markdown",
      "source": [
        "Ensemble model 1"
      ],
      "metadata": {
        "id": "ItNDa9pyakWr"
      }
    },
    {
      "cell_type": "code",
      "source": [
        "model1= models_list[0]\n",
        "model2= models_list[1]\n",
        "model3= models_list[2]\n",
        "pred_m1= model1.predict(X_test_ch_scaled)\n",
        "pred_m2= model2.predict(X_test_ch_scaled)\n",
        "pred_m3= model3.predict(X_test_ch_scaled)"
      ],
      "metadata": {
        "id": "0F_WDhDGHwkG"
      },
      "execution_count": null,
      "outputs": []
    },
    {
      "cell_type": "code",
      "source": [
        "new_ypred1=[]\n",
        "for i in range(len(y_test)):\n",
        "  temp_pred=[pred_m1[i], pred_m2[i], pred_m3[i]]\n",
        "  if temp_pred.count(0) > temp_pred.count(1):\n",
        "    if temp_pred.count(0) > temp_pred.count(2):\n",
        "      new_ypred1.append(0)\n",
        "    elif temp_pred.count(2) > temp_pred.count(0):\n",
        "      new_ypred1.append(0)\n",
        "    else: \n",
        "      new_ypred1.append(2)\n",
        "  elif temp_pred.count(1) > temp_pred.count(0):\n",
        "    if temp_pred.count(1) > temp_pred.count(2):\n",
        "      new_ypred1.append(1)\n",
        "    elif temp_pred.count(2) > temp_pred.count(1):\n",
        "      new_ypred1.append(2)\n",
        "    else: \n",
        "      new_ypred1.append(1)\n",
        "  else:\n",
        "    if temp_pred.count(1) > temp_pred.count(2):\n",
        "      new_ypred1.append(1)\n",
        "    elif temp_pred.count(2) > temp_pred.count(1):\n",
        "      new_ypred1.append(2)\n",
        "    else: \n",
        "      new_ypred1.append(1)"
      ],
      "metadata": {
        "id": "Oz-qTSQlH-4H"
      },
      "execution_count": null,
      "outputs": []
    },
    {
      "cell_type": "code",
      "source": [
        "print(classification_report(y_test,new_ypred1))\n",
        "print(balanced_accuracy_score(y_test,new_ypred1))\n",
        "print(\"Kappa Score:\")\n",
        "print(cohen_kappa_score(y_test,new_ypred1))"
      ],
      "metadata": {
        "colab": {
          "base_uri": "https://localhost:8080/"
        },
        "id": "86bE9eD9IEHo",
        "outputId": "b12f0da0-cd77-44ef-d162-1ac0f9b679f0"
      },
      "execution_count": null,
      "outputs": [
        {
          "output_type": "stream",
          "name": "stdout",
          "text": [
            "              precision    recall  f1-score   support\n",
            "\n",
            "           0       0.89      0.81      0.85       678\n",
            "           1       0.74      0.78      0.76       498\n",
            "           2       0.40      0.55      0.46        94\n",
            "\n",
            "    accuracy                           0.78      1270\n",
            "   macro avg       0.68      0.71      0.69      1270\n",
            "weighted avg       0.80      0.78      0.79      1270\n",
            "\n",
            "0.7138364542082218\n",
            "Kappa Score:\n",
            "0.6129913113637645\n"
          ]
        }
      ]
    },
    {
      "cell_type": "markdown",
      "source": [
        "Ensemble model 2"
      ],
      "metadata": {
        "id": "-mwhtDDhIdgW"
      }
    },
    {
      "cell_type": "code",
      "source": [
        "model4= models_list[3]\n",
        "model5= models_list[4]\n",
        "model6= models_list[5]\n",
        "pred_m4= model4.predict(X_test_cs_scaled)\n",
        "pred_m5= model5.predict(X_test_cs_scaled)\n",
        "pred_m6= model6.predict(X_test_cs_scaled)"
      ],
      "metadata": {
        "id": "edVi_oKDIe0T"
      },
      "execution_count": null,
      "outputs": []
    },
    {
      "cell_type": "code",
      "source": [
        "new_ypred2=[]\n",
        "for i in range(len(y_test)):\n",
        "  temp_pred=[pred_m4[i], pred_m5[i], pred_m6[i]]\n",
        "  if temp_pred.count(0) > temp_pred.count(1):\n",
        "    if temp_pred.count(0) > temp_pred.count(2):\n",
        "      new_ypred2.append(0)\n",
        "    elif temp_pred.count(2) > temp_pred.count(0):\n",
        "      new_ypred2.append(2)\n",
        "    else: \n",
        "      new_ypred2.append(0)\n",
        "  elif temp_pred.count(1) > temp_pred.count(0):\n",
        "    if temp_pred.count(1) > temp_pred.count(2):\n",
        "      new_ypred2.append(1)\n",
        "    elif temp_pred.count(2) > temp_pred.count(1):\n",
        "      new_ypred2.append(2)\n",
        "    else: \n",
        "      new_ypred2.append(1)\n",
        "  else:\n",
        "    if temp_pred.count(1) > temp_pred.count(2):\n",
        "      new_ypred2.append(1)\n",
        "    elif temp_pred.count(2) > temp_pred.count(1):\n",
        "      new_ypred2.append(2)\n",
        "    else: \n",
        "      new_ypred2.append(1)"
      ],
      "metadata": {
        "id": "9T3qM-IPIndn"
      },
      "execution_count": null,
      "outputs": []
    },
    {
      "cell_type": "code",
      "source": [
        "print(classification_report(y_test,new_ypred2))\n",
        "print(balanced_accuracy_score(y_test,new_ypred2))\n",
        "print(\"Kappa Score:\")\n",
        "print(cohen_kappa_score(y_test,new_ypred2))"
      ],
      "metadata": {
        "colab": {
          "base_uri": "https://localhost:8080/"
        },
        "id": "Z2uaBeOgI30H",
        "outputId": "f1a1c898-8d0f-46ac-d1eb-825f9ff46d1f"
      },
      "execution_count": null,
      "outputs": [
        {
          "output_type": "stream",
          "name": "stdout",
          "text": [
            "              precision    recall  f1-score   support\n",
            "\n",
            "           0       0.85      0.77      0.81       678\n",
            "           1       0.71      0.72      0.72       498\n",
            "           2       0.29      0.48      0.36        94\n",
            "\n",
            "    accuracy                           0.73      1270\n",
            "   macro avg       0.62      0.66      0.63      1270\n",
            "weighted avg       0.76      0.73      0.74      1270\n",
            "\n",
            "0.656150743688997\n",
            "Kappa Score:\n",
            "0.5311319458754036\n"
          ]
        }
      ]
    },
    {
      "cell_type": "markdown",
      "source": [
        "Ensemble model 3"
      ],
      "metadata": {
        "id": "n9x5HEgOI9cA"
      }
    },
    {
      "cell_type": "code",
      "source": [
        "model7= models_list[6]\n",
        "model8= models_list[7]\n",
        "model9= models_list[8]\n",
        "pred_m7= model7.predict(X_test_glcm_scaled)\n",
        "pred_m8= model8.predict(X_test_glcm_scaled)\n",
        "pred_m9= model9.predict(X_test_glcm_scaled)"
      ],
      "metadata": {
        "id": "3GWqsGkGI-bs"
      },
      "execution_count": null,
      "outputs": []
    },
    {
      "cell_type": "code",
      "source": [
        "new_ypred3=[]\n",
        "for i in range(len(y_test)):\n",
        "  temp_pred=[pred_m7[i], pred_m8[i], pred_m9[i]]\n",
        "  if temp_pred.count(0) > temp_pred.count(1):\n",
        "    if temp_pred.count(0) > temp_pred.count(2):\n",
        "      new_ypred3.append(0)\n",
        "    elif temp_pred.count(2) > temp_pred.count(0):\n",
        "      new_ypred3.append(2)\n",
        "    else: \n",
        "      new_ypred3.append(0)\n",
        "  elif temp_pred.count(1) > temp_pred.count(0):\n",
        "    if temp_pred.count(1) > temp_pred.count(2):\n",
        "      new_ypred3.append(1)\n",
        "    elif temp_pred.count(2) > temp_pred.count(1):\n",
        "      new_ypred3.append(2)\n",
        "    else: \n",
        "      new_ypred3.append(1)\n",
        "  else:\n",
        "    if temp_pred.count(1) > temp_pred.count(2):\n",
        "      new_ypred3.append(1)\n",
        "    elif temp_pred.count(2) > temp_pred.count(1):\n",
        "      new_ypred3.append(2)\n",
        "    else: \n",
        "      new_ypred3.append(1)"
      ],
      "metadata": {
        "id": "4u2uwOJIJZVw"
      },
      "execution_count": null,
      "outputs": []
    },
    {
      "cell_type": "code",
      "source": [
        "print(classification_report(y_test,new_ypred3))\n",
        "print(balanced_accuracy_score(y_test,new_ypred3))\n",
        "print(\"Kappa Score:\")\n",
        "print(cohen_kappa_score(y_test,new_ypred3))"
      ],
      "metadata": {
        "colab": {
          "base_uri": "https://localhost:8080/"
        },
        "id": "SbHDAiCLJlBP",
        "outputId": "30bd3ec9-0b2f-41ee-bb05-240671fe9be2"
      },
      "execution_count": null,
      "outputs": [
        {
          "output_type": "stream",
          "name": "stdout",
          "text": [
            "              precision    recall  f1-score   support\n",
            "\n",
            "           0       0.77      0.71      0.74       678\n",
            "           1       0.65      0.72      0.68       498\n",
            "           2       0.23      0.23      0.23        94\n",
            "\n",
            "    accuracy                           0.68      1270\n",
            "   macro avg       0.55      0.55      0.55      1270\n",
            "weighted avg       0.68      0.68      0.68      1270\n",
            "\n",
            "0.5536275523231443\n",
            "Kappa Score:\n",
            "0.425679103852042\n"
          ]
        }
      ]
    },
    {
      "cell_type": "markdown",
      "source": [
        "Ensemble of ensemble"
      ],
      "metadata": {
        "id": "MkeGGDthLEmD"
      }
    },
    {
      "cell_type": "code",
      "source": [
        "new_ypred7=[]\n",
        "for i in range(len(y_test)):\n",
        "  temp_pred=[new_ypred1[i], new_ypred2[i], new_ypred3[i]]\n",
        "  if temp_pred.count(0) > temp_pred.count(1):\n",
        "    if temp_pred.count(0) > temp_pred.count(2):\n",
        "      new_ypred7.append(0)\n",
        "    elif temp_pred.count(2) > temp_pred.count(0):\n",
        "      new_ypred7.append(2)\n",
        "    else: \n",
        "      new_ypred7.append(0)\n",
        "  elif temp_pred.count(1) > temp_pred.count(0):\n",
        "    if temp_pred.count(1) > temp_pred.count(2):\n",
        "      new_ypred7.append(1)\n",
        "    elif temp_pred.count(2) > temp_pred.count(1):\n",
        "      new_ypred7.append(2)\n",
        "    else: \n",
        "      new_ypred7.append(1)\n",
        "  else:\n",
        "    if temp_pred.count(1) > temp_pred.count(2):\n",
        "      new_ypred7.append(1)\n",
        "    elif temp_pred.count(2) > temp_pred.count(1):\n",
        "      new_ypred7.append(2)\n",
        "    else: \n",
        "      new_ypred7.append(1)"
      ],
      "metadata": {
        "id": "0nCVocOILGLZ"
      },
      "execution_count": null,
      "outputs": []
    },
    {
      "cell_type": "code",
      "source": [
        "print(classification_report(y_test,new_ypred7))\n",
        "print(balanced_accuracy_score(y_test,new_ypred7))\n",
        "print(\"Kappa Score:\")\n",
        "print(cohen_kappa_score(y_test,new_ypred7))"
      ],
      "metadata": {
        "colab": {
          "base_uri": "https://localhost:8080/"
        },
        "id": "avF9CHzJLaUs",
        "outputId": "352ad015-54dc-4958-f40f-dcac637d7f2a"
      },
      "execution_count": null,
      "outputs": [
        {
          "output_type": "stream",
          "name": "stdout",
          "text": [
            "              precision    recall  f1-score   support\n",
            "\n",
            "           0       0.87      0.80      0.84       678\n",
            "           1       0.73      0.80      0.76       498\n",
            "           2       0.41      0.45      0.43        94\n",
            "\n",
            "    accuracy                           0.77      1270\n",
            "   macro avg       0.67      0.68      0.67      1270\n",
            "weighted avg       0.78      0.77      0.78      1270\n",
            "\n",
            "0.681805109095139\n",
            "Kappa Score:\n",
            "0.5982654769279435\n"
          ]
        }
      ]
    },
    {
      "cell_type": "code",
      "source": [
        "model1= rf_colorh\n",
        "model2= rf_colors\n",
        "model3= rf_glcm"
      ],
      "metadata": {
        "id": "tQ1lEop7alsh"
      },
      "execution_count": null,
      "outputs": []
    },
    {
      "cell_type": "code",
      "source": [
        "pred_m1= model1.predict(X_test_ch_scaled)\n",
        "pred_m2= model2.predict(X_test_cs_scaled)\n",
        "pred_m3= model3.predict(X_test_glcm_scaled)"
      ],
      "metadata": {
        "id": "YtZR4SVDbysi"
      },
      "execution_count": null,
      "outputs": []
    },
    {
      "cell_type": "code",
      "source": [
        "final_pred=(pred_m1+pred_m2+pred_m3)/3.0"
      ],
      "metadata": {
        "id": "5L4HF56vcjfF"
      },
      "execution_count": null,
      "outputs": []
    },
    {
      "cell_type": "code",
      "source": [
        "final_pred_round=[]\n",
        "for i in final_pred:\n",
        "  if i >= 1.4:\n",
        "    final_pred_round.append(2)\n",
        "  elif i <= 0.7:\n",
        "    final_pred_round.append(0)\n",
        "  else:\n",
        "    final_pred_round.append(1)"
      ],
      "metadata": {
        "id": "_9a9_hllcrLc"
      },
      "execution_count": null,
      "outputs": []
    },
    {
      "cell_type": "code",
      "source": [
        "print(classification_report(y_test,final_pred_round))\n",
        "print(balanced_accuracy_score(y_test,final_pred_round))\n",
        "print(\"Kappa Score:\")\n",
        "print(cohen_kappa_score(y_test,final_pred_round))"
      ],
      "metadata": {
        "colab": {
          "base_uri": "https://localhost:8080/"
        },
        "id": "1UXel4o4dsS5",
        "outputId": "0716d391-fe92-4a83-866a-4fab06e369d1"
      },
      "execution_count": null,
      "outputs": [
        {
          "output_type": "stream",
          "name": "stdout",
          "text": [
            "              precision    recall  f1-score   support\n",
            "\n",
            "           0       0.78      0.90      0.84       678\n",
            "           1       0.77      0.65      0.71       498\n",
            "           2       0.54      0.37      0.44        94\n",
            "\n",
            "    accuracy                           0.76      1270\n",
            "   macro avg       0.70      0.64      0.66      1270\n",
            "weighted avg       0.76      0.76      0.76      1270\n",
            "\n",
            "0.642043602767311\n",
            "Kappa Score:\n",
            "0.5614823197912095\n"
          ]
        }
      ]
    },
    {
      "cell_type": "code",
      "source": [
        "final_model = VotingClassifier(\n",
        "    estimators=[('rf1', model1), ('rf2', model2), ('rf3', model3)], voting='hard')\n",
        "final_model.fit(X_train_ch_scaled,y_train)\n",
        "pred_final= final_model.predict(X_test_ch_scaled)\n",
        "print(classification_report(y_test,pred_final))\n",
        "print(balanced_accuracy_score(y_test,pred_final))\n",
        "print(\"Kappa Score:\")\n",
        "print(cohen_kappa_score(y_test,pred_final))"
      ],
      "metadata": {
        "colab": {
          "base_uri": "https://localhost:8080/"
        },
        "id": "zR1wXD8cfXWH",
        "outputId": "0e67e8e2-98fa-41ec-8e9b-9eac0fc55e38"
      },
      "execution_count": null,
      "outputs": [
        {
          "output_type": "stream",
          "name": "stdout",
          "text": [
            "              precision    recall  f1-score   support\n",
            "\n",
            "           0       0.90      0.85      0.87       678\n",
            "           1       0.79      0.81      0.80       498\n",
            "           2       0.45      0.57      0.50        94\n",
            "\n",
            "    accuracy                           0.81      1270\n",
            "   macro avg       0.71      0.74      0.73      1270\n",
            "weighted avg       0.82      0.81      0.82      1270\n",
            "\n",
            "0.7436152694629645\n",
            "Kappa Score:\n",
            "0.6678085190211444\n"
          ]
        }
      ]
    }
  ]
}