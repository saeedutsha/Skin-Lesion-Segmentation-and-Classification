{
  "cells": [
    {
      "cell_type": "code",
      "execution_count": null,
      "metadata": {
        "id": "dgaw6XP8Omi7"
      },
      "outputs": [],
      "source": [
        "import os\n",
        "import cv2\n",
        "import copy\n",
        "import pandas as pd\n",
        "from PIL import Image\n",
        "import numpy as np\n",
        "from matplotlib import pyplot as plt\n",
        "from glob import glob\n",
        "from google.colab.patches import cv2_imshow\n",
        "from sklearn.ensemble import VotingClassifier\n",
        "from sklearn.metrics import jaccard_score\n",
        "from collections import Counter\n",
        "import random\n",
        "import torch\n",
        "from sklearn import svm\n",
        "from skimage.morphology import disk\n",
        "from sklearn.preprocessing import StandardScaler\n",
        "import torchvision\n",
        "import torch.nn as nn\n",
        "import torch.nn.functional as F\n",
        "from torch.functional import Tensor\n",
        "from scipy.ndimage.filters import median_filter\n",
        "import torch.optim as optim\n",
        "import torchvision.transforms as transforms\n",
        "import itertools\n",
        "import torchvision.datasets as datasets\n",
        "from scipy.stats import kurtosis, skew\n",
        "import torchvision.transforms.functional as TF\n",
        "from sklearn.metrics import confusion_matrix, ConfusionMatrixDisplay\n",
        "from torch.utils.data import Dataset, DataLoader\n",
        "from torch.nn.modules.activation import ReLU\n",
        "from sklearn.metrics import classification_report, balanced_accuracy_score, cohen_kappa_score\n",
        "from sklearn.linear_model import LogisticRegression\n",
        "from scipy.stats import kurtosis, skew\n",
        "from sklearn.ensemble import AdaBoostClassifier\n",
        "from sklearn.multiclass import OneVsRestClassifier\n",
        "import statistics\n",
        "from statistics import mode\n",
        "from sklearn.ensemble import RandomForestClassifier\n",
        "from xgboost import XGBClassifier\n",
        "from sklearn.tree import DecisionTreeClassifier\n",
        "from sklearn.ensemble import GradientBoostingClassifier\n",
        "from sklearn.ensemble import StackingClassifier\n",
        "from sklearn.ensemble import BaggingClassifier\n",
        "from sklearn.naive_bayes import GaussianNB\n",
        "from sklearn.neighbors import KNeighborsClassifier\n",
        "from sklearn.model_selection import StratifiedShuffleSplit\n",
        "import seaborn as sns\n",
        "from sklearn.feature_selection import SelectKBest, f_classif\n",
        "import pickle\n",
        "from torch.nn.modules.batchnorm import BatchNorm2d\n",
        "import torch.optim as optim\n",
        "from collections import Counter\n",
        "from tqdm import tqdm\n",
        "from google.colab import drive\n",
        "import itertools\n",
        "from pathlib import Path\n",
        "from sklearn.utils import shuffle\n"
      ]
    },
    {
      "cell_type": "code",
      "execution_count": null,
      "metadata": {
        "colab": {
          "base_uri": "https://localhost:8080/"
        },
        "id": "Vok0CgMAOsD8",
        "outputId": "a4b79d97-9ca0-4beb-d3eb-9b86e1e387eb"
      },
      "outputs": [
        {
          "output_type": "stream",
          "name": "stdout",
          "text": [
            "Mounted at /content/gdrive\n"
          ]
        }
      ],
      "source": [
        "drive.mount('/content/gdrive')"
      ]
    },
    {
      "cell_type": "code",
      "execution_count": null,
      "metadata": {
        "id": "XO14RLKLPRL-"
      },
      "outputs": [],
      "source": [
        "#Color Histograms\n",
        "rf_colorh= pickle.load(open('/content/gdrive/MyDrive/Colab Notebooks/CAD Project/Dataset/Three Class Problem/Models/WP_Aug/ColorHistRF_model.sav', 'rb'))\n",
        "gb_colorh= pickle.load(open('/content/gdrive/MyDrive/Colab Notebooks/CAD Project/Dataset/Three Class Problem/Models/WP_Aug/ColorHistGBoost_model.sav', 'rb'))\n",
        "svm_colorh= pickle.load(open('/content/gdrive/MyDrive/Colab Notebooks/CAD Project/Dataset/Three Class Problem/Models/WP_Aug/ColorHistSVM_model.sav', 'rb'))\n",
        "\n",
        "#Color statistics\n",
        "rf_colors= pickle.load(open('/content/gdrive/MyDrive/Colab Notebooks/CAD Project/Dataset/Three Class Problem/Models/WP_Aug/ColorStatRF_model.sav', 'rb'))\n",
        "svm_colors= pickle.load(open('/content/gdrive/MyDrive/Colab Notebooks/CAD Project/Dataset/Three Class Problem/Models/WP_Aug/ColorStatSVM_model.sav', 'rb'))\n",
        "gb_colors= pickle.load(open('/content/gdrive/MyDrive/Colab Notebooks/CAD Project/Dataset/Three Class Problem/Models/WP_Aug/ColorStatGBoost_model.sav', 'rb'))\n",
        "\n",
        "#GLCM texture\n",
        "rf_glcm= pickle.load(open('/content/gdrive/MyDrive/Colab Notebooks/CAD Project/Dataset/Three Class Problem/Models/WP_Aug/GLCMRF_model.sav', 'rb'))\n",
        "knn_glcm= pickle.load(open('/content/gdrive/MyDrive/Colab Notebooks/CAD Project/Dataset/Three Class Problem/Models/WP_Aug/GLCMKNN_model.sav', 'rb'))\n",
        "gb_glcm= pickle.load(open('/content/gdrive/MyDrive/Colab Notebooks/CAD Project/Dataset/Three Class Problem/Models/WP_Aug/GLCMGBoost_model.sav', 'rb'))\n",
        "\n",
        "#SIFT + BoW\n",
        "rf_sift= pickle.load(open('/content/gdrive/MyDrive/Colab Notebooks/CAD Project/Dataset/Three Class Problem/Models/WP_Aug/SiftRF_model.sav', 'rb'))\n",
        "svm_sift= pickle.load(open('/content/gdrive/MyDrive/Colab Notebooks/CAD Project/Dataset/Three Class Problem/Models/WP_Aug/SiftSVM_model.sav', 'rb'))\n",
        "gb_sift= pickle.load(open('/content/gdrive/MyDrive/Colab Notebooks/CAD Project/Dataset/Three Class Problem/Models/WP_Aug/SiftGBoost_model.sav', 'rb'))\n",
        "\n",
        "#LBP histograms\n",
        "rf_lbph= pickle.load(open('/content/gdrive/MyDrive/Colab Notebooks/CAD Project/Dataset/Three Class Problem/Models/WP_Aug/LBPHRF_model.sav', 'rb'))\n",
        "svm_lbph= pickle.load(open('/content/gdrive/MyDrive/Colab Notebooks/CAD Project/Dataset/Three Class Problem/Models/WP_Aug/LBPHSVM_model.sav', 'rb'))\n",
        "gb_lbph= pickle.load(open('/content/gdrive/MyDrive/Colab Notebooks/CAD Project/Dataset/Three Class Problem/Models/WP_Aug/LBPHGBoost_model.sav', 'rb'))"
      ]
    },
    {
      "cell_type": "code",
      "execution_count": null,
      "metadata": {
        "id": "ma57g9ijRnjH"
      },
      "outputs": [],
      "source": [
        "X_train= pickle.load(open('/content/gdrive/MyDrive/Colab Notebooks/CAD Project/Dataset/ThreeClassProblem_Data/X_train.p','rb'))\n",
        "X_test= pickle.load(open('/content/gdrive/MyDrive/Colab Notebooks/CAD Project/Dataset/ThreeClassProblem_Data/X_val.p','rb'))\n",
        "y_train= pickle.load(open('/content/gdrive/MyDrive/Colab Notebooks/CAD Project/Dataset/ThreeClassProblem_Data/y_train.p','rb'))\n",
        "y_test= pickle.load(open('/content/gdrive/MyDrive/Colab Notebooks/CAD Project/Dataset/ThreeClassProblem_Data/y_val.p','rb'))\n",
        "\n",
        "#Features: color histogram\n",
        "X_train_ch= pd.read_csv('/content/gdrive/MyDrive/Colab Notebooks/CAD Project/Dataset/ThreeClassProblem_Data/Train_HistogramColorFeatures291022.csv')\n",
        "X_test_ch= pd.read_csv('/content/gdrive/MyDrive/Colab Notebooks/CAD Project/Dataset/ThreeClassProblem_Data/Test_HistogramColorFeatures291022.csv')\n",
        "scaler_ch= StandardScaler().fit(X_train_ch)\n",
        "X_train_ch_scaled= scaler_ch.transform(X_train_ch)\n",
        "X_test_ch_scaled= scaler_ch.transform(X_test_ch)\n",
        "\n",
        "#Features: color statistics\n",
        "X_train_cs= pd.read_csv('/content/gdrive/MyDrive/Colab Notebooks/CAD Project/Dataset/ThreeClassProblem_Data/Train_ColorFeatures291022.csv')\n",
        "X_test_cs= pd.read_csv('/content/gdrive/MyDrive/Colab Notebooks/CAD Project/Dataset/ThreeClassProblem_Data/Test_ColorFeatures291022.csv')\n",
        "scaler_cs= StandardScaler().fit(X_train_cs)\n",
        "X_train_cs_scaled= scaler_cs.transform(X_train_cs)\n",
        "X_test_cs_scaled= scaler_cs.transform(X_test_cs)\n",
        "\n",
        "#Features: glcm\n",
        "X_train_glcm= pd.read_csv('/content/gdrive/MyDrive/Colab Notebooks/CAD Project/Dataset/ThreeClassProblem_Data/Train_TextureFeatures291022.csv')\n",
        "X_test_glcm= pd.read_csv('/content/gdrive/MyDrive/Colab Notebooks/CAD Project/Dataset/ThreeClassProblem_Data/Test_TextureFeatures291022.csv')\n",
        "scaler_glcm= StandardScaler().fit(X_train_glcm)\n",
        "X_train_glcm_scaled= scaler_glcm.transform(X_train_glcm)\n",
        "X_test_glcm_scaled= scaler_glcm.transform(X_test_glcm)\n",
        "\n",
        "#Features: LBP histograms\n",
        "LBP_features1_train = pd.read_csv('/content/gdrive/MyDrive/Colab Notebooks/CAD Project/Dataset/ThreeClassProblem_Data/LBP_features1_train_291022.csv')\n",
        "LBP_features2_train = pd.read_csv('/content/gdrive/MyDrive/Colab Notebooks/CAD Project/Dataset/ThreeClassProblem_Data/LBP_features2_train_291022.csv')\n",
        "LBP_features3_train = pd.read_csv('/content/gdrive/MyDrive/Colab Notebooks/CAD Project/Dataset/ThreeClassProblem_Data/LBP_LBP_features3_train_291022.csv')\n",
        "LBP_histogram_features_train= pd.concat([LBP_features1_train, LBP_features2_train, LBP_features3_train], axis=1)\n",
        "X_train_lbph= LBP_histogram_features_train\n",
        "LBP_features1_test = pd.read_csv('/content/gdrive/MyDrive/Colab Notebooks/CAD Project/Dataset/ThreeClassProblem_Data/LBP_features1_test_291022.csv')\n",
        "LBP_features2_test = pd.read_csv('/content/gdrive/MyDrive/Colab Notebooks/CAD Project/Dataset/ThreeClassProblem_Data/LBP_features2_test_291022.csv')\n",
        "LBP_features3_test = pd.read_csv('/content/gdrive/MyDrive/Colab Notebooks/CAD Project/Dataset/ThreeClassProblem_Data/LBP_features3_test_291022.csv')\n",
        "LBP_histogram_features_test= pd.concat([LBP_features1_test, LBP_features2_test, LBP_features3_test], axis=1)\n",
        "X_test_lbph= LBP_histogram_features_test\n",
        "scaler_lbph= StandardScaler().fit(X_train_lbph)\n",
        "X_train_lbph_scaled= scaler_lbph.transform(X_train_lbph)\n",
        "X_test_lbph_scaled= scaler_lbph.transform(X_test_lbph)\n",
        "\n",
        "#Features: SIFT + BoW\n",
        "X_train_sift= pickle.load(open('/content/gdrive/MyDrive/Colab Notebooks/CAD Project/Dataset/Three Class Problem/Data/Pickles/train_features_wp.p','rb'))\n",
        "X_test_sift= pickle.load(open('/content/gdrive/MyDrive/Colab Notebooks/CAD Project/Dataset/Three Class Problem/Data/Pickles/val_features_wp.p','rb'))\n",
        "X_train_sift= pd.DataFrame(X_train_sift)\n",
        "X_test_sift= pd.DataFrame(X_test_sift)\n",
        "scaler_sift= StandardScaler().fit(X_train_sift)\n",
        "X_train_sift_scaled= scaler_sift.transform(X_train_sift)\n",
        "X_test_sift_scaled= scaler_sift.transform(X_test_sift)"
      ]
    },
    {
      "cell_type": "code",
      "execution_count": null,
      "metadata": {
        "colab": {
          "base_uri": "https://localhost:8080/"
        },
        "id": "IJmmLsygLsFW",
        "outputId": "6787dc9b-fed0-4552-ca78-5c2014b0bbad"
      },
      "outputs": [
        {
          "output_type": "stream",
          "name": "stdout",
          "text": [
            "(8058, 192)\n",
            "(8058, 30)\n",
            "(8058, 10)\n",
            "(8058, 54)\n",
            "(8058, 200)\n"
          ]
        }
      ],
      "source": [
        "print(X_train_ch.shape)\n",
        "print(X_train_cs.shape)\n",
        "print(X_train_glcm.shape)\n",
        "print(X_train_lbph.shape)\n",
        "print(X_train_sift.shape)"
      ]
    },
    {
      "cell_type": "code",
      "execution_count": null,
      "metadata": {
        "id": "BPWdsvHrO_6w"
      },
      "outputs": [],
      "source": [
        "# X_train= pd.concat([X_train_ch, X_train_cs, X_train_glcm, X_train_lbph, X_train_sift],axis=1)\n",
        "X_train= pd.concat([X_train_ch,  X_train_cs, X_train_glcm, X_train_lbph],axis=1)\n",
        "X_train.columns=[x for x in range(len(X_train.columns))]\n",
        "# X_test= pd.concat([X_test_ch, X_test_cs, X_test_glcm,X_test_lbph, X_test_sift],axis=1)\n",
        "X_test= pd.concat([X_test_ch, X_test_cs, X_test_glcm, X_test_lbph],axis=1)\n",
        "X_test.columns=[y for y in range(len(X_test.columns))]\n",
        "scaler= StandardScaler().fit(X_train)\n",
        "X_train_scaled = scaler.transform(X_train)\n",
        "X_test_scaled= scaler.transform(X_test)"
      ]
    },
    {
      "cell_type": "markdown",
      "metadata": {
        "id": "aURegZ575JPh"
      },
      "source": [
        "First model: SVM"
      ]
    },
    {
      "cell_type": "code",
      "execution_count": null,
      "metadata": {
        "id": "dH2XtxTYui6P"
      },
      "outputs": [],
      "source": [
        "model1= svm.SVC()\n",
        "model1.fit(X_train_scaled,y_train)\n",
        "y_pred1= model1.predict(X_test_scaled)"
      ]
    },
    {
      "cell_type": "code",
      "execution_count": null,
      "metadata": {
        "colab": {
          "base_uri": "https://localhost:8080/"
        },
        "id": "wgUjqdO6ui6P",
        "outputId": "22d56973-44c1-4aa9-945c-b792bb204d4b"
      },
      "outputs": [
        {
          "output_type": "stream",
          "name": "stdout",
          "text": [
            "              precision    recall  f1-score   support\n",
            "\n",
            "           0       0.88      0.80      0.84       678\n",
            "           1       0.70      0.85      0.77       498\n",
            "           2       0.26      0.15      0.19        94\n",
            "\n",
            "    accuracy                           0.77      1270\n",
            "   macro avg       0.62      0.60      0.60      1270\n",
            "weighted avg       0.77      0.77      0.76      1270\n",
            "\n",
            "0.6005866181099216\n",
            "Kappa Score :\n",
            "0.5883061585261893\n"
          ]
        }
      ],
      "source": [
        "print(classification_report(y_test,y_pred1))\n",
        "print(balanced_accuracy_score(y_test,y_pred1))\n",
        "print(\"Kappa Score :\")\n",
        "print(cohen_kappa_score(y_test,y_pred1))"
      ]
    },
    {
      "cell_type": "code",
      "execution_count": null,
      "metadata": {
        "colab": {
          "base_uri": "https://localhost:8080/",
          "height": 279
        },
        "id": "AVtwca8D_TNR",
        "outputId": "79e6e734-8aca-47dd-da14-5ee05556bb28"
      },
      "outputs": [
        {
          "output_type": "display_data",
          "data": {
            "text/plain": [
              "<Figure size 432x288 with 2 Axes>"
            ],
            "image/png": "[encoded data removed]"
          },
          "metadata": {
            "needs_background": "light"
          }
        }
      ],
      "source": [
        "cm= confusion_matrix(y_test,y_pred1,labels= model1.classes_)\n",
        "disp= ConfusionMatrixDisplay(confusion_matrix=cm, display_labels=model1.classes_)\n",
        "disp= disp.plot(include_values= True, cmap=plt.cm.Blues)\n",
        "plt.grid(False)\n",
        "plt.show()"
      ]
    },
    {
      "cell_type": "markdown",
      "metadata": {
        "id": "GR3zplQI5QLl"
      },
      "source": [
        "Second Model: Logistic Regression"
      ]
    },
    {
      "cell_type": "code",
      "execution_count": null,
      "metadata": {
        "id": "gP54zwHa3bBf"
      },
      "outputs": [],
      "source": [
        "model2= LogisticRegression(max_iter=2000)\n",
        "model2.fit(X_train_scaled,y_train)\n",
        "y_pred2= model2.predict(X_test_scaled)"
      ]
    },
    {
      "cell_type": "code",
      "execution_count": null,
      "metadata": {
        "colab": {
          "base_uri": "https://localhost:8080/"
        },
        "id": "uULsIqfE5ZxM",
        "outputId": "da92b52d-f833-43b4-8936-df8568cac0a9"
      },
      "outputs": [
        {
          "output_type": "stream",
          "name": "stdout",
          "text": [
            "              precision    recall  f1-score   support\n",
            "\n",
            "           0       0.84      0.79      0.81       678\n",
            "           1       0.70      0.83      0.76       498\n",
            "           2       0.27      0.14      0.18        94\n",
            "\n",
            "    accuracy                           0.75      1270\n",
            "   macro avg       0.60      0.58      0.58      1270\n",
            "weighted avg       0.74      0.75      0.74      1270\n",
            "\n",
            "0.5837365655429098\n",
            "Kappa Score :\n",
            "0.5525624000650424\n"
          ]
        }
      ],
      "source": [
        "print(classification_report(y_test,y_pred2))\n",
        "print(balanced_accuracy_score(y_test,y_pred2))\n",
        "print(\"Kappa Score :\")\n",
        "print(cohen_kappa_score(y_test,y_pred2))"
      ]
    },
    {
      "cell_type": "code",
      "execution_count": null,
      "metadata": {
        "colab": {
          "base_uri": "https://localhost:8080/",
          "height": 279
        },
        "id": "mCK7t-le_m7f",
        "outputId": "596c9f9e-0be1-461c-edf4-b629aa7c3746"
      },
      "outputs": [
        {
          "output_type": "display_data",
          "data": {
            "text/plain": [
              "<Figure size 432x288 with 2 Axes>"
            ],
            "image/png": "[encoded data removed]"
          },
          "metadata": {
            "needs_background": "light"
          }
        }
      ],
      "source": [
        "cm= confusion_matrix(y_test,y_pred2,labels= model2.classes_)\n",
        "disp= ConfusionMatrixDisplay(confusion_matrix=cm, display_labels=model2.classes_)\n",
        "disp= disp.plot(include_values= True, cmap=plt.cm.Blues)\n",
        "plt.grid(False)\n",
        "plt.show()"
      ]
    },
    {
      "cell_type": "markdown",
      "metadata": {
        "id": "WX9z50hK5xbS"
      },
      "source": [
        "Third model: Gradient Boosting"
      ]
    },
    {
      "cell_type": "code",
      "execution_count": null,
      "metadata": {
        "id": "Uq_PCz6uAMkT"
      },
      "outputs": [],
      "source": [
        "model3= GradientBoostingClassifier(random_state=42)\n",
        "model3.fit(X_train_scaled,y_train)\n",
        "y_pred3= model3.predict(X_test_scaled)"
      ]
    },
    {
      "cell_type": "code",
      "execution_count": null,
      "metadata": {
        "colab": {
          "base_uri": "https://localhost:8080/"
        },
        "id": "faDpyCwJBWqV",
        "outputId": "10fec127-ef6a-4165-dc48-df6b16d68ccf"
      },
      "outputs": [
        {
          "output_type": "stream",
          "name": "stdout",
          "text": [
            "              precision    recall  f1-score   support\n",
            "\n",
            "           0       0.85      0.79      0.82       678\n",
            "           1       0.70      0.82      0.76       498\n",
            "           2       0.20      0.12      0.15        94\n",
            "\n",
            "    accuracy                           0.75      1270\n",
            "   macro avg       0.58      0.58      0.57      1270\n",
            "weighted avg       0.74      0.75      0.75      1270\n",
            "\n",
            "0.5764252012128096\n",
            "Kappa Score :\n",
            "0.5524443243486681\n"
          ]
        }
      ],
      "source": [
        "print(classification_report(y_test,y_pred3))\n",
        "print(balanced_accuracy_score(y_test,y_pred3))\n",
        "print(\"Kappa Score :\")\n",
        "print(cohen_kappa_score(y_test,y_pred3))"
      ]
    },
    {
      "cell_type": "code",
      "execution_count": null,
      "metadata": {
        "colab": {
          "base_uri": "https://localhost:8080/",
          "height": 279
        },
        "id": "EupzWGqkCQmC",
        "outputId": "8c2adfd2-7921-493b-c02a-9f89919246d6"
      },
      "outputs": [
        {
          "output_type": "display_data",
          "data": {
            "text/plain": [
              "<Figure size 432x288 with 2 Axes>"
            ],
            "image/png": "[encoded data removed]"
          },
          "metadata": {
            "needs_background": "light"
          }
        }
      ],
      "source": [
        "cm= confusion_matrix(y_test,y_pred3,labels= model3.classes_)\n",
        "disp= ConfusionMatrixDisplay(confusion_matrix=cm, display_labels=model3.classes_)\n",
        "disp= disp.plot(include_values= True, cmap=plt.cm.Blues)\n",
        "plt.grid(False)\n",
        "plt.show()"
      ]
    },
    {
      "cell_type": "markdown",
      "metadata": {
        "id": "XjM7FEIJCYqk"
      },
      "source": [
        "Fourth Model: Random Forest Classifier"
      ]
    },
    {
      "cell_type": "code",
      "execution_count": null,
      "metadata": {
        "id": "VsoTQwlwCy1E"
      },
      "outputs": [],
      "source": [
        "model4= RandomForestClassifier(random_state=42)\n",
        "model4.fit(X_train_scaled,y_train)\n",
        "y_pred4= model4.predict(X_test_scaled)"
      ]
    },
    {
      "cell_type": "code",
      "execution_count": null,
      "metadata": {
        "colab": {
          "base_uri": "https://localhost:8080/"
        },
        "id": "MrqmwVRzDYbg",
        "outputId": "d9e77232-4464-4140-c5aa-cb90d40ac6d2"
      },
      "outputs": [
        {
          "output_type": "stream",
          "name": "stdout",
          "text": [
            "              precision    recall  f1-score   support\n",
            "\n",
            "           0       0.88      0.85      0.86       678\n",
            "           1       0.76      0.86      0.81       498\n",
            "           2       0.46      0.23      0.31        94\n",
            "\n",
            "    accuracy                           0.81      1270\n",
            "   macro avg       0.70      0.65      0.66      1270\n",
            "weighted avg       0.80      0.81      0.80      1270\n",
            "\n",
            "0.6479932155660866\n",
            "Kappa Score :\n",
            "0.6497176039008798\n"
          ]
        }
      ],
      "source": [
        "print(classification_report(y_test,y_pred4))\n",
        "print(balanced_accuracy_score(y_test,y_pred4))\n",
        "print(\"Kappa Score :\")\n",
        "print(cohen_kappa_score(y_test,y_pred4))"
      ]
    },
    {
      "cell_type": "code",
      "execution_count": null,
      "metadata": {
        "colab": {
          "base_uri": "https://localhost:8080/",
          "height": 279
        },
        "id": "KZ9H8N9BEjIG",
        "outputId": "f7ad79f5-5513-41ca-8f5b-ef3e36d137ac"
      },
      "outputs": [
        {
          "output_type": "display_data",
          "data": {
            "text/plain": [
              "<Figure size 432x288 with 2 Axes>"
            ],
            "image/png": "[encoded data removed]"
          },
          "metadata": {
            "needs_background": "light"
          }
        }
      ],
      "source": [
        "cm= confusion_matrix(y_test,y_pred4,labels= model4.classes_)\n",
        "disp= ConfusionMatrixDisplay(confusion_matrix=cm, display_labels=model4.classes_)\n",
        "disp= disp.plot(include_values= True, cmap=plt.cm.Blues)\n",
        "plt.grid(False)\n",
        "plt.show()"
      ]
    },
    {
      "cell_type": "markdown",
      "metadata": {
        "id": "isxj7ur7FTAn"
      },
      "source": [
        "Fifth model: AdaBoost classifier"
      ]
    },
    {
      "cell_type": "code",
      "execution_count": null,
      "metadata": {
        "id": "vcv0LBlhFR6q"
      },
      "outputs": [],
      "source": [
        "model5= AdaBoostClassifier(random_state=42)\n",
        "model5.fit(X_train_scaled,y_train)\n",
        "y_pred5= model5.predict(X_test_scaled)"
      ]
    },
    {
      "cell_type": "code",
      "execution_count": null,
      "metadata": {
        "colab": {
          "base_uri": "https://localhost:8080/"
        },
        "id": "VL-oPpRgFzAF",
        "outputId": "4f2cb8b1-2e5e-4720-9d99-0bf948f4fcf6"
      },
      "outputs": [
        {
          "output_type": "stream",
          "name": "stdout",
          "text": [
            "              precision    recall  f1-score   support\n",
            "\n",
            "           0       0.78      0.77      0.77       678\n",
            "           1       0.66      0.69      0.67       498\n",
            "           2       0.14      0.12      0.13        94\n",
            "\n",
            "    accuracy                           0.69      1270\n",
            "   macro avg       0.53      0.53      0.52      1270\n",
            "weighted avg       0.68      0.69      0.69      1270\n",
            "\n",
            "0.5250515650753393\n",
            "Kappa Score :\n",
            "0.4381742403147427\n"
          ]
        }
      ],
      "source": [
        "print(classification_report(y_test,y_pred5))\n",
        "print(balanced_accuracy_score(y_test,y_pred5))\n",
        "print(\"Kappa Score :\")\n",
        "print(cohen_kappa_score(y_test,y_pred5))"
      ]
    },
    {
      "cell_type": "code",
      "execution_count": null,
      "metadata": {
        "colab": {
          "base_uri": "https://localhost:8080/",
          "height": 279
        },
        "id": "mDuYZeUNF0Rk",
        "outputId": "989ffa32-8964-46f1-e47b-7ac26acf08da"
      },
      "outputs": [
        {
          "output_type": "display_data",
          "data": {
            "text/plain": [
              "<Figure size 432x288 with 2 Axes>"
            ],
            "image/png": "[encoded data removed]"
          },
          "metadata": {
            "needs_background": "light"
          }
        }
      ],
      "source": [
        "cm= confusion_matrix(y_test,y_pred5,labels= model5.classes_)\n",
        "disp= ConfusionMatrixDisplay(confusion_matrix=cm, display_labels=model5.classes_)\n",
        "disp= disp.plot(include_values= True, cmap=plt.cm.Blues)\n",
        "plt.grid(False)\n",
        "plt.show()"
      ]
    },
    {
      "cell_type": "markdown",
      "metadata": {
        "id": "2c4-Rm9JH5JO"
      },
      "source": [
        "Sixth Model: Decision Trees Classifier"
      ]
    },
    {
      "cell_type": "code",
      "execution_count": null,
      "metadata": {
        "id": "VRQv63idH_9y"
      },
      "outputs": [],
      "source": [
        "model6= DecisionTreeClassifier(random_state=42)\n",
        "model6.fit(X_train_scaled,y_train)\n",
        "y_pred6= model6.predict(X_test_scaled)"
      ]
    },
    {
      "cell_type": "code",
      "execution_count": null,
      "metadata": {
        "colab": {
          "base_uri": "https://localhost:8080/"
        },
        "id": "SbO8vbfEIFgO",
        "outputId": "651658bf-425d-47c9-fb52-36b99d200e71"
      },
      "outputs": [
        {
          "output_type": "stream",
          "name": "stdout",
          "text": [
            "              precision    recall  f1-score   support\n",
            "\n",
            "           0       0.82      0.78      0.80       678\n",
            "           1       0.71      0.67      0.69       498\n",
            "           2       0.21      0.35      0.26        94\n",
            "\n",
            "    accuracy                           0.71      1270\n",
            "   macro avg       0.58      0.60      0.59      1270\n",
            "weighted avg       0.73      0.71      0.72      1270\n",
            "\n",
            "0.601330193680011\n",
            "Kappa Score :\n",
            "0.4895080327776987\n"
          ]
        }
      ],
      "source": [
        "print(classification_report(y_test,y_pred6))\n",
        "print(balanced_accuracy_score(y_test,y_pred6))\n",
        "print(\"Kappa Score :\")\n",
        "print(cohen_kappa_score(y_test,y_pred6))"
      ]
    },
    {
      "cell_type": "code",
      "execution_count": null,
      "metadata": {
        "colab": {
          "base_uri": "https://localhost:8080/",
          "height": 279
        },
        "id": "0vLFgXjCIIeo",
        "outputId": "0e8a05e9-1475-4191-85ea-b25798f9f1f8"
      },
      "outputs": [
        {
          "output_type": "display_data",
          "data": {
            "text/plain": [
              "<Figure size 432x288 with 2 Axes>"
            ],
            "image/png": "[encoded data removed]"
          },
          "metadata": {
            "needs_background": "light"
          }
        }
      ],
      "source": [
        "cm= confusion_matrix(y_test,y_pred6,labels= model6.classes_)\n",
        "disp= ConfusionMatrixDisplay(confusion_matrix=cm, display_labels=model6.classes_)\n",
        "disp= disp.plot(include_values= True, cmap=plt.cm.Blues)\n",
        "plt.grid(False)\n",
        "plt.show()"
      ]
    },
    {
      "cell_type": "markdown",
      "metadata": {
        "id": "zvN12XanIQri"
      },
      "source": [
        "Seventh model: XGBoost Classifier"
      ]
    },
    {
      "cell_type": "code",
      "execution_count": null,
      "metadata": {
        "id": "nQuRDLPmI7Hj"
      },
      "outputs": [],
      "source": [
        "model7= XGBClassifier(random_state=42)\n",
        "model7.fit(X_train_scaled,y_train)\n",
        "y_pred7= model7.predict(X_test_scaled)"
      ]
    },
    {
      "cell_type": "code",
      "execution_count": null,
      "metadata": {
        "colab": {
          "base_uri": "https://localhost:8080/"
        },
        "id": "pcZw6XQHKpG8",
        "outputId": "73d385d9-301a-4215-c33f-ee14c532b788"
      },
      "outputs": [
        {
          "output_type": "stream",
          "name": "stdout",
          "text": [
            "              precision    recall  f1-score   support\n",
            "\n",
            "           0       0.84      0.79      0.81       678\n",
            "           1       0.70      0.81      0.75       498\n",
            "           2       0.18      0.11      0.13        94\n",
            "\n",
            "    accuracy                           0.75      1270\n",
            "   macro avg       0.57      0.57      0.57      1270\n",
            "weighted avg       0.74      0.75      0.74      1270\n",
            "\n",
            "0.56872679949699\n",
            "Kappa Score :\n",
            "0.5410279388982959\n"
          ]
        }
      ],
      "source": [
        "print(classification_report(y_test,y_pred7))\n",
        "print(balanced_accuracy_score(y_test,y_pred7))\n",
        "print(\"Kappa Score :\")\n",
        "print(cohen_kappa_score(y_test,y_pred7))"
      ]
    },
    {
      "cell_type": "code",
      "execution_count": null,
      "metadata": {
        "colab": {
          "base_uri": "https://localhost:8080/",
          "height": 279
        },
        "id": "4Mxxq2V6LJ4F",
        "outputId": "1010e92e-e395-45fe-d67e-27815b951ab2"
      },
      "outputs": [
        {
          "output_type": "display_data",
          "data": {
            "text/plain": [
              "<Figure size 432x288 with 2 Axes>"
            ],
            "image/png": "[encoded data removed]"
          },
          "metadata": {
            "needs_background": "light"
          }
        }
      ],
      "source": [
        "cm= confusion_matrix(y_test,y_pred7,labels= model7.classes_)\n",
        "disp= ConfusionMatrixDisplay(confusion_matrix=cm, display_labels=model7.classes_)\n",
        "disp= disp.plot(include_values= True, cmap=plt.cm.Blues)\n",
        "plt.grid(False)\n",
        "plt.show()"
      ]
    },
    {
      "cell_type": "markdown",
      "metadata": {
        "id": "FytjRDNXLO1q"
      },
      "source": [
        "Eigth model: Naive Bayes Classifier"
      ]
    },
    {
      "cell_type": "code",
      "execution_count": null,
      "metadata": {
        "id": "iEZRoOjgLXGG"
      },
      "outputs": [],
      "source": [
        "model8= GaussianNB()\n",
        "model8.fit(X_train_scaled,y_train)\n",
        "y_pred8= model8.predict(X_test_scaled)"
      ]
    },
    {
      "cell_type": "code",
      "execution_count": null,
      "metadata": {
        "colab": {
          "base_uri": "https://localhost:8080/"
        },
        "id": "wC901lG7M5Rc",
        "outputId": "5bda6972-57b2-4b76-8435-a0353fe19b87"
      },
      "outputs": [
        {
          "output_type": "stream",
          "name": "stdout",
          "text": [
            "              precision    recall  f1-score   support\n",
            "\n",
            "           0       0.64      0.78      0.70       678\n",
            "           1       0.65      0.51      0.57       498\n",
            "           2       0.07      0.03      0.04        94\n",
            "\n",
            "    accuracy                           0.62      1270\n",
            "   macro avg       0.45      0.44      0.44      1270\n",
            "weighted avg       0.60      0.62      0.60      1270\n",
            "\n",
            "0.4435439618260905\n",
            "Kappa Score :\n",
            "0.2833565016610513\n"
          ]
        }
      ],
      "source": [
        "print(classification_report(y_test,y_pred8))\n",
        "print(balanced_accuracy_score(y_test,y_pred8))\n",
        "print(\"Kappa Score :\")\n",
        "print(cohen_kappa_score(y_test,y_pred8))"
      ]
    },
    {
      "cell_type": "code",
      "execution_count": null,
      "metadata": {
        "colab": {
          "base_uri": "https://localhost:8080/",
          "height": 279
        },
        "id": "DSRM5v9aM9cc",
        "outputId": "6f3f995c-1d5f-4692-8e57-fd45c9c17ed7"
      },
      "outputs": [
        {
          "output_type": "display_data",
          "data": {
            "text/plain": [
              "<Figure size 432x288 with 2 Axes>"
            ],
            "image/png": "[encoded data removed]"
          },
          "metadata": {
            "needs_background": "light"
          }
        }
      ],
      "source": [
        "cm= confusion_matrix(y_test,y_pred8,labels= model8.classes_)\n",
        "disp= ConfusionMatrixDisplay(confusion_matrix=cm, display_labels=model8.classes_)\n",
        "disp= disp.plot(include_values= True, cmap=plt.cm.Blues)\n",
        "plt.grid(False)\n",
        "plt.show()"
      ]
    },
    {
      "cell_type": "markdown",
      "metadata": {
        "id": "nTeQp070NBfJ"
      },
      "source": [
        "Ninth Model: KNeighbors Classifier"
      ]
    },
    {
      "cell_type": "code",
      "execution_count": null,
      "metadata": {
        "id": "1DSpxxLiNZKV"
      },
      "outputs": [],
      "source": [
        "model9= KNeighborsClassifier()\n",
        "model9.fit(X_train_scaled,y_train)\n",
        "y_pred9= model9.predict(X_test_scaled)\n"
      ]
    },
    {
      "cell_type": "code",
      "execution_count": null,
      "metadata": {
        "colab": {
          "base_uri": "https://localhost:8080/"
        },
        "id": "Etlio5NSNhCC",
        "outputId": "f9e76fe3-b254-4636-ab94-20d0e21a5014"
      },
      "outputs": [
        {
          "output_type": "stream",
          "name": "stdout",
          "text": [
            "              precision    recall  f1-score   support\n",
            "\n",
            "           0       0.85      0.81      0.83       678\n",
            "           1       0.73      0.78      0.76       498\n",
            "           2       0.34      0.34      0.34        94\n",
            "\n",
            "    accuracy                           0.76      1270\n",
            "   macro avg       0.64      0.64      0.64      1270\n",
            "weighted avg       0.77      0.76      0.76      1270\n",
            "\n",
            "0.6434475742674457\n",
            "Kappa Score :\n",
            "0.5764302556465624\n"
          ]
        }
      ],
      "source": [
        "print(classification_report(y_test,y_pred9))\n",
        "print(balanced_accuracy_score(y_test,y_pred9))\n",
        "print(\"Kappa Score :\")\n",
        "print(cohen_kappa_score(y_test,y_pred9))"
      ]
    },
    {
      "cell_type": "code",
      "execution_count": null,
      "metadata": {
        "colab": {
          "base_uri": "https://localhost:8080/",
          "height": 279
        },
        "id": "1WatomrtNkxA",
        "outputId": "41d5af80-6c89-4109-895c-6b97ff462c35"
      },
      "outputs": [
        {
          "output_type": "display_data",
          "data": {
            "text/plain": [
              "<Figure size 432x288 with 2 Axes>"
            ],
            "image/png": "[encoded data removed]"
          },
          "metadata": {
            "needs_background": "light"
          }
        }
      ],
      "source": [
        "cm= confusion_matrix(y_test,y_pred9,labels= model9.classes_)\n",
        "disp= ConfusionMatrixDisplay(confusion_matrix=cm, display_labels=model9.classes_)\n",
        "disp= disp.plot(include_values= True, cmap=plt.cm.Blues)\n",
        "plt.grid(False)\n",
        "plt.show()"
      ]
    },
    {
      "cell_type": "markdown",
      "metadata": {
        "id": "IyjU8oQsOYSy"
      },
      "source": [
        "Tenth Model: Bagging Classifier"
      ]
    },
    {
      "cell_type": "code",
      "execution_count": null,
      "metadata": {
        "id": "A3ZIWJ7rObOp"
      },
      "outputs": [],
      "source": [
        "model10= BaggingClassifier(base_estimator=RandomForestClassifier(random_state=42),n_estimators=10,random_state=42)\n",
        "model10.fit(X_train_scaled,y_train)\n",
        "y_pred10= model10.predict(X_test_scaled)\n"
      ]
    },
    {
      "cell_type": "code",
      "execution_count": null,
      "metadata": {
        "colab": {
          "base_uri": "https://localhost:8080/"
        },
        "id": "EfCTGLG5OtzD",
        "outputId": "395496ed-f5c0-4019-cf53-544032e96b92"
      },
      "outputs": [
        {
          "output_type": "stream",
          "name": "stdout",
          "text": [
            "              precision    recall  f1-score   support\n",
            "\n",
            "           0       0.87      0.83      0.85       678\n",
            "           1       0.75      0.85      0.80       498\n",
            "           2       0.33      0.19      0.24        94\n",
            "\n",
            "    accuracy                           0.79      1270\n",
            "   macro avg       0.65      0.62      0.63      1270\n",
            "weighted avg       0.78      0.79      0.78      1270\n",
            "\n",
            "0.6247400951323022\n",
            "Kappa Score :\n",
            "0.6211850733722302\n"
          ]
        }
      ],
      "source": [
        "print(classification_report(y_test,y_pred10))\n",
        "print(balanced_accuracy_score(y_test,y_pred10))\n",
        "print(\"Kappa Score :\")\n",
        "print(cohen_kappa_score(y_test,y_pred10))"
      ]
    },
    {
      "cell_type": "code",
      "execution_count": null,
      "metadata": {
        "colab": {
          "base_uri": "https://localhost:8080/",
          "height": 279
        },
        "id": "j8euKLFgOvVx",
        "outputId": "c1e48423-ed25-45b2-b091-23e0eae31c6b"
      },
      "outputs": [
        {
          "output_type": "display_data",
          "data": {
            "text/plain": [
              "<Figure size 432x288 with 2 Axes>"
            ],
            "image/png": "[encoded data removed]"
          },
          "metadata": {
            "needs_background": "light"
          }
        }
      ],
      "source": [
        "cm= confusion_matrix(y_test,y_pred10,labels= model10.classes_)\n",
        "disp= ConfusionMatrixDisplay(confusion_matrix=cm, display_labels=model10.classes_)\n",
        "disp= disp.plot(include_values= True, cmap=plt.cm.Blues)\n",
        "plt.grid(False)\n",
        "plt.show()"
      ]
    },
    {
      "cell_type": "markdown",
      "metadata": {
        "id": "wK4GkxZmO1Ba"
      },
      "source": [
        "Eleventh Model: Stacking Classifier"
      ]
    },
    {
      "cell_type": "code",
      "execution_count": null,
      "metadata": {
        "id": "4vkYDwiuO4mw"
      },
      "outputs": [],
      "source": [
        "def get_stack_model():\n",
        "  level0 = list()\n",
        "  level0.append(('lr', LogisticRegression(max_iter=2000,random_state=42)))\n",
        "  level0.append(('knn', KNeighborsClassifier()))\n",
        "  level0.append(('cart', DecisionTreeClassifier(random_state=42)))\n",
        "  level0.append(('svm', svm.SVC(kernel='rbf', gamma='auto',decision_function_shape='ovr', random_state=42)))\n",
        "  level0.append(('bayes', GaussianNB()))\n",
        "  level0.append(('gboosting', GradientBoostingClassifier(random_state=42)))\n",
        "  level0.append(('rforest', RandomForestClassifier(random_state=42)))\n",
        "  level0.append(('adaboost', AdaBoostClassifier(random_state=42)))\n",
        "  level1 = LogisticRegression(max_iter=2000,random_state=42)\n",
        "  model = StackingClassifier(estimators=level0, final_estimator=level1, cv=5)\n",
        "  return model"
      ]
    },
    {
      "cell_type": "code",
      "execution_count": null,
      "metadata": {
        "id": "N7sng-NWO_cI"
      },
      "outputs": [],
      "source": [
        "model11=get_stack_model()\n",
        "model11.fit(X_train_scaled,y_train)\n",
        "y_pred11= model11.predict(X_test_scaled)"
      ]
    },
    {
      "cell_type": "code",
      "execution_count": null,
      "metadata": {
        "colab": {
          "base_uri": "https://localhost:8080/"
        },
        "id": "lvLWcXbIPdSS",
        "outputId": "d0f57a86-bcfc-4d08-adbe-f5040adaa01f"
      },
      "outputs": [
        {
          "output_type": "stream",
          "name": "stdout",
          "text": [
            "              precision    recall  f1-score   support\n",
            "\n",
            "           0       0.90      0.88      0.89       678\n",
            "           1       0.79      0.88      0.83       498\n",
            "           2       0.55      0.28      0.37        94\n",
            "\n",
            "    accuracy                           0.84      1270\n",
            "   macro avg       0.75      0.68      0.70      1270\n",
            "weighted avg       0.83      0.84      0.83      1270\n",
            "\n",
            "0.6795509408499497\n",
            "Kappa Score :\n",
            "0.6996639182853011\n"
          ]
        }
      ],
      "source": [
        "print(classification_report(y_test,y_pred11))\n",
        "print(balanced_accuracy_score(y_test,y_pred11))\n",
        "print(\"Kappa Score :\")\n",
        "print(cohen_kappa_score(y_test,y_pred11))"
      ]
    },
    {
      "cell_type": "code",
      "execution_count": null,
      "metadata": {
        "colab": {
          "base_uri": "https://localhost:8080/",
          "height": 279
        },
        "id": "4MeIKVwOPYcv",
        "outputId": "2b5adb4b-0fac-44d2-d439-91c0852cd5da"
      },
      "outputs": [
        {
          "output_type": "display_data",
          "data": {
            "text/plain": [
              "<Figure size 432x288 with 2 Axes>"
            ],
            "image/png": "[encoded data removed]"
          },
          "metadata": {
            "needs_background": "light"
          }
        }
      ],
      "source": [
        "cm= confusion_matrix(y_test,y_pred11,labels= model11.classes_)\n",
        "disp= ConfusionMatrixDisplay(confusion_matrix=cm, display_labels=model11.classes_)\n",
        "disp= disp.plot(include_values= True, cmap=plt.cm.Blues)\n",
        "plt.grid(False)\n",
        "plt.show()"
      ]
    },
    {
      "cell_type": "markdown",
      "metadata": {
        "id": "CWSdRot0e5Rg"
      },
      "source": [
        "Twelveth model"
      ]
    },
    {
      "cell_type": "code",
      "execution_count": null,
      "metadata": {
        "id": "89h7M-BIe6zJ"
      },
      "outputs": [],
      "source": [
        "def get_stack_model():\n",
        "  level0 = list()\n",
        "  level0.append(('lr', LogisticRegression(max_iter=2000,random_state=42)))\n",
        "  level0.append(('knn', KNeighborsClassifier()))\n",
        "  level0.append(('cart', DecisionTreeClassifier(random_state=42)))\n",
        "  level0.append(('svm', svm.SVC(kernel='rbf', gamma='auto',decision_function_shape='ovr', random_state=42)))\n",
        "  level0.append(('bayes', GaussianNB()))\n",
        "  level0.append(('xgboost', XGBClassifier(random_state=42)))\n",
        "  level0.append(('gboosting', GradientBoostingClassifier(random_state=42)))\n",
        "  level0.append(('rforest', RandomForestClassifier(random_state=42)))\n",
        "  level0.append(('adaboost', AdaBoostClassifier(random_state=42)))\n",
        "  level1 = LogisticRegression(max_iter=2000,random_state=42)\n",
        "  model = StackingClassifier(estimators=level0, final_estimator=level1, cv=5)\n",
        "  return model"
      ]
    },
    {
      "cell_type": "code",
      "execution_count": null,
      "metadata": {
        "id": "Y4HXF5qCfB3_"
      },
      "outputs": [],
      "source": [
        "model12=get_stack_model()\n",
        "model12.fit(X_train_scaled,y_train)\n",
        "y_pred12= model12.predict(X_test_scaled)"
      ]
    },
    {
      "cell_type": "code",
      "execution_count": null,
      "metadata": {
        "colab": {
          "base_uri": "https://localhost:8080/"
        },
        "id": "_S06UR80kiKB",
        "outputId": "feea592e-dfb7-432a-e27e-a6f5a976cfb0"
      },
      "outputs": [
        {
          "output_type": "stream",
          "name": "stdout",
          "text": [
            "              precision    recall  f1-score   support\n",
            "\n",
            "           0       0.89      0.88      0.89       678\n",
            "           1       0.79      0.88      0.83       498\n",
            "           2       0.55      0.28      0.37        94\n",
            "\n",
            "    accuracy                           0.83      1270\n",
            "   macro avg       0.74      0.68      0.70      1270\n",
            "weighted avg       0.83      0.83      0.83      1270\n",
            "\n",
            "0.6783899547225493\n",
            "Kappa Score :\n",
            "0.6996639182853011\n"
          ]
        }
      ],
      "source": [
        "print(classification_report(y_test,y_pred12))\n",
        "print(balanced_accuracy_score(y_test,y_pred12))\n",
        "print(\"Kappa Score :\")\n",
        "print(cohen_kappa_score(y_test,y_pred11))"
      ]
    },
    {
      "cell_type": "code",
      "execution_count": null,
      "metadata": {
        "id": "a0rcb4rViMyt"
      },
      "outputs": [],
      "source": [
        "def feature_selection(X_train,y_train,X_test,k):\n",
        "  best_features= SelectKBest(score_func= f_classif,k=k )\n",
        "  best_features.fit(X_train,y_train)\n",
        "  X_train_new= best_features.transform(X_train)\n",
        "  X_test_new= best_features.transform(X_test)\n",
        "  return X_train_new,X_test_new,best_features"
      ]
    },
    {
      "cell_type": "code",
      "execution_count": null,
      "metadata": {
        "colab": {
          "base_uri": "https://localhost:8080/"
        },
        "id": "DJ0SZJf4iiBo",
        "outputId": "22d520c0-be50-4b94-f916-d2af786ca994"
      },
      "outputs": [
        {
          "output_type": "stream",
          "name": "stdout",
          "text": [
            "Cohen Kappa Score -3.59 selecting 1 best features\n",
            "Cohen Kappa Score 15.71 selecting 2 best features\n",
            "Cohen Kappa Score 19.20 selecting 3 best features\n",
            "Cohen Kappa Score 24.31 selecting 4 best features\n",
            "Cohen Kappa Score 25.75 selecting 5 best features\n",
            "Cohen Kappa Score 31.53 selecting 6 best features\n",
            "Cohen Kappa Score 34.94 selecting 7 best features\n",
            "Cohen Kappa Score 34.24 selecting 8 best features\n",
            "Cohen Kappa Score 33.85 selecting 9 best features\n",
            "Cohen Kappa Score 35.21 selecting 10 best features\n",
            "Cohen Kappa Score 36.36 selecting 11 best features\n",
            "Cohen Kappa Score 36.53 selecting 12 best features\n",
            "Cohen Kappa Score 38.55 selecting 14 best features\n",
            "Cohen Kappa Score 39.30 selecting 15 best features\n",
            "Cohen Kappa Score 39.36 selecting 16 best features\n",
            "Cohen Kappa Score 38.66 selecting 17 best features\n",
            "Cohen Kappa Score 38.12 selecting 18 best features\n",
            "Cohen Kappa Score 39.02 selecting 19 best features\n",
            "Cohen Kappa Score 38.46 selecting 20 best features\n",
            "Cohen Kappa Score 39.51 selecting 21 best features\n",
            "Cohen Kappa Score 41.12 selecting 22 best features\n",
            "Cohen Kappa Score 40.67 selecting 23 best features\n",
            "Cohen Kappa Score 41.47 selecting 24 best features\n",
            "Cohen Kappa Score 41.75 selecting 25 best features\n",
            "Cohen Kappa Score 47.02 selecting 26 best features\n",
            "Cohen Kappa Score 47.45 selecting 27 best features\n",
            "Cohen Kappa Score 47.31 selecting 28 best features\n",
            "Cohen Kappa Score 49.32 selecting 29 best features\n",
            "Cohen Kappa Score 48.84 selecting 30 best features\n",
            "Cohen Kappa Score 49.42 selecting 31 best features\n",
            "Cohen Kappa Score 49.18 selecting 32 best features\n",
            "Cohen Kappa Score 49.35 selecting 33 best features\n",
            "Cohen Kappa Score 49.12 selecting 34 best features\n",
            "Cohen Kappa Score 48.86 selecting 35 best features\n",
            "Cohen Kappa Score 48.81 selecting 36 best features\n",
            "Cohen Kappa Score 49.15 selecting 37 best features\n",
            "Cohen Kappa Score 49.52 selecting 38 best features\n",
            "Cohen Kappa Score 49.25 selecting 39 best features\n",
            "Cohen Kappa Score 50.04 selecting 40 best features\n",
            "Cohen Kappa Score 49.21 selecting 41 best features\n",
            "Cohen Kappa Score 49.20 selecting 42 best features\n",
            "Cohen Kappa Score 49.63 selecting 43 best features\n",
            "Cohen Kappa Score 50.89 selecting 44 best features\n",
            "Cohen Kappa Score 51.20 selecting 45 best features\n",
            "Cohen Kappa Score 51.19 selecting 46 best features\n",
            "Cohen Kappa Score 51.01 selecting 47 best features\n",
            "Cohen Kappa Score 51.05 selecting 48 best features\n",
            "Cohen Kappa Score 53.21 selecting 49 best features\n",
            "Cohen Kappa Score 53.22 selecting 50 best features\n",
            "Cohen Kappa Score 53.62 selecting 51 best features\n",
            "Cohen Kappa Score 53.25 selecting 52 best features\n",
            "Cohen Kappa Score 53.54 selecting 53 best features\n",
            "Cohen Kappa Score 53.75 selecting 54 best features\n",
            "Cohen Kappa Score 54.15 selecting 55 best features\n",
            "Cohen Kappa Score 54.46 selecting 56 best features\n",
            "Cohen Kappa Score 54.33 selecting 57 best features\n",
            "Cohen Kappa Score 54.44 selecting 58 best features\n",
            "Cohen Kappa Score 54.15 selecting 59 best features\n",
            "Cohen Kappa Score 53.88 selecting 60 best features\n",
            "Cohen Kappa Score 53.75 selecting 61 best features\n",
            "Cohen Kappa Score 55.20 selecting 62 best features\n",
            "Cohen Kappa Score 54.93 selecting 63 best features\n",
            "Cohen Kappa Score 55.12 selecting 64 best features\n",
            "Cohen Kappa Score 54.53 selecting 65 best features\n",
            "Cohen Kappa Score 55.20 selecting 66 best features\n",
            "Cohen Kappa Score 55.33 selecting 67 best features\n",
            "Cohen Kappa Score 55.53 selecting 68 best features\n",
            "Cohen Kappa Score 55.71 selecting 69 best features\n",
            "Cohen Kappa Score 56.12 selecting 70 best features\n",
            "Cohen Kappa Score 55.85 selecting 71 best features\n",
            "Cohen Kappa Score 55.82 selecting 72 best features\n",
            "Cohen Kappa Score 55.82 selecting 73 best features\n",
            "Cohen Kappa Score 55.97 selecting 74 best features\n",
            "Cohen Kappa Score 56.06 selecting 75 best features\n",
            "Cohen Kappa Score 55.65 selecting 76 best features\n",
            "Cohen Kappa Score 55.96 selecting 77 best features\n",
            "Cohen Kappa Score 55.56 selecting 78 best features\n",
            "Cohen Kappa Score 55.94 selecting 79 best features\n",
            "Cohen Kappa Score 56.41 selecting 80 best features\n",
            "Cohen Kappa Score 56.71 selecting 81 best features\n",
            "Cohen Kappa Score 56.91 selecting 82 best features\n",
            "Cohen Kappa Score 56.35 selecting 83 best features\n",
            "Cohen Kappa Score 56.08 selecting 84 best features\n",
            "Cohen Kappa Score 56.21 selecting 85 best features\n",
            "Cohen Kappa Score 56.19 selecting 86 best features\n",
            "Cohen Kappa Score 56.38 selecting 87 best features\n",
            "Cohen Kappa Score 55.94 selecting 88 best features\n",
            "Cohen Kappa Score 56.10 selecting 89 best features\n",
            "Cohen Kappa Score 55.99 selecting 90 best features\n",
            "Cohen Kappa Score 56.41 selecting 91 best features\n",
            "Cohen Kappa Score 55.71 selecting 92 best features\n",
            "Cohen Kappa Score 56.33 selecting 93 best features\n",
            "Cohen Kappa Score 55.88 selecting 94 best features\n",
            "Cohen Kappa Score 55.82 selecting 95 best features\n",
            "Cohen Kappa Score 56.67 selecting 96 best features\n",
            "Cohen Kappa Score 56.64 selecting 97 best features\n",
            "Cohen Kappa Score 56.27 selecting 98 best features\n",
            "Cohen Kappa Score 56.73 selecting 99 best features\n",
            "Cohen Kappa Score 56.63 selecting 100 best features\n",
            "Cohen Kappa Score 57.22 selecting 101 best features\n",
            "Cohen Kappa Score 57.73 selecting 102 best features\n",
            "Cohen Kappa Score 57.56 selecting 103 best features\n",
            "Cohen Kappa Score 57.68 selecting 104 best features\n",
            "Cohen Kappa Score 57.86 selecting 105 best features\n",
            "Cohen Kappa Score 57.27 selecting 106 best features\n",
            "Cohen Kappa Score 57.92 selecting 107 best features\n",
            "Cohen Kappa Score 57.63 selecting 108 best features\n",
            "Cohen Kappa Score 57.63 selecting 109 best features\n",
            "Cohen Kappa Score 57.47 selecting 110 best features\n",
            "Cohen Kappa Score 57.53 selecting 111 best features\n",
            "Cohen Kappa Score 57.31 selecting 112 best features\n",
            "Cohen Kappa Score 57.26 selecting 113 best features\n",
            "Cohen Kappa Score 57.17 selecting 114 best features\n",
            "Cohen Kappa Score 57.17 selecting 115 best features\n",
            "Cohen Kappa Score 56.98 selecting 116 best features\n",
            "Cohen Kappa Score 56.94 selecting 117 best features\n",
            "Cohen Kappa Score 57.07 selecting 118 best features\n",
            "Cohen Kappa Score 57.20 selecting 119 best features\n",
            "Cohen Kappa Score 57.45 selecting 120 best features\n",
            "Cohen Kappa Score 57.21 selecting 121 best features\n",
            "Cohen Kappa Score 57.17 selecting 122 best features\n",
            "Cohen Kappa Score 58.70 selecting 123 best features\n",
            "Cohen Kappa Score 58.11 selecting 124 best features\n",
            "Cohen Kappa Score 58.12 selecting 125 best features\n",
            "Cohen Kappa Score 58.12 selecting 126 best features\n",
            "Cohen Kappa Score 58.13 selecting 127 best features\n",
            "Cohen Kappa Score 58.08 selecting 128 best features\n",
            "Cohen Kappa Score 58.41 selecting 129 best features\n",
            "Cohen Kappa Score 58.46 selecting 130 best features\n",
            "Cohen Kappa Score 58.61 selecting 131 best features\n",
            "Cohen Kappa Score 58.91 selecting 132 best features\n",
            "Cohen Kappa Score 59.05 selecting 133 best features\n",
            "Cohen Kappa Score 58.86 selecting 134 best features\n",
            "Cohen Kappa Score 58.72 selecting 135 best features\n",
            "Cohen Kappa Score 58.72 selecting 136 best features\n",
            "Cohen Kappa Score 58.91 selecting 137 best features\n",
            "Cohen Kappa Score 59.35 selecting 138 best features\n",
            "Cohen Kappa Score 59.31 selecting 139 best features\n",
            "Cohen Kappa Score 59.05 selecting 140 best features\n",
            "Cohen Kappa Score 59.74 selecting 141 best features\n",
            "Cohen Kappa Score 59.72 selecting 142 best features\n",
            "Cohen Kappa Score 60.18 selecting 143 best features\n",
            "Cohen Kappa Score 60.06 selecting 144 best features\n",
            "Cohen Kappa Score 59.77 selecting 145 best features\n",
            "Cohen Kappa Score 59.62 selecting 146 best features\n",
            "Cohen Kappa Score 59.82 selecting 147 best features\n",
            "Cohen Kappa Score 59.69 selecting 148 best features\n",
            "Cohen Kappa Score 59.95 selecting 149 best features\n",
            "Cohen Kappa Score 59.83 selecting 150 best features\n",
            "Cohen Kappa Score 59.76 selecting 151 best features\n",
            "Cohen Kappa Score 59.89 selecting 152 best features\n",
            "Cohen Kappa Score 59.99 selecting 153 best features\n",
            "Cohen Kappa Score 60.24 selecting 154 best features\n",
            "Cohen Kappa Score 60.39 selecting 155 best features\n",
            "Cohen Kappa Score 60.39 selecting 156 best features\n",
            "Cohen Kappa Score 60.43 selecting 157 best features\n",
            "Cohen Kappa Score 60.27 selecting 158 best features\n",
            "Cohen Kappa Score 60.29 selecting 159 best features\n",
            "Cohen Kappa Score 60.25 selecting 160 best features\n",
            "Cohen Kappa Score 60.28 selecting 161 best features\n",
            "Cohen Kappa Score 60.18 selecting 162 best features\n",
            "Cohen Kappa Score 60.29 selecting 163 best features\n",
            "Cohen Kappa Score 60.94 selecting 164 best features\n",
            "Cohen Kappa Score 60.54 selecting 165 best features\n",
            "Cohen Kappa Score 60.14 selecting 166 best features\n",
            "Cohen Kappa Score 60.27 selecting 167 best features\n",
            "Cohen Kappa Score 60.01 selecting 168 best features\n",
            "Cohen Kappa Score 59.88 selecting 169 best features\n",
            "Cohen Kappa Score 59.73 selecting 170 best features\n",
            "Cohen Kappa Score 59.87 selecting 171 best features\n",
            "Cohen Kappa Score 59.87 selecting 172 best features\n",
            "Cohen Kappa Score 60.00 selecting 173 best features\n",
            "Cohen Kappa Score 60.00 selecting 174 best features\n",
            "Cohen Kappa Score 60.25 selecting 175 best features\n",
            "Cohen Kappa Score 60.10 selecting 176 best features\n",
            "Cohen Kappa Score 60.27 selecting 177 best features\n",
            "Cohen Kappa Score 60.14 selecting 178 best features\n",
            "Cohen Kappa Score 60.14 selecting 179 best features\n",
            "Cohen Kappa Score 59.88 selecting 180 best features\n",
            "Cohen Kappa Score 60.04 selecting 181 best features\n",
            "Cohen Kappa Score 60.41 selecting 182 best features\n",
            "Cohen Kappa Score 60.32 selecting 183 best features\n",
            "Cohen Kappa Score 60.17 selecting 184 best features\n",
            "Cohen Kappa Score 59.63 selecting 185 best features\n",
            "Cohen Kappa Score 59.78 selecting 186 best features\n",
            "Cohen Kappa Score 60.07 selecting 187 best features\n",
            "Cohen Kappa Score 60.17 selecting 188 best features\n",
            "Cohen Kappa Score 60.42 selecting 189 best features\n",
            "Cohen Kappa Score 60.44 selecting 190 best features\n",
            "Cohen Kappa Score 60.26 selecting 191 best features\n",
            "Cohen Kappa Score 60.06 selecting 192 best features\n",
            "Cohen Kappa Score 60.06 selecting 193 best features\n",
            "Cohen Kappa Score 60.35 selecting 194 best features\n",
            "Cohen Kappa Score 60.34 selecting 195 best features\n",
            "Cohen Kappa Score 60.13 selecting 196 best features\n",
            "Cohen Kappa Score 60.00 selecting 198 best features\n",
            "Cohen Kappa Score 60.02 selecting 199 best features\n",
            "Cohen Kappa Score 60.31 selecting 200 best features\n",
            "Cohen Kappa Score 60.74 selecting 201 best features\n",
            "Cohen Kappa Score 60.47 selecting 202 best features\n",
            "Cohen Kappa Score 60.47 selecting 203 best features\n",
            "Cohen Kappa Score 60.49 selecting 204 best features\n",
            "Cohen Kappa Score 61.03 selecting 205 best features\n",
            "Cohen Kappa Score 61.14 selecting 206 best features\n",
            "Cohen Kappa Score 60.87 selecting 207 best features\n",
            "Cohen Kappa Score 60.89 selecting 208 best features\n",
            "Cohen Kappa Score 61.03 selecting 209 best features\n",
            "Cohen Kappa Score 60.90 selecting 210 best features\n",
            "Cohen Kappa Score 60.87 selecting 211 best features\n",
            "Cohen Kappa Score 60.87 selecting 212 best features\n",
            "Cohen Kappa Score 60.88 selecting 213 best features\n",
            "Cohen Kappa Score 60.90 selecting 214 best features\n",
            "Cohen Kappa Score 60.88 selecting 215 best features\n",
            "Cohen Kappa Score 60.62 selecting 216 best features\n",
            "Cohen Kappa Score 60.46 selecting 217 best features\n",
            "Cohen Kappa Score 60.32 selecting 218 best features\n",
            "Cohen Kappa Score 60.48 selecting 219 best features\n",
            "Cohen Kappa Score 60.62 selecting 220 best features\n",
            "Cohen Kappa Score 60.64 selecting 221 best features\n",
            "Cohen Kappa Score 60.64 selecting 222 best features\n",
            "Cohen Kappa Score 60.51 selecting 223 best features\n",
            "Cohen Kappa Score 60.63 selecting 224 best features\n",
            "Cohen Kappa Score 60.78 selecting 225 best features\n",
            "Cohen Kappa Score 60.59 selecting 226 best features\n",
            "Cohen Kappa Score 60.30 selecting 227 best features\n",
            "Cohen Kappa Score 60.00 selecting 228 best features\n",
            "Cohen Kappa Score 60.28 selecting 229 best features\n",
            "Cohen Kappa Score 59.76 selecting 230 best features\n",
            "Cohen Kappa Score 59.87 selecting 231 best features\n",
            "Cohen Kappa Score 59.78 selecting 232 best features\n",
            "Cohen Kappa Score 58.99 selecting 233 best features\n",
            "Cohen Kappa Score 59.81 selecting 234 best features\n",
            "Cohen Kappa Score 59.68 selecting 235 best features\n",
            "Cohen Kappa Score 59.99 selecting 236 best features\n",
            "Cohen Kappa Score 60.24 selecting 237 best features\n",
            "Cohen Kappa Score 60.36 selecting 238 best features\n",
            "Cohen Kappa Score 59.52 selecting 239 best features\n",
            "Cohen Kappa Score 59.37 selecting 240 best features\n",
            "Cohen Kappa Score 59.52 selecting 241 best features\n",
            "Cohen Kappa Score 59.52 selecting 242 best features\n",
            "Cohen Kappa Score 59.67 selecting 243 best features\n",
            "Cohen Kappa Score 59.64 selecting 244 best features\n",
            "Cohen Kappa Score 59.64 selecting 245 best features\n",
            "Cohen Kappa Score 59.37 selecting 246 best features\n",
            "Cohen Kappa Score 59.50 selecting 247 best features\n",
            "Cohen Kappa Score 59.34 selecting 248 best features\n",
            "Cohen Kappa Score 59.22 selecting 249 best features\n",
            "Cohen Kappa Score 59.37 selecting 250 best features\n",
            "Cohen Kappa Score 59.38 selecting 251 best features\n",
            "Cohen Kappa Score 58.97 selecting 252 best features\n",
            "Cohen Kappa Score 59.13 selecting 253 best features\n",
            "Cohen Kappa Score 59.25 selecting 254 best features\n",
            "Cohen Kappa Score 59.25 selecting 255 best features\n",
            "Cohen Kappa Score 58.97 selecting 256 best features\n",
            "Cohen Kappa Score 58.97 selecting 257 best features\n",
            "Cohen Kappa Score 58.71 selecting 258 best features\n",
            "Cohen Kappa Score 58.99 selecting 259 best features\n",
            "Cohen Kappa Score 58.85 selecting 260 best features\n",
            "Cohen Kappa Score 58.72 selecting 261 best features\n",
            "Cohen Kappa Score 58.60 selecting 262 best features\n",
            "Cohen Kappa Score 58.77 selecting 263 best features\n",
            "Cohen Kappa Score 58.77 selecting 264 best features\n",
            "Cohen Kappa Score 58.63 selecting 265 best features\n",
            "Cohen Kappa Score 58.68 selecting 266 best features\n",
            "Cohen Kappa Score 58.95 selecting 267 best features\n",
            "Cohen Kappa Score 58.94 selecting 268 best features\n",
            "Cohen Kappa Score 58.80 selecting 269 best features\n",
            "Cohen Kappa Score 58.80 selecting 270 best features\n",
            "Cohen Kappa Score 58.80 selecting 271 best features\n",
            "Cohen Kappa Score 58.78 selecting 272 best features\n",
            "Cohen Kappa Score 59.05 selecting 273 best features\n",
            "Cohen Kappa Score 58.94 selecting 274 best features\n",
            "Cohen Kappa Score 58.68 selecting 275 best features\n",
            "Cohen Kappa Score 58.83 selecting 276 best features\n",
            "Cohen Kappa Score 58.55 selecting 277 best features\n",
            "Cohen Kappa Score 58.55 selecting 278 best features\n",
            "Cohen Kappa Score 58.56 selecting 279 best features\n",
            "Cohen Kappa Score 58.68 selecting 280 best features\n",
            "Cohen Kappa Score 58.80 selecting 281 best features\n",
            "Cohen Kappa Score 58.44 selecting 282 best features\n",
            "Cohen Kappa Score 58.56 selecting 283 best features\n",
            "Cohen Kappa Score 58.83 selecting 284 best features\n",
            "Cohen Kappa Score 58.83 selecting 285 best features\n",
            "Cohen Kappa Score 58.83 selecting 286 best features\n"
          ]
        }
      ],
      "source": [
        "for i in range(1,X_train_scaled.shape[1]+1):\n",
        "  X_train_new, X_test_new, best_features= feature_selection(X_train_scaled, y_train, X_test_scaled, i)\n",
        "  model= svm.SVC()\n",
        "  model.fit(X_train_new,y_train)\n",
        "  y_pred= model.predict(X_test_new)\n",
        "  acc= cohen_kappa_score(y_test,y_pred)\n",
        "  print('Cohen Kappa Score %.2f' % (acc*100),'selecting',i,'best features')"
      ]
    },
    {
      "cell_type": "markdown",
      "metadata": {
        "id": "7-CGFvQO2Pfp"
      },
      "source": [
        "Thirteenth model"
      ]
    },
    {
      "cell_type": "code",
      "execution_count": null,
      "metadata": {
        "id": "PbUN1EeI2Pfq"
      },
      "outputs": [],
      "source": [
        "def get_stack_model():\n",
        "  level0 = list()\n",
        "  level0.append(('svm', svm.SVC(kernel='rbf', gamma='auto',decision_function_shape='ovr', random_state=42)))\n",
        "  level0.append(('xgboost', XGBClassifier(random_state=42)))\n",
        "  level0.append(('gboosting', GradientBoostingClassifier(random_state=42)))\n",
        "  level0.append(('rforest', RandomForestClassifier(random_state=42)))\n",
        "  level1 = LogisticRegression(max_iter=2000,random_state=42)\n",
        "  model = StackingClassifier(estimators=level0, final_estimator=level1, cv=5)\n",
        "  return model"
      ]
    },
    {
      "cell_type": "code",
      "execution_count": null,
      "metadata": {
        "id": "biLey7iI2Pfq"
      },
      "outputs": [],
      "source": [
        "model13=get_stack_model()\n",
        "model13.fit(X_train_scaled,y_train)\n",
        "y_pred13= model13.predict(X_test_scaled)"
      ]
    },
    {
      "cell_type": "code",
      "execution_count": null,
      "metadata": {
        "colab": {
          "base_uri": "https://localhost:8080/"
        },
        "outputId": "ed17cf8c-1892-4410-bb7e-450fb5887824",
        "id": "SeVDNbIa2Pfq"
      },
      "outputs": [
        {
          "output_type": "stream",
          "name": "stdout",
          "text": [
            "              precision    recall  f1-score   support\n",
            "\n",
            "           0       0.88      0.86      0.87       678\n",
            "           1       0.77      0.87      0.81       498\n",
            "           2       0.52      0.23      0.32        94\n",
            "\n",
            "    accuracy                           0.82      1270\n",
            "   macro avg       0.72      0.65      0.67      1270\n",
            "weighted avg       0.81      0.82      0.81      1270\n",
            "\n",
            "0.6531288021602509\n",
            "Kappa Score :\n",
            "0.6614135908525387\n"
          ]
        }
      ],
      "source": [
        "print(classification_report(y_test,y_pred13))\n",
        "print(balanced_accuracy_score(y_test,y_pred13))\n",
        "print(\"Kappa Score :\")\n",
        "print(cohen_kappa_score(y_test,y_pred13))"
      ]
    },
    {
      "cell_type": "markdown",
      "source": [
        "Fourteenth Model"
      ],
      "metadata": {
        "id": "5rmauNZ49iAK"
      }
    },
    {
      "cell_type": "code",
      "execution_count": null,
      "metadata": {
        "id": "Eqw7ALas9gh1"
      },
      "outputs": [],
      "source": [
        "def get_stack_model():\n",
        "  level0 = list()\n",
        "  level0.append(('lr', LogisticRegression(max_iter=2000,random_state=42)))\n",
        "  level0.append(('knn', KNeighborsClassifier()))\n",
        "  level0.append(('svm', svm.SVC(kernel='rbf', gamma='auto',decision_function_shape='ovr', random_state=42)))\n",
        "  level0.append(('xgboost', XGBClassifier(random_state=42)))\n",
        "  level0.append(('gboosting', GradientBoostingClassifier(random_state=42)))\n",
        "  level0.append(('rforest', RandomForestClassifier(random_state=42)))\n",
        "  level1 = LogisticRegression(max_iter=2000,random_state=42)\n",
        "  model = StackingClassifier(estimators=level0, final_estimator=level1, cv=5)\n",
        "  return model"
      ]
    },
    {
      "cell_type": "code",
      "execution_count": null,
      "metadata": {
        "id": "0_HSxu-I9gh2"
      },
      "outputs": [],
      "source": [
        "model14=get_stack_model()\n",
        "model14.fit(X_train_scaled,y_train)\n",
        "y_pred14= model14.predict(X_test_scaled)"
      ]
    },
    {
      "cell_type": "code",
      "execution_count": null,
      "metadata": {
        "colab": {
          "base_uri": "https://localhost:8080/"
        },
        "outputId": "e3581f1a-f706-4a60-cedc-f9f5d3eeb4c0",
        "id": "8wHSfEzo9gh2"
      },
      "outputs": [
        {
          "output_type": "stream",
          "name": "stdout",
          "text": [
            "              precision    recall  f1-score   support\n",
            "\n",
            "           0       0.89      0.89      0.89       678\n",
            "           1       0.79      0.88      0.83       498\n",
            "           2       0.62      0.30      0.40        94\n",
            "\n",
            "    accuracy                           0.84      1270\n",
            "   macro avg       0.77      0.69      0.71      1270\n",
            "weighted avg       0.83      0.84      0.83      1270\n",
            "\n",
            "0.6879403637269217\n",
            "Kappa Score :\n",
            "0.7061927337375211\n"
          ]
        }
      ],
      "source": [
        "print(classification_report(y_test,y_pred14))\n",
        "print(balanced_accuracy_score(y_test,y_pred14))\n",
        "print(\"Kappa Score :\")\n",
        "print(cohen_kappa_score(y_test,y_pred14))"
      ]
    }
  ],
  "metadata": {
    "colab": {
      "provenance": [],
      "collapsed_sections": []
    },
    "kernelspec": {
      "display_name": "Python 3",
      "name": "python3"
    },
    "language_info": {
      "name": "python"
    }
  },
  "nbformat": 4,
  "nbformat_minor": 0
}