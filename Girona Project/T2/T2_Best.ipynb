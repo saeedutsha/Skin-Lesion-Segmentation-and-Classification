{
  "nbformat": 4,
  "nbformat_minor": 0,
  "metadata": {
    "colab": {
      "provenance": [],
      "collapsed_sections": []
    },
    "kernelspec": {
      "name": "python3",
      "display_name": "Python 3"
    },
    "language_info": {
      "name": "python"
    }
  },
  "cells": [
    {
      "cell_type": "code",
      "execution_count": 62,
      "metadata": {
        "id": "W5-eOmOefcLY"
      },
      "outputs": [],
      "source": [
        "import os\n",
        "import cv2\n",
        "import copy\n",
        "import pandas as pd\n",
        "from PIL import Image\n",
        "import numpy as np\n",
        "from matplotlib import pyplot as plt\n",
        "from glob import glob\n",
        "from google.colab.patches import cv2_imshow\n",
        "from sklearn.metrics import jaccard_score\n",
        "import random\n",
        "import torch\n",
        "from sklearn import svm\n",
        "from sklearn.preprocessing import StandardScaler\n",
        "import torchvision\n",
        "import torch.nn as nn\n",
        "import torch.nn.functional as F\n",
        "from torch.functional import Tensor\n",
        "import torch.optim as optim\n",
        "import torchvision.transforms as transforms\n",
        "import torchvision.datasets as datasets\n",
        "from scipy.stats import kurtosis, skew\n",
        "import torchvision.transforms.functional as TF\n",
        "from sklearn.metrics import confusion_matrix, ConfusionMatrixDisplay, cohen_kappa_score\n",
        "from torch.utils.data import Dataset, DataLoader\n",
        "from torch.nn.modules.activation import ReLU\n",
        "from sklearn.metrics import classification_report, balanced_accuracy_score\n",
        "from sklearn.linear_model import LogisticRegression\n",
        "from scipy.stats import kurtosis, skew\n",
        "from sklearn.ensemble import AdaBoostClassifier\n",
        "from sklearn.multiclass import OneVsRestClassifier\n",
        "from sklearn.ensemble import RandomForestClassifier\n",
        "from xgboost import XGBClassifier\n",
        "from sklearn.tree import DecisionTreeClassifier\n",
        "from sklearn.ensemble import GradientBoostingClassifier\n",
        "from sklearn.ensemble import StackingClassifier\n",
        "from sklearn.ensemble import BaggingClassifier\n",
        "from sklearn.naive_bayes import GaussianNB\n",
        "from sklearn.neighbors import KNeighborsClassifier\n",
        "from sklearn.model_selection import StratifiedShuffleSplit\n",
        "import seaborn as sns\n",
        "import pickle\n",
        "from torch.nn.modules.batchnorm import BatchNorm2d\n",
        "import torch.optim as optim\n",
        "from tqdm import tqdm\n",
        "from google.colab import drive\n",
        "from pathlib import Path\n",
        "from sklearn.utils import shuffle"
      ]
    },
    {
      "cell_type": "code",
      "source": [
        "drive.mount('/content/gdrive')"
      ],
      "metadata": {
        "colab": {
          "base_uri": "https://localhost:8080/"
        },
        "id": "A7hVU9ujgabT",
        "outputId": "f286bde2-0cf3-4cba-ade8-a60b84fc7b06"
      },
      "execution_count": 63,
      "outputs": [
        {
          "output_type": "stream",
          "name": "stdout",
          "text": [
            "Drive already mounted at /content/gdrive; to attempt to forcibly remount, call drive.mount(\"/content/gdrive\", force_remount=True).\n"
          ]
        }
      ]
    },
    {
      "cell_type": "code",
      "source": [
        "# Directories\n",
        "input_directory = '/content/gdrive/MyDrive/Colab Notebooks/CAD Project/Dataset/Three Class Problem'\n",
        "train_directory = input_directory+'/train' \n",
        "val_directory = input_directory+'/val'"
      ],
      "metadata": {
        "id": "NupfuLWUgbpO"
      },
      "execution_count": 64,
      "outputs": []
    },
    {
      "cell_type": "code",
      "source": [
        "# Test Data\n",
        "test_directory = input_directory+'/testX'\n",
        "test_routes = sorted(glob(os.path.join(test_directory, \"*.jpg\")))\n",
        "print(len(test_routes))"
      ],
      "metadata": {
        "id": "1PUfAV5fDt3J",
        "colab": {
          "base_uri": "https://localhost:8080/"
        },
        "outputId": "ddfd6501-b8f4-482c-f84a-598d4c65a9bc"
      },
      "execution_count": 65,
      "outputs": [
        {
          "output_type": "stream",
          "name": "stdout",
          "text": [
            "2121\n"
          ]
        }
      ]
    },
    {
      "cell_type": "code",
      "source": [
        "#Training set organization\n",
        "train_bcc= sorted(glob(os.path.join(train_directory, \"bcc\", \"*.jpg\")))\n",
        "train_mel= sorted(glob(os.path.join(train_directory, \"mel\", \"*.jpg\")))\n",
        "train_scc= sorted(glob(os.path.join(train_directory, \"scc\", \"*.jpg\")))\n",
        "tags_bcc_train=[]\n",
        "tags_mel_train=[]\n",
        "tags_scc_train=[]\n",
        "tags_train=[]\n",
        "images_bcc=[]\n",
        "images_mel=[]\n",
        "images_scc=[]\n",
        "labels_bcc=[]\n",
        "labels_mel=[]\n",
        "labels_scc=[]"
      ],
      "metadata": {
        "id": "z3cwRQe7gc-Y"
      },
      "execution_count": 66,
      "outputs": []
    },
    {
      "cell_type": "code",
      "source": [
        "#Validation set organization\n",
        "train_bcc_val= sorted(glob(os.path.join(val_directory, \"bcc\", \"*.jpg\")))\n",
        "train_mel_val= sorted(glob(os.path.join(val_directory, \"mel\", \"*.jpg\")))\n",
        "train_scc_val= sorted(glob(os.path.join(val_directory, \"scc\", \"*.jpg\")))\n",
        "tags_bcc_val=[]\n",
        "tags_mel_val=[]\n",
        "tags_scc_val=[]\n",
        "tags_val=[]\n",
        "images_bcc_val=[]\n",
        "images_mel_val=[]\n",
        "images_scc_val=[]\n",
        "labels_bcc_val=[]\n",
        "labels_mel_val=[]\n",
        "labels_scc_val=[]"
      ],
      "metadata": {
        "id": "oFcekIOagdle"
      },
      "execution_count": 67,
      "outputs": []
    },
    {
      "cell_type": "code",
      "source": [
        "print(len(train_bcc))\n",
        "print(len(train_mel))\n",
        "print(len(train_scc))\n",
        "print(len(train_bcc_val))\n",
        "print(len(train_mel_val))\n",
        "print(len(train_scc_val))"
      ],
      "metadata": {
        "colab": {
          "base_uri": "https://localhost:8080/"
        },
        "id": "86x2tKnEXRzv",
        "outputId": "949f3c49-b8b5-4557-dcf1-1bd49ba15e05"
      },
      "execution_count": 68,
      "outputs": [
        {
          "output_type": "stream",
          "name": "stdout",
          "text": [
            "2713\n",
            "2713\n",
            "2632\n",
            "498\n",
            "678\n",
            "94\n"
          ]
        }
      ]
    },
    {
      "cell_type": "code",
      "source": [
        "#Training set DataFrame construction\n",
        "for i in range(len(train_mel)):\n",
        "  tags_mel_train.append(train_mel[i][-12:])\n",
        "  labels_mel.append(0)\n",
        "for i in range(len(train_bcc)):\n",
        "  tags_bcc_train.append(train_bcc[i][-12:])\n",
        "  labels_bcc.append(1)\n",
        "for i in range(len(train_scc)):\n",
        "  tags_scc_train.append(train_scc[i][-12:])\n",
        "  labels_scc.append(2)"
      ],
      "metadata": {
        "id": "YB5i5-17gf3e"
      },
      "execution_count": 69,
      "outputs": []
    },
    {
      "cell_type": "code",
      "source": [
        "#Validation set DataFrame construction\n",
        "for i in range(len(train_mel_val)):\n",
        "  tags_mel_val.append(train_mel_val[i][-12:])\n",
        "  labels_mel_val.append(0)\n",
        "for i in range(len(train_bcc_val)):\n",
        "  tags_bcc_val.append(train_bcc_val[i][-12:])\n",
        "  labels_bcc_val.append(1)\n",
        "for i in range(len(train_scc_val)):\n",
        "  tags_scc_val.append(train_scc_val[i][-12:])\n",
        "  labels_scc_val.append(2)"
      ],
      "metadata": {
        "id": "46BGQv6KghVc"
      },
      "execution_count": 70,
      "outputs": []
    },
    {
      "cell_type": "code",
      "source": [
        "#Test set DataFrame construction\n",
        "tags_test = []\n",
        "for i in range(len(test_routes)):\n",
        "  tags_test.append(test_routes[i][-12:])"
      ],
      "metadata": {
        "id": "hPVROQG3D5I6"
      },
      "execution_count": 71,
      "outputs": []
    },
    {
      "cell_type": "code",
      "source": [
        "tags_train= tags_bcc_train + tags_mel_train + tags_scc_train\n",
        "X_train= labels_bcc+labels_mel+labels_scc"
      ],
      "metadata": {
        "id": "KWsX_rmggjEx"
      },
      "execution_count": 72,
      "outputs": []
    },
    {
      "cell_type": "code",
      "source": [
        "tags_val= tags_bcc_val + tags_mel_val+tags_scc_val\n",
        "X_test= labels_bcc_val +labels_mel_val+labels_scc_val"
      ],
      "metadata": {
        "id": "N13aS0YjglBp"
      },
      "execution_count": 73,
      "outputs": []
    },
    {
      "cell_type": "code",
      "source": [
        "training_set= pd.DataFrame.from_dict({'Image Tag':tags_train, 'Image Route': train_bcc+train_mel+train_scc, 'Label': X_train})\n",
        "valid_set= pd.DataFrame.from_dict({'Image Tag':tags_val, 'Image Route': train_bcc_val+train_mel_val+train_scc_val, 'Label': X_test})"
      ],
      "metadata": {
        "id": "Nzu72yregm44"
      },
      "execution_count": 74,
      "outputs": []
    },
    {
      "cell_type": "code",
      "source": [
        "test_set = pd.DataFrame.from_dict({'Image Tag':tags_test, 'Image Route': test_routes})"
      ],
      "metadata": {
        "id": "uyPB1EywD8nQ"
      },
      "execution_count": 75,
      "outputs": []
    },
    {
      "cell_type": "code",
      "source": [
        "X_train_data= training_set['Image Route'].to_numpy()\n",
        "y_train_data= training_set['Label'].to_numpy()\n",
        "X_test_data= valid_set['Image Route'].to_numpy()\n",
        "y_test_data= valid_set['Label'].to_numpy()"
      ],
      "metadata": {
        "id": "SyzPMJ_wgpMr"
      },
      "execution_count": 76,
      "outputs": []
    },
    {
      "cell_type": "code",
      "source": [
        "test_data = test_set['Image Route'].to_numpy()"
      ],
      "metadata": {
        "id": "Cxs4E7FaD_2l"
      },
      "execution_count": 77,
      "outputs": []
    },
    {
      "cell_type": "code",
      "source": [
        "X_train,y_train = shuffle(X_train_data,y_train_data, random_state= 42)\n",
        "X_test,y_test= shuffle(X_test_data, y_test_data, random_state=42)"
      ],
      "metadata": {
        "id": "NB8l2TWhgq9U"
      },
      "execution_count": 78,
      "outputs": []
    },
    {
      "cell_type": "code",
      "source": [
        "def color_histogram_features(imr):\n",
        "  color_histogram=[]\n",
        "  for i in imr:\n",
        "    image_read= cv2.imread(i)\n",
        "    # bgr= cv2.split(image_read)\n",
        "    image_hsv = cv2.cvtColor(image_read, cv2.COLOR_BGR2HSV)\n",
        "    h,s,v = cv2.split(image_hsv)\n",
        "    # create a CLAHE object (Arguments are optional).\n",
        "    clahe = cv2.createCLAHE(clipLimit=2.0, tileGridSize=(8,8))\n",
        "    ch = clahe.apply(h)\n",
        "    cs = clahe.apply(s)\n",
        "    cv = clahe.apply(v)\n",
        "    clahe_img = [ch,cs,cv]\n",
        "    histSize=64\n",
        "    histRange=(0,256)\n",
        "    accumulate= False \n",
        "    h_hist = cv2.calcHist(clahe_img, [0], None, [histSize], histRange)\n",
        "    s_hist = cv2.calcHist(clahe_img, [1], None, [histSize], histRange)\n",
        "    v_hist = cv2.calcHist(clahe_img, [2], None, [histSize], histRange)\n",
        "    hsv_hist= np.concatenate((h_hist,s_hist,v_hist),axis=None).T\n",
        "    color_histogram.append(hsv_hist)\n",
        "  \n",
        "  features_color_histogram= pd.DataFrame(color_histogram)\n",
        "  \n",
        "  return features_color_histogram"
      ],
      "metadata": {
        "id": "vtim6fa9huyQ"
      },
      "execution_count": 79,
      "outputs": []
    },
    {
      "cell_type": "code",
      "source": [
        "# X_train_features = pd.read_csv('/content/gdrive/MyDrive/Colab Notebooks/CAD Project/Dataset/ThreeClassProblem_Data/hsv_Train_HistogramColorFeatures291022.csv')\n",
        "# X_test_features = pd.read_csv('/content/gdrive/MyDrive/Colab Notebooks/CAD Project/Dataset/ThreeClassProblem_Data/hsv_Test_HistogramColorFeatures291022.csv')"
      ],
      "metadata": {
        "id": "m2JOmp2W1HPT"
      },
      "execution_count": 61,
      "outputs": []
    },
    {
      "cell_type": "code",
      "source": [
        "test_features = color_histogram_features(test_data)"
      ],
      "metadata": {
        "id": "svatiyNuESs1"
      },
      "execution_count": 20,
      "outputs": []
    },
    {
      "cell_type": "code",
      "source": [
        "X_train_features= color_histogram_features(X_train)\n",
        "X_test_features= color_histogram_features(X_test)\n",
        "# scaler= StandardScaler().fit(X_train_features)\n",
        "# X_train_scaled= scaler.transform(X_train_features)\n",
        "# X_test_scaled= scaler.transform(X_test_features)"
      ],
      "metadata": {
        "id": "Dnybep9dh4XM"
      },
      "execution_count": 80,
      "outputs": []
    },
    {
      "cell_type": "code",
      "source": [
        "X_train = X_train_features\n",
        "X_test = X_test_features\n",
        "X_train_old_columns= X_train.columns\n",
        "X_train.columns=[y for y in range(len(X_train.columns))]\n",
        "X_test_old_columns= X_test.columns\n",
        "X_test.columns=[y for y in range(len(X_test.columns))]\n",
        "scaler= StandardScaler().fit(X_train)\n",
        "X_train_scaled = scaler.transform(X_train)\n",
        "X_test_scaled= scaler.transform(X_test)"
      ],
      "metadata": {
        "id": "PwVb07CJEYdp"
      },
      "execution_count": 81,
      "outputs": []
    },
    {
      "cell_type": "code",
      "source": [
        "test_scaled = scaler.transform(test_features)"
      ],
      "metadata": {
        "id": "2xY-C71CEdDK"
      },
      "execution_count": 82,
      "outputs": []
    },
    {
      "cell_type": "code",
      "source": [
        "# X_train_features.to_csv('/content/gdrive/MyDrive/Colab Notebooks/CAD Project/Dataset/ThreeClassProblem_Data/hsv_Train_HistogramColorFeatures291022.csv',index=False)\n",
        "# X_test_features.to_csv('/content/gdrive/MyDrive/Colab Notebooks/CAD Project/Dataset/ThreeClassProblem_Data/hsv_Test_HistogramColorFeatures291022.csv',index=False)"
      ],
      "metadata": {
        "id": "5zCBk261h45X"
      },
      "execution_count": 123,
      "outputs": []
    },
    {
      "cell_type": "markdown",
      "source": [
        "First model: SVM"
      ],
      "metadata": {
        "id": "aURegZ575JPh"
      }
    },
    {
      "cell_type": "code",
      "source": [
        "model1= svm.SVC()\n",
        "model1.fit(X_train_scaled,y_train)\n",
        "y_pred1= model1.predict(X_test_scaled)"
      ],
      "metadata": {
        "id": "dH2XtxTYui6P"
      },
      "execution_count": 84,
      "outputs": []
    },
    {
      "cell_type": "code",
      "source": [
        "# pickle.dump(model1, open('/content/gdrive/MyDrive/Colab Notebooks/CAD Project/Dataset/Three Class Problem/Models/WP_Aug/ColorHistSVM_model.sav', 'wb'))"
      ],
      "metadata": {
        "id": "nq6g5jYEC52P"
      },
      "execution_count": 85,
      "outputs": []
    },
    {
      "cell_type": "code",
      "source": [
        "print(classification_report(y_test,y_pred1))\n",
        "print(balanced_accuracy_score(y_test,y_pred1))\n",
        "print(\"Kappa Score :\")\n",
        "print(cohen_kappa_score(y_test,y_pred1))"
      ],
      "metadata": {
        "id": "wgUjqdO6ui6P",
        "colab": {
          "base_uri": "https://localhost:8080/"
        },
        "outputId": "51f46938-e6e6-47c2-d35a-cb52cdaf7301"
      },
      "execution_count": 86,
      "outputs": [
        {
          "output_type": "stream",
          "name": "stdout",
          "text": [
            "              precision    recall  f1-score   support\n",
            "\n",
            "           0       0.90      0.77      0.83       678\n",
            "           1       0.74      0.70      0.72       498\n",
            "           2       0.25      0.56      0.35        94\n",
            "\n",
            "    accuracy                           0.73      1270\n",
            "   macro avg       0.63      0.68      0.63      1270\n",
            "weighted avg       0.79      0.73      0.75      1270\n",
            "\n",
            "0.679520189589085\n",
            "Kappa Score :\n",
            "0.545651197231143\n"
          ]
        }
      ]
    },
    {
      "cell_type": "code",
      "source": [
        "cm= confusion_matrix(y_test,y_pred1,labels= model1.classes_)\n",
        "disp= ConfusionMatrixDisplay(confusion_matrix=cm, display_labels=model1.classes_)\n",
        "disp= disp.plot(include_values= True, cmap=plt.cm.Blues)\n",
        "plt.grid(False)\n",
        "plt.show()"
      ],
      "metadata": {
        "id": "AVtwca8D_TNR",
        "colab": {
          "base_uri": "https://localhost:8080/",
          "height": 279
        },
        "outputId": "a34f013d-1740-4857-e9e9-1357d1019729"
      },
      "execution_count": 87,
      "outputs": [
        {
          "output_type": "display_data",
          "data": {
            "text/plain": [
              "<Figure size 432x288 with 2 Axes>"
            ],
            "image/png": "[encoded data removed]"
          },
          "metadata": {
            "needs_background": "light"
          }
        }
      ]
    },
    {
      "cell_type": "markdown",
      "source": [
        "Second Model: Logistic Regression"
      ],
      "metadata": {
        "id": "GR3zplQI5QLl"
      }
    },
    {
      "cell_type": "code",
      "source": [
        "model2= LogisticRegression(max_iter=2000)\n",
        "model2.fit(X_train_scaled,y_train)\n",
        "y_pred2= model2.predict(X_test_scaled)"
      ],
      "metadata": {
        "id": "gP54zwHa3bBf"
      },
      "execution_count": 88,
      "outputs": []
    },
    {
      "cell_type": "code",
      "source": [
        "print(classification_report(y_test,y_pred2))\n",
        "print(balanced_accuracy_score(y_test,y_pred2))\n",
        "print(\"Kappa Score :\")\n",
        "print(cohen_kappa_score(y_test,y_pred2))"
      ],
      "metadata": {
        "id": "uULsIqfE5ZxM",
        "colab": {
          "base_uri": "https://localhost:8080/"
        },
        "outputId": "15310638-0147-4c48-cb03-1f0b1a3fc5b5"
      },
      "execution_count": 89,
      "outputs": [
        {
          "output_type": "stream",
          "name": "stdout",
          "text": [
            "              precision    recall  f1-score   support\n",
            "\n",
            "           0       0.80      0.66      0.72       678\n",
            "           1       0.67      0.59      0.63       498\n",
            "           2       0.15      0.44      0.22        94\n",
            "\n",
            "    accuracy                           0.62      1270\n",
            "   macro avg       0.54      0.56      0.52      1270\n",
            "weighted avg       0.70      0.62      0.65      1270\n",
            "\n",
            "0.5619412313157733\n",
            "Kappa Score :\n",
            "0.37467460397538077\n"
          ]
        }
      ]
    },
    {
      "cell_type": "code",
      "source": [
        "cm= confusion_matrix(y_test,y_pred2,labels= model2.classes_)\n",
        "disp= ConfusionMatrixDisplay(confusion_matrix=cm, display_labels=model2.classes_)\n",
        "disp= disp.plot(include_values= True, cmap=plt.cm.Blues)\n",
        "plt.grid(False)\n",
        "plt.show()"
      ],
      "metadata": {
        "id": "mCK7t-le_m7f",
        "colab": {
          "base_uri": "https://localhost:8080/",
          "height": 279
        },
        "outputId": "6ae49ff3-9c35-4cc3-919d-43c1eb68b899"
      },
      "execution_count": 90,
      "outputs": [
        {
          "output_type": "display_data",
          "data": {
            "text/plain": [
              "<Figure size 432x288 with 2 Axes>"
            ],
            "image/png": "[encoded data removed]"
          },
          "metadata": {
            "needs_background": "light"
          }
        }
      ]
    },
    {
      "cell_type": "markdown",
      "source": [
        "Third model: Gradient Boosting"
      ],
      "metadata": {
        "id": "WX9z50hK5xbS"
      }
    },
    {
      "cell_type": "code",
      "source": [
        "model3= GradientBoostingClassifier(random_state=42)\n",
        "model3.fit(X_train_scaled,y_train)\n",
        "y_pred3= model3.predict(X_test_scaled)"
      ],
      "metadata": {
        "id": "Uq_PCz6uAMkT"
      },
      "execution_count": 91,
      "outputs": []
    },
    {
      "cell_type": "code",
      "source": [
        "print(classification_report(y_test,y_pred3))\n",
        "print(balanced_accuracy_score(y_test,y_pred3))\n",
        "print(\"Kappa Score :\")\n",
        "print(cohen_kappa_score(y_test,y_pred3))"
      ],
      "metadata": {
        "id": "faDpyCwJBWqV",
        "colab": {
          "base_uri": "https://localhost:8080/"
        },
        "outputId": "ae9f46bd-c8e0-493d-a045-f8a32d6b8c0c"
      },
      "execution_count": 92,
      "outputs": [
        {
          "output_type": "stream",
          "name": "stdout",
          "text": [
            "              precision    recall  f1-score   support\n",
            "\n",
            "           0       0.87      0.80      0.83       678\n",
            "           1       0.77      0.72      0.75       498\n",
            "           2       0.28      0.53      0.37        94\n",
            "\n",
            "    accuracy                           0.75      1270\n",
            "   macro avg       0.64      0.69      0.65      1270\n",
            "weighted avg       0.79      0.75      0.77      1270\n",
            "\n",
            "0.6857221139626604\n",
            "Kappa Score :\n",
            "0.572832977822057\n"
          ]
        }
      ]
    },
    {
      "cell_type": "code",
      "source": [
        "cm= confusion_matrix(y_test,y_pred3,labels= model3.classes_)\n",
        "disp= ConfusionMatrixDisplay(confusion_matrix=cm, display_labels=model3.classes_)\n",
        "disp= disp.plot(include_values= True, cmap=plt.cm.Blues)\n",
        "plt.grid(False)\n",
        "plt.show()"
      ],
      "metadata": {
        "id": "EupzWGqkCQmC",
        "colab": {
          "base_uri": "https://localhost:8080/",
          "height": 279
        },
        "outputId": "fb6243de-d14a-4bf8-d9a6-cdd4a9ab53be"
      },
      "execution_count": 93,
      "outputs": [
        {
          "output_type": "display_data",
          "data": {
            "text/plain": [
              "<Figure size 432x288 with 2 Axes>"
            ],
            "image/png": "[encoded data removed]"
          },
          "metadata": {
            "needs_background": "light"
          }
        }
      ]
    },
    {
      "cell_type": "code",
      "source": [
        "# pickle.dump(model3, open('/content/gdrive/MyDrive/Colab Notebooks/CAD Project/Dataset/Three Class Problem/Models/WP_Aug/ColorHistGBoost_model.sav', 'wb'))"
      ],
      "metadata": {
        "id": "XEkUAUkmDi7b"
      },
      "execution_count": 94,
      "outputs": []
    },
    {
      "cell_type": "markdown",
      "source": [
        "Fourth Model: Random Forest Classifier"
      ],
      "metadata": {
        "id": "XjM7FEIJCYqk"
      }
    },
    {
      "cell_type": "code",
      "source": [
        "model4= RandomForestClassifier(random_state=42)\n",
        "model4.fit(X_train_scaled,y_train)\n",
        "y_pred4= model4.predict(X_test_scaled)"
      ],
      "metadata": {
        "id": "VsoTQwlwCy1E"
      },
      "execution_count": 95,
      "outputs": []
    },
    {
      "cell_type": "code",
      "source": [
        "print(classification_report(y_test,y_pred4))\n",
        "print(balanced_accuracy_score(y_test,y_pred4))\n",
        "print(\"Kappa Score :\")\n",
        "print(cohen_kappa_score(y_test,y_pred4))"
      ],
      "metadata": {
        "id": "MrqmwVRzDYbg",
        "colab": {
          "base_uri": "https://localhost:8080/"
        },
        "outputId": "51bb3c6f-edeb-40a1-9dc8-64d11de8fd2e"
      },
      "execution_count": 96,
      "outputs": [
        {
          "output_type": "stream",
          "name": "stdout",
          "text": [
            "              precision    recall  f1-score   support\n",
            "\n",
            "           0       0.90      0.85      0.87       678\n",
            "           1       0.80      0.83      0.81       498\n",
            "           2       0.45      0.59      0.51        94\n",
            "\n",
            "    accuracy                           0.82      1270\n",
            "   macro avg       0.72      0.75      0.73      1270\n",
            "weighted avg       0.83      0.82      0.82      1270\n",
            "\n",
            "0.7518467770536108\n",
            "Kappa Score :\n",
            "0.6796053522517289\n"
          ]
        }
      ]
    },
    {
      "cell_type": "code",
      "source": [
        "# pickle.dump(model4, open('/content/gdrive/MyDrive/Colab Notebooks/CAD Project/Dataset/Three Class Problem/Models/WP_Aug/ColorHistRF_model.sav', 'wb'))"
      ],
      "metadata": {
        "id": "TeWKgxvTDofA"
      },
      "execution_count": 97,
      "outputs": []
    },
    {
      "cell_type": "code",
      "source": [
        "cm= confusion_matrix(y_test,y_pred4,labels= model4.classes_)\n",
        "disp= ConfusionMatrixDisplay(confusion_matrix=cm, display_labels=model4.classes_)\n",
        "disp= disp.plot(include_values= True, cmap=plt.cm.Blues)\n",
        "plt.grid(False)\n",
        "plt.show()"
      ],
      "metadata": {
        "id": "KZ9H8N9BEjIG",
        "colab": {
          "base_uri": "https://localhost:8080/",
          "height": 279
        },
        "outputId": "6fd974e3-e5d0-4f0d-bc71-f8aae7c84f88"
      },
      "execution_count": 98,
      "outputs": [
        {
          "output_type": "display_data",
          "data": {
            "text/plain": [
              "<Figure size 432x288 with 2 Axes>"
            ],
            "image/png": "[encoded data removed]"
          },
          "metadata": {
            "needs_background": "light"
          }
        }
      ]
    },
    {
      "cell_type": "markdown",
      "source": [
        "Fifth model: AdaBoost classifier"
      ],
      "metadata": {
        "id": "isxj7ur7FTAn"
      }
    },
    {
      "cell_type": "code",
      "source": [
        "model5= AdaBoostClassifier(random_state=42)\n",
        "model5.fit(X_train_scaled,y_train)\n",
        "y_pred5= model5.predict(X_test_scaled)"
      ],
      "metadata": {
        "id": "vcv0LBlhFR6q"
      },
      "execution_count": 99,
      "outputs": []
    },
    {
      "cell_type": "code",
      "source": [
        "print(classification_report(y_test,y_pred5))\n",
        "print(balanced_accuracy_score(y_test,y_pred5))\n",
        "print(\"Kappa Score :\")\n",
        "print(cohen_kappa_score(y_test,y_pred5))"
      ],
      "metadata": {
        "id": "VL-oPpRgFzAF",
        "colab": {
          "base_uri": "https://localhost:8080/"
        },
        "outputId": "9c107c69-4064-483e-b2c8-f2cbf7a4e356"
      },
      "execution_count": 100,
      "outputs": [
        {
          "output_type": "stream",
          "name": "stdout",
          "text": [
            "              precision    recall  f1-score   support\n",
            "\n",
            "           0       0.82      0.76      0.79       678\n",
            "           1       0.70      0.58      0.63       498\n",
            "           2       0.18      0.43      0.25        94\n",
            "\n",
            "    accuracy                           0.66      1270\n",
            "   macro avg       0.56      0.59      0.56      1270\n",
            "weighted avg       0.72      0.66      0.69      1270\n",
            "\n",
            "0.5879884314764865\n",
            "Kappa Score :\n",
            "0.4347212435319576\n"
          ]
        }
      ]
    },
    {
      "cell_type": "code",
      "source": [
        "cm= confusion_matrix(y_test,y_pred5,labels= model5.classes_)\n",
        "disp= ConfusionMatrixDisplay(confusion_matrix=cm, display_labels=model5.classes_)\n",
        "disp= disp.plot(include_values= True, cmap=plt.cm.Blues)\n",
        "plt.grid(False)\n",
        "plt.show()"
      ],
      "metadata": {
        "id": "mDuYZeUNF0Rk",
        "colab": {
          "base_uri": "https://localhost:8080/",
          "height": 279
        },
        "outputId": "76d44e18-28f0-47de-9522-555b1822eb8d"
      },
      "execution_count": 101,
      "outputs": [
        {
          "output_type": "display_data",
          "data": {
            "text/plain": [
              "<Figure size 432x288 with 2 Axes>"
            ],
            "image/png": "[encoded data removed]"
          },
          "metadata": {
            "needs_background": "light"
          }
        }
      ]
    },
    {
      "cell_type": "markdown",
      "source": [
        "Sixth Model: Decision Trees Classifier"
      ],
      "metadata": {
        "id": "2c4-Rm9JH5JO"
      }
    },
    {
      "cell_type": "code",
      "source": [
        "model6= DecisionTreeClassifier(random_state=42)\n",
        "model6.fit(X_train_scaled,y_train)\n",
        "y_pred6= model6.predict(X_test_scaled)"
      ],
      "metadata": {
        "id": "VRQv63idH_9y"
      },
      "execution_count": 102,
      "outputs": []
    },
    {
      "cell_type": "code",
      "source": [
        "print(classification_report(y_test,y_pred6))\n",
        "print(balanced_accuracy_score(y_test,y_pred6))\n",
        "print(\"Kappa Score :\")\n",
        "print(cohen_kappa_score(y_test,y_pred6))"
      ],
      "metadata": {
        "id": "SbO8vbfEIFgO",
        "colab": {
          "base_uri": "https://localhost:8080/"
        },
        "outputId": "5faa2fff-2d74-4fea-a365-7261dc5d73ef"
      },
      "execution_count": 103,
      "outputs": [
        {
          "output_type": "stream",
          "name": "stdout",
          "text": [
            "              precision    recall  f1-score   support\n",
            "\n",
            "           0       0.80      0.68      0.74       678\n",
            "           1       0.66      0.61      0.64       498\n",
            "           2       0.20      0.49      0.28        94\n",
            "\n",
            "    accuracy                           0.64      1270\n",
            "   macro avg       0.55      0.59      0.55      1270\n",
            "weighted avg       0.70      0.64      0.66      1270\n",
            "\n",
            "0.5942314415510533\n",
            "Kappa Score :\n",
            "0.40115602403671546\n"
          ]
        }
      ]
    },
    {
      "cell_type": "code",
      "source": [
        "cm= confusion_matrix(y_test,y_pred6,labels= model6.classes_)\n",
        "disp= ConfusionMatrixDisplay(confusion_matrix=cm, display_labels=model6.classes_)\n",
        "disp= disp.plot(include_values= True, cmap=plt.cm.Blues)\n",
        "plt.grid(False)\n",
        "plt.show()"
      ],
      "metadata": {
        "id": "0vLFgXjCIIeo",
        "colab": {
          "base_uri": "https://localhost:8080/",
          "height": 279
        },
        "outputId": "cfe43f1a-49f1-4d8d-d401-21775ee16264"
      },
      "execution_count": 104,
      "outputs": [
        {
          "output_type": "display_data",
          "data": {
            "text/plain": [
              "<Figure size 432x288 with 2 Axes>"
            ],
            "image/png": "[encoded data removed]"
          },
          "metadata": {
            "needs_background": "light"
          }
        }
      ]
    },
    {
      "cell_type": "markdown",
      "source": [
        "Seventh model: XGBoost Classifier"
      ],
      "metadata": {
        "id": "zvN12XanIQri"
      }
    },
    {
      "cell_type": "code",
      "source": [
        "model7= XGBClassifier(random_state=42)\n",
        "model7.fit(X_train_scaled,y_train)\n",
        "y_pred7= model7.predict(X_test_scaled)"
      ],
      "metadata": {
        "id": "nQuRDLPmI7Hj"
      },
      "execution_count": 105,
      "outputs": []
    },
    {
      "cell_type": "code",
      "source": [
        "print(classification_report(y_test,y_pred7))\n",
        "print(balanced_accuracy_score(y_test,y_pred7))\n",
        "print(\"Kappa Score :\")\n",
        "print(cohen_kappa_score(y_test,y_pred7))"
      ],
      "metadata": {
        "id": "pcZw6XQHKpG8",
        "colab": {
          "base_uri": "https://localhost:8080/"
        },
        "outputId": "e7b32976-921d-47ad-e15c-b1da7646e8af"
      },
      "execution_count": 106,
      "outputs": [
        {
          "output_type": "stream",
          "name": "stdout",
          "text": [
            "              precision    recall  f1-score   support\n",
            "\n",
            "           0       0.87      0.78      0.82       678\n",
            "           1       0.77      0.73      0.75       498\n",
            "           2       0.25      0.50      0.34        94\n",
            "\n",
            "    accuracy                           0.74      1270\n",
            "   macro avg       0.63      0.67      0.64      1270\n",
            "weighted avg       0.78      0.74      0.76      1270\n",
            "\n",
            "0.6705642629515111\n",
            "Kappa Score :\n",
            "0.5566862002580972\n"
          ]
        }
      ]
    },
    {
      "cell_type": "code",
      "source": [
        "cm= confusion_matrix(y_test,y_pred7,labels= model7.classes_)\n",
        "disp= ConfusionMatrixDisplay(confusion_matrix=cm, display_labels=model7.classes_)\n",
        "disp= disp.plot(include_values= True, cmap=plt.cm.Blues)\n",
        "plt.grid(False)\n",
        "plt.show()"
      ],
      "metadata": {
        "id": "4Mxxq2V6LJ4F",
        "colab": {
          "base_uri": "https://localhost:8080/",
          "height": 279
        },
        "outputId": "b9c9f2c1-c6b0-4bca-a6a2-2d59d9a67970"
      },
      "execution_count": 107,
      "outputs": [
        {
          "output_type": "display_data",
          "data": {
            "text/plain": [
              "<Figure size 432x288 with 2 Axes>"
            ],
            "image/png": "[encoded data removed]"
          },
          "metadata": {
            "needs_background": "light"
          }
        }
      ]
    },
    {
      "cell_type": "markdown",
      "source": [
        "Eigth model: Naive Bayes Classifier"
      ],
      "metadata": {
        "id": "FytjRDNXLO1q"
      }
    },
    {
      "cell_type": "code",
      "source": [
        "model8= GaussianNB()\n",
        "model8.fit(X_train_scaled,y_train)\n",
        "y_pred8= model8.predict(X_test_scaled)"
      ],
      "metadata": {
        "id": "iEZRoOjgLXGG"
      },
      "execution_count": 108,
      "outputs": []
    },
    {
      "cell_type": "code",
      "source": [
        "print(classification_report(y_test,y_pred8))\n",
        "print(balanced_accuracy_score(y_test,y_pred8))\n",
        "print(\"Kappa Score :\")\n",
        "print(cohen_kappa_score(y_test,y_pred8))"
      ],
      "metadata": {
        "id": "wC901lG7M5Rc",
        "colab": {
          "base_uri": "https://localhost:8080/"
        },
        "outputId": "66aaeee1-84a5-4988-f7d1-5331dafd2bd6"
      },
      "execution_count": 109,
      "outputs": [
        {
          "output_type": "stream",
          "name": "stdout",
          "text": [
            "              precision    recall  f1-score   support\n",
            "\n",
            "           0       0.84      0.44      0.58       678\n",
            "           1       0.50      0.90      0.64       498\n",
            "           2       0.19      0.03      0.05        94\n",
            "\n",
            "    accuracy                           0.59      1270\n",
            "   macro avg       0.51      0.46      0.42      1270\n",
            "weighted avg       0.66      0.59      0.56      1270\n",
            "\n",
            "0.45719147222165507\n",
            "Kappa Score :\n",
            "0.2835533553355335\n"
          ]
        }
      ]
    },
    {
      "cell_type": "code",
      "source": [
        "cm= confusion_matrix(y_test,y_pred8,labels= model8.classes_)\n",
        "disp= ConfusionMatrixDisplay(confusion_matrix=cm, display_labels=model8.classes_)\n",
        "disp= disp.plot(include_values= True, cmap=plt.cm.Blues)\n",
        "plt.grid(False)\n",
        "plt.show()"
      ],
      "metadata": {
        "id": "DSRM5v9aM9cc",
        "colab": {
          "base_uri": "https://localhost:8080/",
          "height": 279
        },
        "outputId": "61c5bee2-84d7-433f-984c-7e07b7f834a7"
      },
      "execution_count": 110,
      "outputs": [
        {
          "output_type": "display_data",
          "data": {
            "text/plain": [
              "<Figure size 432x288 with 2 Axes>"
            ],
            "image/png": "[encoded data removed]"
          },
          "metadata": {
            "needs_background": "light"
          }
        }
      ]
    },
    {
      "cell_type": "markdown",
      "source": [
        "Ninth Model: KNeighbors Classifier"
      ],
      "metadata": {
        "id": "nTeQp070NBfJ"
      }
    },
    {
      "cell_type": "code",
      "source": [
        "model9= KNeighborsClassifier()\n",
        "model9.fit(X_train_scaled,y_train)\n",
        "y_pred9= model9.predict(X_test_scaled)\n"
      ],
      "metadata": {
        "id": "1DSpxxLiNZKV"
      },
      "execution_count": 111,
      "outputs": []
    },
    {
      "cell_type": "code",
      "source": [
        "print(classification_report(y_test,y_pred9))\n",
        "print(balanced_accuracy_score(y_test,y_pred9))\n",
        "print(\"Kappa Score :\")\n",
        "print(cohen_kappa_score(y_test,y_pred9))"
      ],
      "metadata": {
        "id": "Etlio5NSNhCC",
        "colab": {
          "base_uri": "https://localhost:8080/"
        },
        "outputId": "75611829-7538-4260-af4d-420f932d6682"
      },
      "execution_count": 112,
      "outputs": [
        {
          "output_type": "stream",
          "name": "stdout",
          "text": [
            "              precision    recall  f1-score   support\n",
            "\n",
            "           0       0.86      0.78      0.82       678\n",
            "           1       0.74      0.68      0.71       498\n",
            "           2       0.27      0.55      0.36        94\n",
            "\n",
            "    accuracy                           0.73      1270\n",
            "   macro avg       0.62      0.67      0.63      1270\n",
            "weighted avg       0.77      0.73      0.74      1270\n",
            "\n",
            "0.674197070715549\n",
            "Kappa Score :\n",
            "0.5375881764415344\n"
          ]
        }
      ]
    },
    {
      "cell_type": "code",
      "source": [
        "cm= confusion_matrix(y_test,y_pred9,labels= model9.classes_)\n",
        "disp= ConfusionMatrixDisplay(confusion_matrix=cm, display_labels=model9.classes_)\n",
        "disp= disp.plot(include_values= True, cmap=plt.cm.Blues)\n",
        "plt.grid(False)\n",
        "plt.show()"
      ],
      "metadata": {
        "id": "1WatomrtNkxA",
        "colab": {
          "base_uri": "https://localhost:8080/",
          "height": 279
        },
        "outputId": "759d0c1f-ed1d-4798-8a42-ba79dacb099d"
      },
      "execution_count": 113,
      "outputs": [
        {
          "output_type": "display_data",
          "data": {
            "text/plain": [
              "<Figure size 432x288 with 2 Axes>"
            ],
            "image/png": "[encoded data removed]"
          },
          "metadata": {
            "needs_background": "light"
          }
        }
      ]
    },
    {
      "cell_type": "markdown",
      "source": [
        "Tenth Model: Bagging Classifier"
      ],
      "metadata": {
        "id": "IyjU8oQsOYSy"
      }
    },
    {
      "cell_type": "code",
      "source": [
        "model10= BaggingClassifier(base_estimator=RandomForestClassifier(random_state=42),n_estimators=10,random_state=42)\n",
        "model10.fit(X_train_scaled,y_train)\n",
        "y_pred10= model10.predict(X_test_scaled)\n"
      ],
      "metadata": {
        "id": "A3ZIWJ7rObOp"
      },
      "execution_count": 114,
      "outputs": []
    },
    {
      "cell_type": "code",
      "source": [
        "print(classification_report(y_test,y_pred10))\n",
        "print(balanced_accuracy_score(y_test,y_pred10))\n",
        "print(\"Kappa Score :\")\n",
        "print(cohen_kappa_score(y_test,y_pred10))"
      ],
      "metadata": {
        "id": "EfCTGLG5OtzD",
        "colab": {
          "base_uri": "https://localhost:8080/"
        },
        "outputId": "8bc7e80d-58a7-4094-c2a7-96294876af7f"
      },
      "execution_count": 115,
      "outputs": [
        {
          "output_type": "stream",
          "name": "stdout",
          "text": [
            "              precision    recall  f1-score   support\n",
            "\n",
            "           0       0.89      0.84      0.86       678\n",
            "           1       0.80      0.80      0.80       498\n",
            "           2       0.40      0.59      0.48        94\n",
            "\n",
            "    accuracy                           0.80      1270\n",
            "   macro avg       0.70      0.74      0.71      1270\n",
            "weighted avg       0.82      0.80      0.81      1270\n",
            "\n",
            "0.7400177500310664\n",
            "Kappa Score :\n",
            "0.6551626763286283\n"
          ]
        }
      ]
    },
    {
      "cell_type": "code",
      "source": [
        "cm= confusion_matrix(y_test,y_pred10,labels= model10.classes_)\n",
        "disp= ConfusionMatrixDisplay(confusion_matrix=cm, display_labels=model10.classes_)\n",
        "disp= disp.plot(include_values= True, cmap=plt.cm.Blues)\n",
        "plt.grid(False)\n",
        "plt.show()"
      ],
      "metadata": {
        "id": "j8euKLFgOvVx",
        "colab": {
          "base_uri": "https://localhost:8080/",
          "height": 279
        },
        "outputId": "23ad65c0-51c5-4eb1-d34c-8b9364b4b241"
      },
      "execution_count": 116,
      "outputs": [
        {
          "output_type": "display_data",
          "data": {
            "text/plain": [
              "<Figure size 432x288 with 2 Axes>"
            ],
            "image/png": "[encoded data removed]"
          },
          "metadata": {
            "needs_background": "light"
          }
        }
      ]
    },
    {
      "cell_type": "markdown",
      "source": [
        "Eleventh Model: Stacking Classifier"
      ],
      "metadata": {
        "id": "wK4GkxZmO1Ba"
      }
    },
    {
      "cell_type": "code",
      "source": [
        "def get_stack_model():\n",
        "  level0 = list()\n",
        "  level0.append(('lr', LogisticRegression(max_iter=2000,random_state=42)))\n",
        "  level0.append(('knn', KNeighborsClassifier()))\n",
        "  level0.append(('cart', DecisionTreeClassifier(random_state=42)))\n",
        "  level0.append(('svm', svm.SVC(kernel='rbf', gamma='auto',decision_function_shape='ovr', random_state=42)))\n",
        "  level0.append(('bayes', GaussianNB()))\n",
        "  level0.append(('gboosting', GradientBoostingClassifier(random_state=42)))\n",
        "  level0.append(('rforest', RandomForestClassifier(random_state=42)))\n",
        "  level0.append(('adaboost', AdaBoostClassifier(random_state=42)))\n",
        "  level1 = LogisticRegression(max_iter=2000,random_state=42)\n",
        "  model = StackingClassifier(estimators=level0, final_estimator=level1, cv=5)\n",
        "  return model"
      ],
      "metadata": {
        "id": "4vkYDwiuO4mw"
      },
      "execution_count": 117,
      "outputs": []
    },
    {
      "cell_type": "code",
      "source": [
        "model11=get_stack_model()\n",
        "model11.fit(X_train_scaled,y_train)\n",
        "y_pred11= model11.predict(X_test_scaled)"
      ],
      "metadata": {
        "id": "N7sng-NWO_cI"
      },
      "execution_count": 118,
      "outputs": []
    },
    {
      "cell_type": "code",
      "source": [
        "print(classification_report(y_test,y_pred11))\n",
        "print(balanced_accuracy_score(y_test,y_pred11))\n",
        "print(\"Kappa Score :\")\n",
        "print(cohen_kappa_score(y_test,y_pred11))"
      ],
      "metadata": {
        "id": "lvLWcXbIPdSS",
        "colab": {
          "base_uri": "https://localhost:8080/"
        },
        "outputId": "a6d03e0d-30b5-4860-e19b-7fb50b28ea35"
      },
      "execution_count": 119,
      "outputs": [
        {
          "output_type": "stream",
          "name": "stdout",
          "text": [
            "              precision    recall  f1-score   support\n",
            "\n",
            "           0       0.90      0.87      0.88       678\n",
            "           1       0.82      0.84      0.83       498\n",
            "           2       0.51      0.56      0.54        94\n",
            "\n",
            "    accuracy                           0.84      1270\n",
            "   macro avg       0.74      0.76      0.75      1270\n",
            "weighted avg       0.84      0.84      0.84      1270\n",
            "\n",
            "0.7584672462523162\n",
            "Kappa Score :\n",
            "0.7079090997549692\n"
          ]
        }
      ]
    },
    {
      "cell_type": "code",
      "source": [
        "cm= confusion_matrix(y_test,y_pred11,labels= model11.classes_)\n",
        "disp= ConfusionMatrixDisplay(confusion_matrix=cm, display_labels=model11.classes_)\n",
        "disp= disp.plot(include_values= True, cmap=plt.cm.Blues)\n",
        "plt.grid(False)\n",
        "plt.show()"
      ],
      "metadata": {
        "id": "4MeIKVwOPYcv",
        "colab": {
          "base_uri": "https://localhost:8080/",
          "height": 279
        },
        "outputId": "014a4f5b-06ec-48e1-ce46-d4d9f002b6a7"
      },
      "execution_count": 120,
      "outputs": [
        {
          "output_type": "display_data",
          "data": {
            "text/plain": [
              "<Figure size 432x288 with 2 Axes>"
            ],
            "image/png": "[encoded data removed]"
          },
          "metadata": {
            "needs_background": "light"
          }
        }
      ]
    },
    {
      "cell_type": "code",
      "source": [
        "pickle.dump(model11, open('/content/gdrive/MyDrive/Colab Notebooks/CAD Project/Dataset/Three Class Problem/Models/WP_Aug/Best_Model.sav', 'wb'))"
      ],
      "metadata": {
        "id": "22_4F8-yEomm"
      },
      "execution_count": 122,
      "outputs": []
    },
    {
      "cell_type": "markdown",
      "source": [
        "**Best Model**"
      ],
      "metadata": {
        "id": "PoImzS5qbdX1"
      }
    },
    {
      "cell_type": "code",
      "source": [
        "best_model = pickle.load(open('/content/gdrive/MyDrive/Colab Notebooks/CAD Project/Dataset/Three Class Problem/Models/WP_Aug/Best_Model.sav', 'rb'))"
      ],
      "metadata": {
        "id": "XVWp1yU8bcbA"
      },
      "execution_count": 124,
      "outputs": []
    },
    {
      "cell_type": "code",
      "source": [
        "y_pred_best = best_model.predict(X_test_scaled)"
      ],
      "metadata": {
        "id": "4otl40_sbubd"
      },
      "execution_count": 125,
      "outputs": []
    },
    {
      "cell_type": "code",
      "source": [
        "print(classification_report(y_test,y_pred_best))\n",
        "print(balanced_accuracy_score(y_test,y_pred_best))\n",
        "print(\"Kappa Score :\")\n",
        "print(cohen_kappa_score(y_test,y_pred_best))"
      ],
      "metadata": {
        "colab": {
          "base_uri": "https://localhost:8080/"
        },
        "outputId": "73937114-6ad9-4413-87fe-aba0eb0c621d",
        "id": "gv59NyWSbube"
      },
      "execution_count": 126,
      "outputs": [
        {
          "output_type": "stream",
          "name": "stdout",
          "text": [
            "              precision    recall  f1-score   support\n",
            "\n",
            "           0       0.90      0.87      0.88       678\n",
            "           1       0.82      0.84      0.83       498\n",
            "           2       0.51      0.56      0.54        94\n",
            "\n",
            "    accuracy                           0.84      1270\n",
            "   macro avg       0.74      0.76      0.75      1270\n",
            "weighted avg       0.84      0.84      0.84      1270\n",
            "\n",
            "0.7584672462523162\n",
            "Kappa Score :\n",
            "0.7079090997549692\n"
          ]
        }
      ]
    },
    {
      "cell_type": "markdown",
      "source": [
        "**Predictons**"
      ],
      "metadata": {
        "id": "2YrYJXPjt-8f"
      }
    },
    {
      "cell_type": "code",
      "source": [
        "fin_pred= best_model.predict(test_scaled)"
      ],
      "metadata": {
        "id": "ISKO-EpnuBb0"
      },
      "execution_count": 127,
      "outputs": []
    },
    {
      "cell_type": "code",
      "source": [
        "predictions={'Image Tag':np.array(tags_test), 'Predicted label':fin_pred}"
      ],
      "metadata": {
        "id": "qPgtAIrjwovf"
      },
      "execution_count": 128,
      "outputs": []
    },
    {
      "cell_type": "code",
      "source": [
        "final_predictions= pd.DataFrame.from_dict(predictions)"
      ],
      "metadata": {
        "id": "Mp-aYYG4xAne"
      },
      "execution_count": 129,
      "outputs": []
    },
    {
      "cell_type": "code",
      "source": [
        "count_zero = np.count_nonzero(final_predictions == 0)\n",
        "print(count_zero)\n",
        "count_one = np.count_nonzero(final_predictions == 1)\n",
        "print(count_one)\n",
        "count_two = np.count_nonzero(final_predictions == 2)\n",
        "print(count_two)"
      ],
      "metadata": {
        "colab": {
          "base_uri": "https://localhost:8080/"
        },
        "id": "n1E0RnxpyLL0",
        "outputId": "b89626fd-6427-4c64-a93e-942d186b0a0c"
      },
      "execution_count": 130,
      "outputs": [
        {
          "output_type": "stream",
          "name": "stdout",
          "text": [
            "1087\n",
            "874\n",
            "160\n"
          ]
        }
      ]
    },
    {
      "cell_type": "code",
      "source": [
        "print(final_predictions)"
      ],
      "metadata": {
        "colab": {
          "base_uri": "https://localhost:8080/"
        },
        "id": "kLgT2xxkVV82",
        "outputId": "eaeeaa3b-a03d-4208-e371-f72b41cef756"
      },
      "execution_count": 131,
      "outputs": [
        {
          "output_type": "stream",
          "name": "stdout",
          "text": [
            "         Image Tag  Predicted label\n",
            "0     xxx00001.jpg                2\n",
            "1     xxx00002.jpg                1\n",
            "2     xxx00003.jpg                1\n",
            "3     xxx00004.jpg                0\n",
            "4     xxx00005.jpg                0\n",
            "...            ...              ...\n",
            "2116  xxx02117.jpg                0\n",
            "2117  xxx02118.jpg                1\n",
            "2118  xxx02119.jpg                2\n",
            "2119  xxx02120.jpg                1\n",
            "2120  xxx02121.jpg                1\n",
            "\n",
            "[2121 rows x 2 columns]\n"
          ]
        }
      ]
    },
    {
      "cell_type": "code",
      "source": [
        "final_predictions.to_csv('/content/gdrive/MyDrive/Colab Notebooks/CAD Project/Final Predictions/ThreeClass/Predictions_ThreeClass.csv',index=False)"
      ],
      "metadata": {
        "id": "wLQSMOBqxDuh"
      },
      "execution_count": 132,
      "outputs": []
    },
    {
      "cell_type": "code",
      "source": [
        "final_predictions.to_excel('/content/gdrive/MyDrive/Colab Notebooks/CAD Project/Final Predictions/ThreeClass/Predictions_ThreeClass.xlsx', index=False)"
      ],
      "metadata": {
        "id": "OI_tt9NlY9YI"
      },
      "execution_count": 133,
      "outputs": []
    },
    {
      "cell_type": "code",
      "source": [
        "print(final_predictions)"
      ],
      "metadata": {
        "colab": {
          "base_uri": "https://localhost:8080/"
        },
        "id": "66pBefgEZIfs",
        "outputId": "9d8b432b-adbd-42f7-de4d-5c0c560f0444"
      },
      "execution_count": 134,
      "outputs": [
        {
          "output_type": "stream",
          "name": "stdout",
          "text": [
            "         Image Tag  Predicted label\n",
            "0     xxx00001.jpg                2\n",
            "1     xxx00002.jpg                1\n",
            "2     xxx00003.jpg                1\n",
            "3     xxx00004.jpg                0\n",
            "4     xxx00005.jpg                0\n",
            "...            ...              ...\n",
            "2116  xxx02117.jpg                0\n",
            "2117  xxx02118.jpg                1\n",
            "2118  xxx02119.jpg                2\n",
            "2119  xxx02120.jpg                1\n",
            "2120  xxx02121.jpg                1\n",
            "\n",
            "[2121 rows x 2 columns]\n"
          ]
        }
      ]
    }
  ]
}