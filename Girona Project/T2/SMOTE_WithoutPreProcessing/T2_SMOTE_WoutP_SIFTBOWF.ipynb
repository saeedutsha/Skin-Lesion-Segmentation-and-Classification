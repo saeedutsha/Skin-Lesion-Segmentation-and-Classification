{
  "cells": [
    {
      "cell_type": "markdown",
      "metadata": {
        "id": "Lw7XZ4yzh7Jm"
      },
      "source": [
        "### **Mount Google Drive/Parent Directory**"
      ]
    },
    {
      "cell_type": "code",
      "execution_count": null,
      "metadata": {
        "colab": {
          "base_uri": "https://localhost:8080/"
        },
        "id": "WU-TDjsOcfqG",
        "outputId": "70acbfba-3b5d-40ec-ed93-31d95d647053"
      },
      "outputs": [
        {
          "output_type": "stream",
          "name": "stdout",
          "text": [
            "Mounted at /content/drive/\n"
          ]
        }
      ],
      "source": [
        "from google.colab import drive\n",
        "drive.mount('/content/drive/')"
      ]
    },
    {
      "cell_type": "markdown",
      "metadata": {
        "id": "CECUi9j5wmRu"
      },
      "source": [
        "### **Install and Import Libraries**"
      ]
    },
    {
      "cell_type": "code",
      "execution_count": null,
      "metadata": {
        "id": "tHB3nA8nwq90"
      },
      "outputs": [],
      "source": [
        "import random\n",
        "import torch\n",
        "import torchvision\n",
        "import torch.nn as nn\n",
        "import torch.nn.functional as F\n",
        "from torch.functional import Tensor\n",
        "import torch.optim as optim\n",
        "import torchvision.transforms as transforms\n",
        "import torchvision.datasets as datasets\n",
        "import torchvision.transforms.functional as TF\n",
        "from torch.utils.data import Dataset, DataLoader\n",
        "from torch.nn.modules.activation import ReLU\n",
        "from sklearn.model_selection import StratifiedShuffleSplit\n",
        "from sklearn.cluster import KMeans\n",
        "from scipy.ndimage.filters import median_filter\n",
        "from skimage.morphology import disk\n",
        "import seaborn as sns\n",
        "import pickle\n",
        "from torch.nn.modules.batchnorm import BatchNorm2d\n",
        "import torch.optim as optim\n",
        "from tqdm import tqdm\n",
        "from google.colab import drive\n",
        "\n",
        "\n",
        "import os\n",
        "import cv2\n",
        "import copy\n",
        "import pandas as pd\n",
        "from PIL import Image\n",
        "import numpy as np\n",
        "from matplotlib import pyplot as plt\n",
        "from glob import glob\n",
        "from google.colab.patches import cv2_imshow\n",
        "from sklearn.metrics import jaccard_score\n",
        "import random\n",
        "import torch\n",
        "from sklearn import svm\n",
        "from sklearn.preprocessing import StandardScaler\n",
        "from scipy.cluster.vq import vq\n",
        "import torchvision\n",
        "import torch.nn as nn\n",
        "import torch.nn.functional as F\n",
        "from torch.functional import Tensor\n",
        "import torch.optim as optim\n",
        "import torchvision.transforms as transforms\n",
        "import torchvision.datasets as datasets\n",
        "from scipy.stats import kurtosis, skew\n",
        "import torchvision.transforms.functional as TF\n",
        "from sklearn.metrics import confusion_matrix, ConfusionMatrixDisplay\n",
        "from torch.utils.data import Dataset, DataLoader\n",
        "from torch.nn.modules.activation import ReLU\n",
        "from sklearn.metrics import classification_report, balanced_accuracy_score\n",
        "from sklearn.linear_model import LogisticRegression\n",
        "from scipy.stats import kurtosis, skew\n",
        "from sklearn.ensemble import AdaBoostClassifier\n",
        "from sklearn.multiclass import OneVsRestClassifier\n",
        "from sklearn.ensemble import RandomForestClassifier\n",
        "from xgboost import XGBClassifier\n",
        "from sklearn.tree import DecisionTreeClassifier\n",
        "from sklearn.ensemble import GradientBoostingClassifier\n",
        "from sklearn.ensemble import StackingClassifier\n",
        "from sklearn.ensemble import BaggingClassifier\n",
        "from sklearn.naive_bayes import GaussianNB\n",
        "from sklearn.neighbors import KNeighborsClassifier\n",
        "from sklearn.model_selection import StratifiedShuffleSplit\n",
        "import seaborn as sns\n",
        "import pickle\n",
        "from torch.nn.modules.batchnorm import BatchNorm2d\n",
        "import torch.optim as optim\n",
        "from tqdm import tqdm\n",
        "from google.colab import drive\n",
        "from pathlib import Path\n",
        "from sklearn.utils import shuffle"
      ]
    },
    {
      "cell_type": "markdown",
      "metadata": {
        "id": "UfhtOLLv2xTW"
      },
      "source": [
        "### **Dataset Loading**"
      ]
    },
    {
      "cell_type": "code",
      "execution_count": null,
      "metadata": {
        "id": "MVllTV8IBp5q"
      },
      "outputs": [],
      "source": [
        "# ############ Working With Smaller Datset ############\n",
        "# ###################### RUN ONCE #########################\n",
        "# ## Collecting the path and labels from the dataset\n",
        "# train_nevus= sorted(glob(os.path.join(train_directory, \"nevus\", \"*.jpg\")))\n",
        "# train_others= sorted(glob(os.path.join(train_directory, \"others\",\"*.jpg\")))\n",
        "# tags_nevus_train = []\n",
        "# tags_others_train = []\n",
        "# tags_train = []\n",
        "# labels_nevus = []\n",
        "# labels_others = []\n",
        "# labels_train = []\n",
        "# routes_train = []\n",
        "# for i in range(len(train_nevus)):\n",
        "#   tags_nevus_train.append(train_nevus[i][-12:])\n",
        "#   labels_nevus.append(0)\n",
        "# for i in range(len(train_others)):\n",
        "#   tags_others_train.append(train_others[i][-12:])\n",
        "#   labels_others.append(1)\n",
        "\n",
        "# ## Combining the tags and labels from all the classes\n",
        "# tags_train = tags_nevus_train[1:1500] + tags_others_train[1:1500]\n",
        "# labels_train= labels_nevus[1:1500] + labels_others[1:1500]\n",
        "# routes_train = train_nevus[1:1500] + train_others[1:1500]\n",
        "\n",
        "# ## Writing to CSV File\n",
        "# training_set = pd.DataFrame.from_dict({'Image Tag':tags_train, 'Label': labels_train, 'Image Route': routes_train})\n",
        "# training_set = training_set.sample(frac=1,random_state=42).reset_index(drop=True)\n",
        "# training_set.to_csv(input_directory+'/training_set3000.csv')"
      ]
    },
    {
      "cell_type": "code",
      "execution_count": null,
      "metadata": {
        "id": "F21gKSwG6766"
      },
      "outputs": [],
      "source": [
        "def dataExtraction(directory, vocab):\n",
        "\n",
        "  scc_aug= sorted(glob(os.path.join(directory, \"scc\", \"*.jpg\")))\n",
        "  mel_aug = sorted(glob(os.path.join(directory, \"mel\", \"*.jpg\")))\n",
        "  bcc_aug = sorted(glob(os.path.join(directory, \"bcc\", \"*.jpg\")))\n",
        "\n",
        "  scc = []\n",
        "  bcc = []\n",
        "  mel = []\n",
        "\n",
        "  for bcc_data in bcc_aug:\n",
        "    if 'aug' not in bcc_data:\n",
        "      bcc.append(bcc_data)\n",
        "  for mel_data in mel_aug:\n",
        "    if 'aug' not in mel_data:\n",
        "      mel.append(mel_data)\n",
        "  for scc_data in scc_aug:\n",
        "    if 'aug' not in scc_data:\n",
        "      scc.append(scc_data)\n",
        "\n",
        "  if(vocab==True):\n",
        "    scc = scc[0:100]\n",
        "    mel = mel[0:100]\n",
        "    bcc = bcc[0:100]\n",
        "  tags_scc = []\n",
        "  tags_mel = []\n",
        "  tags_bcc = []\n",
        "  tags_total = []\n",
        "  labels_scc = []\n",
        "  labels_mel = []\n",
        "  labels_bcc = []\n",
        "  labels_total = []\n",
        "  routes_total = []\n",
        "  for i in range(len(mel)):\n",
        "    tags_mel.append(mel[i][-12:])\n",
        "    labels_mel.append(0)\n",
        "  for i in range(len(bcc)):\n",
        "    tags_bcc.append(bcc[i][-12:])\n",
        "    labels_bcc.append(1)\n",
        "  for i in range(len(scc)):\n",
        "    tags_scc.append(scc[i][-12:])\n",
        "    labels_scc.append(2)\n",
        "  ## Combining the tags and labels from all the classes\n",
        "  tags_total = tags_scc + tags_mel + tags_bcc\n",
        "  labels_total= labels_scc + labels_mel + labels_bcc\n",
        "  routes_total = scc + mel + bcc\n",
        "\n",
        "  return tags_total, labels_total, routes_total"
      ]
    },
    {
      "cell_type": "code",
      "execution_count": null,
      "metadata": {
        "id": "k_72fPqUXUBs"
      },
      "outputs": [],
      "source": [
        "# Directories\n",
        "input_directory = '/content/drive/MyDrive/Colab Notebooks/CAD Project/Dataset/Three Class Problem'\n",
        "train_directory = input_directory+'/train' \n",
        "val_directory = input_directory+'/val'"
      ]
    },
    {
      "cell_type": "markdown",
      "metadata": {
        "id": "9ZH3sNFu5yZD"
      },
      "source": [
        "**Training Dataset**"
      ]
    },
    {
      "cell_type": "code",
      "execution_count": null,
      "metadata": {
        "id": "bI_1LFEWG85E"
      },
      "outputs": [],
      "source": [
        "## Writing to CSV File\n",
        "tags_train, labels_train, routes_train = dataExtraction(train_directory, vocab=False)\n",
        "training_set= pd.DataFrame.from_dict({'Image Tag':tags_train, 'Label': labels_train, 'Image Route': routes_train})\n",
        "training_set= training_set.sample(frac=1,random_state=42).reset_index(drop=True)\n",
        "training_set.to_csv(input_directory+'/Data/training_set.csv')"
      ]
    },
    {
      "cell_type": "code",
      "source": [
        "## Writing to CSV File For Vocabulary\n",
        "vocab_tags_train, vocab_labels_train, vocab_routes_train = dataExtraction(train_directory, vocab=True)\n",
        "vocab_training_set= pd.DataFrame.from_dict({'Image Tag':vocab_tags_train, 'Label': vocab_labels_train, 'Image Route': vocab_routes_train})\n",
        "vocab_training_set= vocab_training_set.sample(frac=1,random_state=42).reset_index(drop=True)\n",
        "vocab_training_set.to_csv(input_directory+'/Data/vocab_training_set.csv')"
      ],
      "metadata": {
        "id": "haxr0BhAG6uk"
      },
      "execution_count": null,
      "outputs": []
    },
    {
      "cell_type": "markdown",
      "metadata": {
        "id": "LMiBFfZ758Ig"
      },
      "source": [
        "**Validation Set**"
      ]
    },
    {
      "cell_type": "code",
      "execution_count": null,
      "metadata": {
        "id": "0bH9NXXJHiEL"
      },
      "outputs": [],
      "source": [
        "## Writing to CSV File\n",
        "tags_val, labels_val, routes_val = dataExtraction(val_directory, vocab=False)\n",
        "validation_set= pd.DataFrame.from_dict({'Image Tag':tags_val, 'Label': labels_val, 'Image Route': routes_val})\n",
        "validation_set= validation_set.sample(frac=1,random_state=42).reset_index(drop=True)\n",
        "validation_set.to_csv(input_directory+'/Data/validation_set.csv')"
      ]
    },
    {
      "cell_type": "code",
      "execution_count": null,
      "metadata": {
        "colab": {
          "base_uri": "https://localhost:8080/"
        },
        "id": "yrhLpCtsV5pc",
        "outputId": "a20f5585-f0b8-42f9-aba7-4cb5e8850a72"
      },
      "outputs": [
        {
          "output_type": "stream",
          "name": "stdout",
          "text": [
            "5082\n",
            "1270\n",
            "300\n"
          ]
        }
      ],
      "source": [
        "## Checking\n",
        "print(len(training_set))\n",
        "print(len(validation_set))\n",
        "print(len(vocab_training_set))"
      ]
    },
    {
      "cell_type": "markdown",
      "metadata": {
        "id": "UcvHbvLd2p-g"
      },
      "source": [
        "### **Vocabulary Building : SIFT/BoW**"
      ]
    },
    {
      "cell_type": "code",
      "execution_count": null,
      "metadata": {
        "id": "j48m3CIh6Fs1"
      },
      "outputs": [],
      "source": [
        "training_csv_path = input_directory + '/Data/training_set.csv'\n",
        "validation_csv_path =  input_directory + '/Data/validation_set.csv'\n",
        "vocab_csv_path = input_directory + '/Data/vocab_training_set.csv'\n",
        "training_dataframe = pd.read_csv(training_csv_path)\n",
        "validation_dataframe = pd.read_csv(validation_csv_path)\n",
        "vocab_dataframe = pd.read_csv(vocab_csv_path)\n",
        "training_images_routes= training_dataframe['Image Route'].to_numpy()\n",
        "validation_images_routes= validation_dataframe['Image Route'].to_numpy()\n",
        "vocab_images_routes= vocab_dataframe['Image Route'].to_numpy()"
      ]
    },
    {
      "cell_type": "code",
      "execution_count": null,
      "metadata": {
        "colab": {
          "base_uri": "https://localhost:8080/"
        },
        "id": "5Cd5VFXbXXTZ",
        "outputId": "9cca2681-c755-4f77-cfb1-986e2ac82175"
      },
      "outputs": [
        {
          "output_type": "stream",
          "name": "stdout",
          "text": [
            "5082\n",
            "1270\n",
            "300\n"
          ]
        }
      ],
      "source": [
        "## Test Purpose\n",
        "print(len(training_images_routes))\n",
        "print(len(validation_images_routes))\n",
        "print(len(vocab_images_routes))"
      ]
    },
    {
      "cell_type": "markdown",
      "metadata": {
        "id": "avbMyx--iV4p"
      },
      "source": [
        "**Getting the Descriptors**"
      ]
    },
    {
      "cell_type": "code",
      "execution_count": null,
      "metadata": {
        "id": "6VHSc2wDMCvv"
      },
      "outputs": [],
      "source": [
        "def FeatureExtractionSIFT(image_routes):\n",
        "  descriptors_list = []\n",
        "  for i in image_routes:\n",
        "    #input image\n",
        "    image_read = cv2.imread(i)\n",
        "    dim = (512, 512)\n",
        "    # resize image\n",
        "    image_resized =  cv2.resize(image_read, dim, interpolation = cv2.INTER_AREA)\n",
        "    # cv2_imshow(image_resized)\n",
        "    image_gray = cv2.cvtColor(image_resized, cv2.COLOR_BGR2GRAY)\n",
        "    # cv2_imshow(image_gray)\n",
        "\n",
        "\n",
        "    # Dense Keypoints Extraction\n",
        "    sift = cv2.xfeatures2d.SIFT_create()\n",
        "    step_size = 20\n",
        "    keypoints = [cv2.KeyPoint(x, y, step_size) for y in range(0, image_gray.shape[0], step_size) for x in range(0, image_gray.shape[1], step_size) if (x>128 and x<384) and (y>128 and y<384)]\n",
        "    dense_descriptors = sift.compute(image_gray, keypoints)\n",
        "\n",
        "    # if dense_descriptors[1] is not None:\n",
        "    #   descriptors_list.append(dense_descriptors[1])\n",
        "    # else:\n",
        "    #     keypoints, sparse_descriptors = sift.detectAndCompute(image_gray, None)\n",
        "    #     if sparse_descriptors is not None:\n",
        "    #       descriptors_list.append(sparse_descriptors)\n",
        "    #     else:\n",
        "    #       step_size = 40\n",
        "    #       keypoints = [cv2.KeyPoint(x, y, step_size) for y in range(0, image_gray.shape[0], step_size) for x in range(0, image_gray.shape[1], step_size)]\n",
        "    #       random_descriptors = sift.compute(image_gray, keypoints)\n",
        "    #       descriptors_list.append(random_descriptors[1])\n",
        "\n",
        "\n",
        "    descriptors_list.append(dense_descriptors[1])\n",
        "    # draw the detected key points\n",
        "    # sift_image = cv2.drawKeypoints(image_resized, keypoints, image_resized)\n",
        "    # show the image\n",
        "    # cv2_imshow(sift_image)\n",
        "  return descriptors_list"
      ]
    },
    {
      "cell_type": "markdown",
      "metadata": {
        "id": "erYtd8Uvl8zD"
      },
      "source": [
        "### **Vocabulary Creation**"
      ]
    },
    {
      "cell_type": "code",
      "source": [
        "### Training Set SIFT Descriptors\n",
        "vocab_sift_descriptors_list = FeatureExtractionSIFT(vocab_images_routes)\n",
        "vocab_all_sift_descriptors = np.concatenate(vocab_sift_descriptors_list, axis=0)\n",
        "print('descriptors.shape: {}'.format(vocab_all_sift_descriptors.shape))"
      ],
      "metadata": {
        "colab": {
          "base_uri": "https://localhost:8080/"
        },
        "id": "Y5QW1WwmMPeS",
        "outputId": "a8a0568d-98e9-4340-976b-fb861a0e1ab4"
      },
      "execution_count": null,
      "outputs": [
        {
          "output_type": "stream",
          "name": "stdout",
          "text": [
            "descriptors.shape: (50700, 128)\n"
          ]
        }
      ]
    },
    {
      "cell_type": "code",
      "source": [
        "vocab_sift_descriptors_route = input_directory + '/Data/Pickles/smote_vocab_sift_descriptors_wp.p'\n",
        "with open(vocab_sift_descriptors_route, 'wb') as fp:\n",
        "  pickle.dump(vocab_all_sift_descriptors, fp)"
      ],
      "metadata": {
        "id": "yi6UsrI6MhUk"
      },
      "execution_count": null,
      "outputs": []
    },
    {
      "cell_type": "code",
      "source": [
        "vocab_sift_descriptors_route = input_directory + '/Data/Pickles/smote_vocab_sift_descriptors_wp.p'\n",
        "with open(vocab_sift_descriptors_route, 'rb') as fp:\n",
        "  vocab_all_sift_descriptors = pickle.load(fp)"
      ],
      "metadata": {
        "id": "XqhQTPfQMkct"
      },
      "execution_count": null,
      "outputs": []
    },
    {
      "cell_type": "markdown",
      "metadata": {
        "id": "U4B48VTjRNyN"
      },
      "source": [
        "### **K-Means Clustering for BoW**"
      ]
    },
    {
      "cell_type": "code",
      "execution_count": null,
      "metadata": {
        "id": "8-2RtJLSDbkz",
        "colab": {
          "base_uri": "https://localhost:8080/"
        },
        "outputId": "b2fe2b4f-9d34-455d-b739-84b878c5f1af"
      },
      "outputs": [
        {
          "output_type": "stream",
          "name": "stdout",
          "text": [
            "sse is 2190276096.0\n"
          ]
        }
      ],
      "source": [
        "## Computing Bag Of Words With K-means Clustering\n",
        "num_clusters = 200\n",
        "kmeans = KMeans(n_clusters=num_clusters, random_state=41)\n",
        "kmeans.fit(vocab_all_sift_descriptors)\n",
        "# print(kmeans.labels_)\n",
        "# print(kmeans.cluster_centers_)\n",
        "print('sse is {}'.format(kmeans.inertia_))\n",
        "clusters = kmeans.cluster_centers_"
      ]
    },
    {
      "cell_type": "code",
      "execution_count": null,
      "metadata": {
        "id": "8IwTKGXOJMgX"
      },
      "outputs": [],
      "source": [
        "clusters_route = input_directory + '/Data/Pickles/smote_clusters_wp.p'\n",
        "with open(clusters_route, 'wb') as fp:\n",
        "  pickle.dump(clusters, fp)"
      ]
    },
    {
      "cell_type": "code",
      "execution_count": null,
      "metadata": {
        "id": "Imlor9ntS4fY"
      },
      "outputs": [],
      "source": [
        "clusters_route = input_directory + '/Data/Pickles/smote_clusters_wp.p'\n",
        "with open(clusters_route, 'rb') as fp:\n",
        "  clusters = pickle.load(fp)"
      ]
    },
    {
      "cell_type": "markdown",
      "metadata": {
        "id": "nigFGeOzUDy6"
      },
      "source": [
        "### **Training Set Feature Extraction**"
      ]
    },
    {
      "cell_type": "code",
      "source": [
        "### Training Set SIFT Descriptors\n",
        "training_sift_descriptors_list = FeatureExtractionSIFT(training_images_routes)\n",
        "training_all_sift_descriptors = np.concatenate(training_sift_descriptors_list, axis=0)\n",
        "print('descriptors.shape: {}'.format(training_all_sift_descriptors.shape))"
      ],
      "metadata": {
        "colab": {
          "base_uri": "https://localhost:8080/"
        },
        "outputId": "eea2e7fc-c788-4276-d4ee-d739a50fc9a8",
        "id": "MvdWvT3tbaDm"
      },
      "execution_count": null,
      "outputs": [
        {
          "output_type": "stream",
          "name": "stdout",
          "text": [
            "descriptors.shape: (858858, 128)\n"
          ]
        }
      ]
    },
    {
      "cell_type": "code",
      "source": [
        "training_sift_descriptors_route = input_directory + '/Data/Pickles/smote_training_sift_descriptors_wp.p'\n",
        "with open(training_sift_descriptors_route, 'wb') as fp:\n",
        "  pickle.dump(training_all_sift_descriptors, fp)"
      ],
      "metadata": {
        "id": "9yPyD8m5baDm"
      },
      "execution_count": null,
      "outputs": []
    },
    {
      "cell_type": "code",
      "source": [
        "training_sift_descriptors_route = input_directory + '/Data/Pickles/smote_training_sift_descriptors_wp.p'\n",
        "with open(training_sift_descriptors_route, 'rb') as fp:\n",
        "  training_all_sift_descriptors = pickle.load(fp)"
      ],
      "metadata": {
        "id": "NQXm_uqnbaDn"
      },
      "execution_count": null,
      "outputs": []
    },
    {
      "cell_type": "markdown",
      "metadata": {
        "id": "At9TF7kfVUj6"
      },
      "source": [
        "### **Validation Set Feature Extraction**"
      ]
    },
    {
      "cell_type": "code",
      "source": [
        "### Training Set SIFT Descriptors\n",
        "validation_sift_descriptors_list = FeatureExtractionSIFT(validation_images_routes)\n",
        "validation_all_sift_descriptors = np.concatenate(validation_sift_descriptors_list, axis=0)\n",
        "print('descriptors.shape: {}'.format(validation_all_sift_descriptors.shape))"
      ],
      "metadata": {
        "colab": {
          "base_uri": "https://localhost:8080/"
        },
        "outputId": "03828576-9376-42b7-e522-1d6b386ca26c",
        "id": "FSaYicJ2VUkG"
      },
      "execution_count": null,
      "outputs": [
        {
          "output_type": "stream",
          "name": "stdout",
          "text": [
            "descriptors.shape: (214630, 128)\n"
          ]
        }
      ]
    },
    {
      "cell_type": "code",
      "source": [
        "validation_sift_descriptors_route = input_directory + '/Data/Pickles/smote_validation_sift_descriptors_wp.p'\n",
        "with open(validation_sift_descriptors_route, 'wb') as fp:\n",
        "  pickle.dump(validation_all_sift_descriptors, fp)"
      ],
      "metadata": {
        "id": "Q8PxizNFVUkG"
      },
      "execution_count": null,
      "outputs": []
    },
    {
      "cell_type": "code",
      "source": [
        "validation_sift_descriptors_route = input_directory + '/Data/Pickles/smote_validation_sift_descriptors_wp.p'\n",
        "with open(validation_sift_descriptors_route, 'rb') as fp:\n",
        "  validation_all_sift_descriptors = pickle.load(fp)"
      ],
      "metadata": {
        "id": "e4g6vSd_VUkG"
      },
      "execution_count": null,
      "outputs": []
    },
    {
      "cell_type": "markdown",
      "source": [
        "### **Merge and Check**"
      ],
      "metadata": {
        "id": "3Vmcmbxt7qdl"
      }
    },
    {
      "cell_type": "code",
      "source": [
        "training_sift_descriptors_list = np.reshape(training_all_sift_descriptors, (len(training_images_routes),169,128))\n",
        "print(training_sift_descriptors_list.shape)\n",
        "validation_sift_descriptors_list = np.reshape(validation_all_sift_descriptors, (len(validation_images_routes),169,128))\n",
        "print(validation_sift_descriptors_list.shape)"
      ],
      "metadata": {
        "colab": {
          "base_uri": "https://localhost:8080/"
        },
        "id": "HqCkrOnG7wKW",
        "outputId": "51842801-1e4e-444e-8c45-356343941c5f"
      },
      "execution_count": null,
      "outputs": [
        {
          "output_type": "stream",
          "name": "stdout",
          "text": [
            "(5082, 169, 128)\n",
            "(1270, 169, 128)\n"
          ]
        }
      ]
    },
    {
      "cell_type": "markdown",
      "metadata": {
        "id": "xYyR3hT5TEA9"
      },
      "source": [
        "### **Feature Histogram Computation**"
      ]
    },
    {
      "cell_type": "code",
      "execution_count": null,
      "metadata": {
        "id": "g4VpZEMXTIie"
      },
      "outputs": [],
      "source": [
        "def featureHistogram(descriptor_list, clusters):\n",
        "  code, _ = vq(descriptor_list, clusters)\n",
        "  features = np.zeros((1, clusters.shape[0]))\n",
        "  for x in code:\n",
        "    features[0, x] += 1\n",
        "  return features"
      ]
    },
    {
      "cell_type": "markdown",
      "metadata": {
        "id": "SLYwW8veUZC4"
      },
      "source": [
        "**Training Set**"
      ]
    },
    {
      "cell_type": "code",
      "source": [
        "train_features_list = []\n",
        "for i in range(len(training_images_routes)):\n",
        "  per_train_features_list = featureHistogram(training_sift_descriptors_list[i], clusters)\n",
        "  train_features_list.append(per_train_features_list)\n",
        "train_features = np.concatenate(train_features_list, axis=0)\n",
        "print('features all shape is: {}'.format(train_features.shape))\n"
      ],
      "metadata": {
        "colab": {
          "base_uri": "https://localhost:8080/"
        },
        "id": "0SmK2jR_IXJp",
        "outputId": "869dee11-e3c2-4cd1-b256-29b5f6df8e4d"
      },
      "execution_count": null,
      "outputs": [
        {
          "output_type": "stream",
          "name": "stdout",
          "text": [
            "features all shape is: (5082, 200)\n"
          ]
        }
      ]
    },
    {
      "cell_type": "code",
      "execution_count": null,
      "metadata": {
        "id": "aYxsiLenG-xO"
      },
      "outputs": [],
      "source": [
        "train_features_all_route = input_directory + '/Data/Pickles/smote_train_features_wp.p'\n",
        "with open(train_features_all_route, 'wb') as fp:\n",
        "  pickle.dump(train_features, fp)"
      ]
    },
    {
      "cell_type": "code",
      "execution_count": null,
      "metadata": {
        "id": "kD52lDl1WelE"
      },
      "outputs": [],
      "source": [
        "train_features_all_route = input_directory + '/Data/Pickles/smote_train_features_wp.p'\n",
        "with open(train_features_all_route, 'rb') as fp:\n",
        "  train_features = pickle.load(fp)"
      ]
    },
    {
      "cell_type": "code",
      "execution_count": null,
      "metadata": {
        "id": "Ns_nOmsUXBSM",
        "colab": {
          "base_uri": "https://localhost:8080/"
        },
        "outputId": "e259e8b4-c04a-4f02-9bdc-c0a3082feda5"
      },
      "outputs": [
        {
          "output_type": "execute_result",
          "data": {
            "text/plain": [
              "           0         1         2         3         4         5         6    \\\n",
              "0     0.000000  0.000000  0.005917  0.005917  0.000000  0.017751  0.000000   \n",
              "1     0.000000  0.000000  0.000000  0.000000  0.029586  0.000000  0.000000   \n",
              "2     0.005917  0.000000  0.000000  0.000000  0.000000  0.047337  0.005917   \n",
              "3     0.000000  0.000000  0.005917  0.000000  0.011834  0.000000  0.000000   \n",
              "4     0.000000  0.000000  0.000000  0.000000  0.000000  0.000000  0.000000   \n",
              "...        ...       ...       ...       ...       ...       ...       ...   \n",
              "5077  0.000000  0.000000  0.000000  0.000000  0.023669  0.000000  0.000000   \n",
              "5078  0.000000  0.059172  0.000000  0.035503  0.000000  0.000000  0.000000   \n",
              "5079  0.000000  0.000000  0.000000  0.000000  0.000000  0.000000  0.023669   \n",
              "5080  0.000000  0.011834  0.005917  0.000000  0.035503  0.000000  0.000000   \n",
              "5081  0.005917  0.011834  0.005917  0.035503  0.000000  0.035503  0.000000   \n",
              "\n",
              "           7         8         9    ...       190       191       192  193  \\\n",
              "0     0.000000  0.000000  0.000000  ...  0.000000  0.005917  0.023669  0.0   \n",
              "1     0.023669  0.000000  0.000000  ...  0.000000  0.000000  0.011834  0.0   \n",
              "2     0.000000  0.112426  0.000000  ...  0.000000  0.000000  0.005917  0.0   \n",
              "3     0.000000  0.000000  0.000000  ...  0.000000  0.029586  0.011834  0.0   \n",
              "4     0.005917  0.000000  0.000000  ...  0.000000  0.000000  0.035503  0.0   \n",
              "...        ...       ...       ...  ...       ...       ...       ...  ...   \n",
              "5077  0.023669  0.000000  0.000000  ...  0.000000  0.000000  0.011834  0.0   \n",
              "5078  0.000000  0.000000  0.000000  ...  0.000000  0.035503  0.000000  0.0   \n",
              "5079  0.000000  0.000000  0.029586  ...  0.023669  0.000000  0.000000  0.0   \n",
              "5080  0.005917  0.000000  0.000000  ...  0.000000  0.000000  0.035503  0.0   \n",
              "5081  0.005917  0.000000  0.000000  ...  0.000000  0.000000  0.000000  0.0   \n",
              "\n",
              "      194       195       196       197       198       199  \n",
              "0     0.0  0.000000  0.071006  0.000000  0.000000  0.005917  \n",
              "1     0.0  0.017751  0.000000  0.000000  0.000000  0.011834  \n",
              "2     0.0  0.000000  0.000000  0.000000  0.005917  0.000000  \n",
              "3     0.0  0.000000  0.000000  0.000000  0.000000  0.011834  \n",
              "4     0.0  0.000000  0.005917  0.000000  0.000000  0.023669  \n",
              "...   ...       ...       ...       ...       ...       ...  \n",
              "5077  0.0  0.000000  0.000000  0.000000  0.000000  0.011834  \n",
              "5078  0.0  0.000000  0.000000  0.000000  0.000000  0.000000  \n",
              "5079  0.0  0.000000  0.000000  0.017751  0.000000  0.000000  \n",
              "5080  0.0  0.017751  0.011834  0.000000  0.000000  0.011834  \n",
              "5081  0.0  0.005917  0.000000  0.000000  0.000000  0.000000  \n",
              "\n",
              "[5082 rows x 200 columns]"
            ],
            "text/html": [
              "\n",
              "  <div id=\"df-0960aae5-d2fd-4871-8698-9c395e42198c\">\n",
              "    <div class=\"colab-df-container\">\n",
              "      <div>\n",
              "<style scoped>\n",
              "    .dataframe tbody tr th:only-of-type {\n",
              "        vertical-align: middle;\n",
              "    }\n",
              "\n",
              "    .dataframe tbody tr th {\n",
              "        vertical-align: top;\n",
              "    }\n",
              "\n",
              "    .dataframe thead th {\n",
              "        text-align: right;\n",
              "    }\n",
              "</style>\n",
              "<table border=\"1\" class=\"dataframe\">\n",
              "  <thead>\n",
              "    <tr style=\"text-align: right;\">\n",
              "      <th></th>\n",
              "      <th>0</th>\n",
              "      <th>1</th>\n",
              "      <th>2</th>\n",
              "      <th>3</th>\n",
              "      <th>4</th>\n",
              "      <th>5</th>\n",
              "      <th>6</th>\n",
              "      <th>7</th>\n",
              "      <th>8</th>\n",
              "      <th>9</th>\n",
              "      <th>...</th>\n",
              "      <th>190</th>\n",
              "      <th>191</th>\n",
              "      <th>192</th>\n",
              "      <th>193</th>\n",
              "      <th>194</th>\n",
              "      <th>195</th>\n",
              "      <th>196</th>\n",
              "      <th>197</th>\n",
              "      <th>198</th>\n",
              "      <th>199</th>\n",
              "    </tr>\n",
              "  </thead>\n",
              "  <tbody>\n",
              "    <tr>\n",
              "      <th>0</th>\n",
              "      <td>0.000000</td>\n",
              "      <td>0.000000</td>\n",
              "      <td>0.005917</td>\n",
              "      <td>0.005917</td>\n",
              "      <td>0.000000</td>\n",
              "      <td>0.017751</td>\n",
              "      <td>0.000000</td>\n",
              "      <td>0.000000</td>\n",
              "      <td>0.000000</td>\n",
              "      <td>0.000000</td>\n",
              "      <td>...</td>\n",
              "      <td>0.000000</td>\n",
              "      <td>0.005917</td>\n",
              "      <td>0.023669</td>\n",
              "      <td>0.0</td>\n",
              "      <td>0.0</td>\n",
              "      <td>0.000000</td>\n",
              "      <td>0.071006</td>\n",
              "      <td>0.000000</td>\n",
              "      <td>0.000000</td>\n",
              "      <td>0.005917</td>\n",
              "    </tr>\n",
              "    <tr>\n",
              "      <th>1</th>\n",
              "      <td>0.000000</td>\n",
              "      <td>0.000000</td>\n",
              "      <td>0.000000</td>\n",
              "      <td>0.000000</td>\n",
              "      <td>0.029586</td>\n",
              "      <td>0.000000</td>\n",
              "      <td>0.000000</td>\n",
              "      <td>0.023669</td>\n",
              "      <td>0.000000</td>\n",
              "      <td>0.000000</td>\n",
              "      <td>...</td>\n",
              "      <td>0.000000</td>\n",
              "      <td>0.000000</td>\n",
              "      <td>0.011834</td>\n",
              "      <td>0.0</td>\n",
              "      <td>0.0</td>\n",
              "      <td>0.017751</td>\n",
              "      <td>0.000000</td>\n",
              "      <td>0.000000</td>\n",
              "      <td>0.000000</td>\n",
              "      <td>0.011834</td>\n",
              "    </tr>\n",
              "    <tr>\n",
              "      <th>2</th>\n",
              "      <td>0.005917</td>\n",
              "      <td>0.000000</td>\n",
              "      <td>0.000000</td>\n",
              "      <td>0.000000</td>\n",
              "      <td>0.000000</td>\n",
              "      <td>0.047337</td>\n",
              "      <td>0.005917</td>\n",
              "      <td>0.000000</td>\n",
              "      <td>0.112426</td>\n",
              "      <td>0.000000</td>\n",
              "      <td>...</td>\n",
              "      <td>0.000000</td>\n",
              "      <td>0.000000</td>\n",
              "      <td>0.005917</td>\n",
              "      <td>0.0</td>\n",
              "      <td>0.0</td>\n",
              "      <td>0.000000</td>\n",
              "      <td>0.000000</td>\n",
              "      <td>0.000000</td>\n",
              "      <td>0.005917</td>\n",
              "      <td>0.000000</td>\n",
              "    </tr>\n",
              "    <tr>\n",
              "      <th>3</th>\n",
              "      <td>0.000000</td>\n",
              "      <td>0.000000</td>\n",
              "      <td>0.005917</td>\n",
              "      <td>0.000000</td>\n",
              "      <td>0.011834</td>\n",
              "      <td>0.000000</td>\n",
              "      <td>0.000000</td>\n",
              "      <td>0.000000</td>\n",
              "      <td>0.000000</td>\n",
              "      <td>0.000000</td>\n",
              "      <td>...</td>\n",
              "      <td>0.000000</td>\n",
              "      <td>0.029586</td>\n",
              "      <td>0.011834</td>\n",
              "      <td>0.0</td>\n",
              "      <td>0.0</td>\n",
              "      <td>0.000000</td>\n",
              "      <td>0.000000</td>\n",
              "      <td>0.000000</td>\n",
              "      <td>0.000000</td>\n",
              "      <td>0.011834</td>\n",
              "    </tr>\n",
              "    <tr>\n",
              "      <th>4</th>\n",
              "      <td>0.000000</td>\n",
              "      <td>0.000000</td>\n",
              "      <td>0.000000</td>\n",
              "      <td>0.000000</td>\n",
              "      <td>0.000000</td>\n",
              "      <td>0.000000</td>\n",
              "      <td>0.000000</td>\n",
              "      <td>0.005917</td>\n",
              "      <td>0.000000</td>\n",
              "      <td>0.000000</td>\n",
              "      <td>...</td>\n",
              "      <td>0.000000</td>\n",
              "      <td>0.000000</td>\n",
              "      <td>0.035503</td>\n",
              "      <td>0.0</td>\n",
              "      <td>0.0</td>\n",
              "      <td>0.000000</td>\n",
              "      <td>0.005917</td>\n",
              "      <td>0.000000</td>\n",
              "      <td>0.000000</td>\n",
              "      <td>0.023669</td>\n",
              "    </tr>\n",
              "    <tr>\n",
              "      <th>...</th>\n",
              "      <td>...</td>\n",
              "      <td>...</td>\n",
              "      <td>...</td>\n",
              "      <td>...</td>\n",
              "      <td>...</td>\n",
              "      <td>...</td>\n",
              "      <td>...</td>\n",
              "      <td>...</td>\n",
              "      <td>...</td>\n",
              "      <td>...</td>\n",
              "      <td>...</td>\n",
              "      <td>...</td>\n",
              "      <td>...</td>\n",
              "      <td>...</td>\n",
              "      <td>...</td>\n",
              "      <td>...</td>\n",
              "      <td>...</td>\n",
              "      <td>...</td>\n",
              "      <td>...</td>\n",
              "      <td>...</td>\n",
              "      <td>...</td>\n",
              "    </tr>\n",
              "    <tr>\n",
              "      <th>5077</th>\n",
              "      <td>0.000000</td>\n",
              "      <td>0.000000</td>\n",
              "      <td>0.000000</td>\n",
              "      <td>0.000000</td>\n",
              "      <td>0.023669</td>\n",
              "      <td>0.000000</td>\n",
              "      <td>0.000000</td>\n",
              "      <td>0.023669</td>\n",
              "      <td>0.000000</td>\n",
              "      <td>0.000000</td>\n",
              "      <td>...</td>\n",
              "      <td>0.000000</td>\n",
              "      <td>0.000000</td>\n",
              "      <td>0.011834</td>\n",
              "      <td>0.0</td>\n",
              "      <td>0.0</td>\n",
              "      <td>0.000000</td>\n",
              "      <td>0.000000</td>\n",
              "      <td>0.000000</td>\n",
              "      <td>0.000000</td>\n",
              "      <td>0.011834</td>\n",
              "    </tr>\n",
              "    <tr>\n",
              "      <th>5078</th>\n",
              "      <td>0.000000</td>\n",
              "      <td>0.059172</td>\n",
              "      <td>0.000000</td>\n",
              "      <td>0.035503</td>\n",
              "      <td>0.000000</td>\n",
              "      <td>0.000000</td>\n",
              "      <td>0.000000</td>\n",
              "      <td>0.000000</td>\n",
              "      <td>0.000000</td>\n",
              "      <td>0.000000</td>\n",
              "      <td>...</td>\n",
              "      <td>0.000000</td>\n",
              "      <td>0.035503</td>\n",
              "      <td>0.000000</td>\n",
              "      <td>0.0</td>\n",
              "      <td>0.0</td>\n",
              "      <td>0.000000</td>\n",
              "      <td>0.000000</td>\n",
              "      <td>0.000000</td>\n",
              "      <td>0.000000</td>\n",
              "      <td>0.000000</td>\n",
              "    </tr>\n",
              "    <tr>\n",
              "      <th>5079</th>\n",
              "      <td>0.000000</td>\n",
              "      <td>0.000000</td>\n",
              "      <td>0.000000</td>\n",
              "      <td>0.000000</td>\n",
              "      <td>0.000000</td>\n",
              "      <td>0.000000</td>\n",
              "      <td>0.023669</td>\n",
              "      <td>0.000000</td>\n",
              "      <td>0.000000</td>\n",
              "      <td>0.029586</td>\n",
              "      <td>...</td>\n",
              "      <td>0.023669</td>\n",
              "      <td>0.000000</td>\n",
              "      <td>0.000000</td>\n",
              "      <td>0.0</td>\n",
              "      <td>0.0</td>\n",
              "      <td>0.000000</td>\n",
              "      <td>0.000000</td>\n",
              "      <td>0.017751</td>\n",
              "      <td>0.000000</td>\n",
              "      <td>0.000000</td>\n",
              "    </tr>\n",
              "    <tr>\n",
              "      <th>5080</th>\n",
              "      <td>0.000000</td>\n",
              "      <td>0.011834</td>\n",
              "      <td>0.005917</td>\n",
              "      <td>0.000000</td>\n",
              "      <td>0.035503</td>\n",
              "      <td>0.000000</td>\n",
              "      <td>0.000000</td>\n",
              "      <td>0.005917</td>\n",
              "      <td>0.000000</td>\n",
              "      <td>0.000000</td>\n",
              "      <td>...</td>\n",
              "      <td>0.000000</td>\n",
              "      <td>0.000000</td>\n",
              "      <td>0.035503</td>\n",
              "      <td>0.0</td>\n",
              "      <td>0.0</td>\n",
              "      <td>0.017751</td>\n",
              "      <td>0.011834</td>\n",
              "      <td>0.000000</td>\n",
              "      <td>0.000000</td>\n",
              "      <td>0.011834</td>\n",
              "    </tr>\n",
              "    <tr>\n",
              "      <th>5081</th>\n",
              "      <td>0.005917</td>\n",
              "      <td>0.011834</td>\n",
              "      <td>0.005917</td>\n",
              "      <td>0.035503</td>\n",
              "      <td>0.000000</td>\n",
              "      <td>0.035503</td>\n",
              "      <td>0.000000</td>\n",
              "      <td>0.005917</td>\n",
              "      <td>0.000000</td>\n",
              "      <td>0.000000</td>\n",
              "      <td>...</td>\n",
              "      <td>0.000000</td>\n",
              "      <td>0.000000</td>\n",
              "      <td>0.000000</td>\n",
              "      <td>0.0</td>\n",
              "      <td>0.0</td>\n",
              "      <td>0.005917</td>\n",
              "      <td>0.000000</td>\n",
              "      <td>0.000000</td>\n",
              "      <td>0.000000</td>\n",
              "      <td>0.000000</td>\n",
              "    </tr>\n",
              "  </tbody>\n",
              "</table>\n",
              "<p>5082 rows × 200 columns</p>\n",
              "</div>\n",
              "      <button class=\"colab-df-convert\" onclick=\"convertToInteractive('df-0960aae5-d2fd-4871-8698-9c395e42198c')\"\n",
              "              title=\"Convert this dataframe to an interactive table.\"\n",
              "              style=\"display:none;\">\n",
              "        \n",
              "  <svg xmlns=\"http://www.w3.org/2000/svg\" height=\"24px\"viewBox=\"0 0 24 24\"\n",
              "       width=\"24px\">\n",
              "    <path d=\"M0 0h24v24H0V0z\" fill=\"none\"/>\n",
              "    <path d=\"M18.56 5.44l.94 2.06.94-2.06 2.06-.94-2.06-.94-.94-2.06-.94 2.06-2.06.94zm-11 1L8.5 8.5l.94-2.06 2.06-.94-2.06-.94L8.5 2.5l-.94 2.06-2.06.94zm10 10l.94 2.06.94-2.06 2.06-.94-2.06-.94-.94-2.06-.94 2.06-2.06.94z\"/><path d=\"M17.41 7.96l-1.37-1.37c-.4-.4-.92-.59-1.43-.59-.52 0-1.04.2-1.43.59L10.3 9.45l-7.72 7.72c-.78.78-.78 2.05 0 2.83L4 21.41c.39.39.9.59 1.41.59.51 0 1.02-.2 1.41-.59l7.78-7.78 2.81-2.81c.8-.78.8-2.07 0-2.86zM5.41 20L4 18.59l7.72-7.72 1.47 1.35L5.41 20z\"/>\n",
              "  </svg>\n",
              "      </button>\n",
              "      \n",
              "  <style>\n",
              "    .colab-df-container {\n",
              "      display:flex;\n",
              "      flex-wrap:wrap;\n",
              "      gap: 12px;\n",
              "    }\n",
              "\n",
              "    .colab-df-convert {\n",
              "      background-color: #E8F0FE;\n",
              "      border: none;\n",
              "      border-radius: 50%;\n",
              "      cursor: pointer;\n",
              "      display: none;\n",
              "      fill: #1967D2;\n",
              "      height: 32px;\n",
              "      padding: 0 0 0 0;\n",
              "      width: 32px;\n",
              "    }\n",
              "\n",
              "    .colab-df-convert:hover {\n",
              "      background-color: #E2EBFA;\n",
              "      box-shadow: 0px 1px 2px rgba(60, 64, 67, 0.3), 0px 1px 3px 1px rgba(60, 64, 67, 0.15);\n",
              "      fill: #174EA6;\n",
              "    }\n",
              "\n",
              "    [theme=dark] .colab-df-convert {\n",
              "      background-color: #3B4455;\n",
              "      fill: #D2E3FC;\n",
              "    }\n",
              "\n",
              "    [theme=dark] .colab-df-convert:hover {\n",
              "      background-color: #434B5C;\n",
              "      box-shadow: 0px 1px 3px 1px rgba(0, 0, 0, 0.15);\n",
              "      filter: drop-shadow(0px 1px 2px rgba(0, 0, 0, 0.3));\n",
              "      fill: #FFFFFF;\n",
              "    }\n",
              "  </style>\n",
              "\n",
              "      <script>\n",
              "        const buttonEl =\n",
              "          document.querySelector('#df-0960aae5-d2fd-4871-8698-9c395e42198c button.colab-df-convert');\n",
              "        buttonEl.style.display =\n",
              "          google.colab.kernel.accessAllowed ? 'block' : 'none';\n",
              "\n",
              "        async function convertToInteractive(key) {\n",
              "          const element = document.querySelector('#df-0960aae5-d2fd-4871-8698-9c395e42198c');\n",
              "          const dataTable =\n",
              "            await google.colab.kernel.invokeFunction('convertToInteractive',\n",
              "                                                     [key], {});\n",
              "          if (!dataTable) return;\n",
              "\n",
              "          const docLinkHtml = 'Like what you see? Visit the ' +\n",
              "            '<a target=\"_blank\" href=https://colab.research.google.com/notebooks/data_table.ipynb>data table notebook</a>'\n",
              "            + ' to learn more about interactive tables.';\n",
              "          element.innerHTML = '';\n",
              "          dataTable['output_type'] = 'display_data';\n",
              "          await google.colab.output.renderOutput(dataTable, element);\n",
              "          const docLink = document.createElement('div');\n",
              "          docLink.innerHTML = docLinkHtml;\n",
              "          element.appendChild(docLink);\n",
              "        }\n",
              "      </script>\n",
              "    </div>\n",
              "  </div>\n",
              "  "
            ]
          },
          "metadata": {},
          "execution_count": 30
        }
      ],
      "source": [
        "tdf = pd.DataFrame(train_features)\n",
        "tdf = tdf/169\n",
        "tdf"
      ]
    },
    {
      "cell_type": "markdown",
      "metadata": {
        "id": "K-bC3y_WUdHZ"
      },
      "source": [
        "**Validation Set**"
      ]
    },
    {
      "cell_type": "code",
      "execution_count": null,
      "metadata": {
        "id": "qRdOYuKLU7-P",
        "colab": {
          "base_uri": "https://localhost:8080/"
        },
        "outputId": "d9322b8f-cf4b-40ef-ed06-6faadb43270c"
      },
      "outputs": [
        {
          "output_type": "stream",
          "name": "stdout",
          "text": [
            "features all shape is: (1270, 200)\n"
          ]
        }
      ],
      "source": [
        "validation_features_list = []\n",
        "for i in range(len(validation_images_routes)):\n",
        "  per_val_features_list = featureHistogram(validation_sift_descriptors_list[i], clusters)\n",
        "  validation_features_list.append(per_val_features_list)\n",
        "val_features = np.concatenate(validation_features_list, axis=0)\n",
        "print('features all shape is: {}'.format(val_features.shape))"
      ]
    },
    {
      "cell_type": "code",
      "execution_count": null,
      "metadata": {
        "id": "hcQHNs-FVe8V"
      },
      "outputs": [],
      "source": [
        "val_features_all_route = input_directory + '/Data/Pickles/smote_val_features_wp.p'\n",
        "with open(val_features_all_route, 'wb') as fp:\n",
        "  pickle.dump(val_features, fp)"
      ]
    },
    {
      "cell_type": "code",
      "execution_count": null,
      "metadata": {
        "id": "KnLgE-q5Vj8D"
      },
      "outputs": [],
      "source": [
        "val_features_all_route = input_directory + '/Data/Pickles/smote_val_features_wp.p'\n",
        "with open(val_features_all_route, 'rb') as fp:\n",
        "  val_features = pickle.load(fp)"
      ]
    },
    {
      "cell_type": "code",
      "execution_count": null,
      "metadata": {
        "id": "e7V4J8OvVuqf",
        "colab": {
          "base_uri": "https://localhost:8080/"
        },
        "outputId": "8a8d6d17-86e0-4f4e-df62-f10ec35912ce"
      },
      "outputs": [
        {
          "output_type": "execute_result",
          "data": {
            "text/plain": [
              "           0         1         2         3         4         5         6    \\\n",
              "0     0.000000  0.005917  0.000000  0.000000  0.000000  0.000000  0.023669   \n",
              "1     0.000000  0.011834  0.005917  0.029586  0.005917  0.000000  0.000000   \n",
              "2     0.000000  0.000000  0.005917  0.000000  0.000000  0.000000  0.000000   \n",
              "3     0.000000  0.000000  0.000000  0.000000  0.000000  0.011834  0.000000   \n",
              "4     0.005917  0.000000  0.023669  0.017751  0.011834  0.000000  0.000000   \n",
              "...        ...       ...       ...       ...       ...       ...       ...   \n",
              "1265  0.000000  0.000000  0.000000  0.000000  0.023669  0.000000  0.000000   \n",
              "1266  0.005917  0.000000  0.000000  0.000000  0.017751  0.000000  0.000000   \n",
              "1267  0.017751  0.000000  0.000000  0.000000  0.000000  0.017751  0.000000   \n",
              "1268  0.000000  0.000000  0.000000  0.000000  0.017751  0.005917  0.000000   \n",
              "1269  0.000000  0.000000  0.011834  0.000000  0.023669  0.000000  0.000000   \n",
              "\n",
              "           7         8         9    ...       190       191       192  \\\n",
              "0     0.011834  0.000000  0.017751  ...  0.011834  0.000000  0.005917   \n",
              "1     0.011834  0.000000  0.000000  ...  0.000000  0.029586  0.000000   \n",
              "2     0.047337  0.000000  0.000000  ...  0.000000  0.000000  0.017751   \n",
              "3     0.023669  0.000000  0.000000  ...  0.000000  0.000000  0.000000   \n",
              "4     0.011834  0.000000  0.000000  ...  0.000000  0.005917  0.011834   \n",
              "...        ...       ...       ...  ...       ...       ...       ...   \n",
              "1265  0.017751  0.035503  0.000000  ...  0.000000  0.000000  0.017751   \n",
              "1266  0.011834  0.000000  0.000000  ...  0.000000  0.000000  0.000000   \n",
              "1267  0.076923  0.000000  0.000000  ...  0.000000  0.017751  0.011834   \n",
              "1268  0.029586  0.000000  0.000000  ...  0.000000  0.029586  0.017751   \n",
              "1269  0.000000  0.000000  0.000000  ...  0.000000  0.017751  0.023669   \n",
              "\n",
              "           193       194       195       196  197       198       199  \n",
              "0     0.000000  0.000000  0.000000  0.011834  0.0  0.000000  0.000000  \n",
              "1     0.000000  0.000000  0.017751  0.059172  0.0  0.000000  0.000000  \n",
              "2     0.000000  0.000000  0.000000  0.029586  0.0  0.000000  0.011834  \n",
              "3     0.011834  0.000000  0.011834  0.000000  0.0  0.017751  0.005917  \n",
              "4     0.000000  0.000000  0.035503  0.017751  0.0  0.000000  0.000000  \n",
              "...        ...       ...       ...       ...  ...       ...       ...  \n",
              "1265  0.000000  0.000000  0.000000  0.000000  0.0  0.000000  0.017751  \n",
              "1266  0.011834  0.011834  0.000000  0.000000  0.0  0.011834  0.000000  \n",
              "1267  0.000000  0.000000  0.000000  0.000000  0.0  0.000000  0.000000  \n",
              "1268  0.000000  0.000000  0.000000  0.029586  0.0  0.000000  0.011834  \n",
              "1269  0.000000  0.005917  0.000000  0.011834  0.0  0.000000  0.011834  \n",
              "\n",
              "[1270 rows x 200 columns]"
            ],
            "text/html": [
              "\n",
              "  <div id=\"df-80ec0d4c-357d-42fe-8aa7-1c11ed60ddfb\">\n",
              "    <div class=\"colab-df-container\">\n",
              "      <div>\n",
              "<style scoped>\n",
              "    .dataframe tbody tr th:only-of-type {\n",
              "        vertical-align: middle;\n",
              "    }\n",
              "\n",
              "    .dataframe tbody tr th {\n",
              "        vertical-align: top;\n",
              "    }\n",
              "\n",
              "    .dataframe thead th {\n",
              "        text-align: right;\n",
              "    }\n",
              "</style>\n",
              "<table border=\"1\" class=\"dataframe\">\n",
              "  <thead>\n",
              "    <tr style=\"text-align: right;\">\n",
              "      <th></th>\n",
              "      <th>0</th>\n",
              "      <th>1</th>\n",
              "      <th>2</th>\n",
              "      <th>3</th>\n",
              "      <th>4</th>\n",
              "      <th>5</th>\n",
              "      <th>6</th>\n",
              "      <th>7</th>\n",
              "      <th>8</th>\n",
              "      <th>9</th>\n",
              "      <th>...</th>\n",
              "      <th>190</th>\n",
              "      <th>191</th>\n",
              "      <th>192</th>\n",
              "      <th>193</th>\n",
              "      <th>194</th>\n",
              "      <th>195</th>\n",
              "      <th>196</th>\n",
              "      <th>197</th>\n",
              "      <th>198</th>\n",
              "      <th>199</th>\n",
              "    </tr>\n",
              "  </thead>\n",
              "  <tbody>\n",
              "    <tr>\n",
              "      <th>0</th>\n",
              "      <td>0.000000</td>\n",
              "      <td>0.005917</td>\n",
              "      <td>0.000000</td>\n",
              "      <td>0.000000</td>\n",
              "      <td>0.000000</td>\n",
              "      <td>0.000000</td>\n",
              "      <td>0.023669</td>\n",
              "      <td>0.011834</td>\n",
              "      <td>0.000000</td>\n",
              "      <td>0.017751</td>\n",
              "      <td>...</td>\n",
              "      <td>0.011834</td>\n",
              "      <td>0.000000</td>\n",
              "      <td>0.005917</td>\n",
              "      <td>0.000000</td>\n",
              "      <td>0.000000</td>\n",
              "      <td>0.000000</td>\n",
              "      <td>0.011834</td>\n",
              "      <td>0.0</td>\n",
              "      <td>0.000000</td>\n",
              "      <td>0.000000</td>\n",
              "    </tr>\n",
              "    <tr>\n",
              "      <th>1</th>\n",
              "      <td>0.000000</td>\n",
              "      <td>0.011834</td>\n",
              "      <td>0.005917</td>\n",
              "      <td>0.029586</td>\n",
              "      <td>0.005917</td>\n",
              "      <td>0.000000</td>\n",
              "      <td>0.000000</td>\n",
              "      <td>0.011834</td>\n",
              "      <td>0.000000</td>\n",
              "      <td>0.000000</td>\n",
              "      <td>...</td>\n",
              "      <td>0.000000</td>\n",
              "      <td>0.029586</td>\n",
              "      <td>0.000000</td>\n",
              "      <td>0.000000</td>\n",
              "      <td>0.000000</td>\n",
              "      <td>0.017751</td>\n",
              "      <td>0.059172</td>\n",
              "      <td>0.0</td>\n",
              "      <td>0.000000</td>\n",
              "      <td>0.000000</td>\n",
              "    </tr>\n",
              "    <tr>\n",
              "      <th>2</th>\n",
              "      <td>0.000000</td>\n",
              "      <td>0.000000</td>\n",
              "      <td>0.005917</td>\n",
              "      <td>0.000000</td>\n",
              "      <td>0.000000</td>\n",
              "      <td>0.000000</td>\n",
              "      <td>0.000000</td>\n",
              "      <td>0.047337</td>\n",
              "      <td>0.000000</td>\n",
              "      <td>0.000000</td>\n",
              "      <td>...</td>\n",
              "      <td>0.000000</td>\n",
              "      <td>0.000000</td>\n",
              "      <td>0.017751</td>\n",
              "      <td>0.000000</td>\n",
              "      <td>0.000000</td>\n",
              "      <td>0.000000</td>\n",
              "      <td>0.029586</td>\n",
              "      <td>0.0</td>\n",
              "      <td>0.000000</td>\n",
              "      <td>0.011834</td>\n",
              "    </tr>\n",
              "    <tr>\n",
              "      <th>3</th>\n",
              "      <td>0.000000</td>\n",
              "      <td>0.000000</td>\n",
              "      <td>0.000000</td>\n",
              "      <td>0.000000</td>\n",
              "      <td>0.000000</td>\n",
              "      <td>0.011834</td>\n",
              "      <td>0.000000</td>\n",
              "      <td>0.023669</td>\n",
              "      <td>0.000000</td>\n",
              "      <td>0.000000</td>\n",
              "      <td>...</td>\n",
              "      <td>0.000000</td>\n",
              "      <td>0.000000</td>\n",
              "      <td>0.000000</td>\n",
              "      <td>0.011834</td>\n",
              "      <td>0.000000</td>\n",
              "      <td>0.011834</td>\n",
              "      <td>0.000000</td>\n",
              "      <td>0.0</td>\n",
              "      <td>0.017751</td>\n",
              "      <td>0.005917</td>\n",
              "    </tr>\n",
              "    <tr>\n",
              "      <th>4</th>\n",
              "      <td>0.005917</td>\n",
              "      <td>0.000000</td>\n",
              "      <td>0.023669</td>\n",
              "      <td>0.017751</td>\n",
              "      <td>0.011834</td>\n",
              "      <td>0.000000</td>\n",
              "      <td>0.000000</td>\n",
              "      <td>0.011834</td>\n",
              "      <td>0.000000</td>\n",
              "      <td>0.000000</td>\n",
              "      <td>...</td>\n",
              "      <td>0.000000</td>\n",
              "      <td>0.005917</td>\n",
              "      <td>0.011834</td>\n",
              "      <td>0.000000</td>\n",
              "      <td>0.000000</td>\n",
              "      <td>0.035503</td>\n",
              "      <td>0.017751</td>\n",
              "      <td>0.0</td>\n",
              "      <td>0.000000</td>\n",
              "      <td>0.000000</td>\n",
              "    </tr>\n",
              "    <tr>\n",
              "      <th>...</th>\n",
              "      <td>...</td>\n",
              "      <td>...</td>\n",
              "      <td>...</td>\n",
              "      <td>...</td>\n",
              "      <td>...</td>\n",
              "      <td>...</td>\n",
              "      <td>...</td>\n",
              "      <td>...</td>\n",
              "      <td>...</td>\n",
              "      <td>...</td>\n",
              "      <td>...</td>\n",
              "      <td>...</td>\n",
              "      <td>...</td>\n",
              "      <td>...</td>\n",
              "      <td>...</td>\n",
              "      <td>...</td>\n",
              "      <td>...</td>\n",
              "      <td>...</td>\n",
              "      <td>...</td>\n",
              "      <td>...</td>\n",
              "      <td>...</td>\n",
              "    </tr>\n",
              "    <tr>\n",
              "      <th>1265</th>\n",
              "      <td>0.000000</td>\n",
              "      <td>0.000000</td>\n",
              "      <td>0.000000</td>\n",
              "      <td>0.000000</td>\n",
              "      <td>0.023669</td>\n",
              "      <td>0.000000</td>\n",
              "      <td>0.000000</td>\n",
              "      <td>0.017751</td>\n",
              "      <td>0.035503</td>\n",
              "      <td>0.000000</td>\n",
              "      <td>...</td>\n",
              "      <td>0.000000</td>\n",
              "      <td>0.000000</td>\n",
              "      <td>0.017751</td>\n",
              "      <td>0.000000</td>\n",
              "      <td>0.000000</td>\n",
              "      <td>0.000000</td>\n",
              "      <td>0.000000</td>\n",
              "      <td>0.0</td>\n",
              "      <td>0.000000</td>\n",
              "      <td>0.017751</td>\n",
              "    </tr>\n",
              "    <tr>\n",
              "      <th>1266</th>\n",
              "      <td>0.005917</td>\n",
              "      <td>0.000000</td>\n",
              "      <td>0.000000</td>\n",
              "      <td>0.000000</td>\n",
              "      <td>0.017751</td>\n",
              "      <td>0.000000</td>\n",
              "      <td>0.000000</td>\n",
              "      <td>0.011834</td>\n",
              "      <td>0.000000</td>\n",
              "      <td>0.000000</td>\n",
              "      <td>...</td>\n",
              "      <td>0.000000</td>\n",
              "      <td>0.000000</td>\n",
              "      <td>0.000000</td>\n",
              "      <td>0.011834</td>\n",
              "      <td>0.011834</td>\n",
              "      <td>0.000000</td>\n",
              "      <td>0.000000</td>\n",
              "      <td>0.0</td>\n",
              "      <td>0.011834</td>\n",
              "      <td>0.000000</td>\n",
              "    </tr>\n",
              "    <tr>\n",
              "      <th>1267</th>\n",
              "      <td>0.017751</td>\n",
              "      <td>0.000000</td>\n",
              "      <td>0.000000</td>\n",
              "      <td>0.000000</td>\n",
              "      <td>0.000000</td>\n",
              "      <td>0.017751</td>\n",
              "      <td>0.000000</td>\n",
              "      <td>0.076923</td>\n",
              "      <td>0.000000</td>\n",
              "      <td>0.000000</td>\n",
              "      <td>...</td>\n",
              "      <td>0.000000</td>\n",
              "      <td>0.017751</td>\n",
              "      <td>0.011834</td>\n",
              "      <td>0.000000</td>\n",
              "      <td>0.000000</td>\n",
              "      <td>0.000000</td>\n",
              "      <td>0.000000</td>\n",
              "      <td>0.0</td>\n",
              "      <td>0.000000</td>\n",
              "      <td>0.000000</td>\n",
              "    </tr>\n",
              "    <tr>\n",
              "      <th>1268</th>\n",
              "      <td>0.000000</td>\n",
              "      <td>0.000000</td>\n",
              "      <td>0.000000</td>\n",
              "      <td>0.000000</td>\n",
              "      <td>0.017751</td>\n",
              "      <td>0.005917</td>\n",
              "      <td>0.000000</td>\n",
              "      <td>0.029586</td>\n",
              "      <td>0.000000</td>\n",
              "      <td>0.000000</td>\n",
              "      <td>...</td>\n",
              "      <td>0.000000</td>\n",
              "      <td>0.029586</td>\n",
              "      <td>0.017751</td>\n",
              "      <td>0.000000</td>\n",
              "      <td>0.000000</td>\n",
              "      <td>0.000000</td>\n",
              "      <td>0.029586</td>\n",
              "      <td>0.0</td>\n",
              "      <td>0.000000</td>\n",
              "      <td>0.011834</td>\n",
              "    </tr>\n",
              "    <tr>\n",
              "      <th>1269</th>\n",
              "      <td>0.000000</td>\n",
              "      <td>0.000000</td>\n",
              "      <td>0.011834</td>\n",
              "      <td>0.000000</td>\n",
              "      <td>0.023669</td>\n",
              "      <td>0.000000</td>\n",
              "      <td>0.000000</td>\n",
              "      <td>0.000000</td>\n",
              "      <td>0.000000</td>\n",
              "      <td>0.000000</td>\n",
              "      <td>...</td>\n",
              "      <td>0.000000</td>\n",
              "      <td>0.017751</td>\n",
              "      <td>0.023669</td>\n",
              "      <td>0.000000</td>\n",
              "      <td>0.005917</td>\n",
              "      <td>0.000000</td>\n",
              "      <td>0.011834</td>\n",
              "      <td>0.0</td>\n",
              "      <td>0.000000</td>\n",
              "      <td>0.011834</td>\n",
              "    </tr>\n",
              "  </tbody>\n",
              "</table>\n",
              "<p>1270 rows × 200 columns</p>\n",
              "</div>\n",
              "      <button class=\"colab-df-convert\" onclick=\"convertToInteractive('df-80ec0d4c-357d-42fe-8aa7-1c11ed60ddfb')\"\n",
              "              title=\"Convert this dataframe to an interactive table.\"\n",
              "              style=\"display:none;\">\n",
              "        \n",
              "  <svg xmlns=\"http://www.w3.org/2000/svg\" height=\"24px\"viewBox=\"0 0 24 24\"\n",
              "       width=\"24px\">\n",
              "    <path d=\"M0 0h24v24H0V0z\" fill=\"none\"/>\n",
              "    <path d=\"M18.56 5.44l.94 2.06.94-2.06 2.06-.94-2.06-.94-.94-2.06-.94 2.06-2.06.94zm-11 1L8.5 8.5l.94-2.06 2.06-.94-2.06-.94L8.5 2.5l-.94 2.06-2.06.94zm10 10l.94 2.06.94-2.06 2.06-.94-2.06-.94-.94-2.06-.94 2.06-2.06.94z\"/><path d=\"M17.41 7.96l-1.37-1.37c-.4-.4-.92-.59-1.43-.59-.52 0-1.04.2-1.43.59L10.3 9.45l-7.72 7.72c-.78.78-.78 2.05 0 2.83L4 21.41c.39.39.9.59 1.41.59.51 0 1.02-.2 1.41-.59l7.78-7.78 2.81-2.81c.8-.78.8-2.07 0-2.86zM5.41 20L4 18.59l7.72-7.72 1.47 1.35L5.41 20z\"/>\n",
              "  </svg>\n",
              "      </button>\n",
              "      \n",
              "  <style>\n",
              "    .colab-df-container {\n",
              "      display:flex;\n",
              "      flex-wrap:wrap;\n",
              "      gap: 12px;\n",
              "    }\n",
              "\n",
              "    .colab-df-convert {\n",
              "      background-color: #E8F0FE;\n",
              "      border: none;\n",
              "      border-radius: 50%;\n",
              "      cursor: pointer;\n",
              "      display: none;\n",
              "      fill: #1967D2;\n",
              "      height: 32px;\n",
              "      padding: 0 0 0 0;\n",
              "      width: 32px;\n",
              "    }\n",
              "\n",
              "    .colab-df-convert:hover {\n",
              "      background-color: #E2EBFA;\n",
              "      box-shadow: 0px 1px 2px rgba(60, 64, 67, 0.3), 0px 1px 3px 1px rgba(60, 64, 67, 0.15);\n",
              "      fill: #174EA6;\n",
              "    }\n",
              "\n",
              "    [theme=dark] .colab-df-convert {\n",
              "      background-color: #3B4455;\n",
              "      fill: #D2E3FC;\n",
              "    }\n",
              "\n",
              "    [theme=dark] .colab-df-convert:hover {\n",
              "      background-color: #434B5C;\n",
              "      box-shadow: 0px 1px 3px 1px rgba(0, 0, 0, 0.15);\n",
              "      filter: drop-shadow(0px 1px 2px rgba(0, 0, 0, 0.3));\n",
              "      fill: #FFFFFF;\n",
              "    }\n",
              "  </style>\n",
              "\n",
              "      <script>\n",
              "        const buttonEl =\n",
              "          document.querySelector('#df-80ec0d4c-357d-42fe-8aa7-1c11ed60ddfb button.colab-df-convert');\n",
              "        buttonEl.style.display =\n",
              "          google.colab.kernel.accessAllowed ? 'block' : 'none';\n",
              "\n",
              "        async function convertToInteractive(key) {\n",
              "          const element = document.querySelector('#df-80ec0d4c-357d-42fe-8aa7-1c11ed60ddfb');\n",
              "          const dataTable =\n",
              "            await google.colab.kernel.invokeFunction('convertToInteractive',\n",
              "                                                     [key], {});\n",
              "          if (!dataTable) return;\n",
              "\n",
              "          const docLinkHtml = 'Like what you see? Visit the ' +\n",
              "            '<a target=\"_blank\" href=https://colab.research.google.com/notebooks/data_table.ipynb>data table notebook</a>'\n",
              "            + ' to learn more about interactive tables.';\n",
              "          element.innerHTML = '';\n",
              "          dataTable['output_type'] = 'display_data';\n",
              "          await google.colab.output.renderOutput(dataTable, element);\n",
              "          const docLink = document.createElement('div');\n",
              "          docLink.innerHTML = docLinkHtml;\n",
              "          element.appendChild(docLink);\n",
              "        }\n",
              "      </script>\n",
              "    </div>\n",
              "  </div>\n",
              "  "
            ]
          },
          "metadata": {},
          "execution_count": 34
        }
      ],
      "source": [
        "vdf = pd.DataFrame(val_features)\n",
        "vdf = vdf/169\n",
        "vdf"
      ]
    },
    {
      "cell_type": "markdown",
      "source": [
        "### **Training**"
      ],
      "metadata": {
        "id": "YBuUr4YGzzwz"
      }
    },
    {
      "cell_type": "code",
      "source": [
        "X_train_features = train_features\n",
        "y_train = training_set['Label'].to_numpy()\n",
        "X_test_features = val_features\n",
        "y_test = validation_set['Label'].to_numpy()\n",
        "scaler= StandardScaler().fit(X_train_features)\n",
        "X_train_scaled= scaler.transform(X_train_features)\n",
        "X_test_scaled= scaler.transform(X_test_features)"
      ],
      "metadata": {
        "id": "OmxnxvyF2YJz"
      },
      "execution_count": null,
      "outputs": []
    },
    {
      "cell_type": "code",
      "source": [
        "#Data Balancing in order to tackle data imbalance. technique used: SMOTE \n",
        "from imblearn.over_sampling import SMOTE, ADASYN,RandomOverSampler\n",
        "ros = SMOTE(sampling_strategy='auto', random_state= 42)\n",
        "X_train_resampled, y_train_resampled= ros.fit_resample(X_train_scaled,y_train)\n",
        "print(np.bincount(y_train_resampled))"
      ],
      "metadata": {
        "colab": {
          "base_uri": "https://localhost:8080/"
        },
        "id": "pVP77S0ZPM-O",
        "outputId": "cab7ff2e-e0f8-4474-fb23-4db015ff1f7e"
      },
      "execution_count": null,
      "outputs": [
        {
          "output_type": "stream",
          "name": "stdout",
          "text": [
            "[2713 2713 2713]\n"
          ]
        }
      ]
    },
    {
      "cell_type": "markdown",
      "source": [
        "First model: SVM"
      ],
      "metadata": {
        "id": "aURegZ575JPh"
      }
    },
    {
      "cell_type": "code",
      "source": [
        "model1= svm.SVC()\n",
        "model1.fit(X_train_resampled, y_train_resampled)\n",
        "y_pred1= model1.predict(X_test_scaled)"
      ],
      "metadata": {
        "id": "dH2XtxTYui6P"
      },
      "execution_count": null,
      "outputs": []
    },
    {
      "cell_type": "code",
      "source": [
        "print(classification_report(y_test,y_pred1))\n",
        "print(balanced_accuracy_score(y_test,y_pred1))"
      ],
      "metadata": {
        "id": "wgUjqdO6ui6P",
        "colab": {
          "base_uri": "https://localhost:8080/"
        },
        "outputId": "92854442-f763-4a5a-a934-b56fdc2aff4f"
      },
      "execution_count": null,
      "outputs": [
        {
          "output_type": "stream",
          "name": "stdout",
          "text": [
            "              precision    recall  f1-score   support\n",
            "\n",
            "           0       0.77      0.76      0.77       678\n",
            "           1       0.67      0.70      0.68       498\n",
            "           2       0.37      0.31      0.34        94\n",
            "\n",
            "    accuracy                           0.70      1270\n",
            "   macro avg       0.60      0.59      0.59      1270\n",
            "weighted avg       0.70      0.70      0.70      1270\n",
            "\n",
            "0.5892782200161973\n"
          ]
        }
      ]
    },
    {
      "cell_type": "code",
      "source": [
        "cm= confusion_matrix(y_test,y_pred1,labels= model1.classes_)\n",
        "disp= ConfusionMatrixDisplay(confusion_matrix=cm, display_labels=model1.classes_)\n",
        "disp= disp.plot(include_values= True, cmap=plt.cm.Blues)\n",
        "plt.grid(False)\n",
        "plt.show()"
      ],
      "metadata": {
        "id": "AVtwca8D_TNR",
        "colab": {
          "base_uri": "https://localhost:8080/",
          "height": 54
        },
        "outputId": "154df0c4-51f3-493e-8bf2-2a5af286e02e"
      },
      "execution_count": null,
      "outputs": [
        {
          "output_type": "display_data",
          "data": {
            "text/plain": [
              "<Figure size 432x288 with 2 Axes>"
            ],
            "image/png": "[encoded data removed]"
          },
          "metadata": {
            "needs_background": "light"
          }
        }
      ]
    },
    {
      "cell_type": "markdown",
      "source": [
        "Second Model: Logistic Regression"
      ],
      "metadata": {
        "id": "GR3zplQI5QLl"
      }
    },
    {
      "cell_type": "code",
      "source": [
        "model2= LogisticRegression(max_iter=2000)\n",
        "model2.fit(X_train_resampled, y_train_resampled)\n",
        "y_pred2= model2.predict(X_test_scaled)"
      ],
      "metadata": {
        "id": "gP54zwHa3bBf"
      },
      "execution_count": null,
      "outputs": []
    },
    {
      "cell_type": "code",
      "source": [
        "print(classification_report(y_test,y_pred2))\n",
        "print(balanced_accuracy_score(y_test,y_pred2))"
      ],
      "metadata": {
        "id": "uULsIqfE5ZxM",
        "colab": {
          "base_uri": "https://localhost:8080/"
        },
        "outputId": "32822918-c481-451e-f6db-8d33941df794"
      },
      "execution_count": null,
      "outputs": [
        {
          "output_type": "stream",
          "name": "stdout",
          "text": [
            "              precision    recall  f1-score   support\n",
            "\n",
            "           0       0.75      0.59      0.66       678\n",
            "           1       0.60      0.53      0.56       498\n",
            "           2       0.14      0.44      0.21        94\n",
            "\n",
            "    accuracy                           0.55      1270\n",
            "   macro avg       0.50      0.52      0.48      1270\n",
            "weighted avg       0.65      0.55      0.59      1270\n",
            "\n",
            "0.5177704478870733\n"
          ]
        }
      ]
    },
    {
      "cell_type": "code",
      "source": [
        "cm= confusion_matrix(y_test,y_pred2,labels= model2.classes_)\n",
        "disp= ConfusionMatrixDisplay(confusion_matrix=cm, display_labels=model2.classes_)\n",
        "disp= disp.plot(include_values= True, cmap=plt.cm.Blues)\n",
        "plt.grid(False)\n",
        "plt.show()"
      ],
      "metadata": {
        "id": "mCK7t-le_m7f",
        "colab": {
          "base_uri": "https://localhost:8080/",
          "height": 54
        },
        "outputId": "be13dd85-395a-4236-d08e-7664928a805f"
      },
      "execution_count": null,
      "outputs": [
        {
          "output_type": "display_data",
          "data": {
            "text/plain": [
              "<Figure size 432x288 with 2 Axes>"
            ],
            "image/png": "[encoded data removed]"
          },
          "metadata": {
            "needs_background": "light"
          }
        }
      ]
    },
    {
      "cell_type": "markdown",
      "source": [
        "Third model: Gradient Boosting"
      ],
      "metadata": {
        "id": "WX9z50hK5xbS"
      }
    },
    {
      "cell_type": "code",
      "source": [
        "model3= GradientBoostingClassifier(random_state=42)\n",
        "model3.fit(X_train_resampled, y_train_resampled)\n",
        "y_pred3= model3.predict(X_test_scaled)"
      ],
      "metadata": {
        "id": "Uq_PCz6uAMkT"
      },
      "execution_count": null,
      "outputs": []
    },
    {
      "cell_type": "code",
      "source": [
        "print(classification_report(y_test,y_pred3))\n",
        "print(balanced_accuracy_score(y_test,y_pred3))"
      ],
      "metadata": {
        "id": "faDpyCwJBWqV",
        "colab": {
          "base_uri": "https://localhost:8080/"
        },
        "outputId": "1b165cf4-05a6-4492-cd8e-a02578288361"
      },
      "execution_count": null,
      "outputs": [
        {
          "output_type": "stream",
          "name": "stdout",
          "text": [
            "              precision    recall  f1-score   support\n",
            "\n",
            "           0       0.72      0.74      0.73       678\n",
            "           1       0.61      0.65      0.63       498\n",
            "           2       0.14      0.05      0.08        94\n",
            "\n",
            "    accuracy                           0.66      1270\n",
            "   macro avg       0.49      0.48      0.48      1270\n",
            "weighted avg       0.63      0.66      0.64      1270\n",
            "\n",
            "0.4817162329100497\n"
          ]
        }
      ]
    },
    {
      "cell_type": "code",
      "source": [
        "cm= confusion_matrix(y_test,y_pred3,labels= model3.classes_)\n",
        "disp= ConfusionMatrixDisplay(confusion_matrix=cm, display_labels=model3.classes_)\n",
        "disp= disp.plot(include_values= True, cmap=plt.cm.Blues)\n",
        "plt.grid(False)\n",
        "plt.show()"
      ],
      "metadata": {
        "id": "EupzWGqkCQmC",
        "colab": {
          "base_uri": "https://localhost:8080/",
          "height": 54
        },
        "outputId": "2f8c725d-00d0-4660-97c2-c00e96ce1271"
      },
      "execution_count": null,
      "outputs": [
        {
          "output_type": "display_data",
          "data": {
            "text/plain": [
              "<Figure size 432x288 with 2 Axes>"
            ],
            "image/png": "[encoded data removed]"
          },
          "metadata": {
            "needs_background": "light"
          }
        }
      ]
    },
    {
      "cell_type": "markdown",
      "source": [
        "Fourth Model: Random Forest Classifier"
      ],
      "metadata": {
        "id": "XjM7FEIJCYqk"
      }
    },
    {
      "cell_type": "code",
      "source": [
        "model4= RandomForestClassifier(random_state=42)\n",
        "model4.fit(X_train_resampled, y_train_resampled)\n",
        "y_pred4= model4.predict(X_test_scaled)"
      ],
      "metadata": {
        "id": "VsoTQwlwCy1E"
      },
      "execution_count": null,
      "outputs": []
    },
    {
      "cell_type": "code",
      "source": [
        "print(classification_report(y_test,y_pred4))\n",
        "print(balanced_accuracy_score(y_test,y_pred4))"
      ],
      "metadata": {
        "id": "MrqmwVRzDYbg",
        "colab": {
          "base_uri": "https://localhost:8080/"
        },
        "outputId": "87e7e514-6be4-4d18-bd71-e966c55ea2f5"
      },
      "execution_count": null,
      "outputs": [
        {
          "output_type": "stream",
          "name": "stdout",
          "text": [
            "              precision    recall  f1-score   support\n",
            "\n",
            "           0       0.74      0.77      0.76       678\n",
            "           1       0.64      0.68      0.66       498\n",
            "           2       0.31      0.10      0.15        94\n",
            "\n",
            "    accuracy                           0.69      1270\n",
            "   macro avg       0.56      0.52      0.52      1270\n",
            "weighted avg       0.67      0.69      0.67      1270\n",
            "\n",
            "0.5169346185343898\n"
          ]
        }
      ]
    },
    {
      "cell_type": "code",
      "source": [
        "cm= confusion_matrix(y_test,y_pred4,labels= model4.classes_)\n",
        "disp= ConfusionMatrixDisplay(confusion_matrix=cm, display_labels=model4.classes_)\n",
        "disp= disp.plot(include_values= True, cmap=plt.cm.Blues)\n",
        "plt.grid(False)\n",
        "plt.show()"
      ],
      "metadata": {
        "id": "KZ9H8N9BEjIG",
        "colab": {
          "base_uri": "https://localhost:8080/",
          "height": 54
        },
        "outputId": "a4d35a83-0c3d-46f1-cf0a-6c74076e98f1"
      },
      "execution_count": null,
      "outputs": [
        {
          "output_type": "display_data",
          "data": {
            "text/plain": [
              "<Figure size 432x288 with 2 Axes>"
            ],
            "image/png": "[encoded data removed]"
          },
          "metadata": {
            "needs_background": "light"
          }
        }
      ]
    },
    {
      "cell_type": "markdown",
      "source": [
        "Fifth model: AdaBoost classifier"
      ],
      "metadata": {
        "id": "isxj7ur7FTAn"
      }
    },
    {
      "cell_type": "code",
      "source": [
        "model5= AdaBoostClassifier(random_state=42)\n",
        "model5.fit(X_train_resampled, y_train_resampled)\n",
        "y_pred5= model5.predict(X_test_scaled)"
      ],
      "metadata": {
        "id": "vcv0LBlhFR6q"
      },
      "execution_count": null,
      "outputs": []
    },
    {
      "cell_type": "code",
      "source": [
        "print(classification_report(y_test,y_pred5))\n",
        "print(balanced_accuracy_score(y_test,y_pred5))"
      ],
      "metadata": {
        "id": "VL-oPpRgFzAF",
        "colab": {
          "base_uri": "https://localhost:8080/"
        },
        "outputId": "94fb41ff-f0fe-4d9a-c160-8a773cada238"
      },
      "execution_count": null,
      "outputs": [
        {
          "output_type": "stream",
          "name": "stdout",
          "text": [
            "              precision    recall  f1-score   support\n",
            "\n",
            "           0       0.70      0.67      0.69       678\n",
            "           1       0.55      0.56      0.56       498\n",
            "           2       0.11      0.14      0.12        94\n",
            "\n",
            "    accuracy                           0.59      1270\n",
            "   macro avg       0.46      0.46      0.46      1270\n",
            "weighted avg       0.60      0.59      0.60      1270\n",
            "\n",
            "0.4583737573780971\n"
          ]
        }
      ]
    },
    {
      "cell_type": "code",
      "source": [
        "cm= confusion_matrix(y_test,y_pred5,labels= model5.classes_)\n",
        "disp= ConfusionMatrixDisplay(confusion_matrix=cm, display_labels=model5.classes_)\n",
        "disp= disp.plot(include_values= True, cmap=plt.cm.Blues)\n",
        "plt.grid(False)\n",
        "plt.show()"
      ],
      "metadata": {
        "id": "mDuYZeUNF0Rk",
        "colab": {
          "base_uri": "https://localhost:8080/",
          "height": 54
        },
        "outputId": "29240c79-addb-41d6-d575-c02a96d1a12a"
      },
      "execution_count": null,
      "outputs": [
        {
          "output_type": "display_data",
          "data": {
            "text/plain": [
              "<Figure size 432x288 with 2 Axes>"
            ],
            "image/png": "[encoded data removed]"
          },
          "metadata": {
            "needs_background": "light"
          }
        }
      ]
    },
    {
      "cell_type": "markdown",
      "source": [
        "Sixth Model: Decision Trees Classifier"
      ],
      "metadata": {
        "id": "2c4-Rm9JH5JO"
      }
    },
    {
      "cell_type": "code",
      "source": [
        "model6= DecisionTreeClassifier(random_state=42)\n",
        "model6.fit(X_train_resampled, y_train_resampled)\n",
        "y_pred6= model6.predict(X_test_scaled)"
      ],
      "metadata": {
        "id": "VRQv63idH_9y"
      },
      "execution_count": null,
      "outputs": []
    },
    {
      "cell_type": "code",
      "source": [
        "print(classification_report(y_test,y_pred6))\n",
        "print(balanced_accuracy_score(y_test,y_pred6))"
      ],
      "metadata": {
        "id": "SbO8vbfEIFgO",
        "colab": {
          "base_uri": "https://localhost:8080/"
        },
        "outputId": "64fd42c6-017d-4c6d-b978-51bea76051e1"
      },
      "execution_count": null,
      "outputs": [
        {
          "output_type": "stream",
          "name": "stdout",
          "text": [
            "              precision    recall  f1-score   support\n",
            "\n",
            "           0       0.66      0.62      0.64       678\n",
            "           1       0.52      0.51      0.52       498\n",
            "           2       0.19      0.30      0.23        94\n",
            "\n",
            "    accuracy                           0.55      1270\n",
            "   macro avg       0.46      0.47      0.46      1270\n",
            "weighted avg       0.57      0.55      0.56      1270\n",
            "\n",
            "0.4749882603280757\n"
          ]
        }
      ]
    },
    {
      "cell_type": "code",
      "source": [
        "cm= confusion_matrix(y_test,y_pred6,labels= model6.classes_)\n",
        "disp= ConfusionMatrixDisplay(confusion_matrix=cm, display_labels=model6.classes_)\n",
        "disp= disp.plot(include_values= True, cmap=plt.cm.Blues)\n",
        "plt.grid(False)\n",
        "plt.show()"
      ],
      "metadata": {
        "id": "0vLFgXjCIIeo",
        "colab": {
          "base_uri": "https://localhost:8080/",
          "height": 54
        },
        "outputId": "2c7cdeaf-f5c4-40b8-c926-7223cfa13086"
      },
      "execution_count": null,
      "outputs": [
        {
          "output_type": "display_data",
          "data": {
            "text/plain": [
              "<Figure size 432x288 with 2 Axes>"
            ],
            "image/png": "[encoded data removed]"
          },
          "metadata": {
            "needs_background": "light"
          }
        }
      ]
    },
    {
      "cell_type": "markdown",
      "source": [
        "Seventh model: XGBoost Classifier"
      ],
      "metadata": {
        "id": "zvN12XanIQri"
      }
    },
    {
      "cell_type": "code",
      "source": [
        "model7= XGBClassifier(random_state=42)\n",
        "model7.fit(X_train_resampled, y_train_resampled)\n",
        "y_pred7= model7.predict(X_test_scaled)"
      ],
      "metadata": {
        "id": "nQuRDLPmI7Hj"
      },
      "execution_count": null,
      "outputs": []
    },
    {
      "cell_type": "code",
      "source": [
        "print(classification_report(y_test,y_pred7))\n",
        "print(balanced_accuracy_score(y_test,y_pred7))"
      ],
      "metadata": {
        "id": "pcZw6XQHKpG8",
        "colab": {
          "base_uri": "https://localhost:8080/"
        },
        "outputId": "64a22343-6d05-4ac4-e632-6136431696bf"
      },
      "execution_count": null,
      "outputs": [
        {
          "output_type": "stream",
          "name": "stdout",
          "text": [
            "              precision    recall  f1-score   support\n",
            "\n",
            "           0       0.72      0.73      0.73       678\n",
            "           1       0.60      0.64      0.62       498\n",
            "           2       0.23      0.11      0.15        94\n",
            "\n",
            "    accuracy                           0.65      1270\n",
            "   macro avg       0.52      0.49      0.50      1270\n",
            "weighted avg       0.63      0.65      0.64      1270\n",
            "\n",
            "0.4938195006852238\n"
          ]
        }
      ]
    },
    {
      "cell_type": "code",
      "source": [
        "cm= confusion_matrix(y_test,y_pred7,labels= model7.classes_)\n",
        "disp= ConfusionMatrixDisplay(confusion_matrix=cm, display_labels=model7.classes_)\n",
        "disp= disp.plot(include_values= True, cmap=plt.cm.Blues)\n",
        "plt.grid(False)\n",
        "plt.show()"
      ],
      "metadata": {
        "id": "4Mxxq2V6LJ4F",
        "colab": {
          "base_uri": "https://localhost:8080/",
          "height": 54
        },
        "outputId": "9738c3f7-09fd-4d65-ac4e-99d9a67c4e27"
      },
      "execution_count": null,
      "outputs": [
        {
          "output_type": "display_data",
          "data": {
            "text/plain": [
              "<Figure size 432x288 with 2 Axes>"
            ],
            "image/png": "[encoded data removed]"
          },
          "metadata": {
            "needs_background": "light"
          }
        }
      ]
    },
    {
      "cell_type": "markdown",
      "source": [
        "Eigth model: Naive Bayes Classifier"
      ],
      "metadata": {
        "id": "FytjRDNXLO1q"
      }
    },
    {
      "cell_type": "code",
      "source": [
        "model8= GaussianNB()\n",
        "model8.fit(X_train_resampled, y_train_resampled)\n",
        "y_pred8= model8.predict(X_test_scaled)\n"
      ],
      "metadata": {
        "id": "iEZRoOjgLXGG"
      },
      "execution_count": null,
      "outputs": []
    },
    {
      "cell_type": "code",
      "source": [
        "print(classification_report(y_test,y_pred8))\n",
        "print(balanced_accuracy_score(y_test,y_pred8))"
      ],
      "metadata": {
        "id": "wC901lG7M5Rc",
        "colab": {
          "base_uri": "https://localhost:8080/"
        },
        "outputId": "a6526f13-b938-4b7d-fc14-a74c8b12e1f7"
      },
      "execution_count": null,
      "outputs": [
        {
          "output_type": "stream",
          "name": "stdout",
          "text": [
            "              precision    recall  f1-score   support\n",
            "\n",
            "           0       0.74      0.54      0.62       678\n",
            "           1       0.54      0.37      0.44       498\n",
            "           2       0.13      0.59      0.21        94\n",
            "\n",
            "    accuracy                           0.48      1270\n",
            "   macro avg       0.47      0.50      0.42      1270\n",
            "weighted avg       0.61      0.48      0.52      1270\n",
            "\n",
            "0.4992967539523563\n"
          ]
        }
      ]
    },
    {
      "cell_type": "code",
      "source": [
        "cm= confusion_matrix(y_test,y_pred8,labels= model8.classes_)\n",
        "disp= ConfusionMatrixDisplay(confusion_matrix=cm, display_labels=model8.classes_)\n",
        "disp= disp.plot(include_values= True, cmap=plt.cm.Blues)\n",
        "plt.grid(False)\n",
        "plt.show()"
      ],
      "metadata": {
        "id": "DSRM5v9aM9cc",
        "colab": {
          "base_uri": "https://localhost:8080/",
          "height": 54
        },
        "outputId": "d143d699-3fc5-49cb-ae06-099e54ccf763"
      },
      "execution_count": null,
      "outputs": [
        {
          "output_type": "display_data",
          "data": {
            "text/plain": [
              "<Figure size 432x288 with 2 Axes>"
            ],
            "image/png": "[encoded data removed]"
          },
          "metadata": {
            "needs_background": "light"
          }
        }
      ]
    },
    {
      "cell_type": "markdown",
      "source": [
        "Ninth Model: KNeighbors Classifier"
      ],
      "metadata": {
        "id": "nTeQp070NBfJ"
      }
    },
    {
      "cell_type": "code",
      "source": [
        "model9= KNeighborsClassifier()\n",
        "model9.fit(X_train_resampled, y_train_resampled)\n",
        "y_pred9= model9.predict(X_test_scaled)\n"
      ],
      "metadata": {
        "id": "1DSpxxLiNZKV"
      },
      "execution_count": null,
      "outputs": []
    },
    {
      "cell_type": "code",
      "source": [
        "print(classification_report(y_test,y_pred9))\n",
        "print(balanced_accuracy_score(y_test,y_pred9))"
      ],
      "metadata": {
        "id": "Etlio5NSNhCC",
        "colab": {
          "base_uri": "https://localhost:8080/"
        },
        "outputId": "8af44a4d-bc35-49cd-a4f0-9c4ec22df0f7"
      },
      "execution_count": null,
      "outputs": [
        {
          "output_type": "stream",
          "name": "stdout",
          "text": [
            "              precision    recall  f1-score   support\n",
            "\n",
            "           0       0.85      0.47      0.60       678\n",
            "           1       0.64      0.56      0.60       498\n",
            "           2       0.15      0.73      0.25        94\n",
            "\n",
            "    accuracy                           0.53      1270\n",
            "   macro avg       0.55      0.59      0.48      1270\n",
            "weighted avg       0.71      0.53      0.58      1270\n",
            "\n",
            "0.588617067907606\n"
          ]
        }
      ]
    },
    {
      "cell_type": "code",
      "source": [
        "cm= confusion_matrix(y_test,y_pred9,labels= model9.classes_)\n",
        "disp= ConfusionMatrixDisplay(confusion_matrix=cm, display_labels=model9.classes_)\n",
        "disp= disp.plot(include_values= True, cmap=plt.cm.Blues)\n",
        "plt.grid(False)\n",
        "plt.show()"
      ],
      "metadata": {
        "id": "1WatomrtNkxA",
        "colab": {
          "base_uri": "https://localhost:8080/",
          "height": 54
        },
        "outputId": "caac176c-b1dc-4fa6-f8e1-89c95d1dbd29"
      },
      "execution_count": null,
      "outputs": [
        {
          "output_type": "display_data",
          "data": {
            "text/plain": [
              "<Figure size 432x288 with 2 Axes>"
            ],
            "image/png": "[encoded data removed]"
          },
          "metadata": {
            "needs_background": "light"
          }
        }
      ]
    },
    {
      "cell_type": "markdown",
      "source": [
        "Tenth Model: Bagging Classifier"
      ],
      "metadata": {
        "id": "IyjU8oQsOYSy"
      }
    },
    {
      "cell_type": "code",
      "source": [
        "model10= BaggingClassifier(base_estimator=RandomForestClassifier(random_state=42),n_estimators=10,random_state=42)\n",
        "model10.fit(X_train_resampled, y_train_resampled)\n",
        "y_pred10= model10.predict(X_test_scaled)\n"
      ],
      "metadata": {
        "id": "A3ZIWJ7rObOp"
      },
      "execution_count": null,
      "outputs": []
    },
    {
      "cell_type": "code",
      "source": [
        "print(classification_report(y_test,y_pred10))\n",
        "print(balanced_accuracy_score(y_test,y_pred10))"
      ],
      "metadata": {
        "id": "EfCTGLG5OtzD",
        "colab": {
          "base_uri": "https://localhost:8080/"
        },
        "outputId": "d9f3cf3a-bdf0-45e5-954c-77b0c547ab15"
      },
      "execution_count": null,
      "outputs": [
        {
          "output_type": "stream",
          "name": "stdout",
          "text": [
            "              precision    recall  f1-score   support\n",
            "\n",
            "           0       0.75      0.74      0.75       678\n",
            "           1       0.62      0.70      0.66       498\n",
            "           2       0.31      0.12      0.17        94\n",
            "\n",
            "    accuracy                           0.68      1270\n",
            "   macro avg       0.56      0.52      0.53      1270\n",
            "weighted avg       0.67      0.68      0.67      1270\n",
            "\n",
            "0.5205734757267947\n"
          ]
        }
      ]
    },
    {
      "cell_type": "code",
      "source": [
        "cm= confusion_matrix(y_test,y_pred10,labels= model10.classes_)\n",
        "disp= ConfusionMatrixDisplay(confusion_matrix=cm, display_labels=model10.classes_)\n",
        "disp= disp.plot(include_values= True, cmap=plt.cm.Blues)\n",
        "plt.grid(False)\n",
        "plt.show()"
      ],
      "metadata": {
        "id": "j8euKLFgOvVx",
        "colab": {
          "base_uri": "https://localhost:8080/",
          "height": 54
        },
        "outputId": "d5e1f362-2f53-4661-d9ee-81f9c9ca1ffe"
      },
      "execution_count": null,
      "outputs": [
        {
          "output_type": "display_data",
          "data": {
            "text/plain": [
              "<Figure size 432x288 with 2 Axes>"
            ],
            "image/png": "[encoded data removed]"
          },
          "metadata": {
            "needs_background": "light"
          }
        }
      ]
    },
    {
      "cell_type": "markdown",
      "source": [
        "Eleventh Model: Stacking Classifier"
      ],
      "metadata": {
        "id": "wK4GkxZmO1Ba"
      }
    },
    {
      "cell_type": "code",
      "source": [
        "def get_stack_model():\n",
        "  level0 = list()\n",
        "  level0.append(('lr', LogisticRegression(max_iter=2000,random_state=42)))\n",
        "  level0.append(('knn', KNeighborsClassifier()))\n",
        "  level0.append(('cart', DecisionTreeClassifier(random_state=42)))\n",
        "  level0.append(('svm', svm.SVC(kernel='rbf', gamma='auto',decision_function_shape='ovr', random_state=42)))\n",
        "  level0.append(('bayes', GaussianNB()))\n",
        "  level0.append(('gboosting', GradientBoostingClassifier(random_state=42)))\n",
        "  level0.append(('rforest', RandomForestClassifier(random_state=42)))\n",
        "  level0.append(('adaboost', AdaBoostClassifier(random_state=42)))\n",
        "  level1 = LogisticRegression(max_iter=2000,random_state=42)\n",
        "  model = StackingClassifier(estimators=level0, final_estimator=level1, cv=5)\n",
        "  return model"
      ],
      "metadata": {
        "id": "4vkYDwiuO4mw"
      },
      "execution_count": null,
      "outputs": []
    },
    {
      "cell_type": "code",
      "source": [
        "model11=get_stack_model()\n",
        "model11.fit(X_train_resampled, y_train_resampled)\n",
        "y_pred11= model11.predict(X_test_scaled)"
      ],
      "metadata": {
        "id": "N7sng-NWO_cI"
      },
      "execution_count": null,
      "outputs": []
    },
    {
      "cell_type": "code",
      "source": [
        "print(classification_report(y_test,y_pred11))\n",
        "print(balanced_accuracy_score(y_test,y_pred11))"
      ],
      "metadata": {
        "id": "lvLWcXbIPdSS",
        "colab": {
          "base_uri": "https://localhost:8080/"
        },
        "outputId": "e1c941c6-3a42-4a98-8a12-568515856af8"
      },
      "execution_count": null,
      "outputs": [
        {
          "output_type": "stream",
          "name": "stdout",
          "text": [
            "              precision    recall  f1-score   support\n",
            "\n",
            "           0       0.74      0.81      0.78       678\n",
            "           1       0.68      0.68      0.68       498\n",
            "           2       0.67      0.23      0.35        94\n",
            "\n",
            "    accuracy                           0.72      1270\n",
            "   macro avg       0.70      0.58      0.60      1270\n",
            "weighted avg       0.71      0.72      0.71      1270\n",
            "\n",
            "0.5756389015548795\n"
          ]
        }
      ]
    },
    {
      "cell_type": "code",
      "source": [
        "cm= confusion_matrix(y_test,y_pred11,labels= model11.classes_)\n",
        "disp= ConfusionMatrixDisplay(confusion_matrix=cm, display_labels=model11.classes_)\n",
        "disp= disp.plot(include_values= True, cmap=plt.cm.Blues)\n",
        "plt.grid(False)\n",
        "plt.show()"
      ],
      "metadata": {
        "id": "4MeIKVwOPYcv",
        "colab": {
          "base_uri": "https://localhost:8080/",
          "height": 54
        },
        "outputId": "20838804-9f10-44e6-ad13-39f008ead54c"
      },
      "execution_count": null,
      "outputs": [
        {
          "output_type": "display_data",
          "data": {
            "text/plain": [
              "<Figure size 432x288 with 2 Axes>"
            ],
            "image/png": "[encoded data removed]"
          },
          "metadata": {
            "needs_background": "light"
          }
        }
      ]
    }
  ],
  "metadata": {
    "colab": {
      "collapsed_sections": [
        "Lw7XZ4yzh7Jm",
        "rOfx1OIUHG5U",
        "GRWKawFOGWOh"
      ],
      "provenance": []
    },
    "gpuClass": "standard",
    "kernelspec": {
      "display_name": "Python 3",
      "name": "python3"
    },
    "language_info": {
      "name": "python"
    }
  },
  "nbformat": 4,
  "nbformat_minor": 0
}