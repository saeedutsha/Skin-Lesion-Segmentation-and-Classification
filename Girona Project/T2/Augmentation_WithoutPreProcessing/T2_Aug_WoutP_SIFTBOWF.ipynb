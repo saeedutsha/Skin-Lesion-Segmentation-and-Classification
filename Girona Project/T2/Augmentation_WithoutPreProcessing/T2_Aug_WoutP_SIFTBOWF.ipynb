{
  "cells": [
    {
      "cell_type": "markdown",
      "metadata": {
        "id": "Lw7XZ4yzh7Jm"
      },
      "source": [
        "### **Mount Google Drive/Parent Directory**"
      ]
    },
    {
      "cell_type": "code",
      "execution_count": null,
      "metadata": {
        "colab": {
          "base_uri": "https://localhost:8080/"
        },
        "id": "WU-TDjsOcfqG",
        "outputId": "8b3dc8ef-9149-4f2a-eba6-1cb34035fb8e"
      },
      "outputs": [
        {
          "output_type": "stream",
          "name": "stdout",
          "text": [
            "Drive already mounted at /content/drive/; to attempt to forcibly remount, call drive.mount(\"/content/drive/\", force_remount=True).\n"
          ]
        }
      ],
      "source": [
        "from google.colab import drive\n",
        "drive.mount('/content/drive/')"
      ]
    },
    {
      "cell_type": "markdown",
      "metadata": {
        "id": "CECUi9j5wmRu"
      },
      "source": [
        "### **Install and Import Libraries**"
      ]
    },
    {
      "cell_type": "code",
      "execution_count": null,
      "metadata": {
        "id": "tHB3nA8nwq90"
      },
      "outputs": [],
      "source": [
        "import random\n",
        "import torch\n",
        "import torchvision\n",
        "import torch.nn as nn\n",
        "import torch.nn.functional as F\n",
        "from torch.functional import Tensor\n",
        "import torch.optim as optim\n",
        "import torchvision.transforms as transforms\n",
        "import torchvision.datasets as datasets\n",
        "import torchvision.transforms.functional as TF\n",
        "from torch.utils.data import Dataset, DataLoader\n",
        "from torch.nn.modules.activation import ReLU\n",
        "from sklearn.model_selection import StratifiedShuffleSplit\n",
        "from sklearn.cluster import KMeans\n",
        "from scipy.ndimage.filters import median_filter\n",
        "from skimage.morphology import disk\n",
        "import seaborn as sns\n",
        "import pickle\n",
        "from torch.nn.modules.batchnorm import BatchNorm2d\n",
        "import torch.optim as optim\n",
        "from tqdm import tqdm\n",
        "from google.colab import drive\n",
        "\n",
        "\n",
        "import os\n",
        "import cv2\n",
        "import copy\n",
        "import pandas as pd\n",
        "from PIL import Image\n",
        "import numpy as np\n",
        "from matplotlib import pyplot as plt\n",
        "from glob import glob\n",
        "from google.colab.patches import cv2_imshow\n",
        "from sklearn.metrics import jaccard_score\n",
        "import random\n",
        "import torch\n",
        "from sklearn import svm\n",
        "from sklearn.preprocessing import StandardScaler\n",
        "from scipy.cluster.vq import vq\n",
        "import torchvision\n",
        "import torch.nn as nn\n",
        "import torch.nn.functional as F\n",
        "from torch.functional import Tensor\n",
        "import torch.optim as optim\n",
        "import torchvision.transforms as transforms\n",
        "import torchvision.datasets as datasets\n",
        "from scipy.stats import kurtosis, skew\n",
        "import torchvision.transforms.functional as TF\n",
        "from sklearn.metrics import confusion_matrix, ConfusionMatrixDisplay\n",
        "from torch.utils.data import Dataset, DataLoader\n",
        "from torch.nn.modules.activation import ReLU\n",
        "from sklearn.metrics import classification_report, balanced_accuracy_score, cohen_kappa_score\n",
        "from sklearn.linear_model import LogisticRegression\n",
        "from scipy.stats import kurtosis, skew\n",
        "from sklearn.ensemble import AdaBoostClassifier\n",
        "from sklearn.multiclass import OneVsRestClassifier\n",
        "from sklearn.ensemble import RandomForestClassifier\n",
        "from xgboost import XGBClassifier\n",
        "from sklearn.tree import DecisionTreeClassifier\n",
        "from sklearn.ensemble import GradientBoostingClassifier\n",
        "from sklearn.ensemble import StackingClassifier\n",
        "from sklearn.ensemble import BaggingClassifier\n",
        "from sklearn.naive_bayes import GaussianNB\n",
        "from sklearn.neighbors import KNeighborsClassifier\n",
        "from sklearn.model_selection import StratifiedShuffleSplit\n",
        "import seaborn as sns\n",
        "import pickle\n",
        "from torch.nn.modules.batchnorm import BatchNorm2d\n",
        "import torch.optim as optim\n",
        "from tqdm import tqdm\n",
        "from google.colab import drive\n",
        "from pathlib import Path\n",
        "from sklearn.utils import shuffle"
      ]
    },
    {
      "cell_type": "markdown",
      "metadata": {
        "id": "UfhtOLLv2xTW"
      },
      "source": [
        "### **Dataset Loading**"
      ]
    },
    {
      "cell_type": "code",
      "execution_count": null,
      "metadata": {
        "id": "MVllTV8IBp5q"
      },
      "outputs": [],
      "source": [
        "# ############ Working With Smaller Datset ############\n",
        "# ###################### RUN ONCE #########################\n",
        "# ## Collecting the path and labels from the dataset\n",
        "# train_nevus= sorted(glob(os.path.join(train_directory, \"nevus\", \"*.jpg\")))\n",
        "# train_others= sorted(glob(os.path.join(train_directory, \"others\",\"*.jpg\")))\n",
        "# tags_nevus_train = []\n",
        "# tags_others_train = []\n",
        "# tags_train = []\n",
        "# labels_nevus = []\n",
        "# labels_others = []\n",
        "# labels_train = []\n",
        "# routes_train = []\n",
        "# for i in range(len(train_nevus)):\n",
        "#   tags_nevus_train.append(train_nevus[i][-12:])\n",
        "#   labels_nevus.append(0)\n",
        "# for i in range(len(train_others)):\n",
        "#   tags_others_train.append(train_others[i][-12:])\n",
        "#   labels_others.append(1)\n",
        "\n",
        "# ## Combining the tags and labels from all the classes\n",
        "# tags_train = tags_nevus_train[1:1500] + tags_others_train[1:1500]\n",
        "# labels_train= labels_nevus[1:1500] + labels_others[1:1500]\n",
        "# routes_train = train_nevus[1:1500] + train_others[1:1500]\n",
        "\n",
        "# ## Writing to CSV File\n",
        "# training_set = pd.DataFrame.from_dict({'Image Tag':tags_train, 'Label': labels_train, 'Image Route': routes_train})\n",
        "# training_set = training_set.sample(frac=1,random_state=42).reset_index(drop=True)\n",
        "# training_set.to_csv(input_directory+'/training_set3000.csv')"
      ]
    },
    {
      "cell_type": "code",
      "execution_count": null,
      "metadata": {
        "id": "F21gKSwG6766"
      },
      "outputs": [],
      "source": [
        "def dataExtraction(directory, vocab):\n",
        "\n",
        "  scc= sorted(glob(os.path.join(directory, \"scc\", \"*.jpg\")))\n",
        "  mel = sorted(glob(os.path.join(directory, \"mel\", \"*.jpg\")))\n",
        "  bcc = sorted(glob(os.path.join(directory, \"bcc\", \"*.jpg\")))\n",
        "  if(vocab==True):\n",
        "    scc = scc[0:100]\n",
        "    mel = mel[0:100]\n",
        "    bcc = bcc[0:100]\n",
        "  tags_scc = []\n",
        "  tags_mel = []\n",
        "  tags_bcc = []\n",
        "  tags_total = []\n",
        "  labels_scc = []\n",
        "  labels_mel = []\n",
        "  labels_bcc = []\n",
        "  labels_total = []\n",
        "  routes_total = []\n",
        "  for i in range(len(mel)):\n",
        "    tags_mel.append(mel[i][-12:])\n",
        "    labels_mel.append(0)\n",
        "  for i in range(len(bcc)):\n",
        "    tags_bcc.append(bcc[i][-12:])\n",
        "    labels_bcc.append(1)\n",
        "  for i in range(len(scc)):\n",
        "    tags_scc.append(scc[i][-12:])\n",
        "    labels_scc.append(2)\n",
        "  ## Combining the tags and labels from all the classes\n",
        "  tags_total = tags_scc + tags_mel + tags_bcc\n",
        "  labels_total= labels_scc + labels_mel + labels_bcc\n",
        "  routes_total = scc + mel + bcc\n",
        "\n",
        "  return tags_total, labels_total, routes_total"
      ]
    },
    {
      "cell_type": "code",
      "execution_count": null,
      "metadata": {
        "id": "k_72fPqUXUBs"
      },
      "outputs": [],
      "source": [
        "# Directories\n",
        "input_directory = '/content/drive/MyDrive/Colab Notebooks/CAD Project/Dataset/Three Class Problem'\n",
        "train_directory = input_directory+'/train' \n",
        "val_directory = input_directory+'/val'"
      ]
    },
    {
      "cell_type": "markdown",
      "metadata": {
        "id": "9ZH3sNFu5yZD"
      },
      "source": [
        "**Training Dataset**"
      ]
    },
    {
      "cell_type": "code",
      "execution_count": null,
      "metadata": {
        "id": "bI_1LFEWG85E"
      },
      "outputs": [],
      "source": [
        "## Writing to CSV File\n",
        "tags_train, labels_train, routes_train = dataExtraction(train_directory, vocab=False)\n",
        "training_set= pd.DataFrame.from_dict({'Image Tag':tags_train, 'Label': labels_train, 'Image Route': routes_train})\n",
        "training_set= training_set.sample(frac=1,random_state=42).reset_index(drop=True)\n",
        "training_set.to_csv(input_directory+'/Data/training_set.csv')"
      ]
    },
    {
      "cell_type": "code",
      "source": [
        "## Writing to CSV File For Vocabulary\n",
        "vocab_tags_train, vocab_labels_train, vocab_routes_train = dataExtraction(train_directory, vocab=True)\n",
        "vocab_training_set= pd.DataFrame.from_dict({'Image Tag':vocab_tags_train, 'Label': vocab_labels_train, 'Image Route': vocab_routes_train})\n",
        "vocab_training_set= vocab_training_set.sample(frac=1,random_state=42).reset_index(drop=True)\n",
        "vocab_training_set.to_csv(input_directory+'/Data/vocab_training_set.csv')"
      ],
      "metadata": {
        "id": "haxr0BhAG6uk"
      },
      "execution_count": null,
      "outputs": []
    },
    {
      "cell_type": "markdown",
      "metadata": {
        "id": "LMiBFfZ758Ig"
      },
      "source": [
        "**Validation Set**"
      ]
    },
    {
      "cell_type": "code",
      "execution_count": null,
      "metadata": {
        "id": "0bH9NXXJHiEL"
      },
      "outputs": [],
      "source": [
        "## Writing to CSV File\n",
        "tags_val, labels_val, routes_val = dataExtraction(val_directory, vocab=False)\n",
        "validation_set= pd.DataFrame.from_dict({'Image Tag':tags_val, 'Label': labels_val, 'Image Route': routes_val})\n",
        "validation_set= validation_set.sample(frac=1,random_state=42).reset_index(drop=True)\n",
        "validation_set.to_csv(input_directory+'/Data/validation_set.csv')"
      ]
    },
    {
      "cell_type": "code",
      "execution_count": null,
      "metadata": {
        "colab": {
          "base_uri": "https://localhost:8080/"
        },
        "id": "yrhLpCtsV5pc",
        "outputId": "2d25ac21-263c-4af2-c1e1-02c2defb8856"
      },
      "outputs": [
        {
          "output_type": "stream",
          "name": "stdout",
          "text": [
            "8058\n",
            "1270\n",
            "300\n"
          ]
        }
      ],
      "source": [
        "## Checking\n",
        "print(len(training_set))\n",
        "print(len(validation_set))\n",
        "print(len(vocab_training_set))"
      ]
    },
    {
      "cell_type": "markdown",
      "metadata": {
        "id": "UcvHbvLd2p-g"
      },
      "source": [
        "### **Vocabulary Building : SIFT/BoW**"
      ]
    },
    {
      "cell_type": "code",
      "execution_count": null,
      "metadata": {
        "id": "j48m3CIh6Fs1"
      },
      "outputs": [],
      "source": [
        "training_csv_path = input_directory + '/Data/training_set.csv'\n",
        "validation_csv_path =  input_directory + '/Data/validation_set.csv'\n",
        "vocab_csv_path = input_directory + '/Data/vocab_training_set.csv'\n",
        "training_dataframe = pd.read_csv(training_csv_path)\n",
        "validation_dataframe = pd.read_csv(validation_csv_path)\n",
        "vocab_dataframe = pd.read_csv(vocab_csv_path)\n",
        "training_images_routes= training_dataframe['Image Route'].to_numpy()\n",
        "validation_images_routes= validation_dataframe['Image Route'].to_numpy()\n",
        "vocab_images_routes= vocab_dataframe['Image Route'].to_numpy()"
      ]
    },
    {
      "cell_type": "code",
      "execution_count": null,
      "metadata": {
        "colab": {
          "base_uri": "https://localhost:8080/"
        },
        "id": "5Cd5VFXbXXTZ",
        "outputId": "6f56ef09-6d6d-496a-f762-0a64f872d4b5"
      },
      "outputs": [
        {
          "output_type": "stream",
          "name": "stdout",
          "text": [
            "7097\n",
            "1270\n",
            "300\n"
          ]
        }
      ],
      "source": [
        "## Test Purpose\n",
        "print(len(training_images_routes))\n",
        "print(len(validation_images_routes))\n",
        "print(len(vocab_images_routes))"
      ]
    },
    {
      "cell_type": "markdown",
      "metadata": {
        "id": "avbMyx--iV4p"
      },
      "source": [
        "**Getting the Descriptors**"
      ]
    },
    {
      "cell_type": "code",
      "execution_count": null,
      "metadata": {
        "id": "6VHSc2wDMCvv"
      },
      "outputs": [],
      "source": [
        "def FeatureExtractionSIFT(image_routes):\n",
        "  descriptors_list = []\n",
        "  for i in image_routes:\n",
        "    #input image\n",
        "    image_read = cv2.imread(i)\n",
        "    dim = (512, 512)\n",
        "    # resize image\n",
        "    image_resized =  cv2.resize(image_read, dim, interpolation = cv2.INTER_AREA)\n",
        "    # cv2_imshow(image_resized)\n",
        "    image_gray = cv2.cvtColor(image_resized, cv2.COLOR_BGR2GRAY)\n",
        "    # cv2_imshow(image_gray)\n",
        "\n",
        "\n",
        "    # Dense Keypoints Extraction\n",
        "    sift = cv2.xfeatures2d.SIFT_create()\n",
        "    step_size = 20\n",
        "    keypoints = [cv2.KeyPoint(x, y, step_size) for y in range(0, image_gray.shape[0], step_size) for x in range(0, image_gray.shape[1], step_size) if (x>128 and x<384) and (y>128 and y<384)]\n",
        "    dense_descriptors = sift.compute(image_gray, keypoints)\n",
        "\n",
        "    # if dense_descriptors[1] is not None:\n",
        "    #   descriptors_list.append(dense_descriptors[1])\n",
        "    # else:\n",
        "    #     keypoints, sparse_descriptors = sift.detectAndCompute(image_gray, None)\n",
        "    #     if sparse_descriptors is not None:\n",
        "    #       descriptors_list.append(sparse_descriptors)\n",
        "    #     else:\n",
        "    #       step_size = 40\n",
        "    #       keypoints = [cv2.KeyPoint(x, y, step_size) for y in range(0, image_gray.shape[0], step_size) for x in range(0, image_gray.shape[1], step_size)]\n",
        "    #       random_descriptors = sift.compute(image_gray, keypoints)\n",
        "    #       descriptors_list.append(random_descriptors[1])\n",
        "\n",
        "\n",
        "    descriptors_list.append(dense_descriptors[1])\n",
        "    # draw the detected key points\n",
        "    # sift_image = cv2.drawKeypoints(image_resized, keypoints, image_resized)\n",
        "    # show the image\n",
        "    # cv2_imshow(sift_image)\n",
        "  return descriptors_list"
      ]
    },
    {
      "cell_type": "markdown",
      "metadata": {
        "id": "erYtd8Uvl8zD"
      },
      "source": [
        "### **Vocabulary Creation**"
      ]
    },
    {
      "cell_type": "code",
      "source": [
        "### Training Set SIFT Descriptors\n",
        "vocab_sift_descriptors_list = FeatureExtractionSIFT(vocab_images_routes)\n",
        "vocab_all_sift_descriptors = np.concatenate(vocab_sift_descriptors_list, axis=0)\n",
        "print('descriptors.shape: {}'.format(vocab_all_sift_descriptors.shape))"
      ],
      "metadata": {
        "colab": {
          "base_uri": "https://localhost:8080/"
        },
        "id": "Y5QW1WwmMPeS",
        "outputId": "9e9ad3ec-8b98-4535-812e-11461cd5ca07"
      },
      "execution_count": null,
      "outputs": [
        {
          "output_type": "stream",
          "name": "stdout",
          "text": [
            "descriptors.shape: (50700, 128)\n"
          ]
        }
      ]
    },
    {
      "cell_type": "code",
      "source": [
        "vocab_sift_descriptors_route = input_directory + '/Data/Pickles/vocab_sift_descriptors_wp.p'\n",
        "with open(vocab_sift_descriptors_route, 'wb') as fp:\n",
        "  pickle.dump(vocab_all_sift_descriptors, fp)"
      ],
      "metadata": {
        "id": "yi6UsrI6MhUk"
      },
      "execution_count": null,
      "outputs": []
    },
    {
      "cell_type": "code",
      "source": [
        "vocab_sift_descriptors_route = input_directory + '/Data/Pickles/vocab_sift_descriptors_wp.p'\n",
        "with open(vocab_sift_descriptors_route, 'rb') as fp:\n",
        "  vocab_all_sift_descriptors = pickle.load(fp)"
      ],
      "metadata": {
        "id": "XqhQTPfQMkct"
      },
      "execution_count": null,
      "outputs": []
    },
    {
      "cell_type": "markdown",
      "metadata": {
        "id": "U4B48VTjRNyN"
      },
      "source": [
        "### **K-Means Clustering for BoW**"
      ]
    },
    {
      "cell_type": "code",
      "execution_count": null,
      "metadata": {
        "id": "8-2RtJLSDbkz",
        "colab": {
          "base_uri": "https://localhost:8080/"
        },
        "outputId": "d438fb64-a7ed-4761-b27f-3e5047294716"
      },
      "outputs": [
        {
          "output_type": "stream",
          "name": "stdout",
          "text": [
            "sse is 2179019520.0\n"
          ]
        }
      ],
      "source": [
        "## Computing Bag Of Words With K-means Clustering\n",
        "num_clusters = 200\n",
        "kmeans = KMeans(n_clusters=num_clusters, random_state=41)\n",
        "kmeans.fit(vocab_all_sift_descriptors)\n",
        "# print(kmeans.labels_)\n",
        "# print(kmeans.cluster_centers_)\n",
        "print('sse is {}'.format(kmeans.inertia_))\n",
        "clusters = kmeans.cluster_centers_"
      ]
    },
    {
      "cell_type": "code",
      "execution_count": null,
      "metadata": {
        "id": "8IwTKGXOJMgX"
      },
      "outputs": [],
      "source": [
        "clusters_route = input_directory + '/Data/Pickles/clusters_wp.p'\n",
        "with open(clusters_route, 'wb') as fp:\n",
        "  pickle.dump(clusters, fp)"
      ]
    },
    {
      "cell_type": "code",
      "execution_count": null,
      "metadata": {
        "id": "Imlor9ntS4fY"
      },
      "outputs": [],
      "source": [
        "clusters_route = input_directory + '/Data/Pickles/clusters_wp.p'\n",
        "with open(clusters_route, 'rb') as fp:\n",
        "  clusters = pickle.load(fp)"
      ]
    },
    {
      "cell_type": "markdown",
      "metadata": {
        "id": "nigFGeOzUDy6"
      },
      "source": [
        "### **Training Set Feature Extraction**"
      ]
    },
    {
      "cell_type": "code",
      "source": [
        "### Training Set SIFT Descriptors\n",
        "training_sift_descriptors_list = FeatureExtractionSIFT(training_images_routes)\n",
        "training_all_sift_descriptors = np.concatenate(training_sift_descriptors_list, axis=0)\n",
        "print('descriptors.shape: {}'.format(training_all_sift_descriptors.shape))"
      ],
      "metadata": {
        "colab": {
          "base_uri": "https://localhost:8080/"
        },
        "outputId": "b0070cb2-ac80-446d-ac93-ba23e9c8dc0c",
        "id": "MvdWvT3tbaDm"
      },
      "execution_count": null,
      "outputs": [
        {
          "output_type": "stream",
          "name": "stdout",
          "text": [
            "descriptors.shape: (1361802, 128)\n"
          ]
        }
      ]
    },
    {
      "cell_type": "code",
      "source": [
        "training_sift_descriptors_route = input_directory + '/Data/Pickles/training_sift_descriptors_wp.p'\n",
        "with open(training_sift_descriptors_route, 'wb') as fp:\n",
        "  pickle.dump(training_all_sift_descriptors, fp)"
      ],
      "metadata": {
        "id": "9yPyD8m5baDm"
      },
      "execution_count": null,
      "outputs": []
    },
    {
      "cell_type": "code",
      "source": [
        "training_sift_descriptors_route = input_directory + '/Data/Pickles/training_sift_descriptors_wp.p'\n",
        "with open(training_sift_descriptors_route, 'rb') as fp:\n",
        "  training_all_sift_descriptors = pickle.load(fp)"
      ],
      "metadata": {
        "id": "NQXm_uqnbaDn"
      },
      "execution_count": null,
      "outputs": []
    },
    {
      "cell_type": "markdown",
      "metadata": {
        "id": "At9TF7kfVUj6"
      },
      "source": [
        "### **Validation Set Feature Extraction**"
      ]
    },
    {
      "cell_type": "code",
      "source": [
        "### Training Set SIFT Descriptors\n",
        "validation_sift_descriptors_list = FeatureExtractionSIFT(validation_images_routes)\n",
        "validation_all_sift_descriptors = np.concatenate(validation_sift_descriptors_list, axis=0)\n",
        "print('descriptors.shape: {}'.format(validation_all_sift_descriptors.shape))"
      ],
      "metadata": {
        "colab": {
          "base_uri": "https://localhost:8080/"
        },
        "outputId": "71ef810d-57d6-4337-df14-c570a92ce1e2",
        "id": "FSaYicJ2VUkG"
      },
      "execution_count": null,
      "outputs": [
        {
          "output_type": "stream",
          "name": "stdout",
          "text": [
            "descriptors.shape: (214630, 128)\n"
          ]
        }
      ]
    },
    {
      "cell_type": "code",
      "source": [
        "validation_sift_descriptors_route = input_directory + '/Data/Pickles/validation_sift_descriptors_wp.p'\n",
        "with open(validation_sift_descriptors_route, 'wb') as fp:\n",
        "  pickle.dump(validation_all_sift_descriptors, fp)"
      ],
      "metadata": {
        "id": "Q8PxizNFVUkG"
      },
      "execution_count": null,
      "outputs": []
    },
    {
      "cell_type": "code",
      "source": [
        "validation_sift_descriptors_route = input_directory + '/Data/Pickles/validation_sift_descriptors_wp.p'\n",
        "with open(validation_sift_descriptors_route, 'rb') as fp:\n",
        "  validation_all_sift_descriptors = pickle.load(fp)"
      ],
      "metadata": {
        "id": "e4g6vSd_VUkG"
      },
      "execution_count": null,
      "outputs": []
    },
    {
      "cell_type": "markdown",
      "source": [
        "### **Merge and Check**"
      ],
      "metadata": {
        "id": "3Vmcmbxt7qdl"
      }
    },
    {
      "cell_type": "code",
      "source": [
        "training_sift_descriptors_list = np.reshape(training_all_sift_descriptors, (len(training_images_routes),169,128))\n",
        "print(training_sift_descriptors_list.shape)\n",
        "validation_sift_descriptors_list = np.reshape(validation_all_sift_descriptors, (len(validation_images_routes),169,128))\n",
        "print(validation_sift_descriptors_list.shape)"
      ],
      "metadata": {
        "colab": {
          "base_uri": "https://localhost:8080/"
        },
        "id": "HqCkrOnG7wKW",
        "outputId": "af55b8b9-9db0-4a57-e80c-4c37ed5b63e4"
      },
      "execution_count": null,
      "outputs": [
        {
          "output_type": "stream",
          "name": "stdout",
          "text": [
            "(8058, 169, 128)\n",
            "(1270, 169, 128)\n"
          ]
        }
      ]
    },
    {
      "cell_type": "markdown",
      "metadata": {
        "id": "xYyR3hT5TEA9"
      },
      "source": [
        "### **Feature Histogram Computation**"
      ]
    },
    {
      "cell_type": "code",
      "execution_count": null,
      "metadata": {
        "id": "g4VpZEMXTIie"
      },
      "outputs": [],
      "source": [
        "def featureHistogram(descriptor_list, clusters):\n",
        "  code, _ = vq(descriptor_list, clusters)\n",
        "  features = np.zeros((1, clusters.shape[0]))\n",
        "  for x in code:\n",
        "    features[0, x] += 1\n",
        "  return features"
      ]
    },
    {
      "cell_type": "markdown",
      "metadata": {
        "id": "SLYwW8veUZC4"
      },
      "source": [
        "**Training Set**"
      ]
    },
    {
      "cell_type": "code",
      "source": [
        "train_features_list = []\n",
        "for i in range(len(training_images_routes)):\n",
        "  per_train_features_list = featureHistogram(training_sift_descriptors_list[i], clusters)\n",
        "  train_features_list.append(per_train_features_list)\n",
        "train_features = np.concatenate(train_features_list, axis=0)\n",
        "print('features all shape is: {}'.format(train_features.shape))\n"
      ],
      "metadata": {
        "colab": {
          "base_uri": "https://localhost:8080/"
        },
        "id": "0SmK2jR_IXJp",
        "outputId": "48def1fb-00d6-4877-e6d3-7a5915b560ed"
      },
      "execution_count": null,
      "outputs": [
        {
          "output_type": "stream",
          "name": "stdout",
          "text": [
            "features all shape is: (8058, 200)\n"
          ]
        }
      ]
    },
    {
      "cell_type": "code",
      "execution_count": null,
      "metadata": {
        "id": "aYxsiLenG-xO"
      },
      "outputs": [],
      "source": [
        "train_features_all_route = input_directory + '/Data/Pickles/train_features_wp.p'\n",
        "with open(train_features_all_route, 'wb') as fp:\n",
        "  pickle.dump(train_features, fp)"
      ]
    },
    {
      "cell_type": "code",
      "execution_count": null,
      "metadata": {
        "id": "kD52lDl1WelE"
      },
      "outputs": [],
      "source": [
        "train_features_all_route = input_directory + '/Data/Pickles/train_features_wp.p'\n",
        "with open(train_features_all_route, 'rb') as fp:\n",
        "  train_features = pickle.load(fp)"
      ]
    },
    {
      "cell_type": "code",
      "execution_count": null,
      "metadata": {
        "id": "Ns_nOmsUXBSM",
        "colab": {
          "base_uri": "https://localhost:8080/"
        },
        "outputId": "cc495ba1-440f-4156-d2c0-5d8cf7896a28"
      },
      "outputs": [
        {
          "output_type": "execute_result",
          "data": {
            "text/plain": [
              "           0         1         2         3         4         5         6    \\\n",
              "0     0.017751  0.053254  0.000000  0.000000  0.000000  0.000000  0.000000   \n",
              "1     0.000000  0.000000  0.023669  0.023669  0.000000  0.000000  0.005917   \n",
              "2     0.017751  0.000000  0.000000  0.035503  0.000000  0.023669  0.000000   \n",
              "3     0.017751  0.000000  0.000000  0.000000  0.000000  0.000000  0.005917   \n",
              "4     0.000000  0.000000  0.000000  0.000000  0.000000  0.000000  0.000000   \n",
              "...        ...       ...       ...       ...       ...       ...       ...   \n",
              "8053  0.000000  0.000000  0.000000  0.047337  0.000000  0.011834  0.000000   \n",
              "8054  0.000000  0.000000  0.000000  0.000000  0.000000  0.005917  0.029586   \n",
              "8055  0.005917  0.029586  0.000000  0.005917  0.005917  0.000000  0.000000   \n",
              "8056  0.000000  0.000000  0.000000  0.000000  0.000000  0.000000  0.000000   \n",
              "8057  0.000000  0.053254  0.000000  0.000000  0.000000  0.005917  0.000000   \n",
              "\n",
              "           7         8         9    ...       190       191       192  \\\n",
              "0     0.000000  0.017751  0.005917  ...  0.000000  0.000000  0.000000   \n",
              "1     0.000000  0.000000  0.000000  ...  0.005917  0.000000  0.000000   \n",
              "2     0.005917  0.000000  0.005917  ...  0.000000  0.005917  0.000000   \n",
              "3     0.005917  0.005917  0.005917  ...  0.000000  0.000000  0.000000   \n",
              "4     0.000000  0.000000  0.000000  ...  0.000000  0.000000  0.000000   \n",
              "...        ...       ...       ...  ...       ...       ...       ...   \n",
              "8053  0.000000  0.000000  0.023669  ...  0.011834  0.000000  0.000000   \n",
              "8054  0.000000  0.000000  0.000000  ...  0.000000  0.000000  0.005917   \n",
              "8055  0.029586  0.000000  0.011834  ...  0.000000  0.005917  0.000000   \n",
              "8056  0.011834  0.000000  0.000000  ...  0.023669  0.000000  0.000000   \n",
              "8057  0.000000  0.000000  0.005917  ...  0.000000  0.000000  0.000000   \n",
              "\n",
              "           193       194       195  196       197       198       199  \n",
              "0     0.000000  0.000000  0.000000  0.0  0.000000  0.000000  0.011834  \n",
              "1     0.000000  0.000000  0.000000  0.0  0.000000  0.000000  0.005917  \n",
              "2     0.000000  0.000000  0.000000  0.0  0.005917  0.023669  0.000000  \n",
              "3     0.065089  0.000000  0.000000  0.0  0.011834  0.035503  0.065089  \n",
              "4     0.000000  0.000000  0.000000  0.0  0.000000  0.000000  0.017751  \n",
              "...        ...       ...       ...  ...       ...       ...       ...  \n",
              "8053  0.000000  0.047337  0.005917  0.0  0.000000  0.000000  0.005917  \n",
              "8054  0.000000  0.000000  0.005917  0.0  0.011834  0.029586  0.000000  \n",
              "8055  0.005917  0.011834  0.000000  0.0  0.000000  0.000000  0.005917  \n",
              "8056  0.000000  0.005917  0.000000  0.0  0.000000  0.011834  0.000000  \n",
              "8057  0.017751  0.000000  0.000000  0.0  0.000000  0.000000  0.017751  \n",
              "\n",
              "[8058 rows x 200 columns]"
            ],
            "text/html": [
              "\n",
              "  <div id=\"df-20ce075e-dd21-4c97-aed8-1e6bf2636ab6\">\n",
              "    <div class=\"colab-df-container\">\n",
              "      <div>\n",
              "<style scoped>\n",
              "    .dataframe tbody tr th:only-of-type {\n",
              "        vertical-align: middle;\n",
              "    }\n",
              "\n",
              "    .dataframe tbody tr th {\n",
              "        vertical-align: top;\n",
              "    }\n",
              "\n",
              "    .dataframe thead th {\n",
              "        text-align: right;\n",
              "    }\n",
              "</style>\n",
              "<table border=\"1\" class=\"dataframe\">\n",
              "  <thead>\n",
              "    <tr style=\"text-align: right;\">\n",
              "      <th></th>\n",
              "      <th>0</th>\n",
              "      <th>1</th>\n",
              "      <th>2</th>\n",
              "      <th>3</th>\n",
              "      <th>4</th>\n",
              "      <th>5</th>\n",
              "      <th>6</th>\n",
              "      <th>7</th>\n",
              "      <th>8</th>\n",
              "      <th>9</th>\n",
              "      <th>...</th>\n",
              "      <th>190</th>\n",
              "      <th>191</th>\n",
              "      <th>192</th>\n",
              "      <th>193</th>\n",
              "      <th>194</th>\n",
              "      <th>195</th>\n",
              "      <th>196</th>\n",
              "      <th>197</th>\n",
              "      <th>198</th>\n",
              "      <th>199</th>\n",
              "    </tr>\n",
              "  </thead>\n",
              "  <tbody>\n",
              "    <tr>\n",
              "      <th>0</th>\n",
              "      <td>0.017751</td>\n",
              "      <td>0.053254</td>\n",
              "      <td>0.000000</td>\n",
              "      <td>0.000000</td>\n",
              "      <td>0.000000</td>\n",
              "      <td>0.000000</td>\n",
              "      <td>0.000000</td>\n",
              "      <td>0.000000</td>\n",
              "      <td>0.017751</td>\n",
              "      <td>0.005917</td>\n",
              "      <td>...</td>\n",
              "      <td>0.000000</td>\n",
              "      <td>0.000000</td>\n",
              "      <td>0.000000</td>\n",
              "      <td>0.000000</td>\n",
              "      <td>0.000000</td>\n",
              "      <td>0.000000</td>\n",
              "      <td>0.0</td>\n",
              "      <td>0.000000</td>\n",
              "      <td>0.000000</td>\n",
              "      <td>0.011834</td>\n",
              "    </tr>\n",
              "    <tr>\n",
              "      <th>1</th>\n",
              "      <td>0.000000</td>\n",
              "      <td>0.000000</td>\n",
              "      <td>0.023669</td>\n",
              "      <td>0.023669</td>\n",
              "      <td>0.000000</td>\n",
              "      <td>0.000000</td>\n",
              "      <td>0.005917</td>\n",
              "      <td>0.000000</td>\n",
              "      <td>0.000000</td>\n",
              "      <td>0.000000</td>\n",
              "      <td>...</td>\n",
              "      <td>0.005917</td>\n",
              "      <td>0.000000</td>\n",
              "      <td>0.000000</td>\n",
              "      <td>0.000000</td>\n",
              "      <td>0.000000</td>\n",
              "      <td>0.000000</td>\n",
              "      <td>0.0</td>\n",
              "      <td>0.000000</td>\n",
              "      <td>0.000000</td>\n",
              "      <td>0.005917</td>\n",
              "    </tr>\n",
              "    <tr>\n",
              "      <th>2</th>\n",
              "      <td>0.017751</td>\n",
              "      <td>0.000000</td>\n",
              "      <td>0.000000</td>\n",
              "      <td>0.035503</td>\n",
              "      <td>0.000000</td>\n",
              "      <td>0.023669</td>\n",
              "      <td>0.000000</td>\n",
              "      <td>0.005917</td>\n",
              "      <td>0.000000</td>\n",
              "      <td>0.005917</td>\n",
              "      <td>...</td>\n",
              "      <td>0.000000</td>\n",
              "      <td>0.005917</td>\n",
              "      <td>0.000000</td>\n",
              "      <td>0.000000</td>\n",
              "      <td>0.000000</td>\n",
              "      <td>0.000000</td>\n",
              "      <td>0.0</td>\n",
              "      <td>0.005917</td>\n",
              "      <td>0.023669</td>\n",
              "      <td>0.000000</td>\n",
              "    </tr>\n",
              "    <tr>\n",
              "      <th>3</th>\n",
              "      <td>0.017751</td>\n",
              "      <td>0.000000</td>\n",
              "      <td>0.000000</td>\n",
              "      <td>0.000000</td>\n",
              "      <td>0.000000</td>\n",
              "      <td>0.000000</td>\n",
              "      <td>0.005917</td>\n",
              "      <td>0.005917</td>\n",
              "      <td>0.005917</td>\n",
              "      <td>0.005917</td>\n",
              "      <td>...</td>\n",
              "      <td>0.000000</td>\n",
              "      <td>0.000000</td>\n",
              "      <td>0.000000</td>\n",
              "      <td>0.065089</td>\n",
              "      <td>0.000000</td>\n",
              "      <td>0.000000</td>\n",
              "      <td>0.0</td>\n",
              "      <td>0.011834</td>\n",
              "      <td>0.035503</td>\n",
              "      <td>0.065089</td>\n",
              "    </tr>\n",
              "    <tr>\n",
              "      <th>4</th>\n",
              "      <td>0.000000</td>\n",
              "      <td>0.000000</td>\n",
              "      <td>0.000000</td>\n",
              "      <td>0.000000</td>\n",
              "      <td>0.000000</td>\n",
              "      <td>0.000000</td>\n",
              "      <td>0.000000</td>\n",
              "      <td>0.000000</td>\n",
              "      <td>0.000000</td>\n",
              "      <td>0.000000</td>\n",
              "      <td>...</td>\n",
              "      <td>0.000000</td>\n",
              "      <td>0.000000</td>\n",
              "      <td>0.000000</td>\n",
              "      <td>0.000000</td>\n",
              "      <td>0.000000</td>\n",
              "      <td>0.000000</td>\n",
              "      <td>0.0</td>\n",
              "      <td>0.000000</td>\n",
              "      <td>0.000000</td>\n",
              "      <td>0.017751</td>\n",
              "    </tr>\n",
              "    <tr>\n",
              "      <th>...</th>\n",
              "      <td>...</td>\n",
              "      <td>...</td>\n",
              "      <td>...</td>\n",
              "      <td>...</td>\n",
              "      <td>...</td>\n",
              "      <td>...</td>\n",
              "      <td>...</td>\n",
              "      <td>...</td>\n",
              "      <td>...</td>\n",
              "      <td>...</td>\n",
              "      <td>...</td>\n",
              "      <td>...</td>\n",
              "      <td>...</td>\n",
              "      <td>...</td>\n",
              "      <td>...</td>\n",
              "      <td>...</td>\n",
              "      <td>...</td>\n",
              "      <td>...</td>\n",
              "      <td>...</td>\n",
              "      <td>...</td>\n",
              "      <td>...</td>\n",
              "    </tr>\n",
              "    <tr>\n",
              "      <th>8053</th>\n",
              "      <td>0.000000</td>\n",
              "      <td>0.000000</td>\n",
              "      <td>0.000000</td>\n",
              "      <td>0.047337</td>\n",
              "      <td>0.000000</td>\n",
              "      <td>0.011834</td>\n",
              "      <td>0.000000</td>\n",
              "      <td>0.000000</td>\n",
              "      <td>0.000000</td>\n",
              "      <td>0.023669</td>\n",
              "      <td>...</td>\n",
              "      <td>0.011834</td>\n",
              "      <td>0.000000</td>\n",
              "      <td>0.000000</td>\n",
              "      <td>0.000000</td>\n",
              "      <td>0.047337</td>\n",
              "      <td>0.005917</td>\n",
              "      <td>0.0</td>\n",
              "      <td>0.000000</td>\n",
              "      <td>0.000000</td>\n",
              "      <td>0.005917</td>\n",
              "    </tr>\n",
              "    <tr>\n",
              "      <th>8054</th>\n",
              "      <td>0.000000</td>\n",
              "      <td>0.000000</td>\n",
              "      <td>0.000000</td>\n",
              "      <td>0.000000</td>\n",
              "      <td>0.000000</td>\n",
              "      <td>0.005917</td>\n",
              "      <td>0.029586</td>\n",
              "      <td>0.000000</td>\n",
              "      <td>0.000000</td>\n",
              "      <td>0.000000</td>\n",
              "      <td>...</td>\n",
              "      <td>0.000000</td>\n",
              "      <td>0.000000</td>\n",
              "      <td>0.005917</td>\n",
              "      <td>0.000000</td>\n",
              "      <td>0.000000</td>\n",
              "      <td>0.005917</td>\n",
              "      <td>0.0</td>\n",
              "      <td>0.011834</td>\n",
              "      <td>0.029586</td>\n",
              "      <td>0.000000</td>\n",
              "    </tr>\n",
              "    <tr>\n",
              "      <th>8055</th>\n",
              "      <td>0.005917</td>\n",
              "      <td>0.029586</td>\n",
              "      <td>0.000000</td>\n",
              "      <td>0.005917</td>\n",
              "      <td>0.005917</td>\n",
              "      <td>0.000000</td>\n",
              "      <td>0.000000</td>\n",
              "      <td>0.029586</td>\n",
              "      <td>0.000000</td>\n",
              "      <td>0.011834</td>\n",
              "      <td>...</td>\n",
              "      <td>0.000000</td>\n",
              "      <td>0.005917</td>\n",
              "      <td>0.000000</td>\n",
              "      <td>0.005917</td>\n",
              "      <td>0.011834</td>\n",
              "      <td>0.000000</td>\n",
              "      <td>0.0</td>\n",
              "      <td>0.000000</td>\n",
              "      <td>0.000000</td>\n",
              "      <td>0.005917</td>\n",
              "    </tr>\n",
              "    <tr>\n",
              "      <th>8056</th>\n",
              "      <td>0.000000</td>\n",
              "      <td>0.000000</td>\n",
              "      <td>0.000000</td>\n",
              "      <td>0.000000</td>\n",
              "      <td>0.000000</td>\n",
              "      <td>0.000000</td>\n",
              "      <td>0.000000</td>\n",
              "      <td>0.011834</td>\n",
              "      <td>0.000000</td>\n",
              "      <td>0.000000</td>\n",
              "      <td>...</td>\n",
              "      <td>0.023669</td>\n",
              "      <td>0.000000</td>\n",
              "      <td>0.000000</td>\n",
              "      <td>0.000000</td>\n",
              "      <td>0.005917</td>\n",
              "      <td>0.000000</td>\n",
              "      <td>0.0</td>\n",
              "      <td>0.000000</td>\n",
              "      <td>0.011834</td>\n",
              "      <td>0.000000</td>\n",
              "    </tr>\n",
              "    <tr>\n",
              "      <th>8057</th>\n",
              "      <td>0.000000</td>\n",
              "      <td>0.053254</td>\n",
              "      <td>0.000000</td>\n",
              "      <td>0.000000</td>\n",
              "      <td>0.000000</td>\n",
              "      <td>0.005917</td>\n",
              "      <td>0.000000</td>\n",
              "      <td>0.000000</td>\n",
              "      <td>0.000000</td>\n",
              "      <td>0.005917</td>\n",
              "      <td>...</td>\n",
              "      <td>0.000000</td>\n",
              "      <td>0.000000</td>\n",
              "      <td>0.000000</td>\n",
              "      <td>0.017751</td>\n",
              "      <td>0.000000</td>\n",
              "      <td>0.000000</td>\n",
              "      <td>0.0</td>\n",
              "      <td>0.000000</td>\n",
              "      <td>0.000000</td>\n",
              "      <td>0.017751</td>\n",
              "    </tr>\n",
              "  </tbody>\n",
              "</table>\n",
              "<p>8058 rows × 200 columns</p>\n",
              "</div>\n",
              "      <button class=\"colab-df-convert\" onclick=\"convertToInteractive('df-20ce075e-dd21-4c97-aed8-1e6bf2636ab6')\"\n",
              "              title=\"Convert this dataframe to an interactive table.\"\n",
              "              style=\"display:none;\">\n",
              "        \n",
              "  <svg xmlns=\"http://www.w3.org/2000/svg\" height=\"24px\"viewBox=\"0 0 24 24\"\n",
              "       width=\"24px\">\n",
              "    <path d=\"M0 0h24v24H0V0z\" fill=\"none\"/>\n",
              "    <path d=\"M18.56 5.44l.94 2.06.94-2.06 2.06-.94-2.06-.94-.94-2.06-.94 2.06-2.06.94zm-11 1L8.5 8.5l.94-2.06 2.06-.94-2.06-.94L8.5 2.5l-.94 2.06-2.06.94zm10 10l.94 2.06.94-2.06 2.06-.94-2.06-.94-.94-2.06-.94 2.06-2.06.94z\"/><path d=\"M17.41 7.96l-1.37-1.37c-.4-.4-.92-.59-1.43-.59-.52 0-1.04.2-1.43.59L10.3 9.45l-7.72 7.72c-.78.78-.78 2.05 0 2.83L4 21.41c.39.39.9.59 1.41.59.51 0 1.02-.2 1.41-.59l7.78-7.78 2.81-2.81c.8-.78.8-2.07 0-2.86zM5.41 20L4 18.59l7.72-7.72 1.47 1.35L5.41 20z\"/>\n",
              "  </svg>\n",
              "      </button>\n",
              "      \n",
              "  <style>\n",
              "    .colab-df-container {\n",
              "      display:flex;\n",
              "      flex-wrap:wrap;\n",
              "      gap: 12px;\n",
              "    }\n",
              "\n",
              "    .colab-df-convert {\n",
              "      background-color: #E8F0FE;\n",
              "      border: none;\n",
              "      border-radius: 50%;\n",
              "      cursor: pointer;\n",
              "      display: none;\n",
              "      fill: #1967D2;\n",
              "      height: 32px;\n",
              "      padding: 0 0 0 0;\n",
              "      width: 32px;\n",
              "    }\n",
              "\n",
              "    .colab-df-convert:hover {\n",
              "      background-color: #E2EBFA;\n",
              "      box-shadow: 0px 1px 2px rgba(60, 64, 67, 0.3), 0px 1px 3px 1px rgba(60, 64, 67, 0.15);\n",
              "      fill: #174EA6;\n",
              "    }\n",
              "\n",
              "    [theme=dark] .colab-df-convert {\n",
              "      background-color: #3B4455;\n",
              "      fill: #D2E3FC;\n",
              "    }\n",
              "\n",
              "    [theme=dark] .colab-df-convert:hover {\n",
              "      background-color: #434B5C;\n",
              "      box-shadow: 0px 1px 3px 1px rgba(0, 0, 0, 0.15);\n",
              "      filter: drop-shadow(0px 1px 2px rgba(0, 0, 0, 0.3));\n",
              "      fill: #FFFFFF;\n",
              "    }\n",
              "  </style>\n",
              "\n",
              "      <script>\n",
              "        const buttonEl =\n",
              "          document.querySelector('#df-20ce075e-dd21-4c97-aed8-1e6bf2636ab6 button.colab-df-convert');\n",
              "        buttonEl.style.display =\n",
              "          google.colab.kernel.accessAllowed ? 'block' : 'none';\n",
              "\n",
              "        async function convertToInteractive(key) {\n",
              "          const element = document.querySelector('#df-20ce075e-dd21-4c97-aed8-1e6bf2636ab6');\n",
              "          const dataTable =\n",
              "            await google.colab.kernel.invokeFunction('convertToInteractive',\n",
              "                                                     [key], {});\n",
              "          if (!dataTable) return;\n",
              "\n",
              "          const docLinkHtml = 'Like what you see? Visit the ' +\n",
              "            '<a target=\"_blank\" href=https://colab.research.google.com/notebooks/data_table.ipynb>data table notebook</a>'\n",
              "            + ' to learn more about interactive tables.';\n",
              "          element.innerHTML = '';\n",
              "          dataTable['output_type'] = 'display_data';\n",
              "          await google.colab.output.renderOutput(dataTable, element);\n",
              "          const docLink = document.createElement('div');\n",
              "          docLink.innerHTML = docLinkHtml;\n",
              "          element.appendChild(docLink);\n",
              "        }\n",
              "      </script>\n",
              "    </div>\n",
              "  </div>\n",
              "  "
            ]
          },
          "metadata": {},
          "execution_count": 85
        }
      ],
      "source": [
        "tdf = pd.DataFrame(train_features)\n",
        "tdf = tdf/169\n",
        "tdf"
      ]
    },
    {
      "cell_type": "markdown",
      "metadata": {
        "id": "K-bC3y_WUdHZ"
      },
      "source": [
        "**Validation Set**"
      ]
    },
    {
      "cell_type": "code",
      "execution_count": null,
      "metadata": {
        "id": "qRdOYuKLU7-P",
        "colab": {
          "base_uri": "https://localhost:8080/"
        },
        "outputId": "4c93b091-985d-4b86-d86c-3aea9d27ceb4"
      },
      "outputs": [
        {
          "output_type": "stream",
          "name": "stdout",
          "text": [
            "features all shape is: (1270, 200)\n"
          ]
        }
      ],
      "source": [
        "validation_features_list = []\n",
        "for i in range(len(validation_images_routes)):\n",
        "  per_val_features_list = featureHistogram(validation_sift_descriptors_list[i], clusters)\n",
        "  validation_features_list.append(per_val_features_list)\n",
        "val_features = np.concatenate(validation_features_list, axis=0)\n",
        "print('features all shape is: {}'.format(val_features.shape))"
      ]
    },
    {
      "cell_type": "code",
      "execution_count": null,
      "metadata": {
        "id": "hcQHNs-FVe8V"
      },
      "outputs": [],
      "source": [
        "val_features_all_route = input_directory + '/Data/Pickles/val_features_wp.p'\n",
        "with open(val_features_all_route, 'wb') as fp:\n",
        "  pickle.dump(val_features, fp)"
      ]
    },
    {
      "cell_type": "code",
      "execution_count": null,
      "metadata": {
        "id": "KnLgE-q5Vj8D"
      },
      "outputs": [],
      "source": [
        "val_features_all_route = input_directory + '/Data/Pickles/val_features_wp.p'\n",
        "with open(val_features_all_route, 'rb') as fp:\n",
        "  val_features = pickle.load(fp)"
      ]
    },
    {
      "cell_type": "code",
      "execution_count": null,
      "metadata": {
        "id": "e7V4J8OvVuqf",
        "colab": {
          "base_uri": "https://localhost:8080/"
        },
        "outputId": "32e5df3b-909a-4637-c552-255dd513efd7"
      },
      "outputs": [
        {
          "output_type": "execute_result",
          "data": {
            "text/plain": [
              "      0         1         2         3         4         5         6    \\\n",
              "0     0.0  0.000000  0.000000  0.011834  0.017751  0.029586  0.000000   \n",
              "1     0.0  0.005917  0.000000  0.029586  0.000000  0.041420  0.000000   \n",
              "2     0.0  0.000000  0.000000  0.005917  0.000000  0.053254  0.000000   \n",
              "3     0.0  0.017751  0.005917  0.029586  0.000000  0.017751  0.000000   \n",
              "4     0.0  0.005917  0.000000  0.000000  0.000000  0.000000  0.000000   \n",
              "...   ...       ...       ...       ...       ...       ...       ...   \n",
              "1265  0.0  0.000000  0.005917  0.005917  0.035503  0.000000  0.000000   \n",
              "1266  0.0  0.000000  0.000000  0.011834  0.000000  0.000000  0.017751   \n",
              "1267  0.0  0.000000  0.000000  0.000000  0.000000  0.000000  0.000000   \n",
              "1268  0.0  0.005917  0.011834  0.000000  0.000000  0.011834  0.000000   \n",
              "1269  0.0  0.005917  0.005917  0.011834  0.000000  0.000000  0.005917   \n",
              "\n",
              "           7         8         9    ...       190       191       192  \\\n",
              "0     0.000000  0.017751  0.000000  ...  0.017751  0.005917  0.000000   \n",
              "1     0.000000  0.000000  0.000000  ...  0.000000  0.000000  0.000000   \n",
              "2     0.005917  0.000000  0.005917  ...  0.000000  0.000000  0.000000   \n",
              "3     0.005917  0.000000  0.011834  ...  0.000000  0.000000  0.000000   \n",
              "4     0.000000  0.000000  0.005917  ...  0.000000  0.000000  0.000000   \n",
              "...        ...       ...       ...  ...       ...       ...       ...   \n",
              "1265  0.017751  0.023669  0.000000  ...  0.000000  0.041420  0.000000   \n",
              "1266  0.017751  0.017751  0.000000  ...  0.000000  0.000000  0.000000   \n",
              "1267  0.000000  0.029586  0.000000  ...  0.000000  0.000000  0.000000   \n",
              "1268  0.017751  0.000000  0.000000  ...  0.000000  0.000000  0.011834   \n",
              "1269  0.005917  0.000000  0.017751  ...  0.000000  0.023669  0.000000   \n",
              "\n",
              "           193       194       195  196       197       198       199  \n",
              "0     0.000000  0.011834  0.000000  0.0  0.000000  0.000000  0.000000  \n",
              "1     0.000000  0.017751  0.000000  0.0  0.000000  0.000000  0.035503  \n",
              "2     0.000000  0.041420  0.023669  0.0  0.000000  0.000000  0.000000  \n",
              "3     0.041420  0.005917  0.000000  0.0  0.011834  0.000000  0.000000  \n",
              "4     0.000000  0.011834  0.000000  0.0  0.000000  0.000000  0.005917  \n",
              "...        ...       ...       ...  ...       ...       ...       ...  \n",
              "1265  0.000000  0.005917  0.000000  0.0  0.005917  0.005917  0.000000  \n",
              "1266  0.000000  0.029586  0.000000  0.0  0.011834  0.005917  0.005917  \n",
              "1267  0.000000  0.005917  0.005917  0.0  0.011834  0.000000  0.005917  \n",
              "1268  0.023669  0.011834  0.000000  0.0  0.000000  0.000000  0.000000  \n",
              "1269  0.011834  0.005917  0.000000  0.0  0.000000  0.011834  0.023669  \n",
              "\n",
              "[1270 rows x 200 columns]"
            ],
            "text/html": [
              "\n",
              "  <div id=\"df-38a92ae0-67c7-4409-a6ee-61921c2d0f73\">\n",
              "    <div class=\"colab-df-container\">\n",
              "      <div>\n",
              "<style scoped>\n",
              "    .dataframe tbody tr th:only-of-type {\n",
              "        vertical-align: middle;\n",
              "    }\n",
              "\n",
              "    .dataframe tbody tr th {\n",
              "        vertical-align: top;\n",
              "    }\n",
              "\n",
              "    .dataframe thead th {\n",
              "        text-align: right;\n",
              "    }\n",
              "</style>\n",
              "<table border=\"1\" class=\"dataframe\">\n",
              "  <thead>\n",
              "    <tr style=\"text-align: right;\">\n",
              "      <th></th>\n",
              "      <th>0</th>\n",
              "      <th>1</th>\n",
              "      <th>2</th>\n",
              "      <th>3</th>\n",
              "      <th>4</th>\n",
              "      <th>5</th>\n",
              "      <th>6</th>\n",
              "      <th>7</th>\n",
              "      <th>8</th>\n",
              "      <th>9</th>\n",
              "      <th>...</th>\n",
              "      <th>190</th>\n",
              "      <th>191</th>\n",
              "      <th>192</th>\n",
              "      <th>193</th>\n",
              "      <th>194</th>\n",
              "      <th>195</th>\n",
              "      <th>196</th>\n",
              "      <th>197</th>\n",
              "      <th>198</th>\n",
              "      <th>199</th>\n",
              "    </tr>\n",
              "  </thead>\n",
              "  <tbody>\n",
              "    <tr>\n",
              "      <th>0</th>\n",
              "      <td>0.0</td>\n",
              "      <td>0.000000</td>\n",
              "      <td>0.000000</td>\n",
              "      <td>0.011834</td>\n",
              "      <td>0.017751</td>\n",
              "      <td>0.029586</td>\n",
              "      <td>0.000000</td>\n",
              "      <td>0.000000</td>\n",
              "      <td>0.017751</td>\n",
              "      <td>0.000000</td>\n",
              "      <td>...</td>\n",
              "      <td>0.017751</td>\n",
              "      <td>0.005917</td>\n",
              "      <td>0.000000</td>\n",
              "      <td>0.000000</td>\n",
              "      <td>0.011834</td>\n",
              "      <td>0.000000</td>\n",
              "      <td>0.0</td>\n",
              "      <td>0.000000</td>\n",
              "      <td>0.000000</td>\n",
              "      <td>0.000000</td>\n",
              "    </tr>\n",
              "    <tr>\n",
              "      <th>1</th>\n",
              "      <td>0.0</td>\n",
              "      <td>0.005917</td>\n",
              "      <td>0.000000</td>\n",
              "      <td>0.029586</td>\n",
              "      <td>0.000000</td>\n",
              "      <td>0.041420</td>\n",
              "      <td>0.000000</td>\n",
              "      <td>0.000000</td>\n",
              "      <td>0.000000</td>\n",
              "      <td>0.000000</td>\n",
              "      <td>...</td>\n",
              "      <td>0.000000</td>\n",
              "      <td>0.000000</td>\n",
              "      <td>0.000000</td>\n",
              "      <td>0.000000</td>\n",
              "      <td>0.017751</td>\n",
              "      <td>0.000000</td>\n",
              "      <td>0.0</td>\n",
              "      <td>0.000000</td>\n",
              "      <td>0.000000</td>\n",
              "      <td>0.035503</td>\n",
              "    </tr>\n",
              "    <tr>\n",
              "      <th>2</th>\n",
              "      <td>0.0</td>\n",
              "      <td>0.000000</td>\n",
              "      <td>0.000000</td>\n",
              "      <td>0.005917</td>\n",
              "      <td>0.000000</td>\n",
              "      <td>0.053254</td>\n",
              "      <td>0.000000</td>\n",
              "      <td>0.005917</td>\n",
              "      <td>0.000000</td>\n",
              "      <td>0.005917</td>\n",
              "      <td>...</td>\n",
              "      <td>0.000000</td>\n",
              "      <td>0.000000</td>\n",
              "      <td>0.000000</td>\n",
              "      <td>0.000000</td>\n",
              "      <td>0.041420</td>\n",
              "      <td>0.023669</td>\n",
              "      <td>0.0</td>\n",
              "      <td>0.000000</td>\n",
              "      <td>0.000000</td>\n",
              "      <td>0.000000</td>\n",
              "    </tr>\n",
              "    <tr>\n",
              "      <th>3</th>\n",
              "      <td>0.0</td>\n",
              "      <td>0.017751</td>\n",
              "      <td>0.005917</td>\n",
              "      <td>0.029586</td>\n",
              "      <td>0.000000</td>\n",
              "      <td>0.017751</td>\n",
              "      <td>0.000000</td>\n",
              "      <td>0.005917</td>\n",
              "      <td>0.000000</td>\n",
              "      <td>0.011834</td>\n",
              "      <td>...</td>\n",
              "      <td>0.000000</td>\n",
              "      <td>0.000000</td>\n",
              "      <td>0.000000</td>\n",
              "      <td>0.041420</td>\n",
              "      <td>0.005917</td>\n",
              "      <td>0.000000</td>\n",
              "      <td>0.0</td>\n",
              "      <td>0.011834</td>\n",
              "      <td>0.000000</td>\n",
              "      <td>0.000000</td>\n",
              "    </tr>\n",
              "    <tr>\n",
              "      <th>4</th>\n",
              "      <td>0.0</td>\n",
              "      <td>0.005917</td>\n",
              "      <td>0.000000</td>\n",
              "      <td>0.000000</td>\n",
              "      <td>0.000000</td>\n",
              "      <td>0.000000</td>\n",
              "      <td>0.000000</td>\n",
              "      <td>0.000000</td>\n",
              "      <td>0.000000</td>\n",
              "      <td>0.005917</td>\n",
              "      <td>...</td>\n",
              "      <td>0.000000</td>\n",
              "      <td>0.000000</td>\n",
              "      <td>0.000000</td>\n",
              "      <td>0.000000</td>\n",
              "      <td>0.011834</td>\n",
              "      <td>0.000000</td>\n",
              "      <td>0.0</td>\n",
              "      <td>0.000000</td>\n",
              "      <td>0.000000</td>\n",
              "      <td>0.005917</td>\n",
              "    </tr>\n",
              "    <tr>\n",
              "      <th>...</th>\n",
              "      <td>...</td>\n",
              "      <td>...</td>\n",
              "      <td>...</td>\n",
              "      <td>...</td>\n",
              "      <td>...</td>\n",
              "      <td>...</td>\n",
              "      <td>...</td>\n",
              "      <td>...</td>\n",
              "      <td>...</td>\n",
              "      <td>...</td>\n",
              "      <td>...</td>\n",
              "      <td>...</td>\n",
              "      <td>...</td>\n",
              "      <td>...</td>\n",
              "      <td>...</td>\n",
              "      <td>...</td>\n",
              "      <td>...</td>\n",
              "      <td>...</td>\n",
              "      <td>...</td>\n",
              "      <td>...</td>\n",
              "      <td>...</td>\n",
              "    </tr>\n",
              "    <tr>\n",
              "      <th>1265</th>\n",
              "      <td>0.0</td>\n",
              "      <td>0.000000</td>\n",
              "      <td>0.005917</td>\n",
              "      <td>0.005917</td>\n",
              "      <td>0.035503</td>\n",
              "      <td>0.000000</td>\n",
              "      <td>0.000000</td>\n",
              "      <td>0.017751</td>\n",
              "      <td>0.023669</td>\n",
              "      <td>0.000000</td>\n",
              "      <td>...</td>\n",
              "      <td>0.000000</td>\n",
              "      <td>0.041420</td>\n",
              "      <td>0.000000</td>\n",
              "      <td>0.000000</td>\n",
              "      <td>0.005917</td>\n",
              "      <td>0.000000</td>\n",
              "      <td>0.0</td>\n",
              "      <td>0.005917</td>\n",
              "      <td>0.005917</td>\n",
              "      <td>0.000000</td>\n",
              "    </tr>\n",
              "    <tr>\n",
              "      <th>1266</th>\n",
              "      <td>0.0</td>\n",
              "      <td>0.000000</td>\n",
              "      <td>0.000000</td>\n",
              "      <td>0.011834</td>\n",
              "      <td>0.000000</td>\n",
              "      <td>0.000000</td>\n",
              "      <td>0.017751</td>\n",
              "      <td>0.017751</td>\n",
              "      <td>0.017751</td>\n",
              "      <td>0.000000</td>\n",
              "      <td>...</td>\n",
              "      <td>0.000000</td>\n",
              "      <td>0.000000</td>\n",
              "      <td>0.000000</td>\n",
              "      <td>0.000000</td>\n",
              "      <td>0.029586</td>\n",
              "      <td>0.000000</td>\n",
              "      <td>0.0</td>\n",
              "      <td>0.011834</td>\n",
              "      <td>0.005917</td>\n",
              "      <td>0.005917</td>\n",
              "    </tr>\n",
              "    <tr>\n",
              "      <th>1267</th>\n",
              "      <td>0.0</td>\n",
              "      <td>0.000000</td>\n",
              "      <td>0.000000</td>\n",
              "      <td>0.000000</td>\n",
              "      <td>0.000000</td>\n",
              "      <td>0.000000</td>\n",
              "      <td>0.000000</td>\n",
              "      <td>0.000000</td>\n",
              "      <td>0.029586</td>\n",
              "      <td>0.000000</td>\n",
              "      <td>...</td>\n",
              "      <td>0.000000</td>\n",
              "      <td>0.000000</td>\n",
              "      <td>0.000000</td>\n",
              "      <td>0.000000</td>\n",
              "      <td>0.005917</td>\n",
              "      <td>0.005917</td>\n",
              "      <td>0.0</td>\n",
              "      <td>0.011834</td>\n",
              "      <td>0.000000</td>\n",
              "      <td>0.005917</td>\n",
              "    </tr>\n",
              "    <tr>\n",
              "      <th>1268</th>\n",
              "      <td>0.0</td>\n",
              "      <td>0.005917</td>\n",
              "      <td>0.011834</td>\n",
              "      <td>0.000000</td>\n",
              "      <td>0.000000</td>\n",
              "      <td>0.011834</td>\n",
              "      <td>0.000000</td>\n",
              "      <td>0.017751</td>\n",
              "      <td>0.000000</td>\n",
              "      <td>0.000000</td>\n",
              "      <td>...</td>\n",
              "      <td>0.000000</td>\n",
              "      <td>0.000000</td>\n",
              "      <td>0.011834</td>\n",
              "      <td>0.023669</td>\n",
              "      <td>0.011834</td>\n",
              "      <td>0.000000</td>\n",
              "      <td>0.0</td>\n",
              "      <td>0.000000</td>\n",
              "      <td>0.000000</td>\n",
              "      <td>0.000000</td>\n",
              "    </tr>\n",
              "    <tr>\n",
              "      <th>1269</th>\n",
              "      <td>0.0</td>\n",
              "      <td>0.005917</td>\n",
              "      <td>0.005917</td>\n",
              "      <td>0.011834</td>\n",
              "      <td>0.000000</td>\n",
              "      <td>0.000000</td>\n",
              "      <td>0.005917</td>\n",
              "      <td>0.005917</td>\n",
              "      <td>0.000000</td>\n",
              "      <td>0.017751</td>\n",
              "      <td>...</td>\n",
              "      <td>0.000000</td>\n",
              "      <td>0.023669</td>\n",
              "      <td>0.000000</td>\n",
              "      <td>0.011834</td>\n",
              "      <td>0.005917</td>\n",
              "      <td>0.000000</td>\n",
              "      <td>0.0</td>\n",
              "      <td>0.000000</td>\n",
              "      <td>0.011834</td>\n",
              "      <td>0.023669</td>\n",
              "    </tr>\n",
              "  </tbody>\n",
              "</table>\n",
              "<p>1270 rows × 200 columns</p>\n",
              "</div>\n",
              "      <button class=\"colab-df-convert\" onclick=\"convertToInteractive('df-38a92ae0-67c7-4409-a6ee-61921c2d0f73')\"\n",
              "              title=\"Convert this dataframe to an interactive table.\"\n",
              "              style=\"display:none;\">\n",
              "        \n",
              "  <svg xmlns=\"http://www.w3.org/2000/svg\" height=\"24px\"viewBox=\"0 0 24 24\"\n",
              "       width=\"24px\">\n",
              "    <path d=\"M0 0h24v24H0V0z\" fill=\"none\"/>\n",
              "    <path d=\"M18.56 5.44l.94 2.06.94-2.06 2.06-.94-2.06-.94-.94-2.06-.94 2.06-2.06.94zm-11 1L8.5 8.5l.94-2.06 2.06-.94-2.06-.94L8.5 2.5l-.94 2.06-2.06.94zm10 10l.94 2.06.94-2.06 2.06-.94-2.06-.94-.94-2.06-.94 2.06-2.06.94z\"/><path d=\"M17.41 7.96l-1.37-1.37c-.4-.4-.92-.59-1.43-.59-.52 0-1.04.2-1.43.59L10.3 9.45l-7.72 7.72c-.78.78-.78 2.05 0 2.83L4 21.41c.39.39.9.59 1.41.59.51 0 1.02-.2 1.41-.59l7.78-7.78 2.81-2.81c.8-.78.8-2.07 0-2.86zM5.41 20L4 18.59l7.72-7.72 1.47 1.35L5.41 20z\"/>\n",
              "  </svg>\n",
              "      </button>\n",
              "      \n",
              "  <style>\n",
              "    .colab-df-container {\n",
              "      display:flex;\n",
              "      flex-wrap:wrap;\n",
              "      gap: 12px;\n",
              "    }\n",
              "\n",
              "    .colab-df-convert {\n",
              "      background-color: #E8F0FE;\n",
              "      border: none;\n",
              "      border-radius: 50%;\n",
              "      cursor: pointer;\n",
              "      display: none;\n",
              "      fill: #1967D2;\n",
              "      height: 32px;\n",
              "      padding: 0 0 0 0;\n",
              "      width: 32px;\n",
              "    }\n",
              "\n",
              "    .colab-df-convert:hover {\n",
              "      background-color: #E2EBFA;\n",
              "      box-shadow: 0px 1px 2px rgba(60, 64, 67, 0.3), 0px 1px 3px 1px rgba(60, 64, 67, 0.15);\n",
              "      fill: #174EA6;\n",
              "    }\n",
              "\n",
              "    [theme=dark] .colab-df-convert {\n",
              "      background-color: #3B4455;\n",
              "      fill: #D2E3FC;\n",
              "    }\n",
              "\n",
              "    [theme=dark] .colab-df-convert:hover {\n",
              "      background-color: #434B5C;\n",
              "      box-shadow: 0px 1px 3px 1px rgba(0, 0, 0, 0.15);\n",
              "      filter: drop-shadow(0px 1px 2px rgba(0, 0, 0, 0.3));\n",
              "      fill: #FFFFFF;\n",
              "    }\n",
              "  </style>\n",
              "\n",
              "      <script>\n",
              "        const buttonEl =\n",
              "          document.querySelector('#df-38a92ae0-67c7-4409-a6ee-61921c2d0f73 button.colab-df-convert');\n",
              "        buttonEl.style.display =\n",
              "          google.colab.kernel.accessAllowed ? 'block' : 'none';\n",
              "\n",
              "        async function convertToInteractive(key) {\n",
              "          const element = document.querySelector('#df-38a92ae0-67c7-4409-a6ee-61921c2d0f73');\n",
              "          const dataTable =\n",
              "            await google.colab.kernel.invokeFunction('convertToInteractive',\n",
              "                                                     [key], {});\n",
              "          if (!dataTable) return;\n",
              "\n",
              "          const docLinkHtml = 'Like what you see? Visit the ' +\n",
              "            '<a target=\"_blank\" href=https://colab.research.google.com/notebooks/data_table.ipynb>data table notebook</a>'\n",
              "            + ' to learn more about interactive tables.';\n",
              "          element.innerHTML = '';\n",
              "          dataTable['output_type'] = 'display_data';\n",
              "          await google.colab.output.renderOutput(dataTable, element);\n",
              "          const docLink = document.createElement('div');\n",
              "          docLink.innerHTML = docLinkHtml;\n",
              "          element.appendChild(docLink);\n",
              "        }\n",
              "      </script>\n",
              "    </div>\n",
              "  </div>\n",
              "  "
            ]
          },
          "metadata": {},
          "execution_count": 89
        }
      ],
      "source": [
        "vdf = pd.DataFrame(val_features)\n",
        "vdf = vdf/169\n",
        "vdf"
      ]
    },
    {
      "cell_type": "markdown",
      "source": [
        "### **Training**"
      ],
      "metadata": {
        "id": "YBuUr4YGzzwz"
      }
    },
    {
      "cell_type": "code",
      "source": [
        "X_train_features = train_features\n",
        "y_train = training_set['Label'].to_numpy()\n",
        "X_test_features = val_features\n",
        "y_test = validation_set['Label'].to_numpy()\n",
        "scaler= StandardScaler().fit(X_train_features)\n",
        "X_train_scaled= scaler.transform(X_train_features)\n",
        "X_test_scaled= scaler.transform(X_test_features)"
      ],
      "metadata": {
        "id": "OmxnxvyF2YJz"
      },
      "execution_count": null,
      "outputs": []
    },
    {
      "cell_type": "markdown",
      "source": [
        "First model: SVM"
      ],
      "metadata": {
        "id": "aURegZ575JPh"
      }
    },
    {
      "cell_type": "code",
      "source": [
        "model1= svm.SVC()\n",
        "model1.fit(X_train_scaled,y_train)\n",
        "y_pred1= model1.predict(X_test_scaled)"
      ],
      "metadata": {
        "id": "dH2XtxTYui6P"
      },
      "execution_count": null,
      "outputs": []
    },
    {
      "cell_type": "code",
      "source": [
        "print(classification_report(y_test,y_pred1))\n",
        "print(balanced_accuracy_score(y_test,y_pred1))\n",
        "print(\"Kappa Score :\")\n",
        "print(cohen_kappa_score(y_test,y_pred1))"
      ],
      "metadata": {
        "id": "wgUjqdO6ui6P",
        "colab": {
          "base_uri": "https://localhost:8080/"
        },
        "outputId": "4e7758fe-77c1-4b19-88b4-32c361b6646c"
      },
      "execution_count": null,
      "outputs": [
        {
          "output_type": "stream",
          "name": "stdout",
          "text": [
            "              precision    recall  f1-score   support\n",
            "\n",
            "           0       0.79      0.65      0.71       678\n",
            "           1       0.65      0.63      0.64       498\n",
            "           2       0.21      0.51      0.30        94\n",
            "\n",
            "    accuracy                           0.63      1270\n",
            "   macro avg       0.55      0.60      0.55      1270\n",
            "weighted avg       0.69      0.63      0.66      1270\n",
            "\n",
            "0.598539642786296\n",
            "Kappa Score :\n",
            "0.3921430982946451\n"
          ]
        }
      ]
    },
    {
      "cell_type": "code",
      "source": [
        "pickle.dump(model1, open('/content/drive/MyDrive/Colab Notebooks/CAD Project/Dataset/Three Class Problem/Models/WP_Aug/SiftSVM_model.sav', 'wb'))"
      ],
      "metadata": {
        "id": "O2h0MCzSmKdM"
      },
      "execution_count": null,
      "outputs": []
    },
    {
      "cell_type": "code",
      "source": [
        "cm= confusion_matrix(y_test,y_pred1,labels= model1.classes_)\n",
        "disp= ConfusionMatrixDisplay(confusion_matrix=cm, display_labels=model1.classes_)\n",
        "disp= disp.plot(include_values= True, cmap=plt.cm.Blues)\n",
        "plt.grid(False)\n",
        "plt.show()"
      ],
      "metadata": {
        "id": "AVtwca8D_TNR",
        "colab": {
          "base_uri": "https://localhost:8080/",
          "height": 279
        },
        "outputId": "1ce0a7a6-53bc-4518-bb57-e77d9e61a576"
      },
      "execution_count": null,
      "outputs": [
        {
          "output_type": "display_data",
          "data": {
            "text/plain": [
              "<Figure size 432x288 with 2 Axes>"
            ],
            "image/png": "[encoded data removed]"
          },
          "metadata": {
            "needs_background": "light"
          }
        }
      ]
    },
    {
      "cell_type": "markdown",
      "source": [
        "Second Model: Logistic Regression"
      ],
      "metadata": {
        "id": "GR3zplQI5QLl"
      }
    },
    {
      "cell_type": "code",
      "source": [
        "model2= LogisticRegression(max_iter=2000)\n",
        "model2.fit(X_train_scaled,y_train)\n",
        "y_pred2= model2.predict(X_test_scaled)"
      ],
      "metadata": {
        "id": "gP54zwHa3bBf"
      },
      "execution_count": null,
      "outputs": []
    },
    {
      "cell_type": "code",
      "source": [
        "print(classification_report(y_test,y_pred2))\n",
        "print(balanced_accuracy_score(y_test,y_pred2))\n",
        "print(\"Kappa Score :\")\n",
        "print(cohen_kappa_score(y_test,y_pred2))"
      ],
      "metadata": {
        "id": "uULsIqfE5ZxM",
        "colab": {
          "base_uri": "https://localhost:8080/"
        },
        "outputId": "04a0cf15-91e0-446f-daae-c24d19a9a687"
      },
      "execution_count": null,
      "outputs": [
        {
          "output_type": "stream",
          "name": "stdout",
          "text": [
            "              precision    recall  f1-score   support\n",
            "\n",
            "           0       0.79      0.59      0.67       678\n",
            "           1       0.63      0.59      0.61       498\n",
            "           2       0.16      0.50      0.25        94\n",
            "\n",
            "    accuracy                           0.59      1270\n",
            "   macro avg       0.53      0.56      0.51      1270\n",
            "weighted avg       0.68      0.59      0.62      1270\n",
            "\n",
            "0.5614493371716957\n",
            "Kappa Score :\n",
            "0.33442126701512376\n"
          ]
        }
      ]
    },
    {
      "cell_type": "code",
      "source": [
        "cm= confusion_matrix(y_test,y_pred2,labels= model2.classes_)\n",
        "disp= ConfusionMatrixDisplay(confusion_matrix=cm, display_labels=model2.classes_)\n",
        "disp= disp.plot(include_values= True, cmap=plt.cm.Blues)\n",
        "plt.grid(False)\n",
        "plt.show()"
      ],
      "metadata": {
        "id": "mCK7t-le_m7f",
        "colab": {
          "base_uri": "https://localhost:8080/",
          "height": 283
        },
        "outputId": "8530baee-61c1-4585-e70f-3dd86243fa45"
      },
      "execution_count": null,
      "outputs": [
        {
          "output_type": "display_data",
          "data": {
            "text/plain": [
              "<Figure size 432x288 with 2 Axes>"
            ],
            "image/png": "[encoded data removed]"
          },
          "metadata": {
            "needs_background": "light"
          }
        }
      ]
    },
    {
      "cell_type": "markdown",
      "source": [
        "Third model: Gradient Boosting"
      ],
      "metadata": {
        "id": "WX9z50hK5xbS"
      }
    },
    {
      "cell_type": "code",
      "source": [
        "model3= GradientBoostingClassifier(random_state=42)\n",
        "model3.fit(X_train_scaled,y_train)\n",
        "y_pred3= model3.predict(X_test_scaled)"
      ],
      "metadata": {
        "id": "Uq_PCz6uAMkT"
      },
      "execution_count": null,
      "outputs": []
    },
    {
      "cell_type": "code",
      "source": [
        "print(classification_report(y_test,y_pred3))\n",
        "print(balanced_accuracy_score(y_test,y_pred3))\n",
        "print(\"Kappa Score :\")\n",
        "print(cohen_kappa_score(y_test,y_pred3))"
      ],
      "metadata": {
        "id": "faDpyCwJBWqV",
        "colab": {
          "base_uri": "https://localhost:8080/"
        },
        "outputId": "9300b296-702a-48bf-fce6-b33f4c508bc5"
      },
      "execution_count": null,
      "outputs": [
        {
          "output_type": "stream",
          "name": "stdout",
          "text": [
            "              precision    recall  f1-score   support\n",
            "\n",
            "           0       0.78      0.60      0.68       678\n",
            "           1       0.62      0.62      0.62       498\n",
            "           2       0.20      0.52      0.29        94\n",
            "\n",
            "    accuracy                           0.60      1270\n",
            "   macro avg       0.53      0.58      0.53      1270\n",
            "weighted avg       0.67      0.60      0.63      1270\n",
            "\n",
            "0.5809984430283741\n",
            "Kappa Score :\n",
            "0.3501198066848068\n"
          ]
        }
      ]
    },
    {
      "cell_type": "code",
      "source": [
        "cm= confusion_matrix(y_test,y_pred3,labels= model3.classes_)\n",
        "disp= ConfusionMatrixDisplay(confusion_matrix=cm, display_labels=model3.classes_)\n",
        "disp= disp.plot(include_values= True, cmap=plt.cm.Blues)\n",
        "plt.grid(False)\n",
        "plt.show()"
      ],
      "metadata": {
        "id": "EupzWGqkCQmC",
        "colab": {
          "base_uri": "https://localhost:8080/",
          "height": 279
        },
        "outputId": "d5cfc7df-42c7-457f-cfc7-3049dbfe54e8"
      },
      "execution_count": null,
      "outputs": [
        {
          "output_type": "display_data",
          "data": {
            "text/plain": [
              "<Figure size 432x288 with 2 Axes>"
            ],
            "image/png": "[encoded data removed]"
          },
          "metadata": {
            "needs_background": "light"
          }
        }
      ]
    },
    {
      "cell_type": "code",
      "source": [
        "pickle.dump(model3, open('/content/drive/MyDrive/Colab Notebooks/CAD Project/Dataset/Three Class Problem/Models/WP_Aug/SiftGBoost_model.sav', 'wb'))"
      ],
      "metadata": {
        "id": "2l5aLiMDmX1n"
      },
      "execution_count": null,
      "outputs": []
    },
    {
      "cell_type": "markdown",
      "source": [
        "Fourth Model: Random Forest Classifier"
      ],
      "metadata": {
        "id": "XjM7FEIJCYqk"
      }
    },
    {
      "cell_type": "code",
      "source": [
        "model4= RandomForestClassifier(random_state=42)\n",
        "model4.fit(X_train_scaled,y_train)\n",
        "y_pred4= model4.predict(X_test_scaled)"
      ],
      "metadata": {
        "id": "VsoTQwlwCy1E"
      },
      "execution_count": null,
      "outputs": []
    },
    {
      "cell_type": "code",
      "source": [
        "print(classification_report(y_test,y_pred4))\n",
        "print(balanced_accuracy_score(y_test,y_pred4))\n",
        "print(\"Kappa Score :\")\n",
        "print(cohen_kappa_score(y_test,y_pred4))"
      ],
      "metadata": {
        "id": "MrqmwVRzDYbg",
        "colab": {
          "base_uri": "https://localhost:8080/"
        },
        "outputId": "c4d092cd-bace-4ad9-f551-9e1af3b1aed5"
      },
      "execution_count": null,
      "outputs": [
        {
          "output_type": "stream",
          "name": "stdout",
          "text": [
            "              precision    recall  f1-score   support\n",
            "\n",
            "           0       0.79      0.66      0.72       678\n",
            "           1       0.65      0.64      0.65       498\n",
            "           2       0.22      0.52      0.31        94\n",
            "\n",
            "    accuracy                           0.64      1270\n",
            "   macro avg       0.56      0.61      0.56      1270\n",
            "weighted avg       0.70      0.64      0.66      1270\n",
            "\n",
            "0.6073990306295162\n",
            "Kappa Score :\n",
            "0.40286986210773446\n"
          ]
        }
      ]
    },
    {
      "cell_type": "code",
      "source": [
        "pickle.dump(model4, open('/content/drive/MyDrive/Colab Notebooks/CAD Project/Dataset/Three Class Problem/Models/WP_Aug/SiftRF_model.sav', 'wb'))"
      ],
      "metadata": {
        "id": "j-AAQyQAmhV2"
      },
      "execution_count": null,
      "outputs": []
    },
    {
      "cell_type": "code",
      "source": [
        "cm= confusion_matrix(y_test,y_pred4,labels= model4.classes_)\n",
        "disp= ConfusionMatrixDisplay(confusion_matrix=cm, display_labels=model4.classes_)\n",
        "disp= disp.plot(include_values= True, cmap=plt.cm.Blues)\n",
        "plt.grid(False)\n",
        "plt.show()"
      ],
      "metadata": {
        "id": "KZ9H8N9BEjIG",
        "colab": {
          "base_uri": "https://localhost:8080/",
          "height": 279
        },
        "outputId": "ccb6baeb-8632-411a-85b4-dd2582a4322c"
      },
      "execution_count": null,
      "outputs": [
        {
          "output_type": "display_data",
          "data": {
            "text/plain": [
              "<Figure size 432x288 with 2 Axes>"
            ],
            "image/png": "[encoded data removed]"
          },
          "metadata": {
            "needs_background": "light"
          }
        }
      ]
    },
    {
      "cell_type": "markdown",
      "source": [
        "Fifth model: AdaBoost classifier"
      ],
      "metadata": {
        "id": "isxj7ur7FTAn"
      }
    },
    {
      "cell_type": "code",
      "source": [
        "model5= AdaBoostClassifier(random_state=42)\n",
        "model5.fit(X_train_scaled,y_train)\n",
        "y_pred5= model5.predict(X_test_scaled)"
      ],
      "metadata": {
        "id": "vcv0LBlhFR6q"
      },
      "execution_count": null,
      "outputs": []
    },
    {
      "cell_type": "code",
      "source": [
        "print(classification_report(y_test,y_pred5))\n",
        "print(balanced_accuracy_score(y_test,y_pred5))\n",
        "print(\"Kappa Score :\")\n",
        "print(cohen_kappa_score(y_test,y_pred5))"
      ],
      "metadata": {
        "id": "VL-oPpRgFzAF",
        "colab": {
          "base_uri": "https://localhost:8080/"
        },
        "outputId": "a5d24780-26b5-4346-bc47-2bc9e300a8a3"
      },
      "execution_count": null,
      "outputs": [
        {
          "output_type": "stream",
          "name": "stdout",
          "text": [
            "              precision    recall  f1-score   support\n",
            "\n",
            "           0       0.76      0.59      0.66       678\n",
            "           1       0.60      0.59      0.60       498\n",
            "           2       0.17      0.48      0.26        94\n",
            "\n",
            "    accuracy                           0.58      1270\n",
            "   macro avg       0.51      0.55      0.50      1270\n",
            "weighted avg       0.65      0.58      0.61      1270\n",
            "\n",
            "0.5520351663353344\n",
            "Kappa Score :\n",
            "0.31624699997575745\n"
          ]
        }
      ]
    },
    {
      "cell_type": "code",
      "source": [
        "cm= confusion_matrix(y_test,y_pred5,labels= model5.classes_)\n",
        "disp= ConfusionMatrixDisplay(confusion_matrix=cm, display_labels=model5.classes_)\n",
        "disp= disp.plot(include_values= True, cmap=plt.cm.Blues)\n",
        "plt.grid(False)\n",
        "plt.show()"
      ],
      "metadata": {
        "id": "mDuYZeUNF0Rk",
        "colab": {
          "base_uri": "https://localhost:8080/",
          "height": 279
        },
        "outputId": "31b30007-ffb5-4a6d-97d4-fa1d90fde296"
      },
      "execution_count": null,
      "outputs": [
        {
          "output_type": "display_data",
          "data": {
            "text/plain": [
              "<Figure size 432x288 with 2 Axes>"
            ],
            "image/png": "[encoded data removed]"
          },
          "metadata": {
            "needs_background": "light"
          }
        }
      ]
    },
    {
      "cell_type": "markdown",
      "source": [
        "Sixth Model: Decision Trees Classifier"
      ],
      "metadata": {
        "id": "2c4-Rm9JH5JO"
      }
    },
    {
      "cell_type": "code",
      "source": [
        "model6= DecisionTreeClassifier(random_state=42)\n",
        "model6.fit(X_train_scaled,y_train)\n",
        "y_pred6= model6.predict(X_test_scaled)"
      ],
      "metadata": {
        "id": "VRQv63idH_9y"
      },
      "execution_count": null,
      "outputs": []
    },
    {
      "cell_type": "code",
      "source": [
        "print(classification_report(y_test,y_pred6))\n",
        "print(balanced_accuracy_score(y_test,y_pred6))\n",
        "print(\"Kappa Score :\")\n",
        "print(cohen_kappa_score(y_test,y_pred6))"
      ],
      "metadata": {
        "id": "SbO8vbfEIFgO",
        "colab": {
          "base_uri": "https://localhost:8080/"
        },
        "outputId": "5b45c7c7-06b3-4958-ba21-9defacc09109"
      },
      "execution_count": null,
      "outputs": [
        {
          "output_type": "stream",
          "name": "stdout",
          "text": [
            "              precision    recall  f1-score   support\n",
            "\n",
            "           0       0.72      0.52      0.61       678\n",
            "           1       0.56      0.48      0.52       498\n",
            "           2       0.11      0.39      0.17        94\n",
            "\n",
            "    accuracy                           0.50      1270\n",
            "   macro avg       0.46      0.47      0.43      1270\n",
            "weighted avg       0.61      0.50      0.54      1270\n",
            "\n",
            "0.4670505281024935\n",
            "Kappa Score :\n",
            "0.21641993436830453\n"
          ]
        }
      ]
    },
    {
      "cell_type": "code",
      "source": [
        "cm= confusion_matrix(y_test,y_pred6,labels= model6.classes_)\n",
        "disp= ConfusionMatrixDisplay(confusion_matrix=cm, display_labels=model6.classes_)\n",
        "disp= disp.plot(include_values= True, cmap=plt.cm.Blues)\n",
        "plt.grid(False)\n",
        "plt.show()"
      ],
      "metadata": {
        "id": "0vLFgXjCIIeo",
        "colab": {
          "base_uri": "https://localhost:8080/",
          "height": 280
        },
        "outputId": "a0738283-1904-4060-9a91-78be5c2f002f"
      },
      "execution_count": null,
      "outputs": [
        {
          "output_type": "display_data",
          "data": {
            "text/plain": [
              "<Figure size 432x288 with 2 Axes>"
            ],
            "image/png": "[encoded data removed]"
          },
          "metadata": {
            "needs_background": "light"
          }
        }
      ]
    },
    {
      "cell_type": "markdown",
      "source": [
        "Seventh model: XGBoost Classifier"
      ],
      "metadata": {
        "id": "zvN12XanIQri"
      }
    },
    {
      "cell_type": "code",
      "source": [
        "model7= XGBClassifier(random_state=42)\n",
        "model7.fit(X_train_scaled,y_train)\n",
        "y_pred7= model7.predict(X_test_scaled)"
      ],
      "metadata": {
        "id": "nQuRDLPmI7Hj"
      },
      "execution_count": null,
      "outputs": []
    },
    {
      "cell_type": "code",
      "source": [
        "print(classification_report(y_test,y_pred7))\n",
        "print(balanced_accuracy_score(y_test,y_pred7))\n",
        "print(\"Kappa Score :\")\n",
        "print(cohen_kappa_score(y_test,y_pred7))"
      ],
      "metadata": {
        "id": "pcZw6XQHKpG8",
        "colab": {
          "base_uri": "https://localhost:8080/"
        },
        "outputId": "87607fde-7d8b-44c3-9ae5-38ad8f876d67"
      },
      "execution_count": null,
      "outputs": [
        {
          "output_type": "stream",
          "name": "stdout",
          "text": [
            "              precision    recall  f1-score   support\n",
            "\n",
            "           0       0.78      0.60      0.68       678\n",
            "           1       0.61      0.62      0.62       498\n",
            "           2       0.20      0.51      0.28        94\n",
            "\n",
            "    accuracy                           0.60      1270\n",
            "   macro avg       0.53      0.58      0.53      1270\n",
            "weighted avg       0.67      0.60      0.62      1270\n",
            "\n",
            "0.5774938075278583\n",
            "Kappa Score :\n",
            "0.3480783823595054\n"
          ]
        }
      ]
    },
    {
      "cell_type": "code",
      "source": [
        "cm= confusion_matrix(y_test,y_pred7,labels= model7.classes_)\n",
        "disp= ConfusionMatrixDisplay(confusion_matrix=cm, display_labels=model7.classes_)\n",
        "disp= disp.plot(include_values= True, cmap=plt.cm.Blues)\n",
        "plt.grid(False)\n",
        "plt.show()"
      ],
      "metadata": {
        "id": "4Mxxq2V6LJ4F",
        "colab": {
          "base_uri": "https://localhost:8080/",
          "height": 281
        },
        "outputId": "a03744ec-500c-49ae-d84d-32ee2143a35d"
      },
      "execution_count": null,
      "outputs": [
        {
          "output_type": "display_data",
          "data": {
            "text/plain": [
              "<Figure size 432x288 with 2 Axes>"
            ],
            "image/png": "[encoded data removed]"
          },
          "metadata": {
            "needs_background": "light"
          }
        }
      ]
    },
    {
      "cell_type": "markdown",
      "source": [
        "Eigth model: Naive Bayes Classifier"
      ],
      "metadata": {
        "id": "FytjRDNXLO1q"
      }
    },
    {
      "cell_type": "code",
      "source": [
        "model8= GaussianNB()\n",
        "model8.fit(X_train_scaled,y_train)\n",
        "y_pred8= model8.predict(X_test_scaled)\n"
      ],
      "metadata": {
        "id": "iEZRoOjgLXGG"
      },
      "execution_count": null,
      "outputs": []
    },
    {
      "cell_type": "code",
      "source": [
        "print(classification_report(y_test,y_pred8))\n",
        "print(balanced_accuracy_score(y_test,y_pred8))\n",
        "print(\"Kappa Score :\")\n",
        "print(cohen_kappa_score(y_test,y_pred8))"
      ],
      "metadata": {
        "id": "wC901lG7M5Rc",
        "colab": {
          "base_uri": "https://localhost:8080/"
        },
        "outputId": "ad581517-400c-4bb2-a31c-db254eca3501"
      },
      "execution_count": null,
      "outputs": [
        {
          "output_type": "stream",
          "name": "stdout",
          "text": [
            "              precision    recall  f1-score   support\n",
            "\n",
            "           0       0.74      0.54      0.62       678\n",
            "           1       0.59      0.48      0.53       498\n",
            "           2       0.14      0.53      0.22        94\n",
            "\n",
            "    accuracy                           0.52      1270\n",
            "   macro avg       0.49      0.52      0.46      1270\n",
            "weighted avg       0.64      0.52      0.56      1270\n",
            "\n",
            "0.5173968956854217\n",
            "Kappa Score :\n",
            "0.2493887859520716\n"
          ]
        }
      ]
    },
    {
      "cell_type": "code",
      "source": [
        "cm= confusion_matrix(y_test,y_pred8,labels= model8.classes_)\n",
        "disp= ConfusionMatrixDisplay(confusion_matrix=cm, display_labels=model8.classes_)\n",
        "disp= disp.plot(include_values= True, cmap=plt.cm.Blues)\n",
        "plt.grid(False)\n",
        "plt.show()"
      ],
      "metadata": {
        "id": "DSRM5v9aM9cc",
        "colab": {
          "base_uri": "https://localhost:8080/",
          "height": 279
        },
        "outputId": "be7f5705-68f7-4bca-f6c7-27eb2f888777"
      },
      "execution_count": null,
      "outputs": [
        {
          "output_type": "display_data",
          "data": {
            "text/plain": [
              "<Figure size 432x288 with 2 Axes>"
            ],
            "image/png": "[encoded data removed]"
          },
          "metadata": {
            "needs_background": "light"
          }
        }
      ]
    },
    {
      "cell_type": "markdown",
      "source": [
        "Ninth Model: KNeighbors Classifier"
      ],
      "metadata": {
        "id": "nTeQp070NBfJ"
      }
    },
    {
      "cell_type": "code",
      "source": [
        "model9= KNeighborsClassifier()\n",
        "model9.fit(X_train_scaled,y_train)\n",
        "y_pred9= model9.predict(X_test_scaled)\n"
      ],
      "metadata": {
        "id": "1DSpxxLiNZKV"
      },
      "execution_count": null,
      "outputs": []
    },
    {
      "cell_type": "code",
      "source": [
        "print(classification_report(y_test,y_pred9))\n",
        "print(balanced_accuracy_score(y_test,y_pred9))\n",
        "print(\"Kappa Score :\")\n",
        "print(cohen_kappa_score(y_test,y_pred9))"
      ],
      "metadata": {
        "id": "Etlio5NSNhCC",
        "colab": {
          "base_uri": "https://localhost:8080/"
        },
        "outputId": "bdbee868-22b2-4ee2-ce4b-6872fa408f34"
      },
      "execution_count": null,
      "outputs": [
        {
          "output_type": "stream",
          "name": "stdout",
          "text": [
            "              precision    recall  f1-score   support\n",
            "\n",
            "           0       0.77      0.67      0.72       678\n",
            "           1       0.65      0.56      0.60       498\n",
            "           2       0.22      0.60      0.33        94\n",
            "\n",
            "    accuracy                           0.62      1270\n",
            "   macro avg       0.55      0.61      0.55      1270\n",
            "weighted avg       0.68      0.62      0.64      1270\n",
            "\n",
            "0.6076870086257287\n",
            "Kappa Score :\n",
            "0.3715943481063857\n"
          ]
        }
      ]
    },
    {
      "cell_type": "code",
      "source": [
        "cm= confusion_matrix(y_test,y_pred9,labels= model9.classes_)\n",
        "disp= ConfusionMatrixDisplay(confusion_matrix=cm, display_labels=model9.classes_)\n",
        "disp= disp.plot(include_values= True, cmap=plt.cm.Blues)\n",
        "plt.grid(False)\n",
        "plt.show()"
      ],
      "metadata": {
        "id": "1WatomrtNkxA",
        "colab": {
          "base_uri": "https://localhost:8080/",
          "height": 281
        },
        "outputId": "2dcffc91-413e-43c2-c37a-4fb980bdb9c8"
      },
      "execution_count": null,
      "outputs": [
        {
          "output_type": "display_data",
          "data": {
            "text/plain": [
              "<Figure size 432x288 with 2 Axes>"
            ],
            "image/png": "[encoded data removed]"
          },
          "metadata": {
            "needs_background": "light"
          }
        }
      ]
    },
    {
      "cell_type": "markdown",
      "source": [
        "Tenth Model: Bagging Classifier"
      ],
      "metadata": {
        "id": "IyjU8oQsOYSy"
      }
    },
    {
      "cell_type": "code",
      "source": [
        "model10= BaggingClassifier(base_estimator=RandomForestClassifier(random_state=42),n_estimators=10,random_state=42)\n",
        "model10.fit(X_train_scaled,y_train)\n",
        "y_pred10= model10.predict(X_test_scaled)\n"
      ],
      "metadata": {
        "id": "A3ZIWJ7rObOp"
      },
      "execution_count": null,
      "outputs": []
    },
    {
      "cell_type": "code",
      "source": [
        "print(classification_report(y_test,y_pred10))\n",
        "print(balanced_accuracy_score(y_test,y_pred10))\n",
        "print(\"Kappa Score :\")\n",
        "print(cohen_kappa_score(y_test,y_pred10))"
      ],
      "metadata": {
        "id": "EfCTGLG5OtzD",
        "colab": {
          "base_uri": "https://localhost:8080/"
        },
        "outputId": "819f3430-0662-404d-cf5a-e92f4b0c52bd"
      },
      "execution_count": null,
      "outputs": [
        {
          "output_type": "stream",
          "name": "stdout",
          "text": [
            "              precision    recall  f1-score   support\n",
            "\n",
            "           0       0.79      0.65      0.71       678\n",
            "           1       0.65      0.63      0.64       498\n",
            "           2       0.22      0.53      0.32        94\n",
            "\n",
            "    accuracy                           0.64      1270\n",
            "   macro avg       0.55      0.61      0.56      1270\n",
            "weighted avg       0.69      0.64      0.66      1270\n",
            "\n",
            "0.6057680795358676\n",
            "Kappa Score :\n",
            "0.39449666258003\n"
          ]
        }
      ]
    },
    {
      "cell_type": "code",
      "source": [
        "cm= confusion_matrix(y_test,y_pred10,labels= model10.classes_)\n",
        "disp= ConfusionMatrixDisplay(confusion_matrix=cm, display_labels=model10.classes_)\n",
        "disp= disp.plot(include_values= True, cmap=plt.cm.Blues)\n",
        "plt.grid(False)\n",
        "plt.show()"
      ],
      "metadata": {
        "id": "j8euKLFgOvVx",
        "colab": {
          "base_uri": "https://localhost:8080/",
          "height": 279
        },
        "outputId": "41bd9405-35eb-43ce-f205-b83d9007cd61"
      },
      "execution_count": null,
      "outputs": [
        {
          "output_type": "display_data",
          "data": {
            "text/plain": [
              "<Figure size 432x288 with 2 Axes>"
            ],
            "image/png": "[encoded data removed]"
          },
          "metadata": {
            "needs_background": "light"
          }
        }
      ]
    },
    {
      "cell_type": "markdown",
      "source": [
        "Eleventh Model: Stacking Classifier"
      ],
      "metadata": {
        "id": "wK4GkxZmO1Ba"
      }
    },
    {
      "cell_type": "code",
      "source": [
        "def get_stack_model():\n",
        "  level0 = list()\n",
        "  level0.append(('lr', LogisticRegression(max_iter=2000,random_state=42)))\n",
        "  level0.append(('knn', KNeighborsClassifier()))\n",
        "  level0.append(('cart', DecisionTreeClassifier(random_state=42)))\n",
        "  level0.append(('svm', svm.SVC(kernel='rbf', gamma='auto',decision_function_shape='ovr', random_state=42)))\n",
        "  level0.append(('bayes', GaussianNB()))\n",
        "  level0.append(('gboosting', GradientBoostingClassifier(random_state=42)))\n",
        "  level0.append(('rforest', RandomForestClassifier(random_state=42)))\n",
        "  level0.append(('adaboost', AdaBoostClassifier(random_state=42)))\n",
        "  level1 = LogisticRegression(max_iter=2000,random_state=42)\n",
        "  model = StackingClassifier(estimators=level0, final_estimator=level1, cv=5)\n",
        "  return model"
      ],
      "metadata": {
        "id": "4vkYDwiuO4mw"
      },
      "execution_count": null,
      "outputs": []
    },
    {
      "cell_type": "code",
      "source": [
        "model11=get_stack_model()\n",
        "model11.fit(X_train_scaled,y_train)\n",
        "y_pred11= model11.predict(X_test_scaled)"
      ],
      "metadata": {
        "id": "N7sng-NWO_cI"
      },
      "execution_count": null,
      "outputs": []
    },
    {
      "cell_type": "code",
      "source": [
        "print(classification_report(y_test,y_pred11))\n",
        "print(balanced_accuracy_score(y_test,y_pred11))\n",
        "print(\"Kappa Score :\")\n",
        "print(cohen_kappa_score(y_test,y_pred11))"
      ],
      "metadata": {
        "id": "lvLWcXbIPdSS",
        "colab": {
          "base_uri": "https://localhost:8080/"
        },
        "outputId": "0d1ba34e-9ef7-487a-921b-f79d7d608523"
      },
      "execution_count": null,
      "outputs": [
        {
          "output_type": "stream",
          "name": "stdout",
          "text": [
            "              precision    recall  f1-score   support\n",
            "\n",
            "           0       0.81      0.69      0.74       678\n",
            "           1       0.68      0.67      0.68       498\n",
            "           2       0.25      0.54      0.34        94\n",
            "\n",
            "    accuracy                           0.67      1270\n",
            "   macro avg       0.58      0.63      0.59      1270\n",
            "weighted avg       0.72      0.67      0.69      1270\n",
            "\n",
            "0.6330255434592194\n",
            "Kappa Score :\n",
            "0.44366335270533563\n"
          ]
        }
      ]
    },
    {
      "cell_type": "code",
      "source": [
        "cm= confusion_matrix(y_test,y_pred11,labels= model11.classes_)\n",
        "disp= ConfusionMatrixDisplay(confusion_matrix=cm, display_labels=model11.classes_)\n",
        "disp= disp.plot(include_values= True, cmap=plt.cm.Blues)\n",
        "plt.grid(False)\n",
        "plt.show()"
      ],
      "metadata": {
        "id": "4MeIKVwOPYcv",
        "colab": {
          "base_uri": "https://localhost:8080/",
          "height": 279
        },
        "outputId": "f7ff20a5-39f8-4862-a71a-ff658d69c5fa"
      },
      "execution_count": null,
      "outputs": [
        {
          "output_type": "display_data",
          "data": {
            "text/plain": [
              "<Figure size 432x288 with 2 Axes>"
            ],
            "image/png": "[encoded data removed]"
          },
          "metadata": {
            "needs_background": "light"
          }
        }
      ]
    }
  ],
  "metadata": {
    "colab": {
      "collapsed_sections": [
        "Lw7XZ4yzh7Jm",
        "rOfx1OIUHG5U",
        "GRWKawFOGWOh"
      ],
      "provenance": []
    },
    "gpuClass": "standard",
    "kernelspec": {
      "display_name": "Python 3",
      "name": "python3"
    },
    "language_info": {
      "name": "python"
    }
  },
  "nbformat": 4,
  "nbformat_minor": 0
}