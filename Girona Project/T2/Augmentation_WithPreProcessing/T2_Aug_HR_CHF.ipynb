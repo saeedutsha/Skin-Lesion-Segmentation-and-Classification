{
  "nbformat": 4,
  "nbformat_minor": 0,
  "metadata": {
    "colab": {
      "provenance": [],
      "collapsed_sections": []
    },
    "kernelspec": {
      "name": "python3",
      "display_name": "Python 3"
    },
    "language_info": {
      "name": "python"
    }
  },
  "cells": [
    {
      "cell_type": "code",
      "execution_count": null,
      "metadata": {
        "id": "W5-eOmOefcLY"
      },
      "outputs": [],
      "source": [
        "import os\n",
        "import cv2\n",
        "import copy\n",
        "import pandas as pd\n",
        "from PIL import Image\n",
        "import numpy as np\n",
        "from matplotlib import pyplot as plt\n",
        "from glob import glob\n",
        "from google.colab.patches import cv2_imshow\n",
        "from sklearn.metrics import jaccard_score\n",
        "import random\n",
        "import torch\n",
        "from sklearn import svm\n",
        "from sklearn.preprocessing import StandardScaler\n",
        "import torchvision\n",
        "import torch.nn as nn\n",
        "import torch.nn.functional as F\n",
        "from torch.functional import Tensor\n",
        "import torch.optim as optim\n",
        "import torchvision.transforms as transforms\n",
        "import torchvision.datasets as datasets\n",
        "from scipy.stats import kurtosis, skew\n",
        "import torchvision.transforms.functional as TF\n",
        "from sklearn.metrics import confusion_matrix, ConfusionMatrixDisplay, cohen_kappa_score\n",
        "from torch.utils.data import Dataset, DataLoader\n",
        "from torch.nn.modules.activation import ReLU\n",
        "from sklearn.metrics import classification_report, balanced_accuracy_score\n",
        "from sklearn.linear_model import LogisticRegression\n",
        "from scipy.stats import kurtosis, skew\n",
        "from sklearn.ensemble import AdaBoostClassifier\n",
        "from sklearn.multiclass import OneVsRestClassifier\n",
        "from sklearn.ensemble import RandomForestClassifier\n",
        "from xgboost import XGBClassifier\n",
        "from sklearn.tree import DecisionTreeClassifier\n",
        "from sklearn.ensemble import GradientBoostingClassifier\n",
        "from sklearn.ensemble import StackingClassifier\n",
        "from sklearn.ensemble import BaggingClassifier\n",
        "from sklearn.naive_bayes import GaussianNB\n",
        "from sklearn.neighbors import KNeighborsClassifier\n",
        "from sklearn.model_selection import StratifiedShuffleSplit\n",
        "import seaborn as sns\n",
        "import pickle\n",
        "from torch.nn.modules.batchnorm import BatchNorm2d\n",
        "import torch.optim as optim\n",
        "from tqdm import tqdm\n",
        "from google.colab import drive\n",
        "from pathlib import Path\n",
        "from sklearn.utils import shuffle"
      ]
    },
    {
      "cell_type": "code",
      "source": [
        "drive.mount('/content/gdrive')"
      ],
      "metadata": {
        "colab": {
          "base_uri": "https://localhost:8080/"
        },
        "id": "A7hVU9ujgabT",
        "outputId": "3ba90703-1290-4e3c-c771-700ef9d73e59"
      },
      "execution_count": null,
      "outputs": [
        {
          "output_type": "stream",
          "name": "stdout",
          "text": [
            "Mounted at /content/gdrive\n"
          ]
        }
      ]
    },
    {
      "cell_type": "code",
      "source": [
        "# Directories\n",
        "input_directory = '/content/gdrive/MyDrive/Colab Notebooks/CAD Project/Dataset/Hairless Three Class Problem'\n",
        "train_directory = input_directory+'/train' \n",
        "val_directory = input_directory+'/val'"
      ],
      "metadata": {
        "id": "NupfuLWUgbpO"
      },
      "execution_count": null,
      "outputs": []
    },
    {
      "cell_type": "code",
      "source": [
        "#Training set organization\n",
        "train_bcc= sorted(glob(os.path.join(train_directory, \"bcc\", \"*.jpg\")))\n",
        "train_mel= sorted(glob(os.path.join(train_directory, \"mel\", \"*.jpg\")))\n",
        "train_scc= sorted(glob(os.path.join(train_directory, \"scc\", \"*.jpg\")))\n",
        "tags_bcc_train=[]\n",
        "tags_mel_train=[]\n",
        "tags_scc_train=[]\n",
        "tags_train=[]\n",
        "images_bcc=[]\n",
        "images_mel=[]\n",
        "images_scc=[]\n",
        "labels_bcc=[]\n",
        "labels_mel=[]\n",
        "labels_scc=[]"
      ],
      "metadata": {
        "id": "z3cwRQe7gc-Y"
      },
      "execution_count": null,
      "outputs": []
    },
    {
      "cell_type": "code",
      "source": [
        "#Validation set organization\n",
        "train_bcc_val= sorted(glob(os.path.join(val_directory, \"bcc\", \"*.jpg\")))\n",
        "train_mel_val= sorted(glob(os.path.join(val_directory, \"mel\", \"*.jpg\")))\n",
        "train_scc_val= sorted(glob(os.path.join(val_directory, \"scc\", \"*.jpg\")))\n",
        "tags_bcc_val=[]\n",
        "tags_mel_val=[]\n",
        "tags_scc_val=[]\n",
        "tags_val=[]\n",
        "images_bcc_val=[]\n",
        "images_mel_val=[]\n",
        "images_scc_val=[]\n",
        "labels_bcc_val=[]\n",
        "labels_mel_val=[]\n",
        "labels_scc_val=[]"
      ],
      "metadata": {
        "id": "oFcekIOagdle"
      },
      "execution_count": null,
      "outputs": []
    },
    {
      "cell_type": "code",
      "source": [
        "print(len(train_bcc))\n",
        "print(len(train_mel))\n",
        "print(len(train_scc))\n",
        "print(len(train_bcc_val))\n",
        "print(len(train_mel_val))\n",
        "print(len(train_scc_val))"
      ],
      "metadata": {
        "colab": {
          "base_uri": "https://localhost:8080/"
        },
        "id": "86x2tKnEXRzv",
        "outputId": "1d65e427-688b-45fa-bb63-f32defdcf489"
      },
      "execution_count": null,
      "outputs": [
        {
          "output_type": "stream",
          "name": "stdout",
          "text": [
            "2713\n",
            "2713\n",
            "2632\n",
            "498\n",
            "678\n",
            "94\n"
          ]
        }
      ]
    },
    {
      "cell_type": "code",
      "source": [
        "#Training set DataFrame construction\n",
        "for i in range(len(train_mel)):\n",
        "  tags_mel_train.append(train_mel[i][-12:])\n",
        "  labels_mel.append(0)\n",
        "for i in range(len(train_bcc)):\n",
        "  tags_bcc_train.append(train_bcc[i][-12:])\n",
        "  labels_bcc.append(1)\n",
        "for i in range(len(train_scc)):\n",
        "  tags_scc_train.append(train_scc[i][-12:])\n",
        "  labels_scc.append(2)"
      ],
      "metadata": {
        "id": "YB5i5-17gf3e"
      },
      "execution_count": null,
      "outputs": []
    },
    {
      "cell_type": "code",
      "source": [
        "#Validation set DataFrame construction\n",
        "for i in range(len(train_mel_val)):\n",
        "  tags_mel_val.append(train_mel_val[i][-12:])\n",
        "  labels_mel_val.append(0)\n",
        "for i in range(len(train_bcc_val)):\n",
        "  tags_bcc_val.append(train_bcc_val[i][-12:])\n",
        "  labels_bcc_val.append(1)\n",
        "for i in range(len(train_scc_val)):\n",
        "  tags_scc_val.append(train_scc_val[i][-12:])\n",
        "  labels_scc_val.append(2)"
      ],
      "metadata": {
        "id": "46BGQv6KghVc"
      },
      "execution_count": null,
      "outputs": []
    },
    {
      "cell_type": "code",
      "source": [
        "tags_train= tags_bcc_train + tags_mel_train + tags_scc_train\n",
        "X_train= labels_bcc+labels_mel+labels_scc"
      ],
      "metadata": {
        "id": "KWsX_rmggjEx"
      },
      "execution_count": null,
      "outputs": []
    },
    {
      "cell_type": "code",
      "source": [
        "tags_val= tags_bcc_val + tags_mel_val+tags_scc_val\n",
        "X_test= labels_bcc_val +labels_mel_val+labels_scc_val"
      ],
      "metadata": {
        "id": "N13aS0YjglBp"
      },
      "execution_count": null,
      "outputs": []
    },
    {
      "cell_type": "code",
      "source": [
        "training_set= pd.DataFrame.from_dict({'Image Tag':tags_train, 'Image Route': train_bcc+train_mel+train_scc, 'Label': X_train})\n",
        "valid_set= pd.DataFrame.from_dict({'Image Tag':tags_val, 'Image Route': train_bcc_val+train_mel_val+train_scc_val, 'Label': X_test})"
      ],
      "metadata": {
        "id": "Nzu72yregm44"
      },
      "execution_count": null,
      "outputs": []
    },
    {
      "cell_type": "code",
      "source": [
        "X_train_data= training_set['Image Route'].to_numpy()\n",
        "y_train_data= training_set['Label'].to_numpy()\n",
        "X_test_data= valid_set['Image Route'].to_numpy()\n",
        "y_test_data= valid_set['Label'].to_numpy()"
      ],
      "metadata": {
        "id": "SyzPMJ_wgpMr"
      },
      "execution_count": null,
      "outputs": []
    },
    {
      "cell_type": "code",
      "source": [
        "X_train,y_train = shuffle(X_train_data,y_train_data, random_state= 42)\n",
        "X_test,y_test= shuffle(X_test_data, y_test_data, random_state=42)"
      ],
      "metadata": {
        "id": "NB8l2TWhgq9U"
      },
      "execution_count": null,
      "outputs": []
    },
    {
      "cell_type": "code",
      "source": [
        "# with open('/content/gdrive/MyDrive/Colab Notebooks/CAD Project/Dataset/ThreeClassProblem_Data/X_train.p', 'wb') as fp:\n",
        "#   pickle.dump(X_train, fp)"
      ],
      "metadata": {
        "id": "D7w_wtaCV5y9"
      },
      "execution_count": null,
      "outputs": []
    },
    {
      "cell_type": "code",
      "source": [
        "# with open('/content/gdrive/MyDrive/Colab Notebooks/CAD Project/Dataset/ThreeClassProblem_Data/X_val.p', 'wb') as fp:\n",
        "#   pickle.dump(X_test, fp)"
      ],
      "metadata": {
        "id": "WoQHa7PsW0eK"
      },
      "execution_count": null,
      "outputs": []
    },
    {
      "cell_type": "code",
      "source": [
        "# with open('/content/gdrive/MyDrive/Colab Notebooks/CAD Project/Dataset/ThreeClassProblem_Data/y_train.p', 'wb') as fp:\n",
        "#   pickle.dump(y_train, fp)"
      ],
      "metadata": {
        "id": "1L1ejnIlXUP7"
      },
      "execution_count": null,
      "outputs": []
    },
    {
      "cell_type": "code",
      "source": [
        "# with open('/content/gdrive/MyDrive/Colab Notebooks/CAD Project/Dataset/ThreeClassProblem_Data/y_val.p', 'wb') as fp:\n",
        "#   pickle.dump(y_test, fp)"
      ],
      "metadata": {
        "id": "PmkgJrVwXUZN"
      },
      "execution_count": null,
      "outputs": []
    },
    {
      "cell_type": "code",
      "source": [
        "def color_histogram_features(imr):\n",
        "  color_histogram=[]\n",
        "  for i in imr:\n",
        "    image_read= cv2.imread(i)\n",
        "    bgr= cv2.split(image_read)\n",
        "    histSize=64\n",
        "    histRange=(0,256)\n",
        "    accumulate= False \n",
        "    b_hist = cv2.calcHist(bgr, [0], None, [histSize], histRange)\n",
        "    g_hist = cv2.calcHist(bgr, [1], None, [histSize], histRange)\n",
        "    r_hist = cv2.calcHist(bgr, [2], None, [histSize], histRange)\n",
        "    bgr_hist= np.concatenate((b_hist,g_hist,r_hist),axis=None).T\n",
        "    color_histogram.append(bgr_hist)\n",
        "  \n",
        "  features_color_histogram= pd.DataFrame(color_histogram)\n",
        "  \n",
        "  return features_color_histogram"
      ],
      "metadata": {
        "id": "vtim6fa9huyQ"
      },
      "execution_count": null,
      "outputs": []
    },
    {
      "cell_type": "code",
      "source": [
        "# X_train_features = pd.read_csv('/content/gdrive/MyDrive/Colab Notebooks/CAD Project/Dataset/HairlessThreeClass_Data/Train_HistogramColorFeatures291022.csv')\n",
        "# X_test_features = pd.read_csv('/content/gdrive/MyDrive/Colab Notebooks/CAD Project/Dataset/HairlessThreeClass_Data/Test_HistogramColorFeatures291022.csv')"
      ],
      "metadata": {
        "id": "m2JOmp2W1HPT"
      },
      "execution_count": null,
      "outputs": []
    },
    {
      "cell_type": "code",
      "source": [
        "X_train_features= color_histogram_features(X_train)\n",
        "X_test_features= color_histogram_features(X_test)\n",
        "scaler= StandardScaler().fit(X_train_features)\n",
        "X_train_scaled= scaler.transform(X_train_features)\n",
        "X_test_scaled= scaler.transform(X_test_features)"
      ],
      "metadata": {
        "id": "Dnybep9dh4XM"
      },
      "execution_count": null,
      "outputs": []
    },
    {
      "cell_type": "code",
      "source": [
        "X_train_features.to_csv('/content/gdrive/MyDrive/Colab Notebooks/CAD Project/Dataset/HairlessThreeClass_Data/Train_HistogramColorFeatures291022.csv',index=False)\n",
        "X_test_features.to_csv('/content/gdrive/MyDrive/Colab Notebooks/CAD Project/Dataset/HairlessThreeClass_Data/Test_HistogramColorFeatures291022.csv',index=False)"
      ],
      "metadata": {
        "id": "5zCBk261h45X"
      },
      "execution_count": null,
      "outputs": []
    },
    {
      "cell_type": "markdown",
      "source": [
        "First model: SVM"
      ],
      "metadata": {
        "id": "aURegZ575JPh"
      }
    },
    {
      "cell_type": "code",
      "source": [
        "model1= svm.SVC()\n",
        "model1.fit(X_train_scaled,y_train)\n",
        "y_pred1= model1.predict(X_test_scaled)"
      ],
      "metadata": {
        "id": "dH2XtxTYui6P"
      },
      "execution_count": null,
      "outputs": []
    },
    {
      "cell_type": "code",
      "source": [
        "# pickle.dump(model1, open('/content/gdrive/MyDrive/Colab Notebooks/CAD Project/Dataset/Three Class Problem/Models/WP_Aug/ColorHistSVM_model.sav', 'wb'))"
      ],
      "metadata": {
        "id": "nq6g5jYEC52P"
      },
      "execution_count": null,
      "outputs": []
    },
    {
      "cell_type": "code",
      "source": [
        "print(classification_report(y_test,y_pred1))\n",
        "print(balanced_accuracy_score(y_test,y_pred1))\n",
        "print(\"Kappa Score :\")\n",
        "print(cohen_kappa_score(y_test,y_pred1))"
      ],
      "metadata": {
        "id": "wgUjqdO6ui6P",
        "colab": {
          "base_uri": "https://localhost:8080/"
        },
        "outputId": "581f7421-d2f7-48de-a5ef-20635430e412"
      },
      "execution_count": null,
      "outputs": [
        {
          "output_type": "stream",
          "name": "stdout",
          "text": [
            "              precision    recall  f1-score   support\n",
            "\n",
            "           0       0.87      0.65      0.75       678\n",
            "           1       0.66      0.67      0.67       498\n",
            "           2       0.22      0.57      0.31        94\n",
            "\n",
            "    accuracy                           0.66      1270\n",
            "   macro avg       0.58      0.63      0.58      1270\n",
            "weighted avg       0.74      0.66      0.68      1270\n",
            "\n",
            "0.6346780456414247\n",
            "Kappa Score :\n",
            "0.4406868686868687\n"
          ]
        }
      ]
    },
    {
      "cell_type": "code",
      "source": [
        "cm= confusion_matrix(y_test,y_pred1,labels= model1.classes_)\n",
        "disp= ConfusionMatrixDisplay(confusion_matrix=cm, display_labels=model1.classes_)\n",
        "disp= disp.plot(include_values= True, cmap=plt.cm.Blues)\n",
        "plt.grid(False)\n",
        "plt.show()"
      ],
      "metadata": {
        "id": "AVtwca8D_TNR",
        "colab": {
          "base_uri": "https://localhost:8080/",
          "height": 279
        },
        "outputId": "3de57cfd-a3cf-4956-cb9c-0b461f419118"
      },
      "execution_count": null,
      "outputs": [
        {
          "output_type": "display_data",
          "data": {
            "text/plain": [
              "<Figure size 432x288 with 2 Axes>"
            ],
            "image/png": "[encoded data removed]"
          },
          "metadata": {
            "needs_background": "light"
          }
        }
      ]
    },
    {
      "cell_type": "markdown",
      "source": [
        "Second Model: Logistic Regression"
      ],
      "metadata": {
        "id": "GR3zplQI5QLl"
      }
    },
    {
      "cell_type": "code",
      "source": [
        "model2= LogisticRegression(max_iter=2000)\n",
        "model2.fit(X_train_scaled,y_train)\n",
        "y_pred2= model2.predict(X_test_scaled)"
      ],
      "metadata": {
        "id": "gP54zwHa3bBf"
      },
      "execution_count": null,
      "outputs": []
    },
    {
      "cell_type": "code",
      "source": [
        "print(classification_report(y_test,y_pred2))\n",
        "print(balanced_accuracy_score(y_test,y_pred2))\n",
        "print(\"Kappa Score :\")\n",
        "print(cohen_kappa_score(y_test,y_pred2))"
      ],
      "metadata": {
        "id": "uULsIqfE5ZxM",
        "colab": {
          "base_uri": "https://localhost:8080/"
        },
        "outputId": "6021451b-3f80-47ea-b0c9-2cf5fba78ee3"
      },
      "execution_count": null,
      "outputs": [
        {
          "output_type": "stream",
          "name": "stdout",
          "text": [
            "              precision    recall  f1-score   support\n",
            "\n",
            "           0       0.78      0.47      0.59       678\n",
            "           1       0.54      0.59      0.57       498\n",
            "           2       0.12      0.43      0.19        94\n",
            "\n",
            "    accuracy                           0.51      1270\n",
            "   macro avg       0.48      0.50      0.45      1270\n",
            "weighted avg       0.64      0.51      0.55      1270\n",
            "\n",
            "0.4954649452010011\n",
            "Kappa Score :\n",
            "0.24371199691149503\n"
          ]
        }
      ]
    },
    {
      "cell_type": "code",
      "source": [
        "cm= confusion_matrix(y_test,y_pred2,labels= model2.classes_)\n",
        "disp= ConfusionMatrixDisplay(confusion_matrix=cm, display_labels=model2.classes_)\n",
        "disp= disp.plot(include_values= True, cmap=plt.cm.Blues)\n",
        "plt.grid(False)\n",
        "plt.show()"
      ],
      "metadata": {
        "id": "mCK7t-le_m7f",
        "colab": {
          "base_uri": "https://localhost:8080/",
          "height": 279
        },
        "outputId": "291b16cd-dcf4-4b21-8f9a-e04604d8dbbc"
      },
      "execution_count": null,
      "outputs": [
        {
          "output_type": "display_data",
          "data": {
            "text/plain": [
              "<Figure size 432x288 with 2 Axes>"
            ],
            "image/png": "[encoded data removed]"
          },
          "metadata": {
            "needs_background": "light"
          }
        }
      ]
    },
    {
      "cell_type": "markdown",
      "source": [
        "Third model: Gradient Boosting"
      ],
      "metadata": {
        "id": "WX9z50hK5xbS"
      }
    },
    {
      "cell_type": "code",
      "source": [
        "model3= GradientBoostingClassifier(random_state=42)\n",
        "model3.fit(X_train_scaled,y_train)\n",
        "y_pred3= model3.predict(X_test_scaled)"
      ],
      "metadata": {
        "id": "Uq_PCz6uAMkT"
      },
      "execution_count": null,
      "outputs": []
    },
    {
      "cell_type": "code",
      "source": [
        "print(classification_report(y_test,y_pred3))\n",
        "print(balanced_accuracy_score(y_test,y_pred3))\n",
        "print(\"Kappa Score :\")\n",
        "print(cohen_kappa_score(y_test,y_pred3))"
      ],
      "metadata": {
        "id": "faDpyCwJBWqV",
        "colab": {
          "base_uri": "https://localhost:8080/"
        },
        "outputId": "4388610c-5dd3-48f2-ec8f-bee4c1a21e02"
      },
      "execution_count": null,
      "outputs": [
        {
          "output_type": "stream",
          "name": "stdout",
          "text": [
            "              precision    recall  f1-score   support\n",
            "\n",
            "           0       0.87      0.71      0.78       678\n",
            "           1       0.69      0.68      0.68       498\n",
            "           2       0.23      0.54      0.32        94\n",
            "\n",
            "    accuracy                           0.69      1270\n",
            "   macro avg       0.59      0.64      0.60      1270\n",
            "weighted avg       0.75      0.69      0.71      1270\n",
            "\n",
            "0.6442385370264084\n",
            "Kappa Score :\n",
            "0.4782520057330192\n"
          ]
        }
      ]
    },
    {
      "cell_type": "code",
      "source": [
        "cm= confusion_matrix(y_test,y_pred3,labels= model3.classes_)\n",
        "disp= ConfusionMatrixDisplay(confusion_matrix=cm, display_labels=model3.classes_)\n",
        "disp= disp.plot(include_values= True, cmap=plt.cm.Blues)\n",
        "plt.grid(False)\n",
        "plt.show()"
      ],
      "metadata": {
        "id": "EupzWGqkCQmC",
        "colab": {
          "base_uri": "https://localhost:8080/",
          "height": 279
        },
        "outputId": "c578a38d-910e-4452-c524-ad5f00d4f328"
      },
      "execution_count": null,
      "outputs": [
        {
          "output_type": "display_data",
          "data": {
            "text/plain": [
              "<Figure size 432x288 with 2 Axes>"
            ],
            "image/png": "[encoded data removed]"
          },
          "metadata": {
            "needs_background": "light"
          }
        }
      ]
    },
    {
      "cell_type": "code",
      "source": [
        "# pickle.dump(model3, open('/content/gdrive/MyDrive/Colab Notebooks/CAD Project/Dataset/Three Class Problem/Models/WP_Aug/ColorHistGBoost_model.sav', 'wb'))"
      ],
      "metadata": {
        "id": "XEkUAUkmDi7b"
      },
      "execution_count": null,
      "outputs": []
    },
    {
      "cell_type": "markdown",
      "source": [
        "Fourth Model: Random Forest Classifier"
      ],
      "metadata": {
        "id": "XjM7FEIJCYqk"
      }
    },
    {
      "cell_type": "code",
      "source": [
        "model4= RandomForestClassifier(random_state=42)\n",
        "model4.fit(X_train_scaled,y_train)\n",
        "y_pred4= model4.predict(X_test_scaled)"
      ],
      "metadata": {
        "id": "VsoTQwlwCy1E"
      },
      "execution_count": null,
      "outputs": []
    },
    {
      "cell_type": "code",
      "source": [
        "print(classification_report(y_test,y_pred4))\n",
        "print(balanced_accuracy_score(y_test,y_pred4))\n",
        "print(\"Kappa Score :\")\n",
        "print(cohen_kappa_score(y_test,y_pred4))"
      ],
      "metadata": {
        "id": "MrqmwVRzDYbg",
        "colab": {
          "base_uri": "https://localhost:8080/"
        },
        "outputId": "2d1b6415-873a-471a-c6dc-586562b7efa3"
      },
      "execution_count": null,
      "outputs": [
        {
          "output_type": "stream",
          "name": "stdout",
          "text": [
            "              precision    recall  f1-score   support\n",
            "\n",
            "           0       0.88      0.80      0.83       678\n",
            "           1       0.76      0.80      0.78       498\n",
            "           2       0.39      0.55      0.46        94\n",
            "\n",
            "    accuracy                           0.78      1270\n",
            "   macro avg       0.68      0.72      0.69      1270\n",
            "weighted avg       0.80      0.78      0.79      1270\n",
            "\n",
            "0.7162828178338158\n",
            "Kappa Score :\n",
            "0.6146126401851939\n"
          ]
        }
      ]
    },
    {
      "cell_type": "code",
      "source": [
        "# pickle.dump(model4, open('/content/gdrive/MyDrive/Colab Notebooks/CAD Project/Dataset/Three Class Problem/Models/WP_Aug/ColorHistRF_model.sav', 'wb'))"
      ],
      "metadata": {
        "id": "TeWKgxvTDofA"
      },
      "execution_count": null,
      "outputs": []
    },
    {
      "cell_type": "code",
      "source": [
        "cm= confusion_matrix(y_test,y_pred4,labels= model4.classes_)\n",
        "disp= ConfusionMatrixDisplay(confusion_matrix=cm, display_labels=model4.classes_)\n",
        "disp= disp.plot(include_values= True, cmap=plt.cm.Blues)\n",
        "plt.grid(False)\n",
        "plt.show()"
      ],
      "metadata": {
        "id": "KZ9H8N9BEjIG",
        "colab": {
          "base_uri": "https://localhost:8080/",
          "height": 279
        },
        "outputId": "c4a16db1-cebf-4883-d864-dd2c2c47bd9d"
      },
      "execution_count": null,
      "outputs": [
        {
          "output_type": "display_data",
          "data": {
            "text/plain": [
              "<Figure size 432x288 with 2 Axes>"
            ],
            "image/png": "[encoded data removed]"
          },
          "metadata": {
            "needs_background": "light"
          }
        }
      ]
    },
    {
      "cell_type": "markdown",
      "source": [
        "Fifth model: AdaBoost classifier"
      ],
      "metadata": {
        "id": "isxj7ur7FTAn"
      }
    },
    {
      "cell_type": "code",
      "source": [
        "model5= AdaBoostClassifier(random_state=42)\n",
        "model5.fit(X_train_scaled,y_train)\n",
        "y_pred5= model5.predict(X_test_scaled)"
      ],
      "metadata": {
        "id": "vcv0LBlhFR6q"
      },
      "execution_count": null,
      "outputs": []
    },
    {
      "cell_type": "code",
      "source": [
        "print(classification_report(y_test,y_pred5))\n",
        "print(balanced_accuracy_score(y_test,y_pred5))\n",
        "print(\"Kappa Score :\")\n",
        "print(cohen_kappa_score(y_test,y_pred5))"
      ],
      "metadata": {
        "id": "VL-oPpRgFzAF",
        "colab": {
          "base_uri": "https://localhost:8080/"
        },
        "outputId": "c88237ce-c136-4758-c230-d18c402e2452"
      },
      "execution_count": null,
      "outputs": [
        {
          "output_type": "stream",
          "name": "stdout",
          "text": [
            "              precision    recall  f1-score   support\n",
            "\n",
            "           0       0.80      0.68      0.73       678\n",
            "           1       0.66      0.59      0.62       498\n",
            "           2       0.16      0.41      0.23        94\n",
            "\n",
            "    accuracy                           0.63      1270\n",
            "   macro avg       0.54      0.56      0.53      1270\n",
            "weighted avg       0.69      0.63      0.65      1270\n",
            "\n",
            "0.5622236640026497\n",
            "Kappa Score :\n",
            "0.3805247030215402\n"
          ]
        }
      ]
    },
    {
      "cell_type": "code",
      "source": [
        "cm= confusion_matrix(y_test,y_pred5,labels= model5.classes_)\n",
        "disp= ConfusionMatrixDisplay(confusion_matrix=cm, display_labels=model5.classes_)\n",
        "disp= disp.plot(include_values= True, cmap=plt.cm.Blues)\n",
        "plt.grid(False)\n",
        "plt.show()"
      ],
      "metadata": {
        "id": "mDuYZeUNF0Rk",
        "colab": {
          "base_uri": "https://localhost:8080/",
          "height": 279
        },
        "outputId": "864c6599-1661-4088-87a4-cb834add1a7c"
      },
      "execution_count": null,
      "outputs": [
        {
          "output_type": "display_data",
          "data": {
            "text/plain": [
              "<Figure size 432x288 with 2 Axes>"
            ],
            "image/png": "[encoded data removed]"
          },
          "metadata": {
            "needs_background": "light"
          }
        }
      ]
    },
    {
      "cell_type": "markdown",
      "source": [
        "Sixth Model: Decision Trees Classifier"
      ],
      "metadata": {
        "id": "2c4-Rm9JH5JO"
      }
    },
    {
      "cell_type": "code",
      "source": [
        "model6= DecisionTreeClassifier(random_state=42)\n",
        "model6.fit(X_train_scaled,y_train)\n",
        "y_pred6= model6.predict(X_test_scaled)"
      ],
      "metadata": {
        "id": "VRQv63idH_9y"
      },
      "execution_count": null,
      "outputs": []
    },
    {
      "cell_type": "code",
      "source": [
        "print(classification_report(y_test,y_pred6))\n",
        "print(balanced_accuracy_score(y_test,y_pred6))\n",
        "print(\"Kappa Score :\")\n",
        "print(cohen_kappa_score(y_test,y_pred6))"
      ],
      "metadata": {
        "id": "SbO8vbfEIFgO",
        "colab": {
          "base_uri": "https://localhost:8080/"
        },
        "outputId": "2e38aebe-9185-4e1f-da6c-11d9bf51befc"
      },
      "execution_count": null,
      "outputs": [
        {
          "output_type": "stream",
          "name": "stdout",
          "text": [
            "              precision    recall  f1-score   support\n",
            "\n",
            "           0       0.79      0.67      0.73       678\n",
            "           1       0.66      0.61      0.63       498\n",
            "           2       0.19      0.46      0.27        94\n",
            "\n",
            "    accuracy                           0.63      1270\n",
            "   macro avg       0.54      0.58      0.54      1270\n",
            "weighted avg       0.69      0.63      0.65      1270\n",
            "\n",
            "0.5793046030856621\n",
            "Kappa Score :\n",
            "0.3862301420109544\n"
          ]
        }
      ]
    },
    {
      "cell_type": "code",
      "source": [
        "cm= confusion_matrix(y_test,y_pred6,labels= model6.classes_)\n",
        "disp= ConfusionMatrixDisplay(confusion_matrix=cm, display_labels=model6.classes_)\n",
        "disp= disp.plot(include_values= True, cmap=plt.cm.Blues)\n",
        "plt.grid(False)\n",
        "plt.show()"
      ],
      "metadata": {
        "id": "0vLFgXjCIIeo",
        "colab": {
          "base_uri": "https://localhost:8080/",
          "height": 280
        },
        "outputId": "3160fb0f-36b8-43dd-ff07-6bde355db084"
      },
      "execution_count": null,
      "outputs": [
        {
          "output_type": "display_data",
          "data": {
            "text/plain": [
              "<Figure size 432x288 with 2 Axes>"
            ],
            "image/png": "[encoded data removed]"
          },
          "metadata": {
            "needs_background": "light"
          }
        }
      ]
    },
    {
      "cell_type": "markdown",
      "source": [
        "Seventh model: XGBoost Classifier"
      ],
      "metadata": {
        "id": "zvN12XanIQri"
      }
    },
    {
      "cell_type": "code",
      "source": [
        "model7= XGBClassifier(random_state=42)\n",
        "model7.fit(X_train_scaled,y_train)\n",
        "y_pred7= model7.predict(X_test_scaled)"
      ],
      "metadata": {
        "id": "nQuRDLPmI7Hj"
      },
      "execution_count": null,
      "outputs": []
    },
    {
      "cell_type": "code",
      "source": [
        "print(classification_report(y_test,y_pred7))\n",
        "print(balanced_accuracy_score(y_test,y_pred7))\n",
        "print(\"Kappa Score :\")\n",
        "print(cohen_kappa_score(y_test,y_pred7))"
      ],
      "metadata": {
        "id": "pcZw6XQHKpG8",
        "colab": {
          "base_uri": "https://localhost:8080/"
        },
        "outputId": "acfc578e-19eb-4df1-9c3f-9cb4f510739d"
      },
      "execution_count": null,
      "outputs": [
        {
          "output_type": "stream",
          "name": "stdout",
          "text": [
            "              precision    recall  f1-score   support\n",
            "\n",
            "           0       0.87      0.71      0.78       678\n",
            "           1       0.70      0.70      0.70       498\n",
            "           2       0.22      0.52      0.31        94\n",
            "\n",
            "    accuracy                           0.69      1270\n",
            "   macro avg       0.60      0.64      0.60      1270\n",
            "weighted avg       0.75      0.69      0.71      1270\n",
            "\n",
            "0.6410261645338652\n",
            "Kappa Score :\n",
            "0.4823667937454198\n"
          ]
        }
      ]
    },
    {
      "cell_type": "code",
      "source": [
        "cm= confusion_matrix(y_test,y_pred7,labels= model7.classes_)\n",
        "disp= ConfusionMatrixDisplay(confusion_matrix=cm, display_labels=model7.classes_)\n",
        "disp= disp.plot(include_values= True, cmap=plt.cm.Blues)\n",
        "plt.grid(False)\n",
        "plt.show()"
      ],
      "metadata": {
        "id": "4Mxxq2V6LJ4F",
        "colab": {
          "base_uri": "https://localhost:8080/",
          "height": 279
        },
        "outputId": "710c430e-8ee0-4a9e-f3a3-b6f0a45ef68c"
      },
      "execution_count": null,
      "outputs": [
        {
          "output_type": "display_data",
          "data": {
            "text/plain": [
              "<Figure size 432x288 with 2 Axes>"
            ],
            "image/png": "[encoded data removed]"
          },
          "metadata": {
            "needs_background": "light"
          }
        }
      ]
    },
    {
      "cell_type": "markdown",
      "source": [
        "Eigth model: Naive Bayes Classifier"
      ],
      "metadata": {
        "id": "FytjRDNXLO1q"
      }
    },
    {
      "cell_type": "code",
      "source": [
        "model8= GaussianNB()\n",
        "model8.fit(X_train_scaled,y_train)\n",
        "y_pred8= model8.predict(X_test_scaled)"
      ],
      "metadata": {
        "id": "iEZRoOjgLXGG"
      },
      "execution_count": null,
      "outputs": []
    },
    {
      "cell_type": "code",
      "source": [
        "print(classification_report(y_test,y_pred8))\n",
        "print(balanced_accuracy_score(y_test,y_pred8))\n",
        "print(\"Kappa Score :\")\n",
        "print(cohen_kappa_score(y_test,y_pred8))"
      ],
      "metadata": {
        "id": "wC901lG7M5Rc",
        "colab": {
          "base_uri": "https://localhost:8080/"
        },
        "outputId": "1bb9c8dd-8a30-49ab-99b7-eb303e0c45ac"
      },
      "execution_count": null,
      "outputs": [
        {
          "output_type": "stream",
          "name": "stdout",
          "text": [
            "              precision    recall  f1-score   support\n",
            "\n",
            "           0       0.62      0.68      0.65       678\n",
            "           1       0.55      0.54      0.55       498\n",
            "           2       0.02      0.01      0.01        94\n",
            "\n",
            "    accuracy                           0.57      1270\n",
            "   macro avg       0.40      0.41      0.40      1270\n",
            "weighted avg       0.55      0.57      0.56      1270\n",
            "\n",
            "0.40944106558664206\n",
            "Kappa Score :\n",
            "0.2050965819164592\n"
          ]
        }
      ]
    },
    {
      "cell_type": "code",
      "source": [
        "cm= confusion_matrix(y_test,y_pred8,labels= model8.classes_)\n",
        "disp= ConfusionMatrixDisplay(confusion_matrix=cm, display_labels=model8.classes_)\n",
        "disp= disp.plot(include_values= True, cmap=plt.cm.Blues)\n",
        "plt.grid(False)\n",
        "plt.show()"
      ],
      "metadata": {
        "id": "DSRM5v9aM9cc",
        "colab": {
          "base_uri": "https://localhost:8080/",
          "height": 279
        },
        "outputId": "ae5cf431-837b-4545-f229-bdff8fe21295"
      },
      "execution_count": null,
      "outputs": [
        {
          "output_type": "display_data",
          "data": {
            "text/plain": [
              "<Figure size 432x288 with 2 Axes>"
            ],
            "image/png": "[encoded data removed]"
          },
          "metadata": {
            "needs_background": "light"
          }
        }
      ]
    },
    {
      "cell_type": "markdown",
      "source": [
        "Ninth Model: KNeighbors Classifier"
      ],
      "metadata": {
        "id": "nTeQp070NBfJ"
      }
    },
    {
      "cell_type": "code",
      "source": [
        "model9= KNeighborsClassifier()\n",
        "model9.fit(X_train_scaled,y_train)\n",
        "y_pred9= model9.predict(X_test_scaled)\n"
      ],
      "metadata": {
        "id": "1DSpxxLiNZKV"
      },
      "execution_count": null,
      "outputs": []
    },
    {
      "cell_type": "code",
      "source": [
        "print(classification_report(y_test,y_pred9))\n",
        "print(balanced_accuracy_score(y_test,y_pred9))\n",
        "print(\"Kappa Score :\")\n",
        "print(cohen_kappa_score(y_test,y_pred9))"
      ],
      "metadata": {
        "id": "Etlio5NSNhCC",
        "colab": {
          "base_uri": "https://localhost:8080/"
        },
        "outputId": "f32d7a03-7897-4664-b650-4e245d9263a3"
      },
      "execution_count": null,
      "outputs": [
        {
          "output_type": "stream",
          "name": "stdout",
          "text": [
            "              precision    recall  f1-score   support\n",
            "\n",
            "           0       0.81      0.67      0.74       678\n",
            "           1       0.68      0.65      0.66       498\n",
            "           2       0.25      0.61      0.35        94\n",
            "\n",
            "    accuracy                           0.66      1270\n",
            "   macro avg       0.58      0.64      0.58      1270\n",
            "weighted avg       0.72      0.66      0.68      1270\n",
            "\n",
            "0.6420229338870577\n",
            "Kappa Score :\n",
            "0.43243459821978947\n"
          ]
        }
      ]
    },
    {
      "cell_type": "code",
      "source": [
        "cm= confusion_matrix(y_test,y_pred9,labels= model9.classes_)\n",
        "disp= ConfusionMatrixDisplay(confusion_matrix=cm, display_labels=model9.classes_)\n",
        "disp= disp.plot(include_values= True, cmap=plt.cm.Blues)\n",
        "plt.grid(False)\n",
        "plt.show()"
      ],
      "metadata": {
        "id": "1WatomrtNkxA",
        "colab": {
          "base_uri": "https://localhost:8080/",
          "height": 281
        },
        "outputId": "25c42891-b84d-41f7-8127-cd6652a85e88"
      },
      "execution_count": null,
      "outputs": [
        {
          "output_type": "display_data",
          "data": {
            "text/plain": [
              "<Figure size 432x288 with 2 Axes>"
            ],
            "image/png": "[encoded data removed]"
          },
          "metadata": {
            "needs_background": "light"
          }
        }
      ]
    },
    {
      "cell_type": "markdown",
      "source": [
        "Tenth Model: Bagging Classifier"
      ],
      "metadata": {
        "id": "IyjU8oQsOYSy"
      }
    },
    {
      "cell_type": "code",
      "source": [
        "model10= BaggingClassifier(base_estimator=RandomForestClassifier(random_state=42),n_estimators=10,random_state=42)\n",
        "model10.fit(X_train_scaled,y_train)\n",
        "y_pred10= model10.predict(X_test_scaled)\n"
      ],
      "metadata": {
        "id": "A3ZIWJ7rObOp"
      },
      "execution_count": null,
      "outputs": []
    },
    {
      "cell_type": "code",
      "source": [
        "print(classification_report(y_test,y_pred10))\n",
        "print(balanced_accuracy_score(y_test,y_pred10))\n",
        "print(\"Kappa Score :\")\n",
        "print(cohen_kappa_score(y_test,y_pred10))"
      ],
      "metadata": {
        "id": "EfCTGLG5OtzD",
        "colab": {
          "base_uri": "https://localhost:8080/"
        },
        "outputId": "d00862d0-64cf-4261-aa3e-3b3f23e0b5d1"
      },
      "execution_count": null,
      "outputs": [
        {
          "output_type": "stream",
          "name": "stdout",
          "text": [
            "              precision    recall  f1-score   support\n",
            "\n",
            "           0       0.87      0.77      0.82       678\n",
            "           1       0.74      0.76      0.75       498\n",
            "           2       0.34      0.57      0.43        94\n",
            "\n",
            "    accuracy                           0.75      1270\n",
            "   macro avg       0.65      0.70      0.66      1270\n",
            "weighted avg       0.78      0.75      0.76      1270\n",
            "\n",
            "0.7013162799947672\n",
            "Kappa Score :\n",
            "0.5715487532508573\n"
          ]
        }
      ]
    },
    {
      "cell_type": "code",
      "source": [
        "cm= confusion_matrix(y_test,y_pred10,labels= model10.classes_)\n",
        "disp= ConfusionMatrixDisplay(confusion_matrix=cm, display_labels=model10.classes_)\n",
        "disp= disp.plot(include_values= True, cmap=plt.cm.Blues)\n",
        "plt.grid(False)\n",
        "plt.show()"
      ],
      "metadata": {
        "id": "j8euKLFgOvVx",
        "colab": {
          "base_uri": "https://localhost:8080/",
          "height": 279
        },
        "outputId": "12f8e6aa-eb2c-46d0-a870-ac9ebcef6389"
      },
      "execution_count": null,
      "outputs": [
        {
          "output_type": "display_data",
          "data": {
            "text/plain": [
              "<Figure size 432x288 with 2 Axes>"
            ],
            "image/png": "[encoded data removed]"
          },
          "metadata": {
            "needs_background": "light"
          }
        }
      ]
    },
    {
      "cell_type": "markdown",
      "source": [
        "Eleventh Model: Stacking Classifier"
      ],
      "metadata": {
        "id": "wK4GkxZmO1Ba"
      }
    },
    {
      "cell_type": "code",
      "source": [
        "def get_stack_model():\n",
        "  level0 = list()\n",
        "  level0.append(('lr', LogisticRegression(max_iter=2000,random_state=42)))\n",
        "  level0.append(('knn', KNeighborsClassifier()))\n",
        "  level0.append(('cart', DecisionTreeClassifier(random_state=42)))\n",
        "  level0.append(('svm', svm.SVC(kernel='rbf', gamma='auto',decision_function_shape='ovr', random_state=42)))\n",
        "  level0.append(('bayes', GaussianNB()))\n",
        "  level0.append(('gboosting', GradientBoostingClassifier(random_state=42)))\n",
        "  level0.append(('rforest', RandomForestClassifier(random_state=42)))\n",
        "  level0.append(('adaboost', AdaBoostClassifier(random_state=42)))\n",
        "  level1 = LogisticRegression(max_iter=2000,random_state=42)\n",
        "  model = StackingClassifier(estimators=level0, final_estimator=level1, cv=5)\n",
        "  return model"
      ],
      "metadata": {
        "id": "4vkYDwiuO4mw"
      },
      "execution_count": null,
      "outputs": []
    },
    {
      "cell_type": "code",
      "source": [
        "model11=get_stack_model()\n",
        "model11.fit(X_train_scaled,y_train)\n",
        "y_pred11= model11.predict(X_test_scaled)"
      ],
      "metadata": {
        "id": "N7sng-NWO_cI"
      },
      "execution_count": null,
      "outputs": []
    },
    {
      "cell_type": "code",
      "source": [
        "print(classification_report(y_test,y_pred11))\n",
        "print(balanced_accuracy_score(y_test,y_pred11))\n",
        "print(\"Kappa Score :\")\n",
        "print(cohen_kappa_score(y_test,y_pred11))"
      ],
      "metadata": {
        "id": "lvLWcXbIPdSS",
        "colab": {
          "base_uri": "https://localhost:8080/"
        },
        "outputId": "11535458-b73e-404c-a702-c6361943a148"
      },
      "execution_count": null,
      "outputs": [
        {
          "output_type": "stream",
          "name": "stdout",
          "text": [
            "              precision    recall  f1-score   support\n",
            "\n",
            "           0       0.87      0.82      0.85       678\n",
            "           1       0.77      0.80      0.78       498\n",
            "           2       0.43      0.55      0.48        94\n",
            "\n",
            "    accuracy                           0.79      1270\n",
            "   macro avg       0.69      0.72      0.70      1270\n",
            "weighted avg       0.80      0.79      0.80      1270\n",
            "\n",
            "0.7233020451857012\n",
            "Kappa Score :\n",
            "0.632213125144798\n"
          ]
        }
      ]
    },
    {
      "cell_type": "code",
      "source": [
        "cm= confusion_matrix(y_test,y_pred11,labels= model11.classes_)\n",
        "disp= ConfusionMatrixDisplay(confusion_matrix=cm, display_labels=model11.classes_)\n",
        "disp= disp.plot(include_values= True, cmap=plt.cm.Blues)\n",
        "plt.grid(False)\n",
        "plt.show()"
      ],
      "metadata": {
        "id": "4MeIKVwOPYcv",
        "colab": {
          "base_uri": "https://localhost:8080/",
          "height": 279
        },
        "outputId": "fa614459-be27-4c28-e27f-cc0971586e4c"
      },
      "execution_count": null,
      "outputs": [
        {
          "output_type": "display_data",
          "data": {
            "text/plain": [
              "<Figure size 432x288 with 2 Axes>"
            ],
            "image/png": "[encoded data removed]"
          },
          "metadata": {
            "needs_background": "light"
          }
        }
      ]
    }
  ]
}