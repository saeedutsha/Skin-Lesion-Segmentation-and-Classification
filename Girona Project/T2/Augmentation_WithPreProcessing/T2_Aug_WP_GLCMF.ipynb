{
  "nbformat": 4,
  "nbformat_minor": 0,
  "metadata": {
    "colab": {
      "provenance": [],
      "collapsed_sections": []
    },
    "kernelspec": {
      "name": "python3",
      "display_name": "Python 3"
    },
    "language_info": {
      "name": "python"
    }
  },
  "cells": [
    {
      "cell_type": "code",
      "execution_count": null,
      "metadata": {
        "id": "W5-eOmOefcLY",
        "colab": {
          "base_uri": "https://localhost:8080/"
        },
        "outputId": "e5478e3c-bb9e-45b4-c86c-e68f7cb5682a"
      },
      "outputs": [
        {
          "output_type": "stream",
          "name": "stderr",
          "text": [
            "/usr/local/lib/python3.7/dist-packages/skimage/io/manage_plugins.py:23: UserWarning: Your installed pillow version is < 8.1.2. Several security issues (CVE-2021-27921, CVE-2021-25290, CVE-2021-25291, CVE-2021-25293, and more) have been fixed in pillow 8.1.2 or higher. We recommend to upgrade this library.\n",
            "  from .collection import imread_collection_wrapper\n"
          ]
        }
      ],
      "source": [
        "import os\n",
        "import cv2\n",
        "import copy\n",
        "import pandas as pd\n",
        "from PIL import Image\n",
        "import numpy as np\n",
        "from matplotlib import pyplot as plt\n",
        "from glob import glob\n",
        "from google.colab.patches import cv2_imshow\n",
        "from sklearn.metrics import jaccard_score\n",
        "import random\n",
        "import torch\n",
        "from sklearn import svm\n",
        "from sklearn.preprocessing import StandardScaler\n",
        "import torchvision\n",
        "import torch.nn as nn\n",
        "import torch.nn.functional as F\n",
        "from torch.functional import Tensor\n",
        "import torch.optim as optim\n",
        "import torchvision.transforms as transforms\n",
        "import torchvision.datasets as datasets\n",
        "from scipy.stats import kurtosis, skew, entropy\n",
        "import torchvision.transforms.functional as TF\n",
        "from sklearn.metrics import confusion_matrix, ConfusionMatrixDisplay\n",
        "from torch.utils.data import Dataset, DataLoader\n",
        "from torch.nn.modules.activation import ReLU\n",
        "from sklearn.metrics import classification_report, balanced_accuracy_score\n",
        "from sklearn.linear_model import LogisticRegression\n",
        "from scipy.stats import kurtosis, skew\n",
        "from sklearn.ensemble import AdaBoostClassifier\n",
        "from sklearn.multiclass import OneVsRestClassifier\n",
        "from sklearn.ensemble import RandomForestClassifier\n",
        "from xgboost import XGBClassifier\n",
        "from sklearn.tree import DecisionTreeClassifier\n",
        "from sklearn.ensemble import GradientBoostingClassifier\n",
        "from sklearn.ensemble import StackingClassifier\n",
        "from sklearn.ensemble import BaggingClassifier\n",
        "from sklearn.naive_bayes import GaussianNB\n",
        "from sklearn.neighbors import KNeighborsClassifier\n",
        "from sklearn.model_selection import StratifiedShuffleSplit\n",
        "import skimage\n",
        "from skimage import io, exposure, morphology, filters, color, segmentation, feature, measure, img_as_float, img_as_ubyte, transform\n",
        "import seaborn as sns\n",
        "import pickle\n",
        "from torch.nn.modules.batchnorm import BatchNorm2d\n",
        "import torch.optim as optim\n",
        "from tqdm import tqdm\n",
        "from google.colab import drive\n",
        "from pathlib import Path\n",
        "from sklearn.utils import shuffle"
      ]
    },
    {
      "cell_type": "code",
      "source": [
        "!pip install -U scikit-image"
      ],
      "metadata": {
        "colab": {
          "base_uri": "https://localhost:8080/",
          "height": 450
        },
        "id": "_SW2JAC11pc1",
        "outputId": "d4687d31-92e7-4653-c8fc-b44a974fb65f"
      },
      "execution_count": null,
      "outputs": [
        {
          "output_type": "stream",
          "name": "stdout",
          "text": [
            "Looking in indexes: https://pypi.org/simple, https://us-python.pkg.dev/colab-wheels/public/simple/\n",
            "Requirement already satisfied: scikit-image in /usr/local/lib/python3.7/dist-packages (0.18.3)\n",
            "Collecting scikit-image\n",
            "  Downloading scikit_image-0.19.3-cp37-cp37m-manylinux_2_12_x86_64.manylinux2010_x86_64.whl (13.5 MB)\n",
            "\u001b[K     |████████████████████████████████| 13.5 MB 5.1 MB/s \n",
            "\u001b[?25hRequirement already satisfied: tifffile>=2019.7.26 in /usr/local/lib/python3.7/dist-packages (from scikit-image) (2021.11.2)\n",
            "Requirement already satisfied: PyWavelets>=1.1.1 in /usr/local/lib/python3.7/dist-packages (from scikit-image) (1.3.0)\n",
            "Requirement already satisfied: networkx>=2.2 in /usr/local/lib/python3.7/dist-packages (from scikit-image) (2.6.3)\n",
            "Requirement already satisfied: pillow!=7.1.0,!=7.1.1,!=8.3.0,>=6.1.0 in /usr/local/lib/python3.7/dist-packages (from scikit-image) (7.1.2)\n",
            "Requirement already satisfied: packaging>=20.0 in /usr/local/lib/python3.7/dist-packages (from scikit-image) (21.3)\n",
            "Requirement already satisfied: scipy>=1.4.1 in /usr/local/lib/python3.7/dist-packages (from scikit-image) (1.7.3)\n",
            "Requirement already satisfied: numpy>=1.17.0 in /usr/local/lib/python3.7/dist-packages (from scikit-image) (1.21.6)\n",
            "Requirement already satisfied: imageio>=2.4.1 in /usr/local/lib/python3.7/dist-packages (from scikit-image) (2.9.0)\n",
            "Requirement already satisfied: pyparsing!=3.0.5,>=2.0.2 in /usr/local/lib/python3.7/dist-packages (from packaging>=20.0->scikit-image) (3.0.9)\n",
            "Installing collected packages: scikit-image\n",
            "  Attempting uninstall: scikit-image\n",
            "    Found existing installation: scikit-image 0.18.3\n",
            "    Uninstalling scikit-image-0.18.3:\n",
            "      Successfully uninstalled scikit-image-0.18.3\n",
            "Successfully installed scikit-image-0.19.3\n"
          ]
        },
        {
          "output_type": "display_data",
          "data": {
            "application/vnd.colab-display-data+json": {
              "pip_warning": {
                "packages": [
                  "skimage"
                ]
              }
            }
          },
          "metadata": {}
        }
      ]
    },
    {
      "cell_type": "code",
      "source": [
        "drive.mount('/content/gdrive')"
      ],
      "metadata": {
        "colab": {
          "base_uri": "https://localhost:8080/"
        },
        "id": "A7hVU9ujgabT",
        "outputId": "6282d88b-a4de-4a1c-e3cf-ce190ca47962"
      },
      "execution_count": null,
      "outputs": [
        {
          "output_type": "stream",
          "name": "stdout",
          "text": [
            "Mounted at /content/gdrive\n"
          ]
        }
      ]
    },
    {
      "cell_type": "code",
      "source": [
        "# Directories\n",
        "input_directory = '/content/gdrive/MyDrive/Colab Notebooks/CAD Project/Dataset/Three Class Problem Preprocessed'\n",
        "train_directory = input_directory+'/train' \n",
        "val_directory = input_directory+'/val'"
      ],
      "metadata": {
        "id": "NupfuLWUgbpO"
      },
      "execution_count": null,
      "outputs": []
    },
    {
      "cell_type": "code",
      "source": [
        "#Training set organization\n",
        "train_bcc= sorted(glob(os.path.join(train_directory, \"bcc\", \"*.jpg\")))\n",
        "train_mel= sorted(glob(os.path.join(train_directory, \"mel\", \"*.jpg\")))\n",
        "train_scc= sorted(glob(os.path.join(train_directory, \"scc\", \"*.jpg\")))\n",
        "tags_bcc_train=[]\n",
        "tags_mel_train=[]\n",
        "tags_scc_train=[]\n",
        "tags_train=[]\n",
        "images_bcc=[]\n",
        "images_mel=[]\n",
        "images_scc=[]\n",
        "labels_bcc=[]\n",
        "labels_mel=[]\n",
        "labels_scc=[]"
      ],
      "metadata": {
        "id": "z3cwRQe7gc-Y"
      },
      "execution_count": null,
      "outputs": []
    },
    {
      "cell_type": "code",
      "source": [
        "#Validation set organization\n",
        "train_bcc_val= sorted(glob(os.path.join(val_directory, \"bcc\", \"*.jpg\")))\n",
        "train_mel_val= sorted(glob(os.path.join(val_directory, \"mel\", \"*.jpg\")))\n",
        "train_scc_val= sorted(glob(os.path.join(val_directory, \"scc\", \"*.jpg\")))\n",
        "tags_bcc_val=[]\n",
        "tags_mel_val=[]\n",
        "tags_scc_val=[]\n",
        "tags_val=[]\n",
        "images_bcc_val=[]\n",
        "images_mel_val=[]\n",
        "images_scc_val=[]\n",
        "labels_bcc_val=[]\n",
        "labels_mel_val=[]\n",
        "labels_scc_val=[]"
      ],
      "metadata": {
        "id": "oFcekIOagdle"
      },
      "execution_count": null,
      "outputs": []
    },
    {
      "cell_type": "code",
      "source": [
        "print(len(train_bcc))\n",
        "print(len(train_mel))\n",
        "print(len(train_scc))\n",
        "print(len(train_bcc_val))\n",
        "print(len(train_mel_val))\n",
        "print(len(train_scc_val))"
      ],
      "metadata": {
        "colab": {
          "base_uri": "https://localhost:8080/"
        },
        "id": "86x2tKnEXRzv",
        "outputId": "64a24b52-45be-4edb-fd0a-b74285d33edd"
      },
      "execution_count": null,
      "outputs": [
        {
          "output_type": "stream",
          "name": "stdout",
          "text": [
            "2713\n",
            "2713\n",
            "2632\n",
            "498\n",
            "678\n",
            "94\n"
          ]
        }
      ]
    },
    {
      "cell_type": "code",
      "source": [
        "#Training set DataFrame construction\n",
        "for i in range(len(train_bcc)):\n",
        "  tags_bcc_train.append(train_bcc[i][-12:])\n",
        "  labels_bcc.append(1)\n",
        "for i in range(len(train_mel)):\n",
        "  tags_mel_train.append(train_mel[i][-12:])\n",
        "  labels_mel.append(0)\n",
        "for i in range(len(train_scc)):\n",
        "  tags_scc_train.append(train_scc[i][-12:])\n",
        "  labels_scc.append(2)"
      ],
      "metadata": {
        "id": "YB5i5-17gf3e"
      },
      "execution_count": null,
      "outputs": []
    },
    {
      "cell_type": "code",
      "source": [
        "#Validation set DataFrame construction\n",
        "for i in range(len(train_bcc_val)):\n",
        "  tags_bcc_val.append(train_bcc_val[i][-12:])\n",
        "  labels_bcc_val.append(1)\n",
        "for i in range(len(train_mel_val)):\n",
        "  tags_mel_val.append(train_mel_val[i][-12:])\n",
        "  labels_mel_val.append(0)\n",
        "for i in range(len(train_scc_val)):\n",
        "  tags_scc_val.append(train_scc_val[i][-12:])\n",
        "  labels_scc_val.append(2)"
      ],
      "metadata": {
        "id": "46BGQv6KghVc"
      },
      "execution_count": null,
      "outputs": []
    },
    {
      "cell_type": "code",
      "source": [
        "tags_train= tags_bcc_train + tags_mel_train + tags_scc_train\n",
        "X_train= labels_bcc+labels_mel+labels_scc"
      ],
      "metadata": {
        "id": "KWsX_rmggjEx"
      },
      "execution_count": null,
      "outputs": []
    },
    {
      "cell_type": "code",
      "source": [
        "tags_val= tags_bcc_val + tags_mel_val+tags_scc_val\n",
        "X_test= labels_bcc_val +labels_mel_val+labels_scc_val"
      ],
      "metadata": {
        "id": "N13aS0YjglBp"
      },
      "execution_count": null,
      "outputs": []
    },
    {
      "cell_type": "code",
      "source": [
        "training_set= pd.DataFrame.from_dict({'Image Tag':tags_train, 'Image Route': train_bcc+train_mel+train_scc, 'Label': X_train})\n",
        "valid_set= pd.DataFrame.from_dict({'Image Tag':tags_val, 'Image Route': train_bcc_val+train_mel_val+train_scc_val, 'Label': X_test})"
      ],
      "metadata": {
        "id": "Nzu72yregm44"
      },
      "execution_count": null,
      "outputs": []
    },
    {
      "cell_type": "code",
      "source": [
        "X_train_data= training_set['Image Route'].to_numpy()\n",
        "y_train_data= training_set['Label'].to_numpy()\n",
        "X_test_data= valid_set['Image Route'].to_numpy()\n",
        "y_test_data= valid_set['Label'].to_numpy()"
      ],
      "metadata": {
        "id": "SyzPMJ_wgpMr"
      },
      "execution_count": null,
      "outputs": []
    },
    {
      "cell_type": "code",
      "source": [
        "X_train,y_train = shuffle(X_train_data,y_train_data, random_state= 42)\n",
        "X_test,y_test= shuffle(X_test_data, y_test_data, random_state=42)"
      ],
      "metadata": {
        "id": "NB8l2TWhgq9U"
      },
      "execution_count": null,
      "outputs": []
    },
    {
      "cell_type": "code",
      "source": [
        "def texture_feature_extractor(images_routes):\n",
        "  mean_contrast=[]\n",
        "  mean_dissimilarity=[]\n",
        "  mean_homogeneity=[]\n",
        "  mean_energy=[]\n",
        "  mean_correlation=[]\n",
        "  std_contrast=[]\n",
        "  std_dissimilarity=[]\n",
        "  std_homogeneity=[]\n",
        "  std_energy=[]\n",
        "  std_correlation=[]\n",
        "  counter=1\n",
        "  for i in images_routes:\n",
        "\n",
        "    img= cv2.imread(i)\n",
        "    img_bw= cv2.cvtColor(img,cv2.COLOR_BGR2GRAY)\n",
        "    glcm_matrix= feature.graycomatrix(img_bw, distances=[1,2,3], angles=[0,np.pi/4,np.pi/2, 3/2*np.pi], levels=256)\n",
        "    glcm_mean_contrast= np.mean(feature.graycoprops(glcm_matrix, 'contrast'))\n",
        "    glcm_mean_dissimilarity= np.mean(feature.graycoprops(glcm_matrix, 'dissimilarity'))\n",
        "    glcm_mean_homogeneity = np.mean(feature.graycoprops(glcm_matrix, 'homogeneity'))\n",
        "    glcm_mean_energy = np.mean(feature.graycoprops(glcm_matrix,'energy'))\n",
        "    glcm_mean_correlation = np.mean(feature.graycoprops(glcm_matrix,'correlation'))\n",
        "    glcm_std_contrast= np.std(feature.graycoprops(glcm_matrix, 'contrast'))\n",
        "    glcm_std_dissimilarity= np.std(feature.graycoprops(glcm_matrix, 'dissimilarity'))\n",
        "    glcm_std_homogeneity = np.std(feature.graycoprops(glcm_matrix, 'homogeneity'))\n",
        "    glcm_std_energy = np.std(feature.graycoprops(glcm_matrix,'energy'))\n",
        "    glcm_std_correlation = np.std(feature.graycoprops(glcm_matrix,'correlation'))\n",
        "    mean_contrast.append(glcm_mean_contrast)\n",
        "    mean_dissimilarity.append(glcm_mean_dissimilarity)\n",
        "    mean_homogeneity.append(glcm_mean_homogeneity)\n",
        "    mean_energy.append(glcm_mean_energy)\n",
        "    mean_correlation.append(glcm_mean_correlation)\n",
        "    std_contrast.append(glcm_std_contrast)\n",
        "    std_dissimilarity.append(glcm_std_dissimilarity)\n",
        "    std_homogeneity.append(glcm_std_homogeneity)\n",
        "    std_energy.append(glcm_std_energy)\n",
        "    std_correlation.append(glcm_std_correlation)\n",
        "  texture_features={'glcm_mean_contrast': mean_contrast, 'glcm_mean_dissimilarity': mean_dissimilarity,\n",
        "                    'glcm_mean_homogeneity': mean_homogeneity, 'glcm_mean_energy': mean_energy,\n",
        "                    'glcm_mean_correlation': mean_correlation, 'glcm_std_contrast': std_contrast,\n",
        "                    'glcm_std_dissimilarity': std_dissimilarity, 'glcm_std_homogeneity': std_homogeneity,\n",
        "                    'glcm_std_energy':std_energy, 'glcm_std_correlation': std_correlation}\n",
        "  result = pd.DataFrame.from_dict(texture_features)\n",
        "\n",
        "  return result"
      ],
      "metadata": {
        "id": "vtim6fa9huyQ"
      },
      "execution_count": null,
      "outputs": []
    },
    {
      "cell_type": "code",
      "source": [
        "X_train_features= texture_feature_extractor(X_train)\n",
        "X_test_features= texture_feature_extractor(X_test)\n",
        "scaler= StandardScaler().fit(X_train_features)\n",
        "X_train_scaled= scaler.transform(X_train_features)\n",
        "X_test_scaled= scaler.transform(X_test_features)"
      ],
      "metadata": {
        "id": "Dnybep9dh4XM"
      },
      "execution_count": null,
      "outputs": []
    },
    {
      "cell_type": "code",
      "source": [
        "X_train_features.to_csv('/content/gdrive/MyDrive/Colab Notebooks/CAD Project/Dataset/ThreeClassProblemPreprocessed_Data/Train_TextureFeatures291022.csv',index=False)\n",
        "X_test_features.to_csv('/content/gdrive/MyDrive/Colab Notebooks/CAD Project/Dataset/ThreeClassProblemPreprocessed_Data/Test_TextureFeatures291022.csv',index=False)"
      ],
      "metadata": {
        "id": "5zCBk261h45X"
      },
      "execution_count": null,
      "outputs": []
    },
    {
      "cell_type": "markdown",
      "source": [
        "First model: SVM"
      ],
      "metadata": {
        "id": "aURegZ575JPh"
      }
    },
    {
      "cell_type": "code",
      "source": [
        "model1= svm.SVC()\n",
        "model1.fit(X_train_scaled,y_train)\n",
        "y_pred1= model1.predict(X_test_scaled)"
      ],
      "metadata": {
        "id": "dH2XtxTYui6P"
      },
      "execution_count": null,
      "outputs": []
    },
    {
      "cell_type": "code",
      "source": [
        "print(classification_report(y_test,y_pred1))\n",
        "print(balanced_accuracy_score(y_test,y_pred1))"
      ],
      "metadata": {
        "id": "wgUjqdO6ui6P",
        "colab": {
          "base_uri": "https://localhost:8080/"
        },
        "outputId": "dbe71d00-8c95-4919-95f6-a4e61af3a989"
      },
      "execution_count": null,
      "outputs": [
        {
          "output_type": "stream",
          "name": "stdout",
          "text": [
            "              precision    recall  f1-score   support\n",
            "\n",
            "           0       0.81      0.64      0.72       678\n",
            "           1       0.60      0.60      0.60       498\n",
            "           2       0.17      0.40      0.24        94\n",
            "\n",
            "    accuracy                           0.61      1270\n",
            "   macro avg       0.52      0.55      0.52      1270\n",
            "weighted avg       0.68      0.61      0.64      1270\n",
            "\n",
            "0.5504025768548367\n"
          ]
        }
      ]
    },
    {
      "cell_type": "code",
      "source": [
        "cm= confusion_matrix(y_test,y_pred1,labels= model1.classes_)\n",
        "disp= ConfusionMatrixDisplay(confusion_matrix=cm, display_labels=model1.classes_)\n",
        "disp= disp.plot(include_values= True, cmap=plt.cm.Blues)\n",
        "plt.grid(False)\n",
        "plt.show()"
      ],
      "metadata": {
        "id": "AVtwca8D_TNR",
        "colab": {
          "base_uri": "https://localhost:8080/",
          "height": 279
        },
        "outputId": "67c5345c-bb45-4c36-fc0f-f22d3adc2648"
      },
      "execution_count": null,
      "outputs": [
        {
          "output_type": "display_data",
          "data": {
            "text/plain": [
              "<Figure size 432x288 with 2 Axes>"
            ],
            "image/png": "[encoded data removed]"
          },
          "metadata": {
            "needs_background": "light"
          }
        }
      ]
    },
    {
      "cell_type": "markdown",
      "source": [
        "Second Model: Logistic Regression"
      ],
      "metadata": {
        "id": "GR3zplQI5QLl"
      }
    },
    {
      "cell_type": "code",
      "source": [
        "model2= LogisticRegression(max_iter=2000)\n",
        "model2.fit(X_train_scaled,y_train)\n",
        "y_pred2= model2.predict(X_test_scaled)"
      ],
      "metadata": {
        "id": "gP54zwHa3bBf"
      },
      "execution_count": null,
      "outputs": []
    },
    {
      "cell_type": "code",
      "source": [
        "print(classification_report(y_test,y_pred2))\n",
        "print(balanced_accuracy_score(y_test,y_pred2))"
      ],
      "metadata": {
        "id": "uULsIqfE5ZxM",
        "colab": {
          "base_uri": "https://localhost:8080/"
        },
        "outputId": "1c9c65ab-8020-44f0-c3f7-cf21123c551a"
      },
      "execution_count": null,
      "outputs": [
        {
          "output_type": "stream",
          "name": "stdout",
          "text": [
            "              precision    recall  f1-score   support\n",
            "\n",
            "           0       0.74      0.64      0.69       678\n",
            "           1       0.60      0.54      0.57       498\n",
            "           2       0.13      0.33      0.19        94\n",
            "\n",
            "    accuracy                           0.58      1270\n",
            "   macro avg       0.49      0.50      0.48      1270\n",
            "weighted avg       0.64      0.58      0.60      1270\n",
            "\n",
            "0.5026859461948717\n"
          ]
        }
      ]
    },
    {
      "cell_type": "code",
      "source": [
        "cm= confusion_matrix(y_test,y_pred2,labels= model2.classes_)\n",
        "disp= ConfusionMatrixDisplay(confusion_matrix=cm, display_labels=model2.classes_)\n",
        "disp= disp.plot(include_values= True, cmap=plt.cm.Blues)\n",
        "plt.grid(False)\n",
        "plt.show()"
      ],
      "metadata": {
        "id": "mCK7t-le_m7f",
        "colab": {
          "base_uri": "https://localhost:8080/",
          "height": 279
        },
        "outputId": "3f9c8972-42f9-4dff-e12d-6ad5f1b78944"
      },
      "execution_count": null,
      "outputs": [
        {
          "output_type": "display_data",
          "data": {
            "text/plain": [
              "<Figure size 432x288 with 2 Axes>"
            ],
            "image/png": "[encoded data removed]"
          },
          "metadata": {
            "needs_background": "light"
          }
        }
      ]
    },
    {
      "cell_type": "markdown",
      "source": [
        "Third model: Gradient Boosting"
      ],
      "metadata": {
        "id": "WX9z50hK5xbS"
      }
    },
    {
      "cell_type": "code",
      "source": [
        "model3= GradientBoostingClassifier(random_state=42)\n",
        "model3.fit(X_train_scaled,y_train)\n",
        "y_pred3= model3.predict(X_test_scaled)"
      ],
      "metadata": {
        "id": "Uq_PCz6uAMkT"
      },
      "execution_count": null,
      "outputs": []
    },
    {
      "cell_type": "code",
      "source": [
        "print(classification_report(y_test,y_pred3))\n",
        "print(balanced_accuracy_score(y_test,y_pred3))"
      ],
      "metadata": {
        "id": "faDpyCwJBWqV",
        "colab": {
          "base_uri": "https://localhost:8080/"
        },
        "outputId": "e859c141-2855-422a-9030-53dc1870505d"
      },
      "execution_count": null,
      "outputs": [
        {
          "output_type": "stream",
          "name": "stdout",
          "text": [
            "              precision    recall  f1-score   support\n",
            "\n",
            "           0       0.81      0.66      0.73       678\n",
            "           1       0.62      0.56      0.59       498\n",
            "           2       0.17      0.49      0.25        94\n",
            "\n",
            "    accuracy                           0.61      1270\n",
            "   macro avg       0.53      0.57      0.52      1270\n",
            "weighted avg       0.69      0.61      0.64      1270\n",
            "\n",
            "0.5678012369568652\n"
          ]
        }
      ]
    },
    {
      "cell_type": "code",
      "source": [
        "cm= confusion_matrix(y_test,y_pred3,labels= model3.classes_)\n",
        "disp= ConfusionMatrixDisplay(confusion_matrix=cm, display_labels=model3.classes_)\n",
        "disp= disp.plot(include_values= True, cmap=plt.cm.Blues)\n",
        "plt.grid(False)\n",
        "plt.show()"
      ],
      "metadata": {
        "id": "EupzWGqkCQmC",
        "colab": {
          "base_uri": "https://localhost:8080/",
          "height": 279
        },
        "outputId": "ce7e73c2-04d8-4bce-9b72-fd758b3616e6"
      },
      "execution_count": null,
      "outputs": [
        {
          "output_type": "display_data",
          "data": {
            "text/plain": [
              "<Figure size 432x288 with 2 Axes>"
            ],
            "image/png": "[encoded data removed]"
          },
          "metadata": {
            "needs_background": "light"
          }
        }
      ]
    },
    {
      "cell_type": "markdown",
      "source": [
        "Fourth Model: Random Forest Classifier"
      ],
      "metadata": {
        "id": "XjM7FEIJCYqk"
      }
    },
    {
      "cell_type": "code",
      "source": [
        "model4= RandomForestClassifier(random_state=42)\n",
        "model4.fit(X_train_scaled,y_train)\n",
        "y_pred4= model4.predict(X_test_scaled)"
      ],
      "metadata": {
        "id": "VsoTQwlwCy1E"
      },
      "execution_count": null,
      "outputs": []
    },
    {
      "cell_type": "code",
      "source": [
        "print(classification_report(y_test,y_pred4))\n",
        "print(balanced_accuracy_score(y_test,y_pred4))"
      ],
      "metadata": {
        "id": "MrqmwVRzDYbg",
        "colab": {
          "base_uri": "https://localhost:8080/"
        },
        "outputId": "d1d6e376-8d0a-4863-afbf-bf220dd7b144"
      },
      "execution_count": null,
      "outputs": [
        {
          "output_type": "stream",
          "name": "stdout",
          "text": [
            "              precision    recall  f1-score   support\n",
            "\n",
            "           0       0.80      0.70      0.75       678\n",
            "           1       0.65      0.62      0.64       498\n",
            "           2       0.20      0.45      0.28        94\n",
            "\n",
            "    accuracy                           0.65      1270\n",
            "   macro avg       0.55      0.59      0.56      1270\n",
            "weighted avg       0.70      0.65      0.67      1270\n",
            "\n",
            "0.5901405156179856\n"
          ]
        }
      ]
    },
    {
      "cell_type": "code",
      "source": [
        "#pickle.dump(model4, open('/content/gdrive/MyDrive/Colab Notebooks/CAD Project/Dataset/BinaryProblem_Data/ColorFeatures_RF_model.sav', 'wb'))"
      ],
      "metadata": {
        "id": "h5vUmBkO-wTH"
      },
      "execution_count": null,
      "outputs": []
    },
    {
      "cell_type": "code",
      "source": [
        "cm= confusion_matrix(y_test,y_pred4,labels= model4.classes_)\n",
        "disp= ConfusionMatrixDisplay(confusion_matrix=cm, display_labels=model4.classes_)\n",
        "disp= disp.plot(include_values= True, cmap=plt.cm.Blues)\n",
        "plt.grid(False)\n",
        "plt.show()"
      ],
      "metadata": {
        "id": "KZ9H8N9BEjIG",
        "colab": {
          "base_uri": "https://localhost:8080/",
          "height": 279
        },
        "outputId": "86970039-839b-4d29-ae26-10994e978707"
      },
      "execution_count": null,
      "outputs": [
        {
          "output_type": "display_data",
          "data": {
            "text/plain": [
              "<Figure size 432x288 with 2 Axes>"
            ],
            "image/png": "[encoded data removed]"
          },
          "metadata": {
            "needs_background": "light"
          }
        }
      ]
    },
    {
      "cell_type": "markdown",
      "source": [
        "Fifth model: AdaBoost classifier"
      ],
      "metadata": {
        "id": "isxj7ur7FTAn"
      }
    },
    {
      "cell_type": "code",
      "source": [
        "model5= AdaBoostClassifier(random_state=42)\n",
        "model5.fit(X_train_scaled,y_train)\n",
        "y_pred5= model5.predict(X_test_scaled)"
      ],
      "metadata": {
        "id": "vcv0LBlhFR6q"
      },
      "execution_count": null,
      "outputs": []
    },
    {
      "cell_type": "code",
      "source": [
        "print(classification_report(y_test,y_pred5))\n",
        "print(balanced_accuracy_score(y_test,y_pred5))"
      ],
      "metadata": {
        "id": "VL-oPpRgFzAF",
        "colab": {
          "base_uri": "https://localhost:8080/"
        },
        "outputId": "9ebfb392-f417-498c-9be3-afbfd5018d2a"
      },
      "execution_count": null,
      "outputs": [
        {
          "output_type": "stream",
          "name": "stdout",
          "text": [
            "              precision    recall  f1-score   support\n",
            "\n",
            "           0       0.77      0.65      0.70       678\n",
            "           1       0.58      0.51      0.54       498\n",
            "           2       0.11      0.32      0.17        94\n",
            "\n",
            "    accuracy                           0.57      1270\n",
            "   macro avg       0.49      0.49      0.47      1270\n",
            "weighted avg       0.65      0.57      0.60      1270\n",
            "\n",
            "0.49222724072717156\n"
          ]
        }
      ]
    },
    {
      "cell_type": "code",
      "source": [
        "cm= confusion_matrix(y_test,y_pred5,labels= model5.classes_)\n",
        "disp= ConfusionMatrixDisplay(confusion_matrix=cm, display_labels=model5.classes_)\n",
        "disp= disp.plot(include_values= True, cmap=plt.cm.Blues)\n",
        "plt.grid(False)\n",
        "plt.show()"
      ],
      "metadata": {
        "id": "mDuYZeUNF0Rk",
        "colab": {
          "base_uri": "https://localhost:8080/",
          "height": 279
        },
        "outputId": "9b4b3844-70c3-4d40-f15a-917169a9b334"
      },
      "execution_count": null,
      "outputs": [
        {
          "output_type": "display_data",
          "data": {
            "text/plain": [
              "<Figure size 432x288 with 2 Axes>"
            ],
            "image/png": "[encoded data removed]"
          },
          "metadata": {
            "needs_background": "light"
          }
        }
      ]
    },
    {
      "cell_type": "markdown",
      "source": [
        "Sixth Model: Decision Trees Classifier"
      ],
      "metadata": {
        "id": "2c4-Rm9JH5JO"
      }
    },
    {
      "cell_type": "code",
      "source": [
        "model6= DecisionTreeClassifier(random_state=42)\n",
        "model6.fit(X_train_scaled,y_train)\n",
        "y_pred6= model6.predict(X_test_scaled)"
      ],
      "metadata": {
        "id": "VRQv63idH_9y"
      },
      "execution_count": null,
      "outputs": []
    },
    {
      "cell_type": "code",
      "source": [
        "print(classification_report(y_test,y_pred6))\n",
        "print(balanced_accuracy_score(y_test,y_pred6))"
      ],
      "metadata": {
        "id": "SbO8vbfEIFgO",
        "colab": {
          "base_uri": "https://localhost:8080/"
        },
        "outputId": "9ea5c479-c2ca-4259-f50d-c5d08cf2e665"
      },
      "execution_count": null,
      "outputs": [
        {
          "output_type": "stream",
          "name": "stdout",
          "text": [
            "              precision    recall  f1-score   support\n",
            "\n",
            "           0       0.72      0.59      0.65       678\n",
            "           1       0.55      0.49      0.52       498\n",
            "           2       0.12      0.35      0.18        94\n",
            "\n",
            "    accuracy                           0.53      1270\n",
            "   macro avg       0.46      0.48      0.45      1270\n",
            "weighted avg       0.61      0.53      0.56      1270\n",
            "\n",
            "0.4773119969994835\n"
          ]
        }
      ]
    },
    {
      "cell_type": "code",
      "source": [
        "cm= confusion_matrix(y_test,y_pred6,labels= model6.classes_)\n",
        "disp= ConfusionMatrixDisplay(confusion_matrix=cm, display_labels=model6.classes_)\n",
        "disp= disp.plot(include_values= True, cmap=plt.cm.Blues)\n",
        "plt.grid(False)\n",
        "plt.show()"
      ],
      "metadata": {
        "id": "0vLFgXjCIIeo",
        "colab": {
          "base_uri": "https://localhost:8080/",
          "height": 282
        },
        "outputId": "e1cf81f7-2402-44db-c6ad-d1a85f1b0998"
      },
      "execution_count": null,
      "outputs": [
        {
          "output_type": "display_data",
          "data": {
            "text/plain": [
              "<Figure size 432x288 with 2 Axes>"
            ],
            "image/png": "[encoded data removed]"
          },
          "metadata": {
            "needs_background": "light"
          }
        }
      ]
    },
    {
      "cell_type": "markdown",
      "source": [
        "Seventh model: XGBoost Classifier"
      ],
      "metadata": {
        "id": "zvN12XanIQri"
      }
    },
    {
      "cell_type": "code",
      "source": [
        "model7= XGBClassifier(random_state=42)\n",
        "model7.fit(X_train_scaled,y_train)\n",
        "y_pred7= model7.predict(X_test_scaled)"
      ],
      "metadata": {
        "id": "nQuRDLPmI7Hj"
      },
      "execution_count": null,
      "outputs": []
    },
    {
      "cell_type": "code",
      "source": [
        "print(classification_report(y_test,y_pred7))\n",
        "print(balanced_accuracy_score(y_test,y_pred7))"
      ],
      "metadata": {
        "id": "pcZw6XQHKpG8",
        "colab": {
          "base_uri": "https://localhost:8080/"
        },
        "outputId": "64cf171b-cf3c-4219-ab87-c3704b7c3b0e"
      },
      "execution_count": null,
      "outputs": [
        {
          "output_type": "stream",
          "name": "stdout",
          "text": [
            "              precision    recall  f1-score   support\n",
            "\n",
            "           0       0.81      0.65      0.72       678\n",
            "           1       0.61      0.56      0.58       498\n",
            "           2       0.15      0.45      0.23        94\n",
            "\n",
            "    accuracy                           0.60      1270\n",
            "   macro avg       0.52      0.55      0.51      1270\n",
            "weighted avg       0.68      0.60      0.63      1270\n",
            "\n",
            "0.5503530471600833\n"
          ]
        }
      ]
    },
    {
      "cell_type": "code",
      "source": [
        "cm= confusion_matrix(y_test,y_pred7,labels= model7.classes_)\n",
        "disp= ConfusionMatrixDisplay(confusion_matrix=cm, display_labels=model7.classes_)\n",
        "disp= disp.plot(include_values= True, cmap=plt.cm.Blues)\n",
        "plt.grid(False)\n",
        "plt.show()"
      ],
      "metadata": {
        "id": "4Mxxq2V6LJ4F",
        "colab": {
          "base_uri": "https://localhost:8080/",
          "height": 279
        },
        "outputId": "9a0f1a4a-3781-4056-c981-10a9531e88f6"
      },
      "execution_count": null,
      "outputs": [
        {
          "output_type": "display_data",
          "data": {
            "text/plain": [
              "<Figure size 432x288 with 2 Axes>"
            ],
            "image/png": "[encoded data removed]"
          },
          "metadata": {
            "needs_background": "light"
          }
        }
      ]
    },
    {
      "cell_type": "markdown",
      "source": [
        "Eigth model: Naive Bayes Classifier"
      ],
      "metadata": {
        "id": "FytjRDNXLO1q"
      }
    },
    {
      "cell_type": "code",
      "source": [
        "model8= GaussianNB()\n",
        "model8.fit(X_train_scaled,y_train)\n",
        "y_pred8= model8.predict(X_test_scaled)\n"
      ],
      "metadata": {
        "id": "iEZRoOjgLXGG"
      },
      "execution_count": null,
      "outputs": []
    },
    {
      "cell_type": "code",
      "source": [
        "print(classification_report(y_test,y_pred8))\n",
        "print(balanced_accuracy_score(y_test,y_pred8))"
      ],
      "metadata": {
        "id": "wC901lG7M5Rc",
        "colab": {
          "base_uri": "https://localhost:8080/"
        },
        "outputId": "dd78de20-9e38-43e5-9403-d4f371bcd1d1"
      },
      "execution_count": null,
      "outputs": [
        {
          "output_type": "stream",
          "name": "stdout",
          "text": [
            "              precision    recall  f1-score   support\n",
            "\n",
            "           0       0.77      0.26      0.39       678\n",
            "           1       0.51      0.54      0.53       498\n",
            "           2       0.10      0.53      0.17        94\n",
            "\n",
            "    accuracy                           0.39      1270\n",
            "   macro avg       0.46      0.45      0.36      1270\n",
            "weighted avg       0.62      0.39      0.43      1270\n",
            "\n",
            "0.4462094912002242\n"
          ]
        }
      ]
    },
    {
      "cell_type": "code",
      "source": [
        "cm= confusion_matrix(y_test,y_pred8,labels= model8.classes_)\n",
        "disp= ConfusionMatrixDisplay(confusion_matrix=cm, display_labels=model8.classes_)\n",
        "disp= disp.plot(include_values= True, cmap=plt.cm.Blues)\n",
        "plt.grid(False)\n",
        "plt.show()"
      ],
      "metadata": {
        "id": "DSRM5v9aM9cc",
        "colab": {
          "base_uri": "https://localhost:8080/",
          "height": 279
        },
        "outputId": "34e75e36-901f-4ee2-f994-6f7d139a05e3"
      },
      "execution_count": null,
      "outputs": [
        {
          "output_type": "display_data",
          "data": {
            "text/plain": [
              "<Figure size 432x288 with 2 Axes>"
            ],
            "image/png": "[encoded data removed]"
          },
          "metadata": {
            "needs_background": "light"
          }
        }
      ]
    },
    {
      "cell_type": "markdown",
      "source": [
        "Ninth Model: KNeighbors Classifier"
      ],
      "metadata": {
        "id": "nTeQp070NBfJ"
      }
    },
    {
      "cell_type": "code",
      "source": [
        "model9= KNeighborsClassifier()\n",
        "model9.fit(X_train_scaled,y_train)\n",
        "y_pred9= model9.predict(X_test_scaled)\n"
      ],
      "metadata": {
        "id": "1DSpxxLiNZKV"
      },
      "execution_count": null,
      "outputs": []
    },
    {
      "cell_type": "code",
      "source": [
        "print(classification_report(y_test,y_pred9))\n",
        "print(balanced_accuracy_score(y_test,y_pred9))"
      ],
      "metadata": {
        "id": "Etlio5NSNhCC",
        "colab": {
          "base_uri": "https://localhost:8080/"
        },
        "outputId": "7eee94e3-8fb6-489d-8f8d-8f773a016bf7"
      },
      "execution_count": null,
      "outputs": [
        {
          "output_type": "stream",
          "name": "stdout",
          "text": [
            "              precision    recall  f1-score   support\n",
            "\n",
            "           0       0.78      0.67      0.72       678\n",
            "           1       0.60      0.53      0.56       498\n",
            "           2       0.17      0.46      0.25        94\n",
            "\n",
            "    accuracy                           0.60      1270\n",
            "   macro avg       0.52      0.55      0.51      1270\n",
            "weighted avg       0.67      0.60      0.62      1270\n",
            "\n",
            "0.5519029611195677\n"
          ]
        }
      ]
    },
    {
      "cell_type": "code",
      "source": [
        "cm= confusion_matrix(y_test,y_pred9,labels= model9.classes_)\n",
        "disp= ConfusionMatrixDisplay(confusion_matrix=cm, display_labels=model9.classes_)\n",
        "disp= disp.plot(include_values= True, cmap=plt.cm.Blues)\n",
        "plt.grid(False)\n",
        "plt.show()"
      ],
      "metadata": {
        "id": "1WatomrtNkxA",
        "colab": {
          "base_uri": "https://localhost:8080/",
          "height": 282
        },
        "outputId": "99d20487-df0e-4173-9bdf-e48ac1a05eb9"
      },
      "execution_count": null,
      "outputs": [
        {
          "output_type": "display_data",
          "data": {
            "text/plain": [
              "<Figure size 432x288 with 2 Axes>"
            ],
            "image/png": "[encoded data removed]"
          },
          "metadata": {
            "needs_background": "light"
          }
        }
      ]
    },
    {
      "cell_type": "markdown",
      "source": [
        "Tenth Model: Bagging Classifier"
      ],
      "metadata": {
        "id": "IyjU8oQsOYSy"
      }
    },
    {
      "cell_type": "code",
      "source": [
        "model10= BaggingClassifier(base_estimator=RandomForestClassifier(random_state=42),n_estimators=10,random_state=42)\n",
        "model10.fit(X_train_scaled,y_train)\n",
        "y_pred10= model10.predict(X_test_scaled)\n"
      ],
      "metadata": {
        "id": "A3ZIWJ7rObOp"
      },
      "execution_count": null,
      "outputs": []
    },
    {
      "cell_type": "code",
      "source": [
        "print(classification_report(y_test,y_pred10))\n",
        "print(balanced_accuracy_score(y_test,y_pred10))"
      ],
      "metadata": {
        "id": "EfCTGLG5OtzD",
        "colab": {
          "base_uri": "https://localhost:8080/"
        },
        "outputId": "b1673628-b320-42c9-82b2-7056cfe7e4fd"
      },
      "execution_count": null,
      "outputs": [
        {
          "output_type": "stream",
          "name": "stdout",
          "text": [
            "              precision    recall  f1-score   support\n",
            "\n",
            "           0       0.81      0.68      0.74       678\n",
            "           1       0.65      0.62      0.64       498\n",
            "           2       0.22      0.53      0.31        94\n",
            "\n",
            "    accuracy                           0.65      1270\n",
            "   macro avg       0.56      0.61      0.56      1270\n",
            "weighted avg       0.70      0.65      0.67      1270\n",
            "\n",
            "0.6109569767175146\n"
          ]
        }
      ]
    },
    {
      "cell_type": "code",
      "source": [
        "#pickle.dump(model10, open('/content/gdrive/MyDrive/Colab Notebooks/CAD Project/Dataset/BinaryProblem_Data/ColorFeatures_Bagging_model.sav', 'wb'))"
      ],
      "metadata": {
        "id": "sby-0EdY-8w5"
      },
      "execution_count": null,
      "outputs": []
    },
    {
      "cell_type": "code",
      "source": [
        "cm= confusion_matrix(y_test,y_pred10,labels= model10.classes_)\n",
        "disp= ConfusionMatrixDisplay(confusion_matrix=cm, display_labels=model10.classes_)\n",
        "disp= disp.plot(include_values= True, cmap=plt.cm.Blues)\n",
        "plt.grid(False)\n",
        "plt.show()"
      ],
      "metadata": {
        "id": "j8euKLFgOvVx",
        "colab": {
          "base_uri": "https://localhost:8080/",
          "height": 279
        },
        "outputId": "23b40a57-32d3-49d4-cc9c-13c60b54d05b"
      },
      "execution_count": null,
      "outputs": [
        {
          "output_type": "display_data",
          "data": {
            "text/plain": [
              "<Figure size 432x288 with 2 Axes>"
            ],
            "image/png": "[encoded data removed]"
          },
          "metadata": {
            "needs_background": "light"
          }
        }
      ]
    },
    {
      "cell_type": "markdown",
      "source": [
        "Eleventh Model: Stacking Classifier"
      ],
      "metadata": {
        "id": "wK4GkxZmO1Ba"
      }
    },
    {
      "cell_type": "code",
      "source": [
        "def get_stack_model():\n",
        "  level0 = list()\n",
        "  level0.append(('lr', LogisticRegression(max_iter=2000,random_state=42)))\n",
        "  level0.append(('knn', KNeighborsClassifier()))\n",
        "  level0.append(('cart', DecisionTreeClassifier(random_state=42)))\n",
        "  level0.append(('svm', svm.SVC(kernel='rbf', gamma='auto',decision_function_shape='ovr', random_state=42)))\n",
        "  level0.append(('bayes', GaussianNB()))\n",
        "  level0.append(('gboosting', GradientBoostingClassifier(random_state=42)))\n",
        "  level0.append(('rforest', RandomForestClassifier(random_state=42)))\n",
        "  level0.append(('adaboost', AdaBoostClassifier(random_state=42)))\n",
        "  level1 = LogisticRegression(max_iter=2000,random_state=42)\n",
        "  model = StackingClassifier(estimators=level0, final_estimator=level1, cv=5)\n",
        "  return model"
      ],
      "metadata": {
        "id": "4vkYDwiuO4mw"
      },
      "execution_count": null,
      "outputs": []
    },
    {
      "cell_type": "code",
      "source": [
        "model11=get_stack_model()\n",
        "model11.fit(X_train_scaled,y_train)\n",
        "y_pred11= model11.predict(X_test_scaled)"
      ],
      "metadata": {
        "id": "N7sng-NWO_cI"
      },
      "execution_count": null,
      "outputs": []
    },
    {
      "cell_type": "code",
      "source": [
        "print(classification_report(y_test,y_pred11))\n",
        "print(balanced_accuracy_score(y_test,y_pred11))"
      ],
      "metadata": {
        "id": "lvLWcXbIPdSS",
        "colab": {
          "base_uri": "https://localhost:8080/"
        },
        "outputId": "d2eb0c60-c211-48bf-d0bd-bd12aecb1f99"
      },
      "execution_count": null,
      "outputs": [
        {
          "output_type": "stream",
          "name": "stdout",
          "text": [
            "              precision    recall  f1-score   support\n",
            "\n",
            "           0       0.81      0.70      0.75       678\n",
            "           1       0.65      0.65      0.65       498\n",
            "           2       0.21      0.44      0.29        94\n",
            "\n",
            "    accuracy                           0.66      1270\n",
            "   macro avg       0.56      0.60      0.56      1270\n",
            "weighted avg       0.71      0.66      0.68      1270\n",
            "\n",
            "0.5954321270521111\n"
          ]
        }
      ]
    },
    {
      "cell_type": "code",
      "source": [
        "#pickle.dump(model11, open('/content/gdrive/MyDrive/Colab Notebooks/CAD Project/Dataset/BinaryProblem_Data/ColorFeatures_Stacking_model.sav', 'wb'))"
      ],
      "metadata": {
        "id": "rkqtYGPL_Bwi"
      },
      "execution_count": null,
      "outputs": []
    },
    {
      "cell_type": "code",
      "source": [
        "cm= confusion_matrix(y_test,y_pred11,labels= model11.classes_)\n",
        "disp= ConfusionMatrixDisplay(confusion_matrix=cm, display_labels=model11.classes_)\n",
        "disp= disp.plot(include_values= True, cmap=plt.cm.Blues)\n",
        "plt.grid(False)\n",
        "plt.show()"
      ],
      "metadata": {
        "id": "4MeIKVwOPYcv",
        "colab": {
          "base_uri": "https://localhost:8080/",
          "height": 279
        },
        "outputId": "46cf0057-771f-43bb-f4fa-e57464cf0f1d"
      },
      "execution_count": null,
      "outputs": [
        {
          "output_type": "display_data",
          "data": {
            "text/plain": [
              "<Figure size 432x288 with 2 Axes>"
            ],
            "image/png": "[encoded data removed]"
          },
          "metadata": {
            "needs_background": "light"
          }
        }
      ]
    }
  ]
}