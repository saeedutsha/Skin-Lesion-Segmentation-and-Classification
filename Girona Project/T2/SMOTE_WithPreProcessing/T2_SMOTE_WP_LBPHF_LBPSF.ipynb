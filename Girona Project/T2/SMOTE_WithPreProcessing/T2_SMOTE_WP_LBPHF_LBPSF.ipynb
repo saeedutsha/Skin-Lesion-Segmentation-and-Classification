{
  "nbformat": 4,
  "nbformat_minor": 0,
  "metadata": {
    "colab": {
      "provenance": [],
      "collapsed_sections": []
    },
    "kernelspec": {
      "name": "python3",
      "display_name": "Python 3"
    },
    "language_info": {
      "name": "python"
    }
  },
  "cells": [
    {
      "cell_type": "code",
      "source": [
        "!pip install mahotas"
      ],
      "metadata": {
        "id": "OgvR3noDD16W",
        "colab": {
          "base_uri": "https://localhost:8080/"
        },
        "outputId": "d7dc459b-6c0d-44de-d3c4-7a50414895fa"
      },
      "execution_count": null,
      "outputs": [
        {
          "output_type": "stream",
          "name": "stdout",
          "text": [
            "Looking in indexes: https://pypi.org/simple, https://us-python.pkg.dev/colab-wheels/public/simple/\n",
            "Requirement already satisfied: mahotas in /usr/local/lib/python3.7/dist-packages (1.4.13)\n",
            "Requirement already satisfied: numpy in /usr/local/lib/python3.7/dist-packages (from mahotas) (1.21.6)\n"
          ]
        }
      ]
    },
    {
      "cell_type": "code",
      "source": [
        "!pip install -U scikit-image"
      ],
      "metadata": {
        "id": "_nlbpNz5D-Y9",
        "colab": {
          "base_uri": "https://localhost:8080/"
        },
        "outputId": "251346ed-46c5-4977-d471-7a35f0154cfb"
      },
      "execution_count": null,
      "outputs": [
        {
          "output_type": "stream",
          "name": "stdout",
          "text": [
            "Looking in indexes: https://pypi.org/simple, https://us-python.pkg.dev/colab-wheels/public/simple/\n",
            "Requirement already satisfied: scikit-image in /usr/local/lib/python3.7/dist-packages (0.19.3)\n",
            "Requirement already satisfied: networkx>=2.2 in /usr/local/lib/python3.7/dist-packages (from scikit-image) (2.6.3)\n",
            "Requirement already satisfied: scipy>=1.4.1 in /usr/local/lib/python3.7/dist-packages (from scikit-image) (1.7.3)\n",
            "Requirement already satisfied: numpy>=1.17.0 in /usr/local/lib/python3.7/dist-packages (from scikit-image) (1.21.6)\n",
            "Requirement already satisfied: imageio>=2.4.1 in /usr/local/lib/python3.7/dist-packages (from scikit-image) (2.9.0)\n",
            "Requirement already satisfied: PyWavelets>=1.1.1 in /usr/local/lib/python3.7/dist-packages (from scikit-image) (1.3.0)\n",
            "Requirement already satisfied: tifffile>=2019.7.26 in /usr/local/lib/python3.7/dist-packages (from scikit-image) (2021.11.2)\n",
            "Requirement already satisfied: packaging>=20.0 in /usr/local/lib/python3.7/dist-packages (from scikit-image) (21.3)\n",
            "Requirement already satisfied: pillow!=7.1.0,!=7.1.1,!=8.3.0,>=6.1.0 in /usr/local/lib/python3.7/dist-packages (from scikit-image) (7.1.2)\n",
            "Requirement already satisfied: pyparsing!=3.0.5,>=2.0.2 in /usr/local/lib/python3.7/dist-packages (from packaging>=20.0->scikit-image) (3.0.9)\n"
          ]
        }
      ]
    },
    {
      "cell_type": "code",
      "execution_count": null,
      "metadata": {
        "id": "W5-eOmOefcLY",
        "colab": {
          "base_uri": "https://localhost:8080/"
        },
        "outputId": "83c2ed1b-3c32-49e1-bb0a-2fb2a207b9cd"
      },
      "outputs": [
        {
          "output_type": "stream",
          "name": "stderr",
          "text": [
            "/usr/local/lib/python3.7/dist-packages/skimage/io/manage_plugins.py:23: UserWarning: Your installed pillow version is < 8.1.2. Several security issues (CVE-2021-27921, CVE-2021-25290, CVE-2021-25291, CVE-2021-25293, and more) have been fixed in pillow 8.1.2 or higher. We recommend to upgrade this library.\n",
            "  from .collection import imread_collection_wrapper\n"
          ]
        }
      ],
      "source": [
        "import os\n",
        "import cv2\n",
        "import copy\n",
        "import pandas as pd\n",
        "from PIL import Image\n",
        "import numpy as np\n",
        "import mahotas\n",
        "from matplotlib import pyplot as plt\n",
        "from glob import glob\n",
        "from google.colab.patches import cv2_imshow\n",
        "from sklearn.metrics import jaccard_score\n",
        "import random\n",
        "import torch\n",
        "from sklearn import svm\n",
        "from sklearn.preprocessing import StandardScaler\n",
        "import torchvision\n",
        "import torch.nn as nn\n",
        "import torch.nn.functional as F\n",
        "from torch.functional import Tensor\n",
        "import torch.optim as optim\n",
        "import torchvision.transforms as transforms\n",
        "import torchvision.datasets as datasets\n",
        "import torchvision.transforms.functional as TF\n",
        "from sklearn.metrics import confusion_matrix, ConfusionMatrixDisplay\n",
        "from torch.utils.data import Dataset, DataLoader\n",
        "from torch.nn.modules.activation import ReLU\n",
        "from sklearn.metrics import classification_report, balanced_accuracy_score\n",
        "from sklearn.linear_model import LogisticRegression\n",
        "from scipy.stats import kurtosis, skew, entropy\n",
        "from sklearn.ensemble import AdaBoostClassifier\n",
        "from sklearn.multiclass import OneVsRestClassifier\n",
        "from sklearn.ensemble import RandomForestClassifier\n",
        "from xgboost import XGBClassifier\n",
        "from sklearn.tree import DecisionTreeClassifier\n",
        "from sklearn.ensemble import GradientBoostingClassifier\n",
        "from sklearn.ensemble import StackingClassifier\n",
        "from sklearn.ensemble import BaggingClassifier\n",
        "from sklearn.naive_bayes import GaussianNB\n",
        "from sklearn.neighbors import KNeighborsClassifier\n",
        "from sklearn.model_selection import StratifiedShuffleSplit\n",
        "import skimage\n",
        "from skimage import io, exposure, morphology, filters, color, segmentation, feature, measure, img_as_float, img_as_ubyte, transform\n",
        "import seaborn as sns\n",
        "import pickle\n",
        "from torch.nn.modules.batchnorm import BatchNorm2d\n",
        "import torch.optim as optim\n",
        "from tqdm import tqdm\n",
        "from google.colab import drive\n",
        "from pathlib import Path\n",
        "from sklearn.utils import shuffle\n",
        "from imblearn.over_sampling import SMOTE, ADASYN,RandomOverSampler"
      ]
    },
    {
      "cell_type": "code",
      "source": [
        "drive.mount('/content/gdrive')"
      ],
      "metadata": {
        "colab": {
          "base_uri": "https://localhost:8080/"
        },
        "id": "A7hVU9ujgabT",
        "outputId": "6f807c5f-1d77-44c1-e9dc-19b2a8ced735"
      },
      "execution_count": null,
      "outputs": [
        {
          "output_type": "stream",
          "name": "stdout",
          "text": [
            "Mounted at /content/gdrive\n"
          ]
        }
      ]
    },
    {
      "cell_type": "code",
      "source": [
        "# Directories\n",
        "input_directory = '/content/gdrive/MyDrive/Colab Notebooks/CAD Project/Dataset/Three Class Problem Preprocessed'\n",
        "train_directory = input_directory+'/train' \n",
        "val_directory = input_directory+'/val'"
      ],
      "metadata": {
        "id": "NupfuLWUgbpO"
      },
      "execution_count": null,
      "outputs": []
    },
    {
      "cell_type": "code",
      "source": [
        "#Training set organization\n",
        "train_bcc_aug= sorted(glob(os.path.join(train_directory, \"bcc\", \"*.jpg\")))\n",
        "train_mel_aug= sorted(glob(os.path.join(train_directory, \"mel\", \"*.jpg\")))\n",
        "train_scc_aug= sorted(glob(os.path.join(train_directory, \"scc\", \"*.jpg\")))\n",
        "tags_bcc_train=[]\n",
        "tags_mel_train=[]\n",
        "tags_scc_train=[]\n",
        "tags_train=[]\n",
        "images_bcc=[]\n",
        "images_mel=[]\n",
        "images_scc=[]\n",
        "labels_bcc=[]\n",
        "labels_mel=[]\n",
        "labels_scc=[]"
      ],
      "metadata": {
        "id": "z3cwRQe7gc-Y"
      },
      "execution_count": null,
      "outputs": []
    },
    {
      "cell_type": "code",
      "source": [
        "#Validation set organization\n",
        "train_bcc_val= sorted(glob(os.path.join(val_directory, \"bcc\", \"*.jpg\")))\n",
        "train_mel_val= sorted(glob(os.path.join(val_directory, \"mel\", \"*.jpg\")))\n",
        "train_scc_val= sorted(glob(os.path.join(val_directory, \"scc\", \"*.jpg\")))\n",
        "tags_bcc_val=[]\n",
        "tags_mel_val=[]\n",
        "tags_scc_val=[]\n",
        "tags_val=[]\n",
        "images_bcc_val=[]\n",
        "images_mel_val=[]\n",
        "images_scc_val=[]\n",
        "labels_bcc_val=[]\n",
        "labels_mel_val=[]\n",
        "labels_scc_val=[]"
      ],
      "metadata": {
        "id": "oFcekIOagdle"
      },
      "execution_count": null,
      "outputs": []
    },
    {
      "cell_type": "code",
      "source": [
        "train_bcc = []\n",
        "train_mel = []\n",
        "train_scc = []\n",
        "for bcc in train_bcc_aug:\n",
        "  if 'aug' not in bcc:\n",
        "    train_bcc.append(bcc)\n",
        "for mel in train_mel_aug:\n",
        "  if 'aug' not in mel:\n",
        "    train_mel.append(mel)\n",
        "for scc in train_scc_aug:\n",
        "  if 'aug' not in scc:\n",
        "    train_scc.append(scc)"
      ],
      "metadata": {
        "id": "R-vDSfdkb2QJ"
      },
      "execution_count": null,
      "outputs": []
    },
    {
      "cell_type": "code",
      "source": [
        "print(len(train_bcc))\n",
        "print(len(train_mel))\n",
        "print(len(train_scc))\n",
        "print(len(train_bcc_val))\n",
        "print(len(train_mel_val))\n",
        "print(len(train_scc_val))"
      ],
      "metadata": {
        "colab": {
          "base_uri": "https://localhost:8080/"
        },
        "id": "86x2tKnEXRzv",
        "outputId": "68ce054c-f5a7-4912-8b13-1425d514e8bb"
      },
      "execution_count": null,
      "outputs": [
        {
          "output_type": "stream",
          "name": "stdout",
          "text": [
            "1993\n",
            "2713\n",
            "376\n",
            "498\n",
            "678\n",
            "94\n"
          ]
        }
      ]
    },
    {
      "cell_type": "code",
      "source": [
        "#Training set DataFrame construction\n",
        "for i in range(len(train_mel)):\n",
        "  tags_mel_train.append(train_mel[i][-12:])\n",
        "  labels_mel.append(0)\n",
        "for i in range(len(train_bcc)):\n",
        "  tags_bcc_train.append(train_bcc[i][-12:])\n",
        "  labels_bcc.append(1)\n",
        "for i in range(len(train_scc)):\n",
        "  tags_scc_train.append(train_scc[i][-12:])\n",
        "  labels_scc.append(2)"
      ],
      "metadata": {
        "id": "YB5i5-17gf3e"
      },
      "execution_count": null,
      "outputs": []
    },
    {
      "cell_type": "code",
      "source": [
        "#Validation set DataFrame construction\n",
        "for i in range(len(train_mel_val)):\n",
        "  tags_mel_val.append(train_mel_val[i][-12:])\n",
        "  labels_mel_val.append(0)\n",
        "for i in range(len(train_bcc_val)):\n",
        "  tags_bcc_val.append(train_bcc_val[i][-12:])\n",
        "  labels_bcc_val.append(1)\n",
        "for i in range(len(train_scc_val)):\n",
        "  tags_scc_val.append(train_scc_val[i][-12:])\n",
        "  labels_scc_val.append(2)"
      ],
      "metadata": {
        "id": "46BGQv6KghVc"
      },
      "execution_count": null,
      "outputs": []
    },
    {
      "cell_type": "code",
      "source": [
        "tags_train= tags_bcc_train + tags_mel_train + tags_scc_train\n",
        "X_train= labels_bcc+labels_mel+labels_scc"
      ],
      "metadata": {
        "id": "KWsX_rmggjEx"
      },
      "execution_count": null,
      "outputs": []
    },
    {
      "cell_type": "code",
      "source": [
        "tags_val= tags_bcc_val + tags_mel_val+tags_scc_val\n",
        "X_test= labels_bcc_val +labels_mel_val+labels_scc_val"
      ],
      "metadata": {
        "id": "N13aS0YjglBp"
      },
      "execution_count": null,
      "outputs": []
    },
    {
      "cell_type": "code",
      "source": [
        "training_set= pd.DataFrame.from_dict({'Image Tag':tags_train, 'Image Route': train_bcc+train_mel+train_scc, 'Label': X_train})\n",
        "valid_set= pd.DataFrame.from_dict({'Image Tag':tags_val, 'Image Route': train_bcc_val+train_mel_val+train_scc_val, 'Label': X_test})"
      ],
      "metadata": {
        "id": "Nzu72yregm44"
      },
      "execution_count": null,
      "outputs": []
    },
    {
      "cell_type": "code",
      "source": [
        "X_train_data= training_set['Image Route'].to_numpy()\n",
        "y_train_data= training_set['Label'].to_numpy()\n",
        "X_test_data= valid_set['Image Route'].to_numpy()\n",
        "y_test_data= valid_set['Label'].to_numpy()"
      ],
      "metadata": {
        "id": "SyzPMJ_wgpMr"
      },
      "execution_count": null,
      "outputs": []
    },
    {
      "cell_type": "code",
      "source": [
        "X_train,y_train = shuffle(X_train_data,y_train_data, random_state= 42)\n",
        "X_test,y_test= shuffle(X_test_data, y_test_data, random_state=42)"
      ],
      "metadata": {
        "id": "NB8l2TWhgq9U"
      },
      "execution_count": null,
      "outputs": []
    },
    {
      "cell_type": "code",
      "source": [
        "class LBP:\n",
        "  def __init__(self, points, radius):\n",
        "    self.points= points\n",
        "    self.radius= radius\n",
        "  def compute(self,image,e=1e-08):\n",
        "    lbp_feature= feature.local_binary_pattern(image, self.points, self.radius, method=\"uniform\")\n",
        "    (lbp_histogram,_)= np.histogram(lbp_feature.ravel(), bins=np.arange(0, self.points + 3))\n",
        "\n",
        "    #Normalization of the histogram\n",
        "    lbp_histogram= lbp_histogram.astype(\"float\")\n",
        "    lbp_histogram /= (lbp_histogram.sum()+e)\n",
        "\n",
        "    return lbp_histogram"
      ],
      "metadata": {
        "id": "NJdWszIjFYBb"
      },
      "execution_count": null,
      "outputs": []
    },
    {
      "cell_type": "code",
      "source": [
        "def LBP_feature_extractor(images_routes):\n",
        "  lbp_histograms1=[]\n",
        "  lbp_histograms2=[]\n",
        "  lbp_histograms3=[]\n",
        "  mean_histograms1=[]\n",
        "  mean_histograms2=[]\n",
        "  mean_histograms3=[]\n",
        "  std_histograms1=[]\n",
        "  std_histograms2=[]\n",
        "  std_histograms3=[]\n",
        "  kurtosis_histograms1=[]\n",
        "  kurtosis_histograms2=[]\n",
        "  kurtosis_histograms3=[]\n",
        "  skew_histograms1=[]\n",
        "  skew_histograms2=[]\n",
        "  skew_histograms3=[]\n",
        "  entropy_histograms1=[]\n",
        "  entropy_histograms2=[]\n",
        "  entropy_histograms3=[]\n",
        "  lbp_object1= LBP(8,1)\n",
        "  lbp_object2= LBP(16,2)\n",
        "  lbp_object3= LBP(24,3)\n",
        "  for i in images_routes:\n",
        "    img= cv2.imread(i)\n",
        "    img_bw= cv2.cvtColor(img,cv2.COLOR_BGR2GRAY)\n",
        "    lbp_hist1=lbp_object1.compute(img_bw)\n",
        "    lbp_hist2=lbp_object2.compute(img_bw)\n",
        "    lbp_hist3=lbp_object3.compute(img_bw)\n",
        "    mean_histograms1.append(np.mean(lbp_hist1))\n",
        "    mean_histograms2.append(np.mean(lbp_hist2))\n",
        "    mean_histograms3.append(np.mean(lbp_hist3))\n",
        "\n",
        "    std_histograms1.append(np.std(lbp_hist1))\n",
        "    std_histograms2.append(np.std(lbp_hist2))\n",
        "    std_histograms3.append(np.std(lbp_hist3))\n",
        "\n",
        "    kurtosis_histograms1.append(kurtosis(lbp_hist1))\n",
        "    kurtosis_histograms2.append(kurtosis(lbp_hist2))\n",
        "    kurtosis_histograms3.append(kurtosis(lbp_hist3))\n",
        "\n",
        "    skew_histograms1.append(skew(lbp_hist1))\n",
        "    skew_histograms2.append(skew(lbp_hist2))\n",
        "    skew_histograms3.append(skew(lbp_hist3))\n",
        "\n",
        "    entropy_histograms1.append(entropy(lbp_hist1))\n",
        "    entropy_histograms2.append(entropy(lbp_hist2))\n",
        "    entropy_histograms3.append(entropy(lbp_hist3))\n",
        "\n",
        "    lbp_histograms1.append(lbp_hist1)\n",
        "    lbp_histograms2.append(lbp_hist2)\n",
        "    lbp_histograms3.append(lbp_hist3)\n",
        "\n",
        "  LBP_features1= pd.DataFrame(data= lbp_histograms1)\n",
        "  LBP_features2= pd.DataFrame(data= lbp_histograms2)\n",
        "  LBP_features3= pd.DataFrame(data= lbp_histograms3)\n",
        "\n",
        "  LBP_Statistics1= {'mean': mean_histograms1, 'std':std_histograms1, 'kurtosis': kurtosis_histograms1, 'skew': skew_histograms1, 'entropy': entropy_histograms1}\n",
        "  LBP_Statistics2= {'mean': mean_histograms2, 'std':std_histograms2, 'kurtosis': kurtosis_histograms2, 'skew': skew_histograms2, 'entropy': entropy_histograms2}\n",
        "  LBP_Statistics3= {'mean': mean_histograms3, 'std':std_histograms3, 'kurtosis': kurtosis_histograms3, 'skew': skew_histograms3, 'entropy': entropy_histograms3}\n",
        "\n",
        "  LBP_statistics1_result= pd.DataFrame.from_dict(LBP_Statistics1)\n",
        "  LBP_statistics2_result= pd.DataFrame.from_dict(LBP_Statistics2)\n",
        "  LBP_statistics3_result= pd.DataFrame.from_dict(LBP_Statistics3)\n",
        "\n",
        "\n",
        "  return LBP_features1, LBP_features2, LBP_features3, LBP_statistics1_result, LBP_statistics2_result, LBP_statistics3_result"
      ],
      "metadata": {
        "id": "vtim6fa9huyQ"
      },
      "execution_count": null,
      "outputs": []
    },
    {
      "cell_type": "code",
      "source": [
        "LBP_features1_train, LBP_features2_train, LBP_features3_train, LBP_statistics1_result_train, LBP_statistics2_result_train, LBP_statistics3_result_train= LBP_feature_extractor(X_train)\n",
        "LBP_features1_test, LBP_features2_test, LBP_features3_test, LBP_statistics1_result_test, LBP_statistics2_result_test, LBP_statistics3_result_test= LBP_feature_extractor(X_test)"
      ],
      "metadata": {
        "id": "ShY714epo_e7"
      },
      "execution_count": null,
      "outputs": []
    },
    {
      "cell_type": "code",
      "source": [
        "LBP_features1_train.to_csv('/content/gdrive/MyDrive/Colab Notebooks/CAD Project/Dataset/ThreeClassProblemPreprocessed_Data/smote_LBP_features1_train_291022.csv',index=False)\n",
        "LBP_features2_train.to_csv('/content/gdrive/MyDrive/Colab Notebooks/CAD Project/Dataset/ThreeClassProblemPreprocessed_Data/smote_LBP_features2_train_291022.csv',index=False)\n",
        "LBP_features3_train.to_csv('/content/gdrive/MyDrive/Colab Notebooks/CAD Project/Dataset/ThreeClassProblemPreprocessed_Data/smote_LBP_LBP_features3_train_291022.csv',index=False)\n",
        "LBP_statistics1_result_train.to_csv('/content/gdrive/MyDrive/Colab Notebooks/CAD Project/Dataset/ThreeClassProblemPreprocessed_Data/smote_LBP_statistics1_result_train_291022.csv',index=False)\n",
        "LBP_statistics2_result_train.to_csv('/content/gdrive/MyDrive/Colab Notebooks/CAD Project/Dataset/ThreeClassProblemPreprocessed_Data/smote_LBP_statistics2_result_train_291022.csv',index=False)\n",
        "LBP_statistics3_result_train.to_csv('/content/gdrive/MyDrive/Colab Notebooks/CAD Project/Dataset/ThreeClassProblemPreprocessed_Data/smote_LBP_statistics3_result_train_291022.csv',index=False)\n",
        "\n",
        "LBP_features1_test.to_csv('/content/gdrive/MyDrive/Colab Notebooks/CAD Project/Dataset/ThreeClassProblemPreprocessed_Data/smote_LBP_features1_test_291022.csv',index=False)\n",
        "LBP_features2_test.to_csv('/content/gdrive/MyDrive/Colab Notebooks/CAD Project/Dataset/ThreeClassProblemPreprocessed_Data/smote_LBP_features2_test_291022.csv',index=False)\n",
        "LBP_features3_test.to_csv('/content/gdrive/MyDrive/Colab Notebooks/CAD Project/Dataset/ThreeClassProblemPreprocessed_Data/smote_LBP_features3_test_291022.csv',index=False)\n",
        "LBP_statistics1_result_test.to_csv('/content/gdrive/MyDrive/Colab Notebooks/CAD Project/Dataset/ThreeClassProblemPreprocessed_Data/smote_LBP_statistics1_result_test_291022.csv',index=False)\n",
        "LBP_statistics2_result_test.to_csv('/content/gdrive/MyDrive/Colab Notebooks/CAD Project/Dataset/ThreeClassProblemPreprocessed_Data/smote_LBP_statistics2_result_test_291022.csv',index=False)\n",
        "LBP_statistics3_result_test.to_csv('/content/gdrive/MyDrive/Colab Notebooks/CAD Project/Dataset/ThreeClassProblemPreprocessed_Data/smote_LBP_statistics3_result_test_29022.csv',index=False)"
      ],
      "metadata": {
        "id": "GeGSjvWSBCyx"
      },
      "execution_count": null,
      "outputs": []
    },
    {
      "cell_type": "code",
      "source": [
        "LBP_histogram_features_train= pd.concat([LBP_features1_train, LBP_features2_train, LBP_features3_train], axis=1)\n",
        "LBP_histogram_features_test= pd.concat([LBP_features1_test, LBP_features2_test, LBP_features3_test], axis=1)"
      ],
      "metadata": {
        "id": "DO4duTmFCfyU"
      },
      "execution_count": null,
      "outputs": []
    },
    {
      "cell_type": "code",
      "source": [
        "LBP_statistics_features_train= pd.concat([LBP_statistics1_result_train,LBP_statistics2_result_train, LBP_statistics3_result_train], axis=1)\n",
        "LBP_statistics_features_test= pd.concat([LBP_statistics1_result_test,LBP_statistics2_result_test, LBP_statistics3_result_test], axis=1)"
      ],
      "metadata": {
        "id": "6sgIxyJXY3hm"
      },
      "execution_count": null,
      "outputs": []
    },
    {
      "cell_type": "code",
      "source": [
        "X_train_features= LBP_histogram_features_train\n",
        "X_test_features= LBP_histogram_features_test\n",
        "scaler= StandardScaler().fit(X_train_features)\n",
        "X_train_scaled= scaler.transform(X_train_features)\n",
        "X_test_scaled= scaler.transform(X_test_features)"
      ],
      "metadata": {
        "id": "0X6tX0HrZM-L"
      },
      "execution_count": null,
      "outputs": []
    },
    {
      "cell_type": "code",
      "source": [
        "#Data Balancing in order to tackle data imbalance. technique used: SMOTE \n",
        "ros = SMOTE(sampling_strategy='auto', random_state= 42)\n",
        "X_train_resampled, y_train_resampled= ros.fit_resample(X_train_scaled,y_train)\n",
        "print(np.bincount(y_train_resampled))"
      ],
      "metadata": {
        "id": "bJ78AutTFDDe",
        "colab": {
          "base_uri": "https://localhost:8080/"
        },
        "outputId": "a39d78e4-9cc0-4d04-fd01-fa9992ff9c21"
      },
      "execution_count": null,
      "outputs": [
        {
          "output_type": "stream",
          "name": "stdout",
          "text": [
            "[2713 2713 2713]\n"
          ]
        }
      ]
    },
    {
      "cell_type": "markdown",
      "source": [
        "First model: SVM"
      ],
      "metadata": {
        "id": "aURegZ575JPh"
      }
    },
    {
      "cell_type": "code",
      "source": [
        "model1= svm.SVC()\n",
        "model1.fit(X_train_resampled, y_train_resampled)\n",
        "y_pred1= model1.predict(X_test_scaled)"
      ],
      "metadata": {
        "id": "dH2XtxTYui6P"
      },
      "execution_count": null,
      "outputs": []
    },
    {
      "cell_type": "code",
      "source": [
        "print(classification_report(y_test,y_pred1))\n",
        "print(balanced_accuracy_score(y_test,y_pred1))"
      ],
      "metadata": {
        "id": "wgUjqdO6ui6P",
        "colab": {
          "base_uri": "https://localhost:8080/"
        },
        "outputId": "faa8ac49-ee08-495a-f8f4-6135f7d177ca"
      },
      "execution_count": null,
      "outputs": [
        {
          "output_type": "stream",
          "name": "stdout",
          "text": [
            "              precision    recall  f1-score   support\n",
            "\n",
            "           0       0.83      0.63      0.72       678\n",
            "           1       0.68      0.61      0.64       498\n",
            "           2       0.15      0.50      0.24        94\n",
            "\n",
            "    accuracy                           0.61      1270\n",
            "   macro avg       0.55      0.58      0.53      1270\n",
            "weighted avg       0.72      0.61      0.65      1270\n",
            "\n",
            "0.5810617099667105\n"
          ]
        }
      ]
    },
    {
      "cell_type": "code",
      "source": [
        "cm= confusion_matrix(y_test,y_pred1,labels= model1.classes_)\n",
        "disp= ConfusionMatrixDisplay(confusion_matrix=cm, display_labels=model1.classes_)\n",
        "disp= disp.plot(include_values= True, cmap=plt.cm.Blues)\n",
        "plt.grid(False)\n",
        "plt.show()"
      ],
      "metadata": {
        "id": "AVtwca8D_TNR",
        "colab": {
          "base_uri": "https://localhost:8080/"
        },
        "outputId": "6e5003bf-5397-49a5-e61e-70e4a3659365"
      },
      "execution_count": null,
      "outputs": [
        {
          "output_type": "display_data",
          "data": {
            "text/plain": [
              "<Figure size 432x288 with 2 Axes>"
            ],
            "image/png": "[encoded data removed]"
          },
          "metadata": {
            "needs_background": "light"
          }
        }
      ]
    },
    {
      "cell_type": "markdown",
      "source": [
        "Second Model: Logistic Regression"
      ],
      "metadata": {
        "id": "GR3zplQI5QLl"
      }
    },
    {
      "cell_type": "code",
      "source": [
        "model2= LogisticRegression(max_iter=2000)\n",
        "model2.fit(X_train_resampled, y_train_resampled)\n",
        "y_pred2= model2.predict(X_test_scaled)"
      ],
      "metadata": {
        "id": "gP54zwHa3bBf"
      },
      "execution_count": null,
      "outputs": []
    },
    {
      "cell_type": "code",
      "source": [
        "print(classification_report(y_test,y_pred2))\n",
        "print(balanced_accuracy_score(y_test,y_pred2))"
      ],
      "metadata": {
        "id": "uULsIqfE5ZxM",
        "colab": {
          "base_uri": "https://localhost:8080/"
        },
        "outputId": "88c08a44-44e4-41b2-af08-69e787fd3a89"
      },
      "execution_count": null,
      "outputs": [
        {
          "output_type": "stream",
          "name": "stdout",
          "text": [
            "              precision    recall  f1-score   support\n",
            "\n",
            "           0       0.84      0.68      0.75       678\n",
            "           1       0.68      0.59      0.63       498\n",
            "           2       0.16      0.51      0.25        94\n",
            "\n",
            "    accuracy                           0.63      1270\n",
            "   macro avg       0.56      0.59      0.54      1270\n",
            "weighted avg       0.73      0.63      0.67      1270\n",
            "\n",
            "0.5908333011957451\n"
          ]
        }
      ]
    },
    {
      "cell_type": "code",
      "source": [
        "cm= confusion_matrix(y_test,y_pred2,labels= model2.classes_)\n",
        "disp= ConfusionMatrixDisplay(confusion_matrix=cm, display_labels=model2.classes_)\n",
        "disp= disp.plot(include_values= True, cmap=plt.cm.Blues)\n",
        "plt.grid(False)\n",
        "plt.show()"
      ],
      "metadata": {
        "id": "mCK7t-le_m7f",
        "colab": {
          "base_uri": "https://localhost:8080/"
        },
        "outputId": "43d52e33-440a-41af-de28-0b7c0ff5c9f3"
      },
      "execution_count": null,
      "outputs": [
        {
          "output_type": "display_data",
          "data": {
            "text/plain": [
              "<Figure size 432x288 with 2 Axes>"
            ],
            "image/png": "[encoded data removed]"
          },
          "metadata": {
            "needs_background": "light"
          }
        }
      ]
    },
    {
      "cell_type": "markdown",
      "source": [
        "Third model: Gradient Boosting"
      ],
      "metadata": {
        "id": "WX9z50hK5xbS"
      }
    },
    {
      "cell_type": "code",
      "source": [
        "model3= GradientBoostingClassifier(random_state=42)\n",
        "model3.fit(X_train_resampled, y_train_resampled)\n",
        "y_pred3= model3.predict(X_test_scaled)"
      ],
      "metadata": {
        "id": "Uq_PCz6uAMkT"
      },
      "execution_count": null,
      "outputs": []
    },
    {
      "cell_type": "code",
      "source": [
        "print(classification_report(y_test,y_pred3))\n",
        "print(balanced_accuracy_score(y_test,y_pred3))"
      ],
      "metadata": {
        "id": "faDpyCwJBWqV",
        "colab": {
          "base_uri": "https://localhost:8080/"
        },
        "outputId": "01386a01-2665-4ac3-e23f-68a9b27a2670"
      },
      "execution_count": null,
      "outputs": [
        {
          "output_type": "stream",
          "name": "stdout",
          "text": [
            "              precision    recall  f1-score   support\n",
            "\n",
            "           0       0.79      0.67      0.73       678\n",
            "           1       0.64      0.62      0.63       498\n",
            "           2       0.19      0.44      0.27        94\n",
            "\n",
            "    accuracy                           0.63      1270\n",
            "   macro avg       0.54      0.58      0.54      1270\n",
            "weighted avg       0.69      0.63      0.65      1270\n",
            "\n",
            "0.5760922305931188\n"
          ]
        }
      ]
    },
    {
      "cell_type": "code",
      "source": [
        "cm= confusion_matrix(y_test,y_pred3,labels= model3.classes_)\n",
        "disp= ConfusionMatrixDisplay(confusion_matrix=cm, display_labels=model3.classes_)\n",
        "disp= disp.plot(include_values= True, cmap=plt.cm.Blues)\n",
        "plt.grid(False)\n",
        "plt.show()"
      ],
      "metadata": {
        "id": "EupzWGqkCQmC",
        "colab": {
          "base_uri": "https://localhost:8080/"
        },
        "outputId": "5332de15-b347-4189-97ce-e8783c1a7713"
      },
      "execution_count": null,
      "outputs": [
        {
          "output_type": "display_data",
          "data": {
            "text/plain": [
              "<Figure size 432x288 with 2 Axes>"
            ],
            "image/png": "[encoded data removed]"
          },
          "metadata": {
            "needs_background": "light"
          }
        }
      ]
    },
    {
      "cell_type": "markdown",
      "source": [
        "Fourth Model: Random Forest Classifier"
      ],
      "metadata": {
        "id": "XjM7FEIJCYqk"
      }
    },
    {
      "cell_type": "code",
      "source": [
        "model4= RandomForestClassifier(random_state=42)\n",
        "model4.fit(X_train_resampled, y_train_resampled)\n",
        "y_pred4= model4.predict(X_test_scaled)"
      ],
      "metadata": {
        "id": "VsoTQwlwCy1E"
      },
      "execution_count": null,
      "outputs": []
    },
    {
      "cell_type": "code",
      "source": [
        "print(classification_report(y_test,y_pred4))\n",
        "print(balanced_accuracy_score(y_test,y_pred4))"
      ],
      "metadata": {
        "id": "MrqmwVRzDYbg",
        "colab": {
          "base_uri": "https://localhost:8080/"
        },
        "outputId": "b1dd744a-cb63-4d98-97a1-c94cd308d68e"
      },
      "execution_count": null,
      "outputs": [
        {
          "output_type": "stream",
          "name": "stdout",
          "text": [
            "              precision    recall  f1-score   support\n",
            "\n",
            "           0       0.77      0.75      0.76       678\n",
            "           1       0.66      0.65      0.65       498\n",
            "           2       0.21      0.27      0.24        94\n",
            "\n",
            "    accuracy                           0.68      1270\n",
            "   macro avg       0.55      0.56      0.55      1270\n",
            "weighted avg       0.68      0.68      0.68      1270\n",
            "\n",
            "0.5554103692747517\n"
          ]
        }
      ]
    },
    {
      "cell_type": "code",
      "source": [
        "cm= confusion_matrix(y_test,y_pred4,labels= model4.classes_)\n",
        "disp= ConfusionMatrixDisplay(confusion_matrix=cm, display_labels=model4.classes_)\n",
        "disp= disp.plot(include_values= True, cmap=plt.cm.Blues)\n",
        "plt.grid(False)\n",
        "plt.show()"
      ],
      "metadata": {
        "id": "KZ9H8N9BEjIG",
        "colab": {
          "base_uri": "https://localhost:8080/"
        },
        "outputId": "ca039b4c-501d-4c95-ddb4-ff3f43b75eb0"
      },
      "execution_count": null,
      "outputs": [
        {
          "output_type": "display_data",
          "data": {
            "text/plain": [
              "<Figure size 432x288 with 2 Axes>"
            ],
            "image/png": "[encoded data removed]"
          },
          "metadata": {
            "needs_background": "light"
          }
        }
      ]
    },
    {
      "cell_type": "markdown",
      "source": [
        "Fifth model: AdaBoost classifier"
      ],
      "metadata": {
        "id": "isxj7ur7FTAn"
      }
    },
    {
      "cell_type": "code",
      "source": [
        "model5= AdaBoostClassifier(random_state=42)\n",
        "model5.fit(X_train_resampled, y_train_resampled)\n",
        "y_pred5= model5.predict(X_test_scaled)"
      ],
      "metadata": {
        "id": "vcv0LBlhFR6q"
      },
      "execution_count": null,
      "outputs": []
    },
    {
      "cell_type": "code",
      "source": [
        "print(classification_report(y_test,y_pred5))\n",
        "print(balanced_accuracy_score(y_test,y_pred5))"
      ],
      "metadata": {
        "id": "VL-oPpRgFzAF",
        "colab": {
          "base_uri": "https://localhost:8080/"
        },
        "outputId": "8fa6a876-3843-4bb3-8e9e-6e8ef2f9c409"
      },
      "execution_count": null,
      "outputs": [
        {
          "output_type": "stream",
          "name": "stdout",
          "text": [
            "              precision    recall  f1-score   support\n",
            "\n",
            "           0       0.76      0.60      0.67       678\n",
            "           1       0.61      0.53      0.57       498\n",
            "           2       0.15      0.48      0.23        94\n",
            "\n",
            "    accuracy                           0.57      1270\n",
            "   macro avg       0.51      0.54      0.49      1270\n",
            "weighted avg       0.66      0.57      0.60      1270\n",
            "\n",
            "0.5373629079803808\n"
          ]
        }
      ]
    },
    {
      "cell_type": "code",
      "source": [
        "cm= confusion_matrix(y_test,y_pred5,labels= model5.classes_)\n",
        "disp= ConfusionMatrixDisplay(confusion_matrix=cm, display_labels=model5.classes_)\n",
        "disp= disp.plot(include_values= True, cmap=plt.cm.Blues)\n",
        "plt.grid(False)\n",
        "plt.show()"
      ],
      "metadata": {
        "id": "mDuYZeUNF0Rk",
        "colab": {
          "base_uri": "https://localhost:8080/"
        },
        "outputId": "43528ab8-2511-4d88-ed54-894eb0b38126"
      },
      "execution_count": null,
      "outputs": [
        {
          "output_type": "display_data",
          "data": {
            "text/plain": [
              "<Figure size 432x288 with 2 Axes>"
            ],
            "image/png": "[encoded data removed]"
          },
          "metadata": {
            "needs_background": "light"
          }
        }
      ]
    },
    {
      "cell_type": "markdown",
      "source": [
        "Sixth Model: Decision Trees Classifier"
      ],
      "metadata": {
        "id": "2c4-Rm9JH5JO"
      }
    },
    {
      "cell_type": "code",
      "source": [
        "model6= DecisionTreeClassifier(random_state=42)\n",
        "model6.fit(X_train_resampled, y_train_resampled)\n",
        "y_pred6= model6.predict(X_test_scaled)"
      ],
      "metadata": {
        "id": "VRQv63idH_9y"
      },
      "execution_count": null,
      "outputs": []
    },
    {
      "cell_type": "code",
      "source": [
        "print(classification_report(y_test,y_pred6))\n",
        "print(balanced_accuracy_score(y_test,y_pred6))"
      ],
      "metadata": {
        "id": "SbO8vbfEIFgO",
        "colab": {
          "base_uri": "https://localhost:8080/"
        },
        "outputId": "1137c501-ccac-481e-806d-5482768e6d65"
      },
      "execution_count": null,
      "outputs": [
        {
          "output_type": "stream",
          "name": "stdout",
          "text": [
            "              precision    recall  f1-score   support\n",
            "\n",
            "           0       0.71      0.63      0.67       678\n",
            "           1       0.55      0.56      0.55       498\n",
            "           2       0.15      0.26      0.19        94\n",
            "\n",
            "    accuracy                           0.57      1270\n",
            "   macro avg       0.47      0.48      0.47      1270\n",
            "weighted avg       0.61      0.57      0.59      1270\n",
            "\n",
            "0.4816068390804163\n"
          ]
        }
      ]
    },
    {
      "cell_type": "code",
      "source": [
        "cm= confusion_matrix(y_test,y_pred6,labels= model6.classes_)\n",
        "disp= ConfusionMatrixDisplay(confusion_matrix=cm, display_labels=model6.classes_)\n",
        "disp= disp.plot(include_values= True, cmap=plt.cm.Blues)\n",
        "plt.grid(False)\n",
        "plt.show()"
      ],
      "metadata": {
        "id": "0vLFgXjCIIeo",
        "colab": {
          "base_uri": "https://localhost:8080/"
        },
        "outputId": "dbdfaec6-db07-426d-c216-0081367962ff"
      },
      "execution_count": null,
      "outputs": [
        {
          "output_type": "display_data",
          "data": {
            "text/plain": [
              "<Figure size 432x288 with 2 Axes>"
            ],
            "image/png": "[encoded data removed]"
          },
          "metadata": {
            "needs_background": "light"
          }
        }
      ]
    },
    {
      "cell_type": "markdown",
      "source": [
        "Seventh model: XGBoost Classifier"
      ],
      "metadata": {
        "id": "zvN12XanIQri"
      }
    },
    {
      "cell_type": "code",
      "source": [
        "model7= XGBClassifier(random_state=42)\n",
        "model7.fit(X_train_resampled, y_train_resampled)\n",
        "y_pred7= model7.predict(X_test_scaled)"
      ],
      "metadata": {
        "id": "nQuRDLPmI7Hj"
      },
      "execution_count": null,
      "outputs": []
    },
    {
      "cell_type": "code",
      "source": [
        "print(classification_report(y_test,y_pred7))\n",
        "print(balanced_accuracy_score(y_test,y_pred7))"
      ],
      "metadata": {
        "id": "pcZw6XQHKpG8",
        "colab": {
          "base_uri": "https://localhost:8080/"
        },
        "outputId": "652fc904-df12-46d6-9417-28e04b606d72"
      },
      "execution_count": null,
      "outputs": [
        {
          "output_type": "stream",
          "name": "stdout",
          "text": [
            "              precision    recall  f1-score   support\n",
            "\n",
            "           0       0.78      0.64      0.70       678\n",
            "           1       0.63      0.61      0.62       498\n",
            "           2       0.15      0.36      0.21        94\n",
            "\n",
            "    accuracy                           0.61      1270\n",
            "   macro avg       0.52      0.54      0.51      1270\n",
            "weighted avg       0.67      0.61      0.63      1270\n",
            "\n",
            "0.5380899736522189\n"
          ]
        }
      ]
    },
    {
      "cell_type": "code",
      "source": [
        "cm= confusion_matrix(y_test,y_pred7,labels= model7.classes_)\n",
        "disp= ConfusionMatrixDisplay(confusion_matrix=cm, display_labels=model7.classes_)\n",
        "disp= disp.plot(include_values= True, cmap=plt.cm.Blues)\n",
        "plt.grid(False)\n",
        "plt.show()"
      ],
      "metadata": {
        "id": "4Mxxq2V6LJ4F",
        "colab": {
          "base_uri": "https://localhost:8080/"
        },
        "outputId": "c2f5c489-7383-424e-d5ac-b187a448a46c"
      },
      "execution_count": null,
      "outputs": [
        {
          "output_type": "display_data",
          "data": {
            "text/plain": [
              "<Figure size 432x288 with 2 Axes>"
            ],
            "image/png": "[encoded data removed]"
          },
          "metadata": {
            "needs_background": "light"
          }
        }
      ]
    },
    {
      "cell_type": "markdown",
      "source": [
        "Eigth model: Naive Bayes Classifier"
      ],
      "metadata": {
        "id": "FytjRDNXLO1q"
      }
    },
    {
      "cell_type": "code",
      "source": [
        "model8= GaussianNB()\n",
        "model8.fit(X_train_resampled, y_train_resampled)\n",
        "y_pred8= model8.predict(X_test_scaled)\n"
      ],
      "metadata": {
        "id": "iEZRoOjgLXGG"
      },
      "execution_count": null,
      "outputs": []
    },
    {
      "cell_type": "code",
      "source": [
        "print(classification_report(y_test,y_pred8))\n",
        "print(balanced_accuracy_score(y_test,y_pred8))"
      ],
      "metadata": {
        "id": "wC901lG7M5Rc",
        "colab": {
          "base_uri": "https://localhost:8080/"
        },
        "outputId": "436a8fc2-284d-46f8-f09f-65b512f2677b"
      },
      "execution_count": null,
      "outputs": [
        {
          "output_type": "stream",
          "name": "stdout",
          "text": [
            "              precision    recall  f1-score   support\n",
            "\n",
            "           0       0.74      0.28      0.40       678\n",
            "           1       0.56      0.46      0.50       498\n",
            "           2       0.10      0.62      0.17        94\n",
            "\n",
            "    accuracy                           0.37      1270\n",
            "   macro avg       0.46      0.45      0.36      1270\n",
            "weighted avg       0.62      0.37      0.42      1270\n",
            "\n",
            "0.4508906144883305\n"
          ]
        }
      ]
    },
    {
      "cell_type": "code",
      "source": [
        "cm= confusion_matrix(y_test,y_pred8,labels= model8.classes_)\n",
        "disp= ConfusionMatrixDisplay(confusion_matrix=cm, display_labels=model8.classes_)\n",
        "disp= disp.plot(include_values= True, cmap=plt.cm.Blues)\n",
        "plt.grid(False)\n",
        "plt.show()"
      ],
      "metadata": {
        "id": "DSRM5v9aM9cc",
        "colab": {
          "base_uri": "https://localhost:8080/"
        },
        "outputId": "e6df79d4-febd-4b4f-df1c-cad19001a614"
      },
      "execution_count": null,
      "outputs": [
        {
          "output_type": "display_data",
          "data": {
            "text/plain": [
              "<Figure size 432x288 with 2 Axes>"
            ],
            "image/png": "[encoded data removed]"
          },
          "metadata": {
            "needs_background": "light"
          }
        }
      ]
    },
    {
      "cell_type": "markdown",
      "source": [
        "Ninth Model: KNeighbors Classifier"
      ],
      "metadata": {
        "id": "nTeQp070NBfJ"
      }
    },
    {
      "cell_type": "code",
      "source": [
        "model9= KNeighborsClassifier()\n",
        "model9.fit(X_train_resampled, y_train_resampled)\n",
        "y_pred9= model9.predict(X_test_scaled)\n"
      ],
      "metadata": {
        "id": "1DSpxxLiNZKV"
      },
      "execution_count": null,
      "outputs": []
    },
    {
      "cell_type": "code",
      "source": [
        "print(classification_report(y_test,y_pred9))\n",
        "print(balanced_accuracy_score(y_test,y_pred9))"
      ],
      "metadata": {
        "id": "Etlio5NSNhCC",
        "colab": {
          "base_uri": "https://localhost:8080/"
        },
        "outputId": "f29ea089-6e2a-4b1a-d05e-708773a52af7"
      },
      "execution_count": null,
      "outputs": [
        {
          "output_type": "stream",
          "name": "stdout",
          "text": [
            "              precision    recall  f1-score   support\n",
            "\n",
            "           0       0.77      0.62      0.68       678\n",
            "           1       0.61      0.53      0.57       498\n",
            "           2       0.15      0.47      0.23        94\n",
            "\n",
            "    accuracy                           0.57      1270\n",
            "   macro avg       0.51      0.54      0.49      1270\n",
            "weighted avg       0.66      0.57      0.60      1270\n",
            "\n",
            "0.538733229535225\n"
          ]
        }
      ]
    },
    {
      "cell_type": "code",
      "source": [
        "cm= confusion_matrix(y_test,y_pred9,labels= model9.classes_)\n",
        "disp= ConfusionMatrixDisplay(confusion_matrix=cm, display_labels=model9.classes_)\n",
        "disp= disp.plot(include_values= True, cmap=plt.cm.Blues)\n",
        "plt.grid(False)\n",
        "plt.show()"
      ],
      "metadata": {
        "id": "1WatomrtNkxA",
        "colab": {
          "base_uri": "https://localhost:8080/"
        },
        "outputId": "9f4688b6-cd41-43db-fff6-4efeedd9dab4"
      },
      "execution_count": null,
      "outputs": [
        {
          "output_type": "display_data",
          "data": {
            "text/plain": [
              "<Figure size 432x288 with 2 Axes>"
            ],
            "image/png": "[encoded data removed]"
          },
          "metadata": {
            "needs_background": "light"
          }
        }
      ]
    },
    {
      "cell_type": "markdown",
      "source": [
        "Tenth Model: Bagging Classifier"
      ],
      "metadata": {
        "id": "IyjU8oQsOYSy"
      }
    },
    {
      "cell_type": "code",
      "source": [
        "model10= BaggingClassifier(base_estimator=RandomForestClassifier(random_state=42),n_estimators=10,random_state=42)\n",
        "model10.fit(X_train_resampled, y_train_resampled)\n",
        "y_pred10= model10.predict(X_test_scaled)\n"
      ],
      "metadata": {
        "id": "A3ZIWJ7rObOp"
      },
      "execution_count": null,
      "outputs": []
    },
    {
      "cell_type": "code",
      "source": [
        "print(classification_report(y_test,y_pred10))\n",
        "print(balanced_accuracy_score(y_test,y_pred10))"
      ],
      "metadata": {
        "id": "EfCTGLG5OtzD",
        "colab": {
          "base_uri": "https://localhost:8080/"
        },
        "outputId": "b0d0ce6b-48a2-41c8-cad6-41bf583616e7"
      },
      "execution_count": null,
      "outputs": [
        {
          "output_type": "stream",
          "name": "stdout",
          "text": [
            "              precision    recall  f1-score   support\n",
            "\n",
            "           0       0.77      0.71      0.74       678\n",
            "           1       0.63      0.63      0.63       498\n",
            "           2       0.19      0.30      0.23        94\n",
            "\n",
            "    accuracy                           0.65      1270\n",
            "   macro avg       0.53      0.55      0.54      1270\n",
            "weighted avg       0.68      0.65      0.66      1270\n",
            "\n",
            "0.5487582666068781\n"
          ]
        }
      ]
    },
    {
      "cell_type": "code",
      "source": [
        "cm= confusion_matrix(y_test,y_pred10,labels= model10.classes_)\n",
        "disp= ConfusionMatrixDisplay(confusion_matrix=cm, display_labels=model10.classes_)\n",
        "disp= disp.plot(include_values= True, cmap=plt.cm.Blues)\n",
        "plt.grid(False)\n",
        "plt.show()"
      ],
      "metadata": {
        "id": "j8euKLFgOvVx",
        "colab": {
          "base_uri": "https://localhost:8080/"
        },
        "outputId": "82c26fac-750c-4ca7-e398-38a1dccc924d"
      },
      "execution_count": null,
      "outputs": [
        {
          "output_type": "display_data",
          "data": {
            "text/plain": [
              "<Figure size 432x288 with 2 Axes>"
            ],
            "image/png": "[encoded data removed]"
          },
          "metadata": {
            "needs_background": "light"
          }
        }
      ]
    },
    {
      "cell_type": "markdown",
      "source": [
        "Eleventh Model: Stacking Classifier"
      ],
      "metadata": {
        "id": "wK4GkxZmO1Ba"
      }
    },
    {
      "cell_type": "code",
      "source": [
        "def get_stack_model():\n",
        "  level0 = list()\n",
        "  level0.append(('lr', LogisticRegression(max_iter=2000,random_state=42)))\n",
        "  level0.append(('knn', KNeighborsClassifier()))\n",
        "  level0.append(('cart', DecisionTreeClassifier(random_state=42)))\n",
        "  level0.append(('svm', svm.SVC(kernel='rbf', gamma='auto',decision_function_shape='ovr', random_state=42)))\n",
        "  level0.append(('bayes', GaussianNB()))\n",
        "  level0.append(('gboosting', GradientBoostingClassifier(random_state=42)))\n",
        "  level0.append(('rforest', RandomForestClassifier(random_state=42)))\n",
        "  level0.append(('adaboost', AdaBoostClassifier(random_state=42)))\n",
        "  level1 = LogisticRegression(max_iter=2000,random_state=42)\n",
        "  model = StackingClassifier(estimators=level0, final_estimator=level1, cv=5)\n",
        "  return model"
      ],
      "metadata": {
        "id": "4vkYDwiuO4mw"
      },
      "execution_count": null,
      "outputs": []
    },
    {
      "cell_type": "code",
      "source": [
        "model11=get_stack_model()\n",
        "model11.fit(X_train_resampled, y_train_resampled)\n",
        "y_pred11= model11.predict(X_test_scaled)"
      ],
      "metadata": {
        "id": "N7sng-NWO_cI"
      },
      "execution_count": null,
      "outputs": []
    },
    {
      "cell_type": "code",
      "source": [
        "print(classification_report(y_test,y_pred11))\n",
        "print(balanced_accuracy_score(y_test,y_pred11))"
      ],
      "metadata": {
        "id": "lvLWcXbIPdSS",
        "colab": {
          "base_uri": "https://localhost:8080/"
        },
        "outputId": "b2d396c6-0533-4d86-e6ed-fb1d2c64beab"
      },
      "execution_count": null,
      "outputs": [
        {
          "output_type": "stream",
          "name": "stdout",
          "text": [
            "              precision    recall  f1-score   support\n",
            "\n",
            "           0       0.77      0.80      0.79       678\n",
            "           1       0.67      0.67      0.67       498\n",
            "           2       0.29      0.20      0.24        94\n",
            "\n",
            "    accuracy                           0.71      1270\n",
            "   macro avg       0.58      0.56      0.56      1270\n",
            "weighted avg       0.70      0.71      0.70      1270\n",
            "\n",
            "0.5582538526666763\n"
          ]
        }
      ]
    },
    {
      "cell_type": "code",
      "source": [
        "cm= confusion_matrix(y_test,y_pred11,labels= model11.classes_)\n",
        "disp= ConfusionMatrixDisplay(confusion_matrix=cm, display_labels=model11.classes_)\n",
        "disp= disp.plot(include_values= True, cmap=plt.cm.Blues)\n",
        "plt.grid(False)\n",
        "plt.show()"
      ],
      "metadata": {
        "id": "4MeIKVwOPYcv",
        "colab": {
          "base_uri": "https://localhost:8080/"
        },
        "outputId": "db68b89d-5c01-4ce6-ee49-cf57c2d1a851"
      },
      "execution_count": null,
      "outputs": [
        {
          "output_type": "display_data",
          "data": {
            "text/plain": [
              "<Figure size 432x288 with 2 Axes>"
            ],
            "image/png": "[encoded data removed]"
          },
          "metadata": {
            "needs_background": "light"
          }
        }
      ]
    },
    {
      "cell_type": "code",
      "source": [
        "X_train_features= LBP_statistics_features_train\n",
        "X_test_features= LBP_statistics_features_test\n",
        "scaler= StandardScaler().fit(X_train_features)\n",
        "X_train_scaled= scaler.transform(X_train_features)\n",
        "X_test_scaled= scaler.transform(X_test_features)"
      ],
      "metadata": {
        "id": "5-IVWtm-79OX"
      },
      "execution_count": null,
      "outputs": []
    },
    {
      "cell_type": "code",
      "source": [
        "#Data Balancing in order to tackle data imbalance. technique used: SMOTE \n",
        "ros = SMOTE(sampling_strategy='auto', random_state= 42)\n",
        "X_train_resampled, y_train_resampled= ros.fit_resample(X_train_scaled,y_train)\n",
        "print(np.bincount(y_train_resampled))"
      ],
      "metadata": {
        "id": "MOG5yUopFHSr",
        "colab": {
          "base_uri": "https://localhost:8080/"
        },
        "outputId": "5e3084c6-b7d1-4712-f1b6-8e9659fcfb18"
      },
      "execution_count": null,
      "outputs": [
        {
          "output_type": "stream",
          "name": "stdout",
          "text": [
            "[2713 2713 2713]\n"
          ]
        }
      ]
    },
    {
      "cell_type": "markdown",
      "source": [
        "First model: SVM"
      ],
      "metadata": {
        "id": "pmGEcRXI79OY"
      }
    },
    {
      "cell_type": "code",
      "source": [
        "model1= svm.SVC()\n",
        "model1.fit(X_train_resampled, y_train_resampled)\n",
        "y_pred1= model1.predict(X_test_scaled)"
      ],
      "metadata": {
        "id": "WcqbjL2379OY"
      },
      "execution_count": null,
      "outputs": []
    },
    {
      "cell_type": "code",
      "source": [
        "print(classification_report(y_test,y_pred1))\n",
        "print(balanced_accuracy_score(y_test,y_pred1))"
      ],
      "metadata": {
        "id": "TaoR1iqC79OY",
        "colab": {
          "base_uri": "https://localhost:8080/"
        },
        "outputId": "8420e60a-5040-41be-af94-d8b4c812b0fb"
      },
      "execution_count": null,
      "outputs": [
        {
          "output_type": "stream",
          "name": "stdout",
          "text": [
            "              precision    recall  f1-score   support\n",
            "\n",
            "           0       0.76      0.48      0.59       678\n",
            "           1       0.56      0.51      0.53       498\n",
            "           2       0.13      0.52      0.20        94\n",
            "\n",
            "    accuracy                           0.50      1270\n",
            "   macro avg       0.48      0.50      0.44      1270\n",
            "weighted avg       0.63      0.50      0.54      1270\n",
            "\n",
            "0.5036921677798875\n"
          ]
        }
      ]
    },
    {
      "cell_type": "code",
      "source": [
        "cm= confusion_matrix(y_test,y_pred1,labels= model1.classes_)\n",
        "disp= ConfusionMatrixDisplay(confusion_matrix=cm, display_labels=model1.classes_)\n",
        "disp= disp.plot(include_values= True, cmap=plt.cm.Blues)\n",
        "plt.grid(False)\n",
        "plt.show()"
      ],
      "metadata": {
        "id": "sSC1U5Hh79OZ",
        "colab": {
          "base_uri": "https://localhost:8080/"
        },
        "outputId": "79f9a45d-b495-4509-bfc9-9194ba6b9792"
      },
      "execution_count": null,
      "outputs": [
        {
          "output_type": "display_data",
          "data": {
            "text/plain": [
              "<Figure size 432x288 with 2 Axes>"
            ],
            "image/png": "[encoded data removed]"
          },
          "metadata": {
            "needs_background": "light"
          }
        }
      ]
    },
    {
      "cell_type": "markdown",
      "source": [
        "Second Model: Logistic Regression"
      ],
      "metadata": {
        "id": "vTkmH8W679OZ"
      }
    },
    {
      "cell_type": "code",
      "source": [
        "model2= LogisticRegression(max_iter=2000)\n",
        "model2.fit(X_train_resampled, y_train_resampled)\n",
        "y_pred2= model2.predict(X_test_scaled)"
      ],
      "metadata": {
        "id": "DXXYTgtT79OZ"
      },
      "execution_count": null,
      "outputs": []
    },
    {
      "cell_type": "code",
      "source": [
        "print(classification_report(y_test,y_pred2))\n",
        "print(balanced_accuracy_score(y_test,y_pred2))"
      ],
      "metadata": {
        "id": "w77iUAyY79OZ",
        "colab": {
          "base_uri": "https://localhost:8080/"
        },
        "outputId": "0e96aa77-071f-4605-ce9f-7fcd21616796"
      },
      "execution_count": null,
      "outputs": [
        {
          "output_type": "stream",
          "name": "stdout",
          "text": [
            "              precision    recall  f1-score   support\n",
            "\n",
            "           0       0.70      0.53      0.60       678\n",
            "           1       0.56      0.46      0.50       498\n",
            "           2       0.13      0.48      0.20        94\n",
            "\n",
            "    accuracy                           0.50      1270\n",
            "   macro avg       0.46      0.49      0.44      1270\n",
            "weighted avg       0.60      0.50      0.53      1270\n",
            "\n",
            "0.4891760602946526\n"
          ]
        }
      ]
    },
    {
      "cell_type": "code",
      "source": [
        "cm= confusion_matrix(y_test,y_pred2,labels= model2.classes_)\n",
        "disp= ConfusionMatrixDisplay(confusion_matrix=cm, display_labels=model2.classes_)\n",
        "disp= disp.plot(include_values= True, cmap=plt.cm.Blues)\n",
        "plt.grid(False)\n",
        "plt.show()"
      ],
      "metadata": {
        "id": "pVBtsExG79OZ",
        "colab": {
          "base_uri": "https://localhost:8080/"
        },
        "outputId": "13d8bfd2-ba71-4dc5-b3fb-97983c23f968"
      },
      "execution_count": null,
      "outputs": [
        {
          "output_type": "display_data",
          "data": {
            "text/plain": [
              "<Figure size 432x288 with 2 Axes>"
            ],
            "image/png": "[encoded data removed]"
          },
          "metadata": {
            "needs_background": "light"
          }
        }
      ]
    },
    {
      "cell_type": "markdown",
      "source": [
        "Third model: Gradient Boosting"
      ],
      "metadata": {
        "id": "Ai5toqUq79OZ"
      }
    },
    {
      "cell_type": "code",
      "source": [
        "model3= GradientBoostingClassifier(random_state=42)\n",
        "model3.fit(X_train_resampled, y_train_resampled)\n",
        "y_pred3= model3.predict(X_test_scaled)"
      ],
      "metadata": {
        "id": "Q54U6wHj79OZ"
      },
      "execution_count": null,
      "outputs": []
    },
    {
      "cell_type": "code",
      "source": [
        "print(classification_report(y_test,y_pred3))\n",
        "print(balanced_accuracy_score(y_test,y_pred3))"
      ],
      "metadata": {
        "id": "j3uAeIBT79Oa",
        "colab": {
          "base_uri": "https://localhost:8080/"
        },
        "outputId": "77e36343-069d-44e8-f7a4-a22cea1cc1de"
      },
      "execution_count": null,
      "outputs": [
        {
          "output_type": "stream",
          "name": "stdout",
          "text": [
            "              precision    recall  f1-score   support\n",
            "\n",
            "           0       0.75      0.57      0.65       678\n",
            "           1       0.57      0.55      0.56       498\n",
            "           2       0.15      0.45      0.23        94\n",
            "\n",
            "    accuracy                           0.55      1270\n",
            "   macro avg       0.49      0.52      0.48      1270\n",
            "weighted avg       0.64      0.55      0.58      1270\n",
            "\n",
            "0.5226019246760467\n"
          ]
        }
      ]
    },
    {
      "cell_type": "code",
      "source": [
        "cm= confusion_matrix(y_test,y_pred3,labels= model3.classes_)\n",
        "disp= ConfusionMatrixDisplay(confusion_matrix=cm, display_labels=model3.classes_)\n",
        "disp= disp.plot(include_values= True, cmap=plt.cm.Blues)\n",
        "plt.grid(False)\n",
        "plt.show()"
      ],
      "metadata": {
        "id": "sG5Iv84M79Oa",
        "colab": {
          "base_uri": "https://localhost:8080/"
        },
        "outputId": "e1182819-6875-410b-9878-920bb998e448"
      },
      "execution_count": null,
      "outputs": [
        {
          "output_type": "display_data",
          "data": {
            "text/plain": [
              "<Figure size 432x288 with 2 Axes>"
            ],
            "image/png": "[encoded data removed]"
          },
          "metadata": {
            "needs_background": "light"
          }
        }
      ]
    },
    {
      "cell_type": "markdown",
      "source": [
        "Fourth Model: Random Forest Classifier"
      ],
      "metadata": {
        "id": "T-nv3Dmp79Oa"
      }
    },
    {
      "cell_type": "code",
      "source": [
        "model4= RandomForestClassifier(random_state=42)\n",
        "model4.fit(X_train_resampled, y_train_resampled)\n",
        "y_pred4= model4.predict(X_test_scaled)"
      ],
      "metadata": {
        "id": "zmeO8uEQ79Oa"
      },
      "execution_count": null,
      "outputs": []
    },
    {
      "cell_type": "code",
      "source": [
        "print(classification_report(y_test,y_pred4))\n",
        "print(balanced_accuracy_score(y_test,y_pred4))"
      ],
      "metadata": {
        "id": "c3Wlj_zy79Oa",
        "colab": {
          "base_uri": "https://localhost:8080/"
        },
        "outputId": "df50fe69-5362-4e9b-d795-aea599701d20"
      },
      "execution_count": null,
      "outputs": [
        {
          "output_type": "stream",
          "name": "stdout",
          "text": [
            "              precision    recall  f1-score   support\n",
            "\n",
            "           0       0.73      0.72      0.72       678\n",
            "           1       0.63      0.59      0.61       498\n",
            "           2       0.19      0.28      0.22        94\n",
            "\n",
            "    accuracy                           0.63      1270\n",
            "   macro avg       0.52      0.53      0.52      1270\n",
            "weighted avg       0.65      0.63      0.64      1270\n",
            "\n",
            "0.5279237832520064\n"
          ]
        }
      ]
    },
    {
      "cell_type": "code",
      "source": [
        "cm= confusion_matrix(y_test,y_pred4,labels= model4.classes_)\n",
        "disp= ConfusionMatrixDisplay(confusion_matrix=cm, display_labels=model4.classes_)\n",
        "disp= disp.plot(include_values= True, cmap=plt.cm.Blues)\n",
        "plt.grid(False)\n",
        "plt.show()"
      ],
      "metadata": {
        "id": "Xb25tLcr79Oa",
        "colab": {
          "base_uri": "https://localhost:8080/"
        },
        "outputId": "6eb962fd-dee1-4911-e39b-976de72abdd6"
      },
      "execution_count": null,
      "outputs": [
        {
          "output_type": "display_data",
          "data": {
            "text/plain": [
              "<Figure size 432x288 with 2 Axes>"
            ],
            "image/png": "[encoded data removed]"
          },
          "metadata": {
            "needs_background": "light"
          }
        }
      ]
    },
    {
      "cell_type": "markdown",
      "source": [
        "Fifth model: AdaBoost classifier"
      ],
      "metadata": {
        "id": "Yqxpe6_279Ob"
      }
    },
    {
      "cell_type": "code",
      "source": [
        "model5= AdaBoostClassifier(random_state=42)\n",
        "model5.fit(X_train_resampled, y_train_resampled)\n",
        "y_pred5= model5.predict(X_test_scaled)"
      ],
      "metadata": {
        "id": "EKdEbLPH79Ob"
      },
      "execution_count": null,
      "outputs": []
    },
    {
      "cell_type": "code",
      "source": [
        "print(classification_report(y_test,y_pred5))\n",
        "print(balanced_accuracy_score(y_test,y_pred5))"
      ],
      "metadata": {
        "id": "2xHTtPx279Ob",
        "colab": {
          "base_uri": "https://localhost:8080/"
        },
        "outputId": "f00c80cc-470d-4b72-bf95-077b1c4e3b57"
      },
      "execution_count": null,
      "outputs": [
        {
          "output_type": "stream",
          "name": "stdout",
          "text": [
            "              precision    recall  f1-score   support\n",
            "\n",
            "           0       0.72      0.46      0.56       678\n",
            "           1       0.54      0.52      0.53       498\n",
            "           2       0.12      0.46      0.19        94\n",
            "\n",
            "    accuracy                           0.48      1270\n",
            "   macro avg       0.46      0.48      0.43      1270\n",
            "weighted avg       0.60      0.48      0.52      1270\n",
            "\n",
            "0.48008175298318734\n"
          ]
        }
      ]
    },
    {
      "cell_type": "code",
      "source": [
        "cm= confusion_matrix(y_test,y_pred5,labels= model5.classes_)\n",
        "disp= ConfusionMatrixDisplay(confusion_matrix=cm, display_labels=model5.classes_)\n",
        "disp= disp.plot(include_values= True, cmap=plt.cm.Blues)\n",
        "plt.grid(False)\n",
        "plt.show()"
      ],
      "metadata": {
        "id": "d6vGaCNE79Ob",
        "colab": {
          "base_uri": "https://localhost:8080/",
          "height": 279
        },
        "outputId": "8b0cc683-0fec-40a3-e37d-f0179794d921"
      },
      "execution_count": null,
      "outputs": [
        {
          "output_type": "display_data",
          "data": {
            "text/plain": [
              "<Figure size 432x288 with 2 Axes>"
            ],
            "image/png": "[encoded data removed]"
          },
          "metadata": {
            "needs_background": "light"
          }
        }
      ]
    },
    {
      "cell_type": "markdown",
      "source": [
        "Sixth Model: Decision Trees Classifier"
      ],
      "metadata": {
        "id": "XnWsAtww79Ob"
      }
    },
    {
      "cell_type": "code",
      "source": [
        "model6= DecisionTreeClassifier(random_state=42)\n",
        "model6.fit(X_train_resampled, y_train_resampled)\n",
        "y_pred6= model6.predict(X_test_scaled)"
      ],
      "metadata": {
        "id": "DWELf7OZ79Ob"
      },
      "execution_count": null,
      "outputs": []
    },
    {
      "cell_type": "code",
      "source": [
        "print(classification_report(y_test,y_pred6))\n",
        "print(balanced_accuracy_score(y_test,y_pred6))"
      ],
      "metadata": {
        "id": "UPEsEERx79Ob",
        "colab": {
          "base_uri": "https://localhost:8080/"
        },
        "outputId": "de878db1-da62-4de4-8ab0-563c104f15f1"
      },
      "execution_count": null,
      "outputs": [
        {
          "output_type": "stream",
          "name": "stdout",
          "text": [
            "              precision    recall  f1-score   support\n",
            "\n",
            "           0       0.66      0.59      0.63       678\n",
            "           1       0.54      0.52      0.53       498\n",
            "           2       0.10      0.21      0.14        94\n",
            "\n",
            "    accuracy                           0.53      1270\n",
            "   macro avg       0.44      0.44      0.43      1270\n",
            "weighted avg       0.58      0.53      0.55      1270\n",
            "\n",
            "0.440583522819074\n"
          ]
        }
      ]
    },
    {
      "cell_type": "code",
      "source": [
        "cm= confusion_matrix(y_test,y_pred6,labels= model6.classes_)\n",
        "disp= ConfusionMatrixDisplay(confusion_matrix=cm, display_labels=model6.classes_)\n",
        "disp= disp.plot(include_values= True, cmap=plt.cm.Blues)\n",
        "plt.grid(False)\n",
        "plt.show()"
      ],
      "metadata": {
        "id": "GeQI4P1C79Ob",
        "colab": {
          "base_uri": "https://localhost:8080/"
        },
        "outputId": "0c4fd327-3d9c-4a95-f475-789fa5d8fc80"
      },
      "execution_count": null,
      "outputs": [
        {
          "output_type": "display_data",
          "data": {
            "text/plain": [
              "<Figure size 432x288 with 2 Axes>"
            ],
            "image/png": "[encoded data removed]"
          },
          "metadata": {
            "needs_background": "light"
          }
        }
      ]
    },
    {
      "cell_type": "markdown",
      "source": [
        "Seventh model: XGBoost Classifier"
      ],
      "metadata": {
        "id": "rqveu-Gz79Oc"
      }
    },
    {
      "cell_type": "code",
      "source": [
        "model7= XGBClassifier(random_state=42)\n",
        "model7.fit(X_train_resampled, y_train_resampled)\n",
        "y_pred7= model7.predict(X_test_scaled)"
      ],
      "metadata": {
        "id": "YBimWMsO79Oc"
      },
      "execution_count": null,
      "outputs": []
    },
    {
      "cell_type": "code",
      "source": [
        "print(classification_report(y_test,y_pred7))\n",
        "print(balanced_accuracy_score(y_test,y_pred7))"
      ],
      "metadata": {
        "id": "NmgHhSgB79Oc",
        "colab": {
          "base_uri": "https://localhost:8080/"
        },
        "outputId": "ddbc5e7d-73f7-462c-c8b4-dfe1c1caa96a"
      },
      "execution_count": null,
      "outputs": [
        {
          "output_type": "stream",
          "name": "stdout",
          "text": [
            "              precision    recall  f1-score   support\n",
            "\n",
            "           0       0.68      0.68      0.68       678\n",
            "           1       0.57      0.57      0.57       498\n",
            "           2       0.20      0.20      0.20        94\n",
            "\n",
            "    accuracy                           0.60      1270\n",
            "   macro avg       0.48      0.48      0.48      1270\n",
            "weighted avg       0.60      0.60      0.60      1270\n",
            "\n",
            "0.4826416694204169\n"
          ]
        }
      ]
    },
    {
      "cell_type": "code",
      "source": [
        "cm= confusion_matrix(y_test,y_pred7,labels= model7.classes_)\n",
        "disp= ConfusionMatrixDisplay(confusion_matrix=cm, display_labels=model7.classes_)\n",
        "disp= disp.plot(include_values= True, cmap=plt.cm.Blues)\n",
        "plt.grid(False)\n",
        "plt.show()"
      ],
      "metadata": {
        "id": "Mnvgdfh079Oc",
        "colab": {
          "base_uri": "https://localhost:8080/"
        },
        "outputId": "9540584c-df37-42fa-e304-dd07d60e9b5f"
      },
      "execution_count": null,
      "outputs": [
        {
          "output_type": "display_data",
          "data": {
            "text/plain": [
              "<Figure size 432x288 with 2 Axes>"
            ],
            "image/png": "[encoded data removed]"
          },
          "metadata": {
            "needs_background": "light"
          }
        }
      ]
    },
    {
      "cell_type": "markdown",
      "source": [
        "Eigth model: Naive Bayes Classifier"
      ],
      "metadata": {
        "id": "wlM6Gm9379Oc"
      }
    },
    {
      "cell_type": "code",
      "source": [
        "model8= GaussianNB()\n",
        "model8.fit(X_train_resampled, y_train_resampled)\n",
        "y_pred8= model8.predict(X_test_scaled)\n"
      ],
      "metadata": {
        "id": "5YVTULuT79Oc"
      },
      "execution_count": null,
      "outputs": []
    },
    {
      "cell_type": "code",
      "source": [
        "print(classification_report(y_test,y_pred8))\n",
        "print(balanced_accuracy_score(y_test,y_pred8))"
      ],
      "metadata": {
        "id": "Zv16jTvP79Oc",
        "colab": {
          "base_uri": "https://localhost:8080/"
        },
        "outputId": "f23d4326-449c-4cc3-c481-5488dca24492"
      },
      "execution_count": null,
      "outputs": [
        {
          "output_type": "stream",
          "name": "stdout",
          "text": [
            "              precision    recall  f1-score   support\n",
            "\n",
            "           0       0.58      0.13      0.21       678\n",
            "           1       0.44      0.36      0.39       498\n",
            "           2       0.08      0.57      0.13        94\n",
            "\n",
            "    accuracy                           0.25      1270\n",
            "   macro avg       0.36      0.35      0.24      1270\n",
            "weighted avg       0.49      0.25      0.27      1270\n",
            "\n",
            "0.3530915225579403\n"
          ]
        }
      ]
    },
    {
      "cell_type": "code",
      "source": [
        "cm= confusion_matrix(y_test,y_pred8,labels= model8.classes_)\n",
        "disp= ConfusionMatrixDisplay(confusion_matrix=cm, display_labels=model8.classes_)\n",
        "disp= disp.plot(include_values= True, cmap=plt.cm.Blues)\n",
        "plt.grid(False)\n",
        "plt.show()"
      ],
      "metadata": {
        "id": "VXfHsfD_79Oc",
        "colab": {
          "base_uri": "https://localhost:8080/"
        },
        "outputId": "c78f692e-6860-465e-db32-c111916658d6"
      },
      "execution_count": null,
      "outputs": [
        {
          "output_type": "display_data",
          "data": {
            "text/plain": [
              "<Figure size 432x288 with 2 Axes>"
            ],
            "image/png": "[encoded data removed]"
          },
          "metadata": {
            "needs_background": "light"
          }
        }
      ]
    },
    {
      "cell_type": "markdown",
      "source": [
        "Ninth Model: KNeighbors Classifier"
      ],
      "metadata": {
        "id": "a_xDT6TK79Od"
      }
    },
    {
      "cell_type": "code",
      "source": [
        "model9= KNeighborsClassifier()\n",
        "model9.fit(X_train_resampled, y_train_resampled)\n",
        "y_pred9= model9.predict(X_test_scaled)\n"
      ],
      "metadata": {
        "id": "vRVydm6D79Od"
      },
      "execution_count": null,
      "outputs": []
    },
    {
      "cell_type": "code",
      "source": [
        "print(classification_report(y_test,y_pred9))\n",
        "print(balanced_accuracy_score(y_test,y_pred9))"
      ],
      "metadata": {
        "id": "l68mq4i579Od",
        "colab": {
          "base_uri": "https://localhost:8080/"
        },
        "outputId": "c130ccdd-2742-4268-b5bc-85e1843d3a14"
      },
      "execution_count": null,
      "outputs": [
        {
          "output_type": "stream",
          "name": "stdout",
          "text": [
            "              precision    recall  f1-score   support\n",
            "\n",
            "           0       0.74      0.57      0.64       678\n",
            "           1       0.58      0.56      0.57       498\n",
            "           2       0.14      0.39      0.20        94\n",
            "\n",
            "    accuracy                           0.55      1270\n",
            "   macro avg       0.49      0.51      0.47      1270\n",
            "weighted avg       0.63      0.55      0.58      1270\n",
            "\n",
            "0.5070571623089357\n"
          ]
        }
      ]
    },
    {
      "cell_type": "code",
      "source": [
        "cm= confusion_matrix(y_test,y_pred9,labels= model9.classes_)\n",
        "disp= ConfusionMatrixDisplay(confusion_matrix=cm, display_labels=model9.classes_)\n",
        "disp= disp.plot(include_values= True, cmap=plt.cm.Blues)\n",
        "plt.grid(False)\n",
        "plt.show()"
      ],
      "metadata": {
        "id": "V2qPT6gz79Od",
        "colab": {
          "base_uri": "https://localhost:8080/",
          "height": 279
        },
        "outputId": "6d5fcd2f-c18d-492e-a2e9-a20f93ea5979"
      },
      "execution_count": null,
      "outputs": [
        {
          "output_type": "display_data",
          "data": {
            "text/plain": [
              "<Figure size 432x288 with 2 Axes>"
            ],
            "image/png": "[encoded data removed]"
          },
          "metadata": {
            "needs_background": "light"
          }
        }
      ]
    },
    {
      "cell_type": "markdown",
      "source": [
        "Tenth Model: Bagging Classifier"
      ],
      "metadata": {
        "id": "66RtXYFr79Od"
      }
    },
    {
      "cell_type": "code",
      "source": [
        "model10= BaggingClassifier(base_estimator=RandomForestClassifier(random_state=42),n_estimators=10,random_state=42)\n",
        "model10.fit(X_train_resampled, y_train_resampled)\n",
        "y_pred10= model10.predict(X_test_scaled)\n"
      ],
      "metadata": {
        "id": "WgKo74Hi79Od"
      },
      "execution_count": null,
      "outputs": []
    },
    {
      "cell_type": "code",
      "source": [
        "print(classification_report(y_test,y_pred10))\n",
        "print(balanced_accuracy_score(y_test,y_pred10))"
      ],
      "metadata": {
        "id": "A5HOYfqr79Od",
        "colab": {
          "base_uri": "https://localhost:8080/"
        },
        "outputId": "445daf3f-a4b3-44da-ad11-88f1201c3a58"
      },
      "execution_count": null,
      "outputs": [
        {
          "output_type": "stream",
          "name": "stdout",
          "text": [
            "              precision    recall  f1-score   support\n",
            "\n",
            "           0       0.76      0.69      0.72       678\n",
            "           1       0.64      0.60      0.62       498\n",
            "           2       0.17      0.32      0.22        94\n",
            "\n",
            "    accuracy                           0.63      1270\n",
            "   macro avg       0.52      0.54      0.52      1270\n",
            "weighted avg       0.67      0.63      0.64      1270\n",
            "\n",
            "0.5379440311928692\n"
          ]
        }
      ]
    },
    {
      "cell_type": "code",
      "source": [
        "cm= confusion_matrix(y_test,y_pred10,labels= model10.classes_)\n",
        "disp= ConfusionMatrixDisplay(confusion_matrix=cm, display_labels=model10.classes_)\n",
        "disp= disp.plot(include_values= True, cmap=plt.cm.Blues)\n",
        "plt.grid(False)\n",
        "plt.show()"
      ],
      "metadata": {
        "id": "5pfOlWpY79Oe",
        "colab": {
          "base_uri": "https://localhost:8080/"
        },
        "outputId": "218d62df-05d7-4129-f0f6-21964bc44369"
      },
      "execution_count": null,
      "outputs": [
        {
          "output_type": "display_data",
          "data": {
            "text/plain": [
              "<Figure size 432x288 with 2 Axes>"
            ],
            "image/png": "[encoded data removed]"
          },
          "metadata": {
            "needs_background": "light"
          }
        }
      ]
    },
    {
      "cell_type": "markdown",
      "source": [
        "Eleventh Model: Stacking Classifier"
      ],
      "metadata": {
        "id": "V9vOFBWN79Oe"
      }
    },
    {
      "cell_type": "code",
      "source": [
        "def get_stack_model():\n",
        "  level0 = list()\n",
        "  level0.append(('lr', LogisticRegression(max_iter=2000,random_state=42)))\n",
        "  level0.append(('knn', KNeighborsClassifier()))\n",
        "  level0.append(('cart', DecisionTreeClassifier(random_state=42)))\n",
        "  level0.append(('svm', svm.SVC(kernel='rbf', gamma='auto',decision_function_shape='ovr', random_state=42)))\n",
        "  level0.append(('bayes', GaussianNB()))\n",
        "  level0.append(('gboosting', GradientBoostingClassifier(random_state=42)))\n",
        "  level0.append(('rforest', RandomForestClassifier(random_state=42)))\n",
        "  level0.append(('adaboost', AdaBoostClassifier(random_state=42)))\n",
        "  level1 = LogisticRegression(max_iter=2000,random_state=42)\n",
        "  model = StackingClassifier(estimators=level0, final_estimator=level1, cv=5)\n",
        "  return model"
      ],
      "metadata": {
        "id": "TlVheBed79Oe"
      },
      "execution_count": null,
      "outputs": []
    },
    {
      "cell_type": "code",
      "source": [
        "model11=get_stack_model()\n",
        "model11.fit(X_train_resampled, y_train_resampled)\n",
        "y_pred11= model11.predict(X_test_scaled)"
      ],
      "metadata": {
        "id": "Doqq9dzU79Oe"
      },
      "execution_count": null,
      "outputs": []
    },
    {
      "cell_type": "code",
      "source": [
        "print(classification_report(y_test,y_pred11))\n",
        "print(balanced_accuracy_score(y_test,y_pred11))"
      ],
      "metadata": {
        "id": "xpSq__GD79Oe",
        "colab": {
          "base_uri": "https://localhost:8080/"
        },
        "outputId": "552c1e1d-81b7-43c7-bf8d-3e7611054679"
      },
      "execution_count": null,
      "outputs": [
        {
          "output_type": "stream",
          "name": "stdout",
          "text": [
            "              precision    recall  f1-score   support\n",
            "\n",
            "           0       0.73      0.72      0.73       678\n",
            "           1       0.62      0.61      0.62       498\n",
            "           2       0.20      0.23      0.21        94\n",
            "\n",
            "    accuracy                           0.64      1270\n",
            "   macro avg       0.52      0.52      0.52      1270\n",
            "weighted avg       0.65      0.64      0.65      1270\n",
            "\n",
            "0.5235603809829162\n"
          ]
        }
      ]
    },
    {
      "cell_type": "code",
      "source": [
        "cm= confusion_matrix(y_test,y_pred11,labels= model11.classes_)\n",
        "disp= ConfusionMatrixDisplay(confusion_matrix=cm, display_labels=model11.classes_)\n",
        "disp= disp.plot(include_values= True, cmap=plt.cm.Blues)\n",
        "plt.grid(False)\n",
        "plt.show()"
      ],
      "metadata": {
        "id": "ihDxMUk279Oe",
        "colab": {
          "base_uri": "https://localhost:8080/"
        },
        "outputId": "b2e69f40-b5c7-4706-e952-9fb2ce6af53f"
      },
      "execution_count": null,
      "outputs": [
        {
          "output_type": "display_data",
          "data": {
            "text/plain": [
              "<Figure size 432x288 with 2 Axes>"
            ],
            "image/png": "[encoded data removed]"
          },
          "metadata": {
            "needs_background": "light"
          }
        }
      ]
    }
  ]
}