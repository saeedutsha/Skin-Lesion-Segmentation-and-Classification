{
  "cells": [
    {
      "cell_type": "markdown",
      "metadata": {
        "id": "Lw7XZ4yzh7Jm"
      },
      "source": [
        "### **Mount Google Drive/Parent Directory**"
      ]
    },
    {
      "cell_type": "code",
      "execution_count": null,
      "metadata": {
        "colab": {
          "base_uri": "https://localhost:8080/"
        },
        "id": "WU-TDjsOcfqG",
        "outputId": "a73dbce9-d512-4c98-c50b-e19d559f0c41"
      },
      "outputs": [
        {
          "output_type": "stream",
          "name": "stdout",
          "text": [
            "Mounted at /content/drive/\n"
          ]
        }
      ],
      "source": [
        "from google.colab import drive\n",
        "drive.mount('/content/drive/')"
      ]
    },
    {
      "cell_type": "markdown",
      "metadata": {
        "id": "CECUi9j5wmRu"
      },
      "source": [
        "### **Install and Import Libraries**"
      ]
    },
    {
      "cell_type": "code",
      "execution_count": null,
      "metadata": {
        "id": "tHB3nA8nwq90"
      },
      "outputs": [],
      "source": [
        "import random\n",
        "import torch\n",
        "import torchvision\n",
        "import torch.nn as nn\n",
        "import torch.nn.functional as F\n",
        "from torch.functional import Tensor\n",
        "import torch.optim as optim\n",
        "import torchvision.transforms as transforms\n",
        "import torchvision.datasets as datasets\n",
        "import torchvision.transforms.functional as TF\n",
        "from torch.utils.data import Dataset, DataLoader\n",
        "from torch.nn.modules.activation import ReLU\n",
        "from sklearn.model_selection import StratifiedShuffleSplit\n",
        "from sklearn.cluster import KMeans\n",
        "from scipy.ndimage.filters import median_filter\n",
        "from skimage.morphology import disk\n",
        "import seaborn as sns\n",
        "import pickle\n",
        "from torch.nn.modules.batchnorm import BatchNorm2d\n",
        "import torch.optim as optim\n",
        "from tqdm import tqdm\n",
        "from google.colab import drive\n",
        "\n",
        "\n",
        "import os\n",
        "import cv2\n",
        "import copy\n",
        "import pandas as pd\n",
        "from PIL import Image\n",
        "import numpy as np\n",
        "from matplotlib import pyplot as plt\n",
        "from glob import glob\n",
        "from google.colab.patches import cv2_imshow\n",
        "from sklearn.metrics import jaccard_score\n",
        "import random\n",
        "import torch\n",
        "from sklearn import svm\n",
        "from sklearn.preprocessing import StandardScaler\n",
        "from scipy.cluster.vq import vq\n",
        "import torchvision\n",
        "import torch.nn as nn\n",
        "import torch.nn.functional as F\n",
        "from torch.functional import Tensor\n",
        "import torch.optim as optim\n",
        "import torchvision.transforms as transforms\n",
        "import torchvision.datasets as datasets\n",
        "from scipy.stats import kurtosis, skew\n",
        "import torchvision.transforms.functional as TF\n",
        "from sklearn.metrics import confusion_matrix, ConfusionMatrixDisplay\n",
        "from torch.utils.data import Dataset, DataLoader\n",
        "from torch.nn.modules.activation import ReLU\n",
        "from sklearn.metrics import classification_report, balanced_accuracy_score\n",
        "from sklearn.linear_model import LogisticRegression\n",
        "from scipy.stats import kurtosis, skew\n",
        "from sklearn.ensemble import AdaBoostClassifier\n",
        "from sklearn.multiclass import OneVsRestClassifier\n",
        "from sklearn.ensemble import RandomForestClassifier\n",
        "from xgboost import XGBClassifier\n",
        "from sklearn.tree import DecisionTreeClassifier\n",
        "from sklearn.ensemble import GradientBoostingClassifier\n",
        "from sklearn.ensemble import StackingClassifier\n",
        "from sklearn.ensemble import BaggingClassifier\n",
        "from sklearn.naive_bayes import GaussianNB\n",
        "from sklearn.neighbors import KNeighborsClassifier\n",
        "from sklearn.model_selection import StratifiedShuffleSplit\n",
        "import seaborn as sns\n",
        "import pickle\n",
        "from torch.nn.modules.batchnorm import BatchNorm2d\n",
        "import torch.optim as optim\n",
        "from tqdm import tqdm\n",
        "from google.colab import drive\n",
        "from pathlib import Path\n",
        "from sklearn.utils import shuffle"
      ]
    },
    {
      "cell_type": "markdown",
      "metadata": {
        "id": "UfhtOLLv2xTW"
      },
      "source": [
        "### **Dataset Loading**"
      ]
    },
    {
      "cell_type": "code",
      "execution_count": null,
      "metadata": {
        "id": "MVllTV8IBp5q"
      },
      "outputs": [],
      "source": [
        "# ############ Working With Smaller Datset ############\n",
        "# ###################### RUN ONCE #########################\n",
        "# ## Collecting the path and labels from the dataset\n",
        "# train_nevus= sorted(glob(os.path.join(train_directory, \"nevus\", \"*.jpg\")))\n",
        "# train_others= sorted(glob(os.path.join(train_directory, \"others\",\"*.jpg\")))\n",
        "# tags_nevus_train = []\n",
        "# tags_others_train = []\n",
        "# tags_train = []\n",
        "# labels_nevus = []\n",
        "# labels_others = []\n",
        "# labels_train = []\n",
        "# routes_train = []\n",
        "# for i in range(len(train_nevus)):\n",
        "#   tags_nevus_train.append(train_nevus[i][-12:])\n",
        "#   labels_nevus.append(0)\n",
        "# for i in range(len(train_others)):\n",
        "#   tags_others_train.append(train_others[i][-12:])\n",
        "#   labels_others.append(1)\n",
        "\n",
        "# ## Combining the tags and labels from all the classes\n",
        "# tags_train = tags_nevus_train[1:1500] + tags_others_train[1:1500]\n",
        "# labels_train= labels_nevus[1:1500] + labels_others[1:1500]\n",
        "# routes_train = train_nevus[1:1500] + train_others[1:1500]\n",
        "\n",
        "# ## Writing to CSV File\n",
        "# training_set = pd.DataFrame.from_dict({'Image Tag':tags_train, 'Label': labels_train, 'Image Route': routes_train})\n",
        "# training_set = training_set.sample(frac=1,random_state=42).reset_index(drop=True)\n",
        "# training_set.to_csv(input_directory+'/training_set3000.csv')"
      ]
    },
    {
      "cell_type": "code",
      "execution_count": null,
      "metadata": {
        "id": "F21gKSwG6766"
      },
      "outputs": [],
      "source": [
        "def dataExtraction(directory, vocab):\n",
        "\n",
        "  scc_aug= sorted(glob(os.path.join(directory, \"scc\", \"*.jpg\")))\n",
        "  mel_aug = sorted(glob(os.path.join(directory, \"mel\", \"*.jpg\")))\n",
        "  bcc_aug = sorted(glob(os.path.join(directory, \"bcc\", \"*.jpg\")))\n",
        "\n",
        "  scc = []\n",
        "  bcc = []\n",
        "  mel = []\n",
        "\n",
        "  for bcc_data in bcc_aug:\n",
        "    if 'aug' not in bcc_data:\n",
        "      bcc.append(bcc_data)\n",
        "  for mel_data in mel_aug:\n",
        "    if 'aug' not in mel_data:\n",
        "      mel.append(mel_data)\n",
        "  for scc_data in scc_aug:\n",
        "    if 'aug' not in scc_data:\n",
        "      scc.append(scc_data)\n",
        "\n",
        "  if(vocab==True):\n",
        "    scc = scc[0:100]\n",
        "    mel = mel[0:100]\n",
        "    bcc = bcc[0:100]\n",
        "  tags_scc = []\n",
        "  tags_mel = []\n",
        "  tags_bcc = []\n",
        "  tags_total = []\n",
        "  labels_scc = []\n",
        "  labels_mel = []\n",
        "  labels_bcc = []\n",
        "  labels_total = []\n",
        "  routes_total = []\n",
        "  for i in range(len(mel)):\n",
        "    tags_mel.append(mel[i][-12:])\n",
        "    labels_mel.append(0)\n",
        "  for i in range(len(bcc)):\n",
        "    tags_bcc.append(bcc[i][-12:])\n",
        "    labels_bcc.append(1)\n",
        "  for i in range(len(scc)):\n",
        "    tags_scc.append(scc[i][-12:])\n",
        "    labels_scc.append(2)\n",
        "  ## Combining the tags and labels from all the classes\n",
        "  tags_total = tags_scc + tags_mel + tags_bcc\n",
        "  labels_total= labels_scc + labels_mel + labels_bcc\n",
        "  routes_total = scc + mel + bcc\n",
        "\n",
        "  return tags_total, labels_total, routes_total"
      ]
    },
    {
      "cell_type": "code",
      "execution_count": null,
      "metadata": {
        "id": "k_72fPqUXUBs"
      },
      "outputs": [],
      "source": [
        "# Directories\n",
        "input_directory = '/content/drive/MyDrive/Colab Notebooks/CAD Project/Dataset/Three Class Problem Preprocessed'\n",
        "train_directory = input_directory+'/train' \n",
        "val_directory = input_directory+'/val'"
      ]
    },
    {
      "cell_type": "markdown",
      "metadata": {
        "id": "9ZH3sNFu5yZD"
      },
      "source": [
        "**Training Dataset**"
      ]
    },
    {
      "cell_type": "code",
      "execution_count": null,
      "metadata": {
        "id": "bI_1LFEWG85E"
      },
      "outputs": [],
      "source": [
        "## Writing to CSV File\n",
        "tags_train, labels_train, routes_train = dataExtraction(train_directory, vocab=False)\n",
        "training_set= pd.DataFrame.from_dict({'Image Tag':tags_train, 'Label': labels_train, 'Image Route': routes_train})\n",
        "training_set= training_set.sample(frac=1,random_state=42).reset_index(drop=True)\n",
        "training_set.to_csv(input_directory+'/Data/training_set.csv')"
      ]
    },
    {
      "cell_type": "code",
      "source": [
        "## Writing to CSV File For Vocabulary\n",
        "vocab_tags_train, vocab_labels_train, vocab_routes_train = dataExtraction(train_directory, vocab=True)\n",
        "vocab_training_set= pd.DataFrame.from_dict({'Image Tag':vocab_tags_train, 'Label': vocab_labels_train, 'Image Route': vocab_routes_train})\n",
        "vocab_training_set= vocab_training_set.sample(frac=1,random_state=42).reset_index(drop=True)\n",
        "vocab_training_set.to_csv(input_directory+'/Data/vocab_training_set.csv')"
      ],
      "metadata": {
        "id": "haxr0BhAG6uk"
      },
      "execution_count": null,
      "outputs": []
    },
    {
      "cell_type": "markdown",
      "metadata": {
        "id": "LMiBFfZ758Ig"
      },
      "source": [
        "**Validation Set**"
      ]
    },
    {
      "cell_type": "code",
      "execution_count": null,
      "metadata": {
        "id": "0bH9NXXJHiEL"
      },
      "outputs": [],
      "source": [
        "## Writing to CSV File\n",
        "tags_val, labels_val, routes_val = dataExtraction(val_directory, vocab=False)\n",
        "validation_set= pd.DataFrame.from_dict({'Image Tag':tags_val, 'Label': labels_val, 'Image Route': routes_val})\n",
        "validation_set= validation_set.sample(frac=1,random_state=42).reset_index(drop=True)\n",
        "validation_set.to_csv(input_directory+'/Data/validation_set.csv')"
      ]
    },
    {
      "cell_type": "code",
      "execution_count": null,
      "metadata": {
        "colab": {
          "base_uri": "https://localhost:8080/"
        },
        "id": "yrhLpCtsV5pc",
        "outputId": "4de7ef85-7391-46ab-d93c-0e66a947e316"
      },
      "outputs": [
        {
          "output_type": "stream",
          "name": "stdout",
          "text": [
            "5082\n",
            "1270\n",
            "300\n"
          ]
        }
      ],
      "source": [
        "## Checking\n",
        "print(len(training_set))\n",
        "print(len(validation_set))\n",
        "print(len(vocab_training_set))"
      ]
    },
    {
      "cell_type": "markdown",
      "metadata": {
        "id": "UcvHbvLd2p-g"
      },
      "source": [
        "### **Vocabulary Building : SIFT/BoW**"
      ]
    },
    {
      "cell_type": "code",
      "execution_count": null,
      "metadata": {
        "id": "j48m3CIh6Fs1"
      },
      "outputs": [],
      "source": [
        "training_csv_path = input_directory + '/Data/training_set.csv'\n",
        "validation_csv_path =  input_directory + '/Data/validation_set.csv'\n",
        "vocab_csv_path = input_directory + '/Data/vocab_training_set.csv'\n",
        "training_dataframe = pd.read_csv(training_csv_path)\n",
        "validation_dataframe = pd.read_csv(validation_csv_path)\n",
        "vocab_dataframe = pd.read_csv(vocab_csv_path)\n",
        "training_images_routes= training_dataframe['Image Route'].to_numpy()\n",
        "validation_images_routes= validation_dataframe['Image Route'].to_numpy()\n",
        "vocab_images_routes= vocab_dataframe['Image Route'].to_numpy()"
      ]
    },
    {
      "cell_type": "code",
      "execution_count": null,
      "metadata": {
        "colab": {
          "base_uri": "https://localhost:8080/"
        },
        "id": "5Cd5VFXbXXTZ",
        "outputId": "42c1f65d-77c9-431a-e8d1-810179b748f1"
      },
      "outputs": [
        {
          "output_type": "stream",
          "name": "stdout",
          "text": [
            "5082\n",
            "1270\n",
            "300\n"
          ]
        }
      ],
      "source": [
        "## Test Purpose\n",
        "print(len(training_images_routes))\n",
        "print(len(validation_images_routes))\n",
        "print(len(vocab_images_routes))"
      ]
    },
    {
      "cell_type": "markdown",
      "metadata": {
        "id": "avbMyx--iV4p"
      },
      "source": [
        "**Getting the Descriptors**"
      ]
    },
    {
      "cell_type": "code",
      "execution_count": null,
      "metadata": {
        "id": "6VHSc2wDMCvv"
      },
      "outputs": [],
      "source": [
        "def FeatureExtractionSIFT(image_routes):\n",
        "  descriptors_list = []\n",
        "  for i in image_routes:\n",
        "    #input image\n",
        "    image_read = cv2.imread(i)\n",
        "    dim = (512, 512)\n",
        "    # resize image\n",
        "    image_resized =  cv2.resize(image_read, dim, interpolation = cv2.INTER_AREA)\n",
        "    # cv2_imshow(image_resized)\n",
        "    image_gray = cv2.cvtColor(image_resized, cv2.COLOR_BGR2GRAY)\n",
        "    # cv2_imshow(image_gray)\n",
        "\n",
        "\n",
        "    # Dense Keypoints Extraction\n",
        "    sift = cv2.xfeatures2d.SIFT_create()\n",
        "    step_size = 20\n",
        "    keypoints = [cv2.KeyPoint(x, y, step_size) for y in range(0, image_gray.shape[0], step_size) for x in range(0, image_gray.shape[1], step_size) if (x>128 and x<384) and (y>128 and y<384)]\n",
        "    dense_descriptors = sift.compute(image_gray, keypoints)\n",
        "\n",
        "    # if dense_descriptors[1] is not None:\n",
        "    #   descriptors_list.append(dense_descriptors[1])\n",
        "    # else:\n",
        "    #     keypoints, sparse_descriptors = sift.detectAndCompute(image_gray, None)\n",
        "    #     if sparse_descriptors is not None:\n",
        "    #       descriptors_list.append(sparse_descriptors)\n",
        "    #     else:\n",
        "    #       step_size = 40\n",
        "    #       keypoints = [cv2.KeyPoint(x, y, step_size) for y in range(0, image_gray.shape[0], step_size) for x in range(0, image_gray.shape[1], step_size)]\n",
        "    #       random_descriptors = sift.compute(image_gray, keypoints)\n",
        "    #       descriptors_list.append(random_descriptors[1])\n",
        "\n",
        "\n",
        "    descriptors_list.append(dense_descriptors[1])\n",
        "    # draw the detected key points\n",
        "    # sift_image = cv2.drawKeypoints(image_resized, keypoints, image_resized)\n",
        "    # show the image\n",
        "    # cv2_imshow(sift_image)\n",
        "  return descriptors_list"
      ]
    },
    {
      "cell_type": "markdown",
      "metadata": {
        "id": "erYtd8Uvl8zD"
      },
      "source": [
        "### **Vocabulary Creation**"
      ]
    },
    {
      "cell_type": "code",
      "source": [
        "### Training Set SIFT Descriptors\n",
        "vocab_sift_descriptors_list = FeatureExtractionSIFT(vocab_images_routes)\n",
        "vocab_all_sift_descriptors = np.concatenate(vocab_sift_descriptors_list, axis=0)\n",
        "print('descriptors.shape: {}'.format(vocab_all_sift_descriptors.shape))"
      ],
      "metadata": {
        "colab": {
          "base_uri": "https://localhost:8080/"
        },
        "id": "Y5QW1WwmMPeS",
        "outputId": "0addc3f4-2e04-4668-8512-8c060353fbc0"
      },
      "execution_count": null,
      "outputs": [
        {
          "output_type": "stream",
          "name": "stdout",
          "text": [
            "descriptors.shape: (50700, 128)\n"
          ]
        }
      ]
    },
    {
      "cell_type": "code",
      "source": [
        "vocab_sift_descriptors_route = input_directory + '/Data/Pickles/smote_vocab_sift_descriptors_pp.p'\n",
        "with open(vocab_sift_descriptors_route, 'wb') as fp:\n",
        "  pickle.dump(vocab_all_sift_descriptors, fp)"
      ],
      "metadata": {
        "id": "yi6UsrI6MhUk"
      },
      "execution_count": null,
      "outputs": []
    },
    {
      "cell_type": "code",
      "source": [
        "vocab_sift_descriptors_route = input_directory + '/Data/Pickles/smote_vocab_sift_descriptors_pp.p'\n",
        "with open(vocab_sift_descriptors_route, 'rb') as fp:\n",
        "  vocab_all_sift_descriptors = pickle.load(fp)"
      ],
      "metadata": {
        "id": "XqhQTPfQMkct"
      },
      "execution_count": null,
      "outputs": []
    },
    {
      "cell_type": "markdown",
      "metadata": {
        "id": "U4B48VTjRNyN"
      },
      "source": [
        "### **K-Means Clustering for BoW**"
      ]
    },
    {
      "cell_type": "code",
      "execution_count": null,
      "metadata": {
        "id": "8-2RtJLSDbkz",
        "colab": {
          "base_uri": "https://localhost:8080/"
        },
        "outputId": "336c6718-1411-42b9-bccd-f1e8e2b6590b"
      },
      "outputs": [
        {
          "output_type": "stream",
          "name": "stdout",
          "text": [
            "sse is 2473051136.0\n"
          ]
        }
      ],
      "source": [
        "## Computing Bag Of Words With K-means Clustering\n",
        "num_clusters = 200\n",
        "kmeans = KMeans(n_clusters=num_clusters, random_state=41)\n",
        "kmeans.fit(vocab_all_sift_descriptors)\n",
        "# print(kmeans.labels_)\n",
        "# print(kmeans.cluster_centers_)\n",
        "print('sse is {}'.format(kmeans.inertia_))\n",
        "clusters = kmeans.cluster_centers_"
      ]
    },
    {
      "cell_type": "code",
      "execution_count": null,
      "metadata": {
        "id": "8IwTKGXOJMgX"
      },
      "outputs": [],
      "source": [
        "clusters_route = input_directory + '/Data/Pickles/smote_clusters_pp.p'\n",
        "with open(clusters_route, 'wb') as fp:\n",
        "  pickle.dump(clusters, fp)"
      ]
    },
    {
      "cell_type": "code",
      "execution_count": null,
      "metadata": {
        "id": "Imlor9ntS4fY"
      },
      "outputs": [],
      "source": [
        "clusters_route = input_directory + '/Data/Pickles/smote_clusters_pp.p'\n",
        "with open(clusters_route, 'rb') as fp:\n",
        "  clusters = pickle.load(fp)"
      ]
    },
    {
      "cell_type": "markdown",
      "metadata": {
        "id": "nigFGeOzUDy6"
      },
      "source": [
        "### **Training Set Feature Extraction**"
      ]
    },
    {
      "cell_type": "code",
      "source": [
        "### Training Set SIFT Descriptors\n",
        "training_sift_descriptors_list = FeatureExtractionSIFT(training_images_routes)\n",
        "training_all_sift_descriptors = np.concatenate(training_sift_descriptors_list, axis=0)\n",
        "print('descriptors.shape: {}'.format(training_all_sift_descriptors.shape))"
      ],
      "metadata": {
        "colab": {
          "base_uri": "https://localhost:8080/"
        },
        "outputId": "801d8df2-5b07-4a0a-cff7-3859ffe14c3a",
        "id": "MvdWvT3tbaDm"
      },
      "execution_count": null,
      "outputs": [
        {
          "output_type": "stream",
          "name": "stdout",
          "text": [
            "descriptors.shape: (858858, 128)\n"
          ]
        }
      ]
    },
    {
      "cell_type": "code",
      "source": [
        "training_sift_descriptors_route = input_directory + '/Data/Pickles/smote_training_sift_descriptors_pp.p'\n",
        "with open(training_sift_descriptors_route, 'wb') as fp:\n",
        "  pickle.dump(training_all_sift_descriptors, fp)"
      ],
      "metadata": {
        "id": "9yPyD8m5baDm"
      },
      "execution_count": null,
      "outputs": []
    },
    {
      "cell_type": "code",
      "source": [
        "training_sift_descriptors_route = input_directory + '/Data/Pickles/smote_training_sift_descriptors_pp.p'\n",
        "with open(training_sift_descriptors_route, 'rb') as fp:\n",
        "  training_all_sift_descriptors = pickle.load(fp)"
      ],
      "metadata": {
        "id": "NQXm_uqnbaDn"
      },
      "execution_count": null,
      "outputs": []
    },
    {
      "cell_type": "markdown",
      "metadata": {
        "id": "At9TF7kfVUj6"
      },
      "source": [
        "### **Validation Set Feature Extraction**"
      ]
    },
    {
      "cell_type": "code",
      "source": [
        "### Training Set SIFT Descriptors\n",
        "validation_sift_descriptors_list = FeatureExtractionSIFT(validation_images_routes)\n",
        "validation_all_sift_descriptors = np.concatenate(validation_sift_descriptors_list, axis=0)\n",
        "print('descriptors.shape: {}'.format(validation_all_sift_descriptors.shape))"
      ],
      "metadata": {
        "colab": {
          "base_uri": "https://localhost:8080/"
        },
        "outputId": "889593a6-6616-4e42-9833-c8ae20b63f5d",
        "id": "FSaYicJ2VUkG"
      },
      "execution_count": null,
      "outputs": [
        {
          "output_type": "stream",
          "name": "stdout",
          "text": [
            "descriptors.shape: (214630, 128)\n"
          ]
        }
      ]
    },
    {
      "cell_type": "code",
      "source": [
        "validation_sift_descriptors_route = input_directory + '/Data/Pickles/smote_validation_sift_descriptors_pp.p'\n",
        "with open(validation_sift_descriptors_route, 'wb') as fp:\n",
        "  pickle.dump(validation_all_sift_descriptors, fp)"
      ],
      "metadata": {
        "id": "Q8PxizNFVUkG"
      },
      "execution_count": null,
      "outputs": []
    },
    {
      "cell_type": "code",
      "source": [
        "validation_sift_descriptors_route = input_directory + '/Data/Pickles/smote_validation_sift_descriptors_pp.p'\n",
        "with open(validation_sift_descriptors_route, 'rb') as fp:\n",
        "  validation_all_sift_descriptors = pickle.load(fp)"
      ],
      "metadata": {
        "id": "e4g6vSd_VUkG"
      },
      "execution_count": null,
      "outputs": []
    },
    {
      "cell_type": "markdown",
      "source": [
        "### **Merge and Check**"
      ],
      "metadata": {
        "id": "3Vmcmbxt7qdl"
      }
    },
    {
      "cell_type": "code",
      "source": [
        "training_sift_descriptors_list = np.reshape(training_all_sift_descriptors, (len(training_images_routes),169,128))\n",
        "print(training_sift_descriptors_list.shape)\n",
        "validation_sift_descriptors_list = np.reshape(validation_all_sift_descriptors, (len(validation_images_routes),169,128))\n",
        "print(validation_sift_descriptors_list.shape)"
      ],
      "metadata": {
        "colab": {
          "base_uri": "https://localhost:8080/"
        },
        "id": "HqCkrOnG7wKW",
        "outputId": "c0b2d451-4c50-409d-e1a7-af9d55328641"
      },
      "execution_count": null,
      "outputs": [
        {
          "output_type": "stream",
          "name": "stdout",
          "text": [
            "(5082, 169, 128)\n",
            "(1270, 169, 128)\n"
          ]
        }
      ]
    },
    {
      "cell_type": "markdown",
      "metadata": {
        "id": "xYyR3hT5TEA9"
      },
      "source": [
        "### **Feature Histogram Computation**"
      ]
    },
    {
      "cell_type": "code",
      "execution_count": null,
      "metadata": {
        "id": "g4VpZEMXTIie"
      },
      "outputs": [],
      "source": [
        "def featureHistogram(descriptor_list, clusters):\n",
        "  code, _ = vq(descriptor_list, clusters)\n",
        "  features = np.zeros((1, clusters.shape[0]))\n",
        "  for x in code:\n",
        "    features[0, x] += 1\n",
        "  return features"
      ]
    },
    {
      "cell_type": "markdown",
      "metadata": {
        "id": "SLYwW8veUZC4"
      },
      "source": [
        "**Training Set**"
      ]
    },
    {
      "cell_type": "code",
      "source": [
        "train_features_list = []\n",
        "for i in range(len(training_images_routes)):\n",
        "  per_train_features_list = featureHistogram(training_sift_descriptors_list[i], clusters)\n",
        "  train_features_list.append(per_train_features_list)\n",
        "train_features = np.concatenate(train_features_list, axis=0)\n",
        "print('features all shape is: {}'.format(train_features.shape))\n"
      ],
      "metadata": {
        "colab": {
          "base_uri": "https://localhost:8080/"
        },
        "id": "0SmK2jR_IXJp",
        "outputId": "ff440357-9e21-4282-c713-93d297eb215f"
      },
      "execution_count": null,
      "outputs": [
        {
          "output_type": "stream",
          "name": "stdout",
          "text": [
            "features all shape is: (5082, 200)\n"
          ]
        }
      ]
    },
    {
      "cell_type": "code",
      "execution_count": null,
      "metadata": {
        "id": "aYxsiLenG-xO"
      },
      "outputs": [],
      "source": [
        "train_features_all_route = input_directory + '/Data/Pickles/smote_train_features_pp.p'\n",
        "with open(train_features_all_route, 'wb') as fp:\n",
        "  pickle.dump(train_features, fp)"
      ]
    },
    {
      "cell_type": "code",
      "execution_count": null,
      "metadata": {
        "id": "kD52lDl1WelE"
      },
      "outputs": [],
      "source": [
        "train_features_all_route = input_directory + '/Data/Pickles/smote_train_features_pp.p'\n",
        "with open(train_features_all_route, 'rb') as fp:\n",
        "  train_features = pickle.load(fp)"
      ]
    },
    {
      "cell_type": "code",
      "execution_count": null,
      "metadata": {
        "id": "Ns_nOmsUXBSM",
        "colab": {
          "base_uri": "https://localhost:8080/"
        },
        "outputId": "f19b107a-416c-4a04-aaaa-f74d9f775aac"
      },
      "outputs": [
        {
          "output_type": "execute_result",
          "data": {
            "text/plain": [
              "           0         1         2         3        4         5         6    \\\n",
              "0     0.000000  0.005917  0.000000  0.000000  0.00000  0.000000  0.000000   \n",
              "1     0.000000  0.011834  0.000000  0.000000  0.04142  0.000000  0.000000   \n",
              "2     0.011834  0.000000  0.000000  0.017751  0.00000  0.000000  0.000000   \n",
              "3     0.000000  0.011834  0.005917  0.000000  0.00000  0.053254  0.005917   \n",
              "4     0.000000  0.000000  0.023669  0.005917  0.00000  0.000000  0.005917   \n",
              "...        ...       ...       ...       ...      ...       ...       ...   \n",
              "5077  0.000000  0.005917  0.005917  0.000000  0.00000  0.000000  0.000000   \n",
              "5078  0.000000  0.000000  0.000000  0.000000  0.00000  0.000000  0.000000   \n",
              "5079  0.000000  0.000000  0.000000  0.000000  0.00000  0.000000  0.005917   \n",
              "5080  0.000000  0.005917  0.000000  0.000000  0.00000  0.011834  0.000000   \n",
              "5081  0.000000  0.000000  0.000000  0.000000  0.00000  0.000000  0.005917   \n",
              "\n",
              "           7         8         9    ...       190       191       192  \\\n",
              "0     0.000000  0.000000  0.000000  ...  0.017751  0.011834  0.000000   \n",
              "1     0.029586  0.000000  0.000000  ...  0.000000  0.000000  0.005917   \n",
              "2     0.029586  0.000000  0.005917  ...  0.000000  0.000000  0.005917   \n",
              "3     0.000000  0.000000  0.011834  ...  0.000000  0.000000  0.000000   \n",
              "4     0.000000  0.011834  0.005917  ...  0.000000  0.047337  0.000000   \n",
              "...        ...       ...       ...  ...       ...       ...       ...   \n",
              "5077  0.011834  0.000000  0.000000  ...  0.000000  0.017751  0.011834   \n",
              "5078  0.000000  0.000000  0.000000  ...  0.000000  0.000000  0.000000   \n",
              "5079  0.000000  0.000000  0.005917  ...  0.000000  0.011834  0.011834   \n",
              "5080  0.000000  0.000000  0.000000  ...  0.000000  0.000000  0.000000   \n",
              "5081  0.017751  0.000000  0.017751  ...  0.011834  0.000000  0.017751   \n",
              "\n",
              "           193       194       195  196       197       198       199  \n",
              "0     0.005917  0.005917  0.000000  0.0  0.023669  0.000000  0.000000  \n",
              "1     0.023669  0.000000  0.035503  0.0  0.005917  0.000000  0.000000  \n",
              "2     0.017751  0.000000  0.000000  0.0  0.000000  0.000000  0.000000  \n",
              "3     0.000000  0.005917  0.000000  0.0  0.000000  0.000000  0.000000  \n",
              "4     0.000000  0.000000  0.005917  0.0  0.000000  0.000000  0.005917  \n",
              "...        ...       ...       ...  ...       ...       ...       ...  \n",
              "5077  0.023669  0.005917  0.000000  0.0  0.000000  0.000000  0.000000  \n",
              "5078  0.000000  0.000000  0.000000  0.0  0.000000  0.000000  0.000000  \n",
              "5079  0.000000  0.023669  0.000000  0.0  0.017751  0.011834  0.011834  \n",
              "5080  0.000000  0.000000  0.000000  0.0  0.000000  0.000000  0.000000  \n",
              "5081  0.000000  0.017751  0.011834  0.0  0.000000  0.005917  0.000000  \n",
              "\n",
              "[5082 rows x 200 columns]"
            ],
            "text/html": [
              "\n",
              "  <div id=\"df-9612e7d8-2e43-4029-a15c-7a0f276626f8\">\n",
              "    <div class=\"colab-df-container\">\n",
              "      <div>\n",
              "<style scoped>\n",
              "    .dataframe tbody tr th:only-of-type {\n",
              "        vertical-align: middle;\n",
              "    }\n",
              "\n",
              "    .dataframe tbody tr th {\n",
              "        vertical-align: top;\n",
              "    }\n",
              "\n",
              "    .dataframe thead th {\n",
              "        text-align: right;\n",
              "    }\n",
              "</style>\n",
              "<table border=\"1\" class=\"dataframe\">\n",
              "  <thead>\n",
              "    <tr style=\"text-align: right;\">\n",
              "      <th></th>\n",
              "      <th>0</th>\n",
              "      <th>1</th>\n",
              "      <th>2</th>\n",
              "      <th>3</th>\n",
              "      <th>4</th>\n",
              "      <th>5</th>\n",
              "      <th>6</th>\n",
              "      <th>7</th>\n",
              "      <th>8</th>\n",
              "      <th>9</th>\n",
              "      <th>...</th>\n",
              "      <th>190</th>\n",
              "      <th>191</th>\n",
              "      <th>192</th>\n",
              "      <th>193</th>\n",
              "      <th>194</th>\n",
              "      <th>195</th>\n",
              "      <th>196</th>\n",
              "      <th>197</th>\n",
              "      <th>198</th>\n",
              "      <th>199</th>\n",
              "    </tr>\n",
              "  </thead>\n",
              "  <tbody>\n",
              "    <tr>\n",
              "      <th>0</th>\n",
              "      <td>0.000000</td>\n",
              "      <td>0.005917</td>\n",
              "      <td>0.000000</td>\n",
              "      <td>0.000000</td>\n",
              "      <td>0.00000</td>\n",
              "      <td>0.000000</td>\n",
              "      <td>0.000000</td>\n",
              "      <td>0.000000</td>\n",
              "      <td>0.000000</td>\n",
              "      <td>0.000000</td>\n",
              "      <td>...</td>\n",
              "      <td>0.017751</td>\n",
              "      <td>0.011834</td>\n",
              "      <td>0.000000</td>\n",
              "      <td>0.005917</td>\n",
              "      <td>0.005917</td>\n",
              "      <td>0.000000</td>\n",
              "      <td>0.0</td>\n",
              "      <td>0.023669</td>\n",
              "      <td>0.000000</td>\n",
              "      <td>0.000000</td>\n",
              "    </tr>\n",
              "    <tr>\n",
              "      <th>1</th>\n",
              "      <td>0.000000</td>\n",
              "      <td>0.011834</td>\n",
              "      <td>0.000000</td>\n",
              "      <td>0.000000</td>\n",
              "      <td>0.04142</td>\n",
              "      <td>0.000000</td>\n",
              "      <td>0.000000</td>\n",
              "      <td>0.029586</td>\n",
              "      <td>0.000000</td>\n",
              "      <td>0.000000</td>\n",
              "      <td>...</td>\n",
              "      <td>0.000000</td>\n",
              "      <td>0.000000</td>\n",
              "      <td>0.005917</td>\n",
              "      <td>0.023669</td>\n",
              "      <td>0.000000</td>\n",
              "      <td>0.035503</td>\n",
              "      <td>0.0</td>\n",
              "      <td>0.005917</td>\n",
              "      <td>0.000000</td>\n",
              "      <td>0.000000</td>\n",
              "    </tr>\n",
              "    <tr>\n",
              "      <th>2</th>\n",
              "      <td>0.011834</td>\n",
              "      <td>0.000000</td>\n",
              "      <td>0.000000</td>\n",
              "      <td>0.017751</td>\n",
              "      <td>0.00000</td>\n",
              "      <td>0.000000</td>\n",
              "      <td>0.000000</td>\n",
              "      <td>0.029586</td>\n",
              "      <td>0.000000</td>\n",
              "      <td>0.005917</td>\n",
              "      <td>...</td>\n",
              "      <td>0.000000</td>\n",
              "      <td>0.000000</td>\n",
              "      <td>0.005917</td>\n",
              "      <td>0.017751</td>\n",
              "      <td>0.000000</td>\n",
              "      <td>0.000000</td>\n",
              "      <td>0.0</td>\n",
              "      <td>0.000000</td>\n",
              "      <td>0.000000</td>\n",
              "      <td>0.000000</td>\n",
              "    </tr>\n",
              "    <tr>\n",
              "      <th>3</th>\n",
              "      <td>0.000000</td>\n",
              "      <td>0.011834</td>\n",
              "      <td>0.005917</td>\n",
              "      <td>0.000000</td>\n",
              "      <td>0.00000</td>\n",
              "      <td>0.053254</td>\n",
              "      <td>0.005917</td>\n",
              "      <td>0.000000</td>\n",
              "      <td>0.000000</td>\n",
              "      <td>0.011834</td>\n",
              "      <td>...</td>\n",
              "      <td>0.000000</td>\n",
              "      <td>0.000000</td>\n",
              "      <td>0.000000</td>\n",
              "      <td>0.000000</td>\n",
              "      <td>0.005917</td>\n",
              "      <td>0.000000</td>\n",
              "      <td>0.0</td>\n",
              "      <td>0.000000</td>\n",
              "      <td>0.000000</td>\n",
              "      <td>0.000000</td>\n",
              "    </tr>\n",
              "    <tr>\n",
              "      <th>4</th>\n",
              "      <td>0.000000</td>\n",
              "      <td>0.000000</td>\n",
              "      <td>0.023669</td>\n",
              "      <td>0.005917</td>\n",
              "      <td>0.00000</td>\n",
              "      <td>0.000000</td>\n",
              "      <td>0.005917</td>\n",
              "      <td>0.000000</td>\n",
              "      <td>0.011834</td>\n",
              "      <td>0.005917</td>\n",
              "      <td>...</td>\n",
              "      <td>0.000000</td>\n",
              "      <td>0.047337</td>\n",
              "      <td>0.000000</td>\n",
              "      <td>0.000000</td>\n",
              "      <td>0.000000</td>\n",
              "      <td>0.005917</td>\n",
              "      <td>0.0</td>\n",
              "      <td>0.000000</td>\n",
              "      <td>0.000000</td>\n",
              "      <td>0.005917</td>\n",
              "    </tr>\n",
              "    <tr>\n",
              "      <th>...</th>\n",
              "      <td>...</td>\n",
              "      <td>...</td>\n",
              "      <td>...</td>\n",
              "      <td>...</td>\n",
              "      <td>...</td>\n",
              "      <td>...</td>\n",
              "      <td>...</td>\n",
              "      <td>...</td>\n",
              "      <td>...</td>\n",
              "      <td>...</td>\n",
              "      <td>...</td>\n",
              "      <td>...</td>\n",
              "      <td>...</td>\n",
              "      <td>...</td>\n",
              "      <td>...</td>\n",
              "      <td>...</td>\n",
              "      <td>...</td>\n",
              "      <td>...</td>\n",
              "      <td>...</td>\n",
              "      <td>...</td>\n",
              "      <td>...</td>\n",
              "    </tr>\n",
              "    <tr>\n",
              "      <th>5077</th>\n",
              "      <td>0.000000</td>\n",
              "      <td>0.005917</td>\n",
              "      <td>0.005917</td>\n",
              "      <td>0.000000</td>\n",
              "      <td>0.00000</td>\n",
              "      <td>0.000000</td>\n",
              "      <td>0.000000</td>\n",
              "      <td>0.011834</td>\n",
              "      <td>0.000000</td>\n",
              "      <td>0.000000</td>\n",
              "      <td>...</td>\n",
              "      <td>0.000000</td>\n",
              "      <td>0.017751</td>\n",
              "      <td>0.011834</td>\n",
              "      <td>0.023669</td>\n",
              "      <td>0.005917</td>\n",
              "      <td>0.000000</td>\n",
              "      <td>0.0</td>\n",
              "      <td>0.000000</td>\n",
              "      <td>0.000000</td>\n",
              "      <td>0.000000</td>\n",
              "    </tr>\n",
              "    <tr>\n",
              "      <th>5078</th>\n",
              "      <td>0.000000</td>\n",
              "      <td>0.000000</td>\n",
              "      <td>0.000000</td>\n",
              "      <td>0.000000</td>\n",
              "      <td>0.00000</td>\n",
              "      <td>0.000000</td>\n",
              "      <td>0.000000</td>\n",
              "      <td>0.000000</td>\n",
              "      <td>0.000000</td>\n",
              "      <td>0.000000</td>\n",
              "      <td>...</td>\n",
              "      <td>0.000000</td>\n",
              "      <td>0.000000</td>\n",
              "      <td>0.000000</td>\n",
              "      <td>0.000000</td>\n",
              "      <td>0.000000</td>\n",
              "      <td>0.000000</td>\n",
              "      <td>0.0</td>\n",
              "      <td>0.000000</td>\n",
              "      <td>0.000000</td>\n",
              "      <td>0.000000</td>\n",
              "    </tr>\n",
              "    <tr>\n",
              "      <th>5079</th>\n",
              "      <td>0.000000</td>\n",
              "      <td>0.000000</td>\n",
              "      <td>0.000000</td>\n",
              "      <td>0.000000</td>\n",
              "      <td>0.00000</td>\n",
              "      <td>0.000000</td>\n",
              "      <td>0.005917</td>\n",
              "      <td>0.000000</td>\n",
              "      <td>0.000000</td>\n",
              "      <td>0.005917</td>\n",
              "      <td>...</td>\n",
              "      <td>0.000000</td>\n",
              "      <td>0.011834</td>\n",
              "      <td>0.011834</td>\n",
              "      <td>0.000000</td>\n",
              "      <td>0.023669</td>\n",
              "      <td>0.000000</td>\n",
              "      <td>0.0</td>\n",
              "      <td>0.017751</td>\n",
              "      <td>0.011834</td>\n",
              "      <td>0.011834</td>\n",
              "    </tr>\n",
              "    <tr>\n",
              "      <th>5080</th>\n",
              "      <td>0.000000</td>\n",
              "      <td>0.005917</td>\n",
              "      <td>0.000000</td>\n",
              "      <td>0.000000</td>\n",
              "      <td>0.00000</td>\n",
              "      <td>0.011834</td>\n",
              "      <td>0.000000</td>\n",
              "      <td>0.000000</td>\n",
              "      <td>0.000000</td>\n",
              "      <td>0.000000</td>\n",
              "      <td>...</td>\n",
              "      <td>0.000000</td>\n",
              "      <td>0.000000</td>\n",
              "      <td>0.000000</td>\n",
              "      <td>0.000000</td>\n",
              "      <td>0.000000</td>\n",
              "      <td>0.000000</td>\n",
              "      <td>0.0</td>\n",
              "      <td>0.000000</td>\n",
              "      <td>0.000000</td>\n",
              "      <td>0.000000</td>\n",
              "    </tr>\n",
              "    <tr>\n",
              "      <th>5081</th>\n",
              "      <td>0.000000</td>\n",
              "      <td>0.000000</td>\n",
              "      <td>0.000000</td>\n",
              "      <td>0.000000</td>\n",
              "      <td>0.00000</td>\n",
              "      <td>0.000000</td>\n",
              "      <td>0.005917</td>\n",
              "      <td>0.017751</td>\n",
              "      <td>0.000000</td>\n",
              "      <td>0.017751</td>\n",
              "      <td>...</td>\n",
              "      <td>0.011834</td>\n",
              "      <td>0.000000</td>\n",
              "      <td>0.017751</td>\n",
              "      <td>0.000000</td>\n",
              "      <td>0.017751</td>\n",
              "      <td>0.011834</td>\n",
              "      <td>0.0</td>\n",
              "      <td>0.000000</td>\n",
              "      <td>0.005917</td>\n",
              "      <td>0.000000</td>\n",
              "    </tr>\n",
              "  </tbody>\n",
              "</table>\n",
              "<p>5082 rows × 200 columns</p>\n",
              "</div>\n",
              "      <button class=\"colab-df-convert\" onclick=\"convertToInteractive('df-9612e7d8-2e43-4029-a15c-7a0f276626f8')\"\n",
              "              title=\"Convert this dataframe to an interactive table.\"\n",
              "              style=\"display:none;\">\n",
              "        \n",
              "  <svg xmlns=\"http://www.w3.org/2000/svg\" height=\"24px\"viewBox=\"0 0 24 24\"\n",
              "       width=\"24px\">\n",
              "    <path d=\"M0 0h24v24H0V0z\" fill=\"none\"/>\n",
              "    <path d=\"M18.56 5.44l.94 2.06.94-2.06 2.06-.94-2.06-.94-.94-2.06-.94 2.06-2.06.94zm-11 1L8.5 8.5l.94-2.06 2.06-.94-2.06-.94L8.5 2.5l-.94 2.06-2.06.94zm10 10l.94 2.06.94-2.06 2.06-.94-2.06-.94-.94-2.06-.94 2.06-2.06.94z\"/><path d=\"M17.41 7.96l-1.37-1.37c-.4-.4-.92-.59-1.43-.59-.52 0-1.04.2-1.43.59L10.3 9.45l-7.72 7.72c-.78.78-.78 2.05 0 2.83L4 21.41c.39.39.9.59 1.41.59.51 0 1.02-.2 1.41-.59l7.78-7.78 2.81-2.81c.8-.78.8-2.07 0-2.86zM5.41 20L4 18.59l7.72-7.72 1.47 1.35L5.41 20z\"/>\n",
              "  </svg>\n",
              "      </button>\n",
              "      \n",
              "  <style>\n",
              "    .colab-df-container {\n",
              "      display:flex;\n",
              "      flex-wrap:wrap;\n",
              "      gap: 12px;\n",
              "    }\n",
              "\n",
              "    .colab-df-convert {\n",
              "      background-color: #E8F0FE;\n",
              "      border: none;\n",
              "      border-radius: 50%;\n",
              "      cursor: pointer;\n",
              "      display: none;\n",
              "      fill: #1967D2;\n",
              "      height: 32px;\n",
              "      padding: 0 0 0 0;\n",
              "      width: 32px;\n",
              "    }\n",
              "\n",
              "    .colab-df-convert:hover {\n",
              "      background-color: #E2EBFA;\n",
              "      box-shadow: 0px 1px 2px rgba(60, 64, 67, 0.3), 0px 1px 3px 1px rgba(60, 64, 67, 0.15);\n",
              "      fill: #174EA6;\n",
              "    }\n",
              "\n",
              "    [theme=dark] .colab-df-convert {\n",
              "      background-color: #3B4455;\n",
              "      fill: #D2E3FC;\n",
              "    }\n",
              "\n",
              "    [theme=dark] .colab-df-convert:hover {\n",
              "      background-color: #434B5C;\n",
              "      box-shadow: 0px 1px 3px 1px rgba(0, 0, 0, 0.15);\n",
              "      filter: drop-shadow(0px 1px 2px rgba(0, 0, 0, 0.3));\n",
              "      fill: #FFFFFF;\n",
              "    }\n",
              "  </style>\n",
              "\n",
              "      <script>\n",
              "        const buttonEl =\n",
              "          document.querySelector('#df-9612e7d8-2e43-4029-a15c-7a0f276626f8 button.colab-df-convert');\n",
              "        buttonEl.style.display =\n",
              "          google.colab.kernel.accessAllowed ? 'block' : 'none';\n",
              "\n",
              "        async function convertToInteractive(key) {\n",
              "          const element = document.querySelector('#df-9612e7d8-2e43-4029-a15c-7a0f276626f8');\n",
              "          const dataTable =\n",
              "            await google.colab.kernel.invokeFunction('convertToInteractive',\n",
              "                                                     [key], {});\n",
              "          if (!dataTable) return;\n",
              "\n",
              "          const docLinkHtml = 'Like what you see? Visit the ' +\n",
              "            '<a target=\"_blank\" href=https://colab.research.google.com/notebooks/data_table.ipynb>data table notebook</a>'\n",
              "            + ' to learn more about interactive tables.';\n",
              "          element.innerHTML = '';\n",
              "          dataTable['output_type'] = 'display_data';\n",
              "          await google.colab.output.renderOutput(dataTable, element);\n",
              "          const docLink = document.createElement('div');\n",
              "          docLink.innerHTML = docLinkHtml;\n",
              "          element.appendChild(docLink);\n",
              "        }\n",
              "      </script>\n",
              "    </div>\n",
              "  </div>\n",
              "  "
            ]
          },
          "metadata": {},
          "execution_count": 30
        }
      ],
      "source": [
        "tdf = pd.DataFrame(train_features)\n",
        "tdf = tdf/169\n",
        "tdf"
      ]
    },
    {
      "cell_type": "markdown",
      "metadata": {
        "id": "K-bC3y_WUdHZ"
      },
      "source": [
        "**Validation Set**"
      ]
    },
    {
      "cell_type": "code",
      "execution_count": null,
      "metadata": {
        "id": "qRdOYuKLU7-P",
        "colab": {
          "base_uri": "https://localhost:8080/"
        },
        "outputId": "edf85ac9-8a79-4c86-c088-41e8ec0b85cd"
      },
      "outputs": [
        {
          "output_type": "stream",
          "name": "stdout",
          "text": [
            "features all shape is: (1270, 200)\n"
          ]
        }
      ],
      "source": [
        "validation_features_list = []\n",
        "for i in range(len(validation_images_routes)):\n",
        "  per_val_features_list = featureHistogram(validation_sift_descriptors_list[i], clusters)\n",
        "  validation_features_list.append(per_val_features_list)\n",
        "val_features = np.concatenate(validation_features_list, axis=0)\n",
        "print('features all shape is: {}'.format(val_features.shape))"
      ]
    },
    {
      "cell_type": "code",
      "execution_count": null,
      "metadata": {
        "id": "hcQHNs-FVe8V"
      },
      "outputs": [],
      "source": [
        "val_features_all_route = input_directory + '/Data/Pickles/smote_val_features_pp.p'\n",
        "with open(val_features_all_route, 'wb') as fp:\n",
        "  pickle.dump(val_features, fp)"
      ]
    },
    {
      "cell_type": "code",
      "execution_count": null,
      "metadata": {
        "id": "KnLgE-q5Vj8D"
      },
      "outputs": [],
      "source": [
        "val_features_all_route = input_directory + '/Data/Pickles/smote_val_features_pp.p'\n",
        "with open(val_features_all_route, 'rb') as fp:\n",
        "  val_features = pickle.load(fp)"
      ]
    },
    {
      "cell_type": "code",
      "execution_count": null,
      "metadata": {
        "id": "e7V4J8OvVuqf",
        "colab": {
          "base_uri": "https://localhost:8080/"
        },
        "outputId": "56e0e28b-e4af-454e-844e-48f6848ce741"
      },
      "outputs": [
        {
          "output_type": "execute_result",
          "data": {
            "text/plain": [
              "           0         1         2    3         4         5         6    \\\n",
              "0     0.000000  0.000000  0.005917  0.0  0.000000  0.000000  0.000000   \n",
              "1     0.005917  0.005917  0.005917  0.0  0.029586  0.011834  0.023669   \n",
              "2     0.000000  0.017751  0.005917  0.0  0.000000  0.000000  0.000000   \n",
              "3     0.000000  0.000000  0.011834  0.0  0.017751  0.005917  0.000000   \n",
              "4     0.000000  0.005917  0.000000  0.0  0.011834  0.000000  0.023669   \n",
              "...        ...       ...       ...  ...       ...       ...       ...   \n",
              "1265  0.000000  0.000000  0.023669  0.0  0.000000  0.017751  0.000000   \n",
              "1266  0.000000  0.035503  0.000000  0.0  0.000000  0.029586  0.000000   \n",
              "1267  0.017751  0.005917  0.000000  0.0  0.000000  0.000000  0.000000   \n",
              "1268  0.000000  0.029586  0.017751  0.0  0.023669  0.017751  0.005917   \n",
              "1269  0.000000  0.005917  0.023669  0.0  0.000000  0.017751  0.017751   \n",
              "\n",
              "           7         8         9    ...       190       191       192  \\\n",
              "0     0.000000  0.000000  0.000000  ...  0.000000  0.000000  0.017751   \n",
              "1     0.000000  0.000000  0.011834  ...  0.000000  0.011834  0.000000   \n",
              "2     0.000000  0.000000  0.035503  ...  0.005917  0.053254  0.000000   \n",
              "3     0.011834  0.000000  0.000000  ...  0.000000  0.000000  0.000000   \n",
              "4     0.000000  0.005917  0.005917  ...  0.000000  0.000000  0.000000   \n",
              "...        ...       ...       ...  ...       ...       ...       ...   \n",
              "1265  0.000000  0.000000  0.000000  ...  0.000000  0.000000  0.005917   \n",
              "1266  0.000000  0.000000  0.000000  ...  0.000000  0.000000  0.000000   \n",
              "1267  0.000000  0.017751  0.005917  ...  0.000000  0.000000  0.000000   \n",
              "1268  0.005917  0.000000  0.000000  ...  0.000000  0.000000  0.005917   \n",
              "1269  0.000000  0.005917  0.000000  ...  0.000000  0.005917  0.011834   \n",
              "\n",
              "           193       194       195       196       197       198       199  \n",
              "0     0.000000  0.000000  0.000000  0.005917  0.005917  0.023669  0.000000  \n",
              "1     0.000000  0.017751  0.000000  0.000000  0.000000  0.000000  0.000000  \n",
              "2     0.000000  0.011834  0.000000  0.000000  0.000000  0.000000  0.000000  \n",
              "3     0.000000  0.000000  0.000000  0.000000  0.000000  0.000000  0.005917  \n",
              "4     0.000000  0.005917  0.000000  0.000000  0.000000  0.000000  0.000000  \n",
              "...        ...       ...       ...       ...       ...       ...       ...  \n",
              "1265  0.000000  0.000000  0.000000  0.000000  0.000000  0.000000  0.011834  \n",
              "1266  0.005917  0.005917  0.000000  0.000000  0.000000  0.000000  0.005917  \n",
              "1267  0.000000  0.000000  0.000000  0.000000  0.000000  0.000000  0.000000  \n",
              "1268  0.005917  0.000000  0.005917  0.000000  0.000000  0.000000  0.017751  \n",
              "1269  0.000000  0.000000  0.005917  0.000000  0.000000  0.000000  0.000000  \n",
              "\n",
              "[1270 rows x 200 columns]"
            ],
            "text/html": [
              "\n",
              "  <div id=\"df-620b7959-d86e-447e-9936-89438d889dec\">\n",
              "    <div class=\"colab-df-container\">\n",
              "      <div>\n",
              "<style scoped>\n",
              "    .dataframe tbody tr th:only-of-type {\n",
              "        vertical-align: middle;\n",
              "    }\n",
              "\n",
              "    .dataframe tbody tr th {\n",
              "        vertical-align: top;\n",
              "    }\n",
              "\n",
              "    .dataframe thead th {\n",
              "        text-align: right;\n",
              "    }\n",
              "</style>\n",
              "<table border=\"1\" class=\"dataframe\">\n",
              "  <thead>\n",
              "    <tr style=\"text-align: right;\">\n",
              "      <th></th>\n",
              "      <th>0</th>\n",
              "      <th>1</th>\n",
              "      <th>2</th>\n",
              "      <th>3</th>\n",
              "      <th>4</th>\n",
              "      <th>5</th>\n",
              "      <th>6</th>\n",
              "      <th>7</th>\n",
              "      <th>8</th>\n",
              "      <th>9</th>\n",
              "      <th>...</th>\n",
              "      <th>190</th>\n",
              "      <th>191</th>\n",
              "      <th>192</th>\n",
              "      <th>193</th>\n",
              "      <th>194</th>\n",
              "      <th>195</th>\n",
              "      <th>196</th>\n",
              "      <th>197</th>\n",
              "      <th>198</th>\n",
              "      <th>199</th>\n",
              "    </tr>\n",
              "  </thead>\n",
              "  <tbody>\n",
              "    <tr>\n",
              "      <th>0</th>\n",
              "      <td>0.000000</td>\n",
              "      <td>0.000000</td>\n",
              "      <td>0.005917</td>\n",
              "      <td>0.0</td>\n",
              "      <td>0.000000</td>\n",
              "      <td>0.000000</td>\n",
              "      <td>0.000000</td>\n",
              "      <td>0.000000</td>\n",
              "      <td>0.000000</td>\n",
              "      <td>0.000000</td>\n",
              "      <td>...</td>\n",
              "      <td>0.000000</td>\n",
              "      <td>0.000000</td>\n",
              "      <td>0.017751</td>\n",
              "      <td>0.000000</td>\n",
              "      <td>0.000000</td>\n",
              "      <td>0.000000</td>\n",
              "      <td>0.005917</td>\n",
              "      <td>0.005917</td>\n",
              "      <td>0.023669</td>\n",
              "      <td>0.000000</td>\n",
              "    </tr>\n",
              "    <tr>\n",
              "      <th>1</th>\n",
              "      <td>0.005917</td>\n",
              "      <td>0.005917</td>\n",
              "      <td>0.005917</td>\n",
              "      <td>0.0</td>\n",
              "      <td>0.029586</td>\n",
              "      <td>0.011834</td>\n",
              "      <td>0.023669</td>\n",
              "      <td>0.000000</td>\n",
              "      <td>0.000000</td>\n",
              "      <td>0.011834</td>\n",
              "      <td>...</td>\n",
              "      <td>0.000000</td>\n",
              "      <td>0.011834</td>\n",
              "      <td>0.000000</td>\n",
              "      <td>0.000000</td>\n",
              "      <td>0.017751</td>\n",
              "      <td>0.000000</td>\n",
              "      <td>0.000000</td>\n",
              "      <td>0.000000</td>\n",
              "      <td>0.000000</td>\n",
              "      <td>0.000000</td>\n",
              "    </tr>\n",
              "    <tr>\n",
              "      <th>2</th>\n",
              "      <td>0.000000</td>\n",
              "      <td>0.017751</td>\n",
              "      <td>0.005917</td>\n",
              "      <td>0.0</td>\n",
              "      <td>0.000000</td>\n",
              "      <td>0.000000</td>\n",
              "      <td>0.000000</td>\n",
              "      <td>0.000000</td>\n",
              "      <td>0.000000</td>\n",
              "      <td>0.035503</td>\n",
              "      <td>...</td>\n",
              "      <td>0.005917</td>\n",
              "      <td>0.053254</td>\n",
              "      <td>0.000000</td>\n",
              "      <td>0.000000</td>\n",
              "      <td>0.011834</td>\n",
              "      <td>0.000000</td>\n",
              "      <td>0.000000</td>\n",
              "      <td>0.000000</td>\n",
              "      <td>0.000000</td>\n",
              "      <td>0.000000</td>\n",
              "    </tr>\n",
              "    <tr>\n",
              "      <th>3</th>\n",
              "      <td>0.000000</td>\n",
              "      <td>0.000000</td>\n",
              "      <td>0.011834</td>\n",
              "      <td>0.0</td>\n",
              "      <td>0.017751</td>\n",
              "      <td>0.005917</td>\n",
              "      <td>0.000000</td>\n",
              "      <td>0.011834</td>\n",
              "      <td>0.000000</td>\n",
              "      <td>0.000000</td>\n",
              "      <td>...</td>\n",
              "      <td>0.000000</td>\n",
              "      <td>0.000000</td>\n",
              "      <td>0.000000</td>\n",
              "      <td>0.000000</td>\n",
              "      <td>0.000000</td>\n",
              "      <td>0.000000</td>\n",
              "      <td>0.000000</td>\n",
              "      <td>0.000000</td>\n",
              "      <td>0.000000</td>\n",
              "      <td>0.005917</td>\n",
              "    </tr>\n",
              "    <tr>\n",
              "      <th>4</th>\n",
              "      <td>0.000000</td>\n",
              "      <td>0.005917</td>\n",
              "      <td>0.000000</td>\n",
              "      <td>0.0</td>\n",
              "      <td>0.011834</td>\n",
              "      <td>0.000000</td>\n",
              "      <td>0.023669</td>\n",
              "      <td>0.000000</td>\n",
              "      <td>0.005917</td>\n",
              "      <td>0.005917</td>\n",
              "      <td>...</td>\n",
              "      <td>0.000000</td>\n",
              "      <td>0.000000</td>\n",
              "      <td>0.000000</td>\n",
              "      <td>0.000000</td>\n",
              "      <td>0.005917</td>\n",
              "      <td>0.000000</td>\n",
              "      <td>0.000000</td>\n",
              "      <td>0.000000</td>\n",
              "      <td>0.000000</td>\n",
              "      <td>0.000000</td>\n",
              "    </tr>\n",
              "    <tr>\n",
              "      <th>...</th>\n",
              "      <td>...</td>\n",
              "      <td>...</td>\n",
              "      <td>...</td>\n",
              "      <td>...</td>\n",
              "      <td>...</td>\n",
              "      <td>...</td>\n",
              "      <td>...</td>\n",
              "      <td>...</td>\n",
              "      <td>...</td>\n",
              "      <td>...</td>\n",
              "      <td>...</td>\n",
              "      <td>...</td>\n",
              "      <td>...</td>\n",
              "      <td>...</td>\n",
              "      <td>...</td>\n",
              "      <td>...</td>\n",
              "      <td>...</td>\n",
              "      <td>...</td>\n",
              "      <td>...</td>\n",
              "      <td>...</td>\n",
              "      <td>...</td>\n",
              "    </tr>\n",
              "    <tr>\n",
              "      <th>1265</th>\n",
              "      <td>0.000000</td>\n",
              "      <td>0.000000</td>\n",
              "      <td>0.023669</td>\n",
              "      <td>0.0</td>\n",
              "      <td>0.000000</td>\n",
              "      <td>0.017751</td>\n",
              "      <td>0.000000</td>\n",
              "      <td>0.000000</td>\n",
              "      <td>0.000000</td>\n",
              "      <td>0.000000</td>\n",
              "      <td>...</td>\n",
              "      <td>0.000000</td>\n",
              "      <td>0.000000</td>\n",
              "      <td>0.005917</td>\n",
              "      <td>0.000000</td>\n",
              "      <td>0.000000</td>\n",
              "      <td>0.000000</td>\n",
              "      <td>0.000000</td>\n",
              "      <td>0.000000</td>\n",
              "      <td>0.000000</td>\n",
              "      <td>0.011834</td>\n",
              "    </tr>\n",
              "    <tr>\n",
              "      <th>1266</th>\n",
              "      <td>0.000000</td>\n",
              "      <td>0.035503</td>\n",
              "      <td>0.000000</td>\n",
              "      <td>0.0</td>\n",
              "      <td>0.000000</td>\n",
              "      <td>0.029586</td>\n",
              "      <td>0.000000</td>\n",
              "      <td>0.000000</td>\n",
              "      <td>0.000000</td>\n",
              "      <td>0.000000</td>\n",
              "      <td>...</td>\n",
              "      <td>0.000000</td>\n",
              "      <td>0.000000</td>\n",
              "      <td>0.000000</td>\n",
              "      <td>0.005917</td>\n",
              "      <td>0.005917</td>\n",
              "      <td>0.000000</td>\n",
              "      <td>0.000000</td>\n",
              "      <td>0.000000</td>\n",
              "      <td>0.000000</td>\n",
              "      <td>0.005917</td>\n",
              "    </tr>\n",
              "    <tr>\n",
              "      <th>1267</th>\n",
              "      <td>0.017751</td>\n",
              "      <td>0.005917</td>\n",
              "      <td>0.000000</td>\n",
              "      <td>0.0</td>\n",
              "      <td>0.000000</td>\n",
              "      <td>0.000000</td>\n",
              "      <td>0.000000</td>\n",
              "      <td>0.000000</td>\n",
              "      <td>0.017751</td>\n",
              "      <td>0.005917</td>\n",
              "      <td>...</td>\n",
              "      <td>0.000000</td>\n",
              "      <td>0.000000</td>\n",
              "      <td>0.000000</td>\n",
              "      <td>0.000000</td>\n",
              "      <td>0.000000</td>\n",
              "      <td>0.000000</td>\n",
              "      <td>0.000000</td>\n",
              "      <td>0.000000</td>\n",
              "      <td>0.000000</td>\n",
              "      <td>0.000000</td>\n",
              "    </tr>\n",
              "    <tr>\n",
              "      <th>1268</th>\n",
              "      <td>0.000000</td>\n",
              "      <td>0.029586</td>\n",
              "      <td>0.017751</td>\n",
              "      <td>0.0</td>\n",
              "      <td>0.023669</td>\n",
              "      <td>0.017751</td>\n",
              "      <td>0.005917</td>\n",
              "      <td>0.005917</td>\n",
              "      <td>0.000000</td>\n",
              "      <td>0.000000</td>\n",
              "      <td>...</td>\n",
              "      <td>0.000000</td>\n",
              "      <td>0.000000</td>\n",
              "      <td>0.005917</td>\n",
              "      <td>0.005917</td>\n",
              "      <td>0.000000</td>\n",
              "      <td>0.005917</td>\n",
              "      <td>0.000000</td>\n",
              "      <td>0.000000</td>\n",
              "      <td>0.000000</td>\n",
              "      <td>0.017751</td>\n",
              "    </tr>\n",
              "    <tr>\n",
              "      <th>1269</th>\n",
              "      <td>0.000000</td>\n",
              "      <td>0.005917</td>\n",
              "      <td>0.023669</td>\n",
              "      <td>0.0</td>\n",
              "      <td>0.000000</td>\n",
              "      <td>0.017751</td>\n",
              "      <td>0.017751</td>\n",
              "      <td>0.000000</td>\n",
              "      <td>0.005917</td>\n",
              "      <td>0.000000</td>\n",
              "      <td>...</td>\n",
              "      <td>0.000000</td>\n",
              "      <td>0.005917</td>\n",
              "      <td>0.011834</td>\n",
              "      <td>0.000000</td>\n",
              "      <td>0.000000</td>\n",
              "      <td>0.005917</td>\n",
              "      <td>0.000000</td>\n",
              "      <td>0.000000</td>\n",
              "      <td>0.000000</td>\n",
              "      <td>0.000000</td>\n",
              "    </tr>\n",
              "  </tbody>\n",
              "</table>\n",
              "<p>1270 rows × 200 columns</p>\n",
              "</div>\n",
              "      <button class=\"colab-df-convert\" onclick=\"convertToInteractive('df-620b7959-d86e-447e-9936-89438d889dec')\"\n",
              "              title=\"Convert this dataframe to an interactive table.\"\n",
              "              style=\"display:none;\">\n",
              "        \n",
              "  <svg xmlns=\"http://www.w3.org/2000/svg\" height=\"24px\"viewBox=\"0 0 24 24\"\n",
              "       width=\"24px\">\n",
              "    <path d=\"M0 0h24v24H0V0z\" fill=\"none\"/>\n",
              "    <path d=\"M18.56 5.44l.94 2.06.94-2.06 2.06-.94-2.06-.94-.94-2.06-.94 2.06-2.06.94zm-11 1L8.5 8.5l.94-2.06 2.06-.94-2.06-.94L8.5 2.5l-.94 2.06-2.06.94zm10 10l.94 2.06.94-2.06 2.06-.94-2.06-.94-.94-2.06-.94 2.06-2.06.94z\"/><path d=\"M17.41 7.96l-1.37-1.37c-.4-.4-.92-.59-1.43-.59-.52 0-1.04.2-1.43.59L10.3 9.45l-7.72 7.72c-.78.78-.78 2.05 0 2.83L4 21.41c.39.39.9.59 1.41.59.51 0 1.02-.2 1.41-.59l7.78-7.78 2.81-2.81c.8-.78.8-2.07 0-2.86zM5.41 20L4 18.59l7.72-7.72 1.47 1.35L5.41 20z\"/>\n",
              "  </svg>\n",
              "      </button>\n",
              "      \n",
              "  <style>\n",
              "    .colab-df-container {\n",
              "      display:flex;\n",
              "      flex-wrap:wrap;\n",
              "      gap: 12px;\n",
              "    }\n",
              "\n",
              "    .colab-df-convert {\n",
              "      background-color: #E8F0FE;\n",
              "      border: none;\n",
              "      border-radius: 50%;\n",
              "      cursor: pointer;\n",
              "      display: none;\n",
              "      fill: #1967D2;\n",
              "      height: 32px;\n",
              "      padding: 0 0 0 0;\n",
              "      width: 32px;\n",
              "    }\n",
              "\n",
              "    .colab-df-convert:hover {\n",
              "      background-color: #E2EBFA;\n",
              "      box-shadow: 0px 1px 2px rgba(60, 64, 67, 0.3), 0px 1px 3px 1px rgba(60, 64, 67, 0.15);\n",
              "      fill: #174EA6;\n",
              "    }\n",
              "\n",
              "    [theme=dark] .colab-df-convert {\n",
              "      background-color: #3B4455;\n",
              "      fill: #D2E3FC;\n",
              "    }\n",
              "\n",
              "    [theme=dark] .colab-df-convert:hover {\n",
              "      background-color: #434B5C;\n",
              "      box-shadow: 0px 1px 3px 1px rgba(0, 0, 0, 0.15);\n",
              "      filter: drop-shadow(0px 1px 2px rgba(0, 0, 0, 0.3));\n",
              "      fill: #FFFFFF;\n",
              "    }\n",
              "  </style>\n",
              "\n",
              "      <script>\n",
              "        const buttonEl =\n",
              "          document.querySelector('#df-620b7959-d86e-447e-9936-89438d889dec button.colab-df-convert');\n",
              "        buttonEl.style.display =\n",
              "          google.colab.kernel.accessAllowed ? 'block' : 'none';\n",
              "\n",
              "        async function convertToInteractive(key) {\n",
              "          const element = document.querySelector('#df-620b7959-d86e-447e-9936-89438d889dec');\n",
              "          const dataTable =\n",
              "            await google.colab.kernel.invokeFunction('convertToInteractive',\n",
              "                                                     [key], {});\n",
              "          if (!dataTable) return;\n",
              "\n",
              "          const docLinkHtml = 'Like what you see? Visit the ' +\n",
              "            '<a target=\"_blank\" href=https://colab.research.google.com/notebooks/data_table.ipynb>data table notebook</a>'\n",
              "            + ' to learn more about interactive tables.';\n",
              "          element.innerHTML = '';\n",
              "          dataTable['output_type'] = 'display_data';\n",
              "          await google.colab.output.renderOutput(dataTable, element);\n",
              "          const docLink = document.createElement('div');\n",
              "          docLink.innerHTML = docLinkHtml;\n",
              "          element.appendChild(docLink);\n",
              "        }\n",
              "      </script>\n",
              "    </div>\n",
              "  </div>\n",
              "  "
            ]
          },
          "metadata": {},
          "execution_count": 34
        }
      ],
      "source": [
        "vdf = pd.DataFrame(val_features)\n",
        "vdf = vdf/169\n",
        "vdf"
      ]
    },
    {
      "cell_type": "markdown",
      "source": [
        "### **Training**"
      ],
      "metadata": {
        "id": "YBuUr4YGzzwz"
      }
    },
    {
      "cell_type": "code",
      "source": [
        "X_train_features = train_features\n",
        "y_train = training_set['Label'].to_numpy()\n",
        "X_test_features = val_features\n",
        "y_test = validation_set['Label'].to_numpy()\n",
        "scaler= StandardScaler().fit(X_train_features)\n",
        "X_train_scaled= scaler.transform(X_train_features)\n",
        "X_test_scaled= scaler.transform(X_test_features)"
      ],
      "metadata": {
        "id": "OmxnxvyF2YJz"
      },
      "execution_count": null,
      "outputs": []
    },
    {
      "cell_type": "code",
      "source": [
        "#Data Balancing in order to tackle data imbalance. technique used: SMOTE \n",
        "from imblearn.over_sampling import SMOTE, ADASYN,RandomOverSampler\n",
        "ros = SMOTE(sampling_strategy='auto', random_state= 42)\n",
        "X_train_resampled, y_train_resampled= ros.fit_resample(X_train_scaled,y_train)\n",
        "print(np.bincount(y_train_resampled))"
      ],
      "metadata": {
        "colab": {
          "base_uri": "https://localhost:8080/"
        },
        "id": "pVP77S0ZPM-O",
        "outputId": "fb94996e-806b-49ec-c306-47f812d0a45c"
      },
      "execution_count": null,
      "outputs": [
        {
          "output_type": "stream",
          "name": "stdout",
          "text": [
            "[2713 2713 2713]\n"
          ]
        }
      ]
    },
    {
      "cell_type": "markdown",
      "source": [
        "First model: SVM"
      ],
      "metadata": {
        "id": "aURegZ575JPh"
      }
    },
    {
      "cell_type": "code",
      "source": [
        "model1= svm.SVC()\n",
        "model1.fit(X_train_resampled, y_train_resampled)\n",
        "y_pred1= model1.predict(X_test_scaled)"
      ],
      "metadata": {
        "id": "dH2XtxTYui6P"
      },
      "execution_count": null,
      "outputs": []
    },
    {
      "cell_type": "code",
      "source": [
        "print(classification_report(y_test,y_pred1))\n",
        "print(balanced_accuracy_score(y_test,y_pred1))"
      ],
      "metadata": {
        "id": "wgUjqdO6ui6P",
        "colab": {
          "base_uri": "https://localhost:8080/"
        },
        "outputId": "0a4a66f7-61e6-42ce-a01a-03ee3c47e458"
      },
      "execution_count": null,
      "outputs": [
        {
          "output_type": "stream",
          "name": "stdout",
          "text": [
            "              precision    recall  f1-score   support\n",
            "\n",
            "           0       0.75      0.73      0.74       678\n",
            "           1       0.64      0.70      0.67       498\n",
            "           2       0.37      0.23      0.29        94\n",
            "\n",
            "    accuracy                           0.68      1270\n",
            "   macro avg       0.59      0.56      0.56      1270\n",
            "weighted avg       0.68      0.68      0.68      1270\n",
            "\n",
            "0.5552920273323256\n"
          ]
        }
      ]
    },
    {
      "cell_type": "code",
      "source": [
        "cm= confusion_matrix(y_test,y_pred1,labels= model1.classes_)\n",
        "disp= ConfusionMatrixDisplay(confusion_matrix=cm, display_labels=model1.classes_)\n",
        "disp= disp.plot(include_values= True, cmap=plt.cm.Blues)\n",
        "plt.grid(False)\n",
        "plt.show()"
      ],
      "metadata": {
        "id": "AVtwca8D_TNR",
        "colab": {
          "base_uri": "https://localhost:8080/"
        },
        "outputId": "4aeb5fe3-8b66-4cf5-8a5a-c01b9661f30d"
      },
      "execution_count": null,
      "outputs": [
        {
          "output_type": "display_data",
          "data": {
            "text/plain": [
              "<Figure size 432x288 with 2 Axes>"
            ],
            "image/png": "[encoded data removed]"
          },
          "metadata": {
            "needs_background": "light"
          }
        }
      ]
    },
    {
      "cell_type": "markdown",
      "source": [
        "Second Model: Logistic Regression"
      ],
      "metadata": {
        "id": "GR3zplQI5QLl"
      }
    },
    {
      "cell_type": "code",
      "source": [
        "model2= LogisticRegression(max_iter=2000)\n",
        "model2.fit(X_train_resampled, y_train_resampled)\n",
        "y_pred2= model2.predict(X_test_scaled)"
      ],
      "metadata": {
        "id": "gP54zwHa3bBf"
      },
      "execution_count": null,
      "outputs": []
    },
    {
      "cell_type": "code",
      "source": [
        "print(classification_report(y_test,y_pred2))\n",
        "print(balanced_accuracy_score(y_test,y_pred2))"
      ],
      "metadata": {
        "id": "uULsIqfE5ZxM",
        "colab": {
          "base_uri": "https://localhost:8080/"
        },
        "outputId": "4ca09876-0436-40e0-8710-915d902b8cac"
      },
      "execution_count": null,
      "outputs": [
        {
          "output_type": "stream",
          "name": "stdout",
          "text": [
            "              precision    recall  f1-score   support\n",
            "\n",
            "           0       0.78      0.59      0.67       678\n",
            "           1       0.62      0.55      0.58       498\n",
            "           2       0.13      0.43      0.19        94\n",
            "\n",
            "    accuracy                           0.56      1270\n",
            "   macro avg       0.51      0.52      0.48      1270\n",
            "weighted avg       0.67      0.56      0.60      1270\n",
            "\n",
            "0.5195791009389973\n"
          ]
        }
      ]
    },
    {
      "cell_type": "code",
      "source": [
        "cm= confusion_matrix(y_test,y_pred2,labels= model2.classes_)\n",
        "disp= ConfusionMatrixDisplay(confusion_matrix=cm, display_labels=model2.classes_)\n",
        "disp= disp.plot(include_values= True, cmap=plt.cm.Blues)\n",
        "plt.grid(False)\n",
        "plt.show()"
      ],
      "metadata": {
        "id": "mCK7t-le_m7f",
        "colab": {
          "base_uri": "https://localhost:8080/"
        },
        "outputId": "a9aad4c6-7e2b-49aa-d218-1112c770583f"
      },
      "execution_count": null,
      "outputs": [
        {
          "output_type": "display_data",
          "data": {
            "text/plain": [
              "<Figure size 432x288 with 2 Axes>"
            ],
            "image/png": "[encoded data removed]"
          },
          "metadata": {
            "needs_background": "light"
          }
        }
      ]
    },
    {
      "cell_type": "markdown",
      "source": [
        "Third model: Gradient Boosting"
      ],
      "metadata": {
        "id": "WX9z50hK5xbS"
      }
    },
    {
      "cell_type": "code",
      "source": [
        "model3= GradientBoostingClassifier(random_state=42)\n",
        "model3.fit(X_train_resampled, y_train_resampled)\n",
        "y_pred3= model3.predict(X_test_scaled)"
      ],
      "metadata": {
        "id": "Uq_PCz6uAMkT"
      },
      "execution_count": null,
      "outputs": []
    },
    {
      "cell_type": "code",
      "source": [
        "print(classification_report(y_test,y_pred3))\n",
        "print(balanced_accuracy_score(y_test,y_pred3))"
      ],
      "metadata": {
        "id": "faDpyCwJBWqV",
        "colab": {
          "base_uri": "https://localhost:8080/"
        },
        "outputId": "ad778855-71d9-42be-c3ad-121a5408be45"
      },
      "execution_count": null,
      "outputs": [
        {
          "output_type": "stream",
          "name": "stdout",
          "text": [
            "              precision    recall  f1-score   support\n",
            "\n",
            "           0       0.70      0.73      0.72       678\n",
            "           1       0.61      0.66      0.64       498\n",
            "           2       0.16      0.05      0.08        94\n",
            "\n",
            "    accuracy                           0.65      1270\n",
            "   macro avg       0.49      0.48      0.48      1270\n",
            "weighted avg       0.63      0.65      0.64      1270\n",
            "\n",
            "0.4816214585323028\n"
          ]
        }
      ]
    },
    {
      "cell_type": "code",
      "source": [
        "cm= confusion_matrix(y_test,y_pred3,labels= model3.classes_)\n",
        "disp= ConfusionMatrixDisplay(confusion_matrix=cm, display_labels=model3.classes_)\n",
        "disp= disp.plot(include_values= True, cmap=plt.cm.Blues)\n",
        "plt.grid(False)\n",
        "plt.show()"
      ],
      "metadata": {
        "id": "EupzWGqkCQmC",
        "colab": {
          "base_uri": "https://localhost:8080/"
        },
        "outputId": "9c17f793-ebed-4e94-f859-51aab105561c"
      },
      "execution_count": null,
      "outputs": [
        {
          "output_type": "display_data",
          "data": {
            "text/plain": [
              "<Figure size 432x288 with 2 Axes>"
            ],
            "image/png": "[encoded data removed]"
          },
          "metadata": {
            "needs_background": "light"
          }
        }
      ]
    },
    {
      "cell_type": "markdown",
      "source": [
        "Fourth Model: Random Forest Classifier"
      ],
      "metadata": {
        "id": "XjM7FEIJCYqk"
      }
    },
    {
      "cell_type": "code",
      "source": [
        "model4= RandomForestClassifier(random_state=42)\n",
        "model4.fit(X_train_resampled, y_train_resampled)\n",
        "y_pred4= model4.predict(X_test_scaled)"
      ],
      "metadata": {
        "id": "VsoTQwlwCy1E"
      },
      "execution_count": null,
      "outputs": []
    },
    {
      "cell_type": "code",
      "source": [
        "print(classification_report(y_test,y_pred4))\n",
        "print(balanced_accuracy_score(y_test,y_pred4))"
      ],
      "metadata": {
        "id": "MrqmwVRzDYbg",
        "colab": {
          "base_uri": "https://localhost:8080/"
        },
        "outputId": "4aa1eb83-ef5f-4f88-b4cf-67164734ca9c"
      },
      "execution_count": null,
      "outputs": [
        {
          "output_type": "stream",
          "name": "stdout",
          "text": [
            "              precision    recall  f1-score   support\n",
            "\n",
            "           0       0.71      0.76      0.74       678\n",
            "           1       0.62      0.65      0.64       498\n",
            "           2       0.53      0.11      0.18        94\n",
            "\n",
            "    accuracy                           0.67      1270\n",
            "   macro avg       0.62      0.51      0.52      1270\n",
            "weighted avg       0.66      0.67      0.66      1270\n",
            "\n",
            "0.5073544665072138\n"
          ]
        }
      ]
    },
    {
      "cell_type": "code",
      "source": [
        "cm= confusion_matrix(y_test,y_pred4,labels= model4.classes_)\n",
        "disp= ConfusionMatrixDisplay(confusion_matrix=cm, display_labels=model4.classes_)\n",
        "disp= disp.plot(include_values= True, cmap=plt.cm.Blues)\n",
        "plt.grid(False)\n",
        "plt.show()"
      ],
      "metadata": {
        "id": "KZ9H8N9BEjIG",
        "colab": {
          "base_uri": "https://localhost:8080/"
        },
        "outputId": "75acd5c4-8aaa-4b19-9be4-ef1a0a0f4cf0"
      },
      "execution_count": null,
      "outputs": [
        {
          "output_type": "display_data",
          "data": {
            "text/plain": [
              "<Figure size 432x288 with 2 Axes>"
            ],
            "image/png": "[encoded data removed]"
          },
          "metadata": {
            "needs_background": "light"
          }
        }
      ]
    },
    {
      "cell_type": "markdown",
      "source": [
        "Fifth model: AdaBoost classifier"
      ],
      "metadata": {
        "id": "isxj7ur7FTAn"
      }
    },
    {
      "cell_type": "code",
      "source": [
        "model5= AdaBoostClassifier(random_state=42)\n",
        "model5.fit(X_train_resampled, y_train_resampled)\n",
        "y_pred5= model5.predict(X_test_scaled)"
      ],
      "metadata": {
        "id": "vcv0LBlhFR6q"
      },
      "execution_count": null,
      "outputs": []
    },
    {
      "cell_type": "code",
      "source": [
        "print(classification_report(y_test,y_pred5))\n",
        "print(balanced_accuracy_score(y_test,y_pred5))"
      ],
      "metadata": {
        "id": "VL-oPpRgFzAF",
        "colab": {
          "base_uri": "https://localhost:8080/"
        },
        "outputId": "807f9a26-698c-49f9-e833-4157944a5bd8"
      },
      "execution_count": null,
      "outputs": [
        {
          "output_type": "stream",
          "name": "stdout",
          "text": [
            "              precision    recall  f1-score   support\n",
            "\n",
            "           0       0.69      0.68      0.68       678\n",
            "           1       0.57      0.57      0.57       498\n",
            "           2       0.17      0.18      0.18        94\n",
            "\n",
            "    accuracy                           0.60      1270\n",
            "   macro avg       0.48      0.48      0.48      1270\n",
            "weighted avg       0.60      0.60      0.60      1270\n",
            "\n",
            "0.47733833721883084\n"
          ]
        }
      ]
    },
    {
      "cell_type": "code",
      "source": [
        "cm= confusion_matrix(y_test,y_pred5,labels= model5.classes_)\n",
        "disp= ConfusionMatrixDisplay(confusion_matrix=cm, display_labels=model5.classes_)\n",
        "disp= disp.plot(include_values= True, cmap=plt.cm.Blues)\n",
        "plt.grid(False)\n",
        "plt.show()"
      ],
      "metadata": {
        "id": "mDuYZeUNF0Rk",
        "colab": {
          "base_uri": "https://localhost:8080/"
        },
        "outputId": "62c63a3a-d41f-4d85-aa64-c0b950f38ec0"
      },
      "execution_count": null,
      "outputs": [
        {
          "output_type": "display_data",
          "data": {
            "text/plain": [
              "<Figure size 432x288 with 2 Axes>"
            ],
            "image/png": "[encoded data removed]"
          },
          "metadata": {
            "needs_background": "light"
          }
        }
      ]
    },
    {
      "cell_type": "markdown",
      "source": [
        "Sixth Model: Decision Trees Classifier"
      ],
      "metadata": {
        "id": "2c4-Rm9JH5JO"
      }
    },
    {
      "cell_type": "code",
      "source": [
        "model6= DecisionTreeClassifier(random_state=42)\n",
        "model6.fit(X_train_resampled, y_train_resampled)\n",
        "y_pred6= model6.predict(X_test_scaled)"
      ],
      "metadata": {
        "id": "VRQv63idH_9y"
      },
      "execution_count": null,
      "outputs": []
    },
    {
      "cell_type": "code",
      "source": [
        "print(classification_report(y_test,y_pred6))\n",
        "print(balanced_accuracy_score(y_test,y_pred6))"
      ],
      "metadata": {
        "id": "SbO8vbfEIFgO",
        "colab": {
          "base_uri": "https://localhost:8080/"
        },
        "outputId": "8766cabe-cd3e-4afa-97ee-b747ad955fd0"
      },
      "execution_count": null,
      "outputs": [
        {
          "output_type": "stream",
          "name": "stdout",
          "text": [
            "              precision    recall  f1-score   support\n",
            "\n",
            "           0       0.64      0.57      0.61       678\n",
            "           1       0.49      0.53      0.51       498\n",
            "           2       0.13      0.18      0.15        94\n",
            "\n",
            "    accuracy                           0.53      1270\n",
            "   macro avg       0.42      0.43      0.42      1270\n",
            "weighted avg       0.54      0.53      0.53      1270\n",
            "\n",
            "0.4270783000198875\n"
          ]
        }
      ]
    },
    {
      "cell_type": "code",
      "source": [
        "cm= confusion_matrix(y_test,y_pred6,labels= model6.classes_)\n",
        "disp= ConfusionMatrixDisplay(confusion_matrix=cm, display_labels=model6.classes_)\n",
        "disp= disp.plot(include_values= True, cmap=plt.cm.Blues)\n",
        "plt.grid(False)\n",
        "plt.show()"
      ],
      "metadata": {
        "id": "0vLFgXjCIIeo",
        "colab": {
          "base_uri": "https://localhost:8080/"
        },
        "outputId": "78b50c5e-eb1a-43e0-d466-2fd7e8ec0c03"
      },
      "execution_count": null,
      "outputs": [
        {
          "output_type": "display_data",
          "data": {
            "text/plain": [
              "<Figure size 432x288 with 2 Axes>"
            ],
            "image/png": "[encoded data removed]"
          },
          "metadata": {
            "needs_background": "light"
          }
        }
      ]
    },
    {
      "cell_type": "markdown",
      "source": [
        "Seventh model: XGBoost Classifier"
      ],
      "metadata": {
        "id": "zvN12XanIQri"
      }
    },
    {
      "cell_type": "code",
      "source": [
        "model7= XGBClassifier(random_state=42)\n",
        "model7.fit(X_train_resampled, y_train_resampled)\n",
        "y_pred7= model7.predict(X_test_scaled)"
      ],
      "metadata": {
        "id": "nQuRDLPmI7Hj"
      },
      "execution_count": null,
      "outputs": []
    },
    {
      "cell_type": "code",
      "source": [
        "print(classification_report(y_test,y_pred7))\n",
        "print(balanced_accuracy_score(y_test,y_pred7))"
      ],
      "metadata": {
        "id": "pcZw6XQHKpG8",
        "colab": {
          "base_uri": "https://localhost:8080/"
        },
        "outputId": "125ba160-7406-4316-dd64-3eb14f462bc5"
      },
      "execution_count": null,
      "outputs": [
        {
          "output_type": "stream",
          "name": "stdout",
          "text": [
            "              precision    recall  f1-score   support\n",
            "\n",
            "           0       0.70      0.74      0.72       678\n",
            "           1       0.62      0.63      0.62       498\n",
            "           2       0.16      0.07      0.10        94\n",
            "\n",
            "    accuracy                           0.65      1270\n",
            "   macro avg       0.49      0.48      0.48      1270\n",
            "weighted avg       0.63      0.65      0.63      1270\n",
            "\n",
            "0.4809954687260938\n"
          ]
        }
      ]
    },
    {
      "cell_type": "code",
      "source": [
        "cm= confusion_matrix(y_test,y_pred7,labels= model7.classes_)\n",
        "disp= ConfusionMatrixDisplay(confusion_matrix=cm, display_labels=model7.classes_)\n",
        "disp= disp.plot(include_values= True, cmap=plt.cm.Blues)\n",
        "plt.grid(False)\n",
        "plt.show()"
      ],
      "metadata": {
        "id": "4Mxxq2V6LJ4F",
        "colab": {
          "base_uri": "https://localhost:8080/"
        },
        "outputId": "77769382-3f31-42bb-c922-c161d0c9bad4"
      },
      "execution_count": null,
      "outputs": [
        {
          "output_type": "display_data",
          "data": {
            "text/plain": [
              "<Figure size 432x288 with 2 Axes>"
            ],
            "image/png": "[encoded data removed]"
          },
          "metadata": {
            "needs_background": "light"
          }
        }
      ]
    },
    {
      "cell_type": "markdown",
      "source": [
        "Eigth model: Naive Bayes Classifier"
      ],
      "metadata": {
        "id": "FytjRDNXLO1q"
      }
    },
    {
      "cell_type": "code",
      "source": [
        "model8= GaussianNB()\n",
        "model8.fit(X_train_resampled, y_train_resampled)\n",
        "y_pred8= model8.predict(X_test_scaled)\n"
      ],
      "metadata": {
        "id": "iEZRoOjgLXGG"
      },
      "execution_count": null,
      "outputs": []
    },
    {
      "cell_type": "code",
      "source": [
        "print(classification_report(y_test,y_pred8))\n",
        "print(balanced_accuracy_score(y_test,y_pred8))"
      ],
      "metadata": {
        "id": "wC901lG7M5Rc",
        "colab": {
          "base_uri": "https://localhost:8080/"
        },
        "outputId": "fdeb0afa-6bdc-4df8-fe2b-e8ad3f3d44c7"
      },
      "execution_count": null,
      "outputs": [
        {
          "output_type": "stream",
          "name": "stdout",
          "text": [
            "              precision    recall  f1-score   support\n",
            "\n",
            "           0       0.73      0.56      0.64       678\n",
            "           1       0.54      0.24      0.33       498\n",
            "           2       0.11      0.61      0.18        94\n",
            "\n",
            "    accuracy                           0.44      1270\n",
            "   macro avg       0.46      0.47      0.38      1270\n",
            "weighted avg       0.61      0.44      0.48      1270\n",
            "\n",
            "0.47025622101788184\n"
          ]
        }
      ]
    },
    {
      "cell_type": "code",
      "source": [
        "cm= confusion_matrix(y_test,y_pred8,labels= model8.classes_)\n",
        "disp= ConfusionMatrixDisplay(confusion_matrix=cm, display_labels=model8.classes_)\n",
        "disp= disp.plot(include_values= True, cmap=plt.cm.Blues)\n",
        "plt.grid(False)\n",
        "plt.show()"
      ],
      "metadata": {
        "id": "DSRM5v9aM9cc",
        "colab": {
          "base_uri": "https://localhost:8080/"
        },
        "outputId": "d36bc53b-e8d4-49a7-d97a-235b2dc476c6"
      },
      "execution_count": null,
      "outputs": [
        {
          "output_type": "display_data",
          "data": {
            "text/plain": [
              "<Figure size 432x288 with 2 Axes>"
            ],
            "image/png": "[encoded data removed]"
          },
          "metadata": {
            "needs_background": "light"
          }
        }
      ]
    },
    {
      "cell_type": "markdown",
      "source": [
        "Ninth Model: KNeighbors Classifier"
      ],
      "metadata": {
        "id": "nTeQp070NBfJ"
      }
    },
    {
      "cell_type": "code",
      "source": [
        "model9= KNeighborsClassifier()\n",
        "model9.fit(X_train_resampled, y_train_resampled)\n",
        "y_pred9= model9.predict(X_test_scaled)\n"
      ],
      "metadata": {
        "id": "1DSpxxLiNZKV"
      },
      "execution_count": null,
      "outputs": []
    },
    {
      "cell_type": "code",
      "source": [
        "print(classification_report(y_test,y_pred9))\n",
        "print(balanced_accuracy_score(y_test,y_pred9))"
      ],
      "metadata": {
        "id": "Etlio5NSNhCC",
        "colab": {
          "base_uri": "https://localhost:8080/"
        },
        "outputId": "451238a3-f489-4a29-c47c-47f1c9388472"
      },
      "execution_count": null,
      "outputs": [
        {
          "output_type": "stream",
          "name": "stdout",
          "text": [
            "              precision    recall  f1-score   support\n",
            "\n",
            "           0       0.85      0.37      0.52       678\n",
            "           1       0.57      0.53      0.55       498\n",
            "           2       0.14      0.76      0.24        94\n",
            "\n",
            "    accuracy                           0.46      1270\n",
            "   macro avg       0.52      0.55      0.43      1270\n",
            "weighted avg       0.69      0.46      0.51      1270\n",
            "\n",
            "0.5515266362632479\n"
          ]
        }
      ]
    },
    {
      "cell_type": "code",
      "source": [
        "cm= confusion_matrix(y_test,y_pred9,labels= model9.classes_)\n",
        "disp= ConfusionMatrixDisplay(confusion_matrix=cm, display_labels=model9.classes_)\n",
        "disp= disp.plot(include_values= True, cmap=plt.cm.Blues)\n",
        "plt.grid(False)\n",
        "plt.show()"
      ],
      "metadata": {
        "id": "1WatomrtNkxA",
        "colab": {
          "base_uri": "https://localhost:8080/",
          "height": 279
        },
        "outputId": "1cb212bf-0908-4962-bb06-dc51ca783dbf"
      },
      "execution_count": null,
      "outputs": [
        {
          "output_type": "display_data",
          "data": {
            "text/plain": [
              "<Figure size 432x288 with 2 Axes>"
            ],
            "image/png": "[encoded data removed]"
          },
          "metadata": {
            "needs_background": "light"
          }
        }
      ]
    },
    {
      "cell_type": "markdown",
      "source": [
        "Tenth Model: Bagging Classifier"
      ],
      "metadata": {
        "id": "IyjU8oQsOYSy"
      }
    },
    {
      "cell_type": "code",
      "source": [
        "model10= BaggingClassifier(base_estimator=RandomForestClassifier(random_state=42),n_estimators=10,random_state=42)\n",
        "model10.fit(X_train_resampled, y_train_resampled)\n",
        "y_pred10= model10.predict(X_test_scaled)\n"
      ],
      "metadata": {
        "id": "A3ZIWJ7rObOp"
      },
      "execution_count": null,
      "outputs": []
    },
    {
      "cell_type": "code",
      "source": [
        "print(classification_report(y_test,y_pred10))\n",
        "print(balanced_accuracy_score(y_test,y_pred10))"
      ],
      "metadata": {
        "id": "EfCTGLG5OtzD",
        "colab": {
          "base_uri": "https://localhost:8080/"
        },
        "outputId": "f1b29c1e-c8bd-43a3-9ee6-47e6c8a651fc"
      },
      "execution_count": null,
      "outputs": [
        {
          "output_type": "stream",
          "name": "stdout",
          "text": [
            "              precision    recall  f1-score   support\n",
            "\n",
            "           0       0.73      0.75      0.74       678\n",
            "           1       0.62      0.69      0.66       498\n",
            "           2       0.40      0.13      0.19        94\n",
            "\n",
            "    accuracy                           0.68      1270\n",
            "   macro avg       0.59      0.52      0.53      1270\n",
            "weighted avg       0.67      0.68      0.67      1270\n",
            "\n",
            "0.520909092971396\n"
          ]
        }
      ]
    },
    {
      "cell_type": "code",
      "source": [
        "cm= confusion_matrix(y_test,y_pred10,labels= model10.classes_)\n",
        "disp= ConfusionMatrixDisplay(confusion_matrix=cm, display_labels=model10.classes_)\n",
        "disp= disp.plot(include_values= True, cmap=plt.cm.Blues)\n",
        "plt.grid(False)\n",
        "plt.show()"
      ],
      "metadata": {
        "id": "j8euKLFgOvVx",
        "colab": {
          "base_uri": "https://localhost:8080/"
        },
        "outputId": "312876ef-c03c-493b-b8f4-b8237e4762c9"
      },
      "execution_count": null,
      "outputs": [
        {
          "output_type": "display_data",
          "data": {
            "text/plain": [
              "<Figure size 432x288 with 2 Axes>"
            ],
            "image/png": "[encoded data removed]"
          },
          "metadata": {
            "needs_background": "light"
          }
        }
      ]
    },
    {
      "cell_type": "markdown",
      "source": [
        "Eleventh Model: Stacking Classifier"
      ],
      "metadata": {
        "id": "wK4GkxZmO1Ba"
      }
    },
    {
      "cell_type": "code",
      "source": [
        "def get_stack_model():\n",
        "  level0 = list()\n",
        "  level0.append(('lr', LogisticRegression(max_iter=2000,random_state=42)))\n",
        "  level0.append(('knn', KNeighborsClassifier()))\n",
        "  level0.append(('cart', DecisionTreeClassifier(random_state=42)))\n",
        "  level0.append(('svm', svm.SVC(kernel='rbf', gamma='auto',decision_function_shape='ovr', random_state=42)))\n",
        "  level0.append(('bayes', GaussianNB()))\n",
        "  level0.append(('gboosting', GradientBoostingClassifier(random_state=42)))\n",
        "  level0.append(('rforest', RandomForestClassifier(random_state=42)))\n",
        "  level0.append(('adaboost', AdaBoostClassifier(random_state=42)))\n",
        "  level1 = LogisticRegression(max_iter=2000,random_state=42)\n",
        "  model = StackingClassifier(estimators=level0, final_estimator=level1, cv=5)\n",
        "  return model"
      ],
      "metadata": {
        "id": "4vkYDwiuO4mw"
      },
      "execution_count": null,
      "outputs": []
    },
    {
      "cell_type": "code",
      "source": [
        "model11=get_stack_model()\n",
        "model11.fit(X_train_resampled, y_train_resampled)\n",
        "y_pred11= model11.predict(X_test_scaled)"
      ],
      "metadata": {
        "id": "N7sng-NWO_cI"
      },
      "execution_count": null,
      "outputs": []
    },
    {
      "cell_type": "code",
      "source": [
        "print(classification_report(y_test,y_pred11))\n",
        "print(balanced_accuracy_score(y_test,y_pred11))"
      ],
      "metadata": {
        "id": "lvLWcXbIPdSS",
        "colab": {
          "base_uri": "https://localhost:8080/"
        },
        "outputId": "eee7e58c-4cb4-4cf0-e6a6-0b231dbd23fa"
      },
      "execution_count": null,
      "outputs": [
        {
          "output_type": "stream",
          "name": "stdout",
          "text": [
            "              precision    recall  f1-score   support\n",
            "\n",
            "           0       0.73      0.78      0.76       678\n",
            "           1       0.66      0.68      0.67       498\n",
            "           2       0.59      0.21      0.31        94\n",
            "\n",
            "    accuracy                           0.70      1270\n",
            "   macro avg       0.66      0.56      0.58      1270\n",
            "weighted avg       0.69      0.70      0.69      1270\n",
            "\n",
            "0.5583999211557836\n"
          ]
        }
      ]
    },
    {
      "cell_type": "code",
      "source": [
        "cm= confusion_matrix(y_test,y_pred11,labels= model11.classes_)\n",
        "disp= ConfusionMatrixDisplay(confusion_matrix=cm, display_labels=model11.classes_)\n",
        "disp= disp.plot(include_values= True, cmap=plt.cm.Blues)\n",
        "plt.grid(False)\n",
        "plt.show()"
      ],
      "metadata": {
        "id": "4MeIKVwOPYcv",
        "colab": {
          "base_uri": "https://localhost:8080/"
        },
        "outputId": "4e8f8ff6-05fa-4443-cec2-2de2ca58f9b2"
      },
      "execution_count": null,
      "outputs": [
        {
          "output_type": "display_data",
          "data": {
            "text/plain": [
              "<Figure size 432x288 with 2 Axes>"
            ],
            "image/png": "[encoded data removed]"
          },
          "metadata": {
            "needs_background": "light"
          }
        }
      ]
    }
  ],
  "metadata": {
    "colab": {
      "collapsed_sections": [
        "Lw7XZ4yzh7Jm",
        "rOfx1OIUHG5U",
        "GRWKawFOGWOh"
      ],
      "provenance": []
    },
    "gpuClass": "standard",
    "kernelspec": {
      "display_name": "Python 3",
      "name": "python3"
    },
    "language_info": {
      "name": "python"
    }
  },
  "nbformat": 4,
  "nbformat_minor": 0
}